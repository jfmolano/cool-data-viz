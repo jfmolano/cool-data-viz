{
 "cells": [
  {
   "cell_type": "code",
   "execution_count": 19,
   "metadata": {},
   "outputs": [],
   "source": [
    "# Data: https://ourworldindata.org/coronavirus-source-data"
   ]
  },
  {
   "cell_type": "code",
   "execution_count": 1,
   "metadata": {},
   "outputs": [],
   "source": [
    "import pandas as pd"
   ]
  },
  {
   "cell_type": "code",
   "execution_count": 24,
   "metadata": {},
   "outputs": [
    {
     "data": {
      "text/html": [
       "        <script type=\"text/javascript\">\n",
       "        window.PlotlyConfig = {MathJaxConfig: 'local'};\n",
       "        if (window.MathJax) {MathJax.Hub.Config({SVG: {font: \"STIX-Web\"}});}\n",
       "        if (typeof require !== 'undefined') {\n",
       "        require.undef(\"plotly\");\n",
       "        requirejs.config({\n",
       "            paths: {\n",
       "                'plotly': ['https://cdn.plot.ly/plotly-latest.min']\n",
       "            }\n",
       "        });\n",
       "        require(['plotly'], function(Plotly) {\n",
       "            window._Plotly = Plotly;\n",
       "        });\n",
       "        }\n",
       "        </script>\n",
       "        "
      ]
     },
     "metadata": {},
     "output_type": "display_data"
    }
   ],
   "source": [
    "import plotly.offline as py\n",
    "import plotly.graph_objs as go\n",
    "\n",
    "py.init_notebook_mode(connected=True)"
   ]
  },
  {
   "cell_type": "code",
   "execution_count": 40,
   "metadata": {},
   "outputs": [],
   "source": [
    "df = pd.read_csv('https://covid.ourworldindata.org/data/owid-covid-data.csv')"
   ]
  },
  {
   "cell_type": "code",
   "execution_count": 41,
   "metadata": {},
   "outputs": [
    {
     "data": {
      "text/plain": [
       "Index(['iso_code', 'continent', 'location', 'date', 'total_cases', 'new_cases',\n",
       "       'new_cases_smoothed', 'total_deaths', 'new_deaths',\n",
       "       'new_deaths_smoothed', 'total_cases_per_million',\n",
       "       'new_cases_per_million', 'new_cases_smoothed_per_million',\n",
       "       'total_deaths_per_million', 'new_deaths_per_million',\n",
       "       'new_deaths_smoothed_per_million', 'icu_patients',\n",
       "       'icu_patients_per_million', 'hosp_patients',\n",
       "       'hosp_patients_per_million', 'weekly_icu_admissions',\n",
       "       'weekly_icu_admissions_per_million', 'weekly_hosp_admissions',\n",
       "       'weekly_hosp_admissions_per_million', 'total_tests', 'new_tests',\n",
       "       'total_tests_per_thousand', 'new_tests_per_thousand',\n",
       "       'new_tests_smoothed', 'new_tests_smoothed_per_thousand',\n",
       "       'tests_per_case', 'positive_rate', 'tests_units', 'stringency_index',\n",
       "       'population', 'population_density', 'median_age', 'aged_65_older',\n",
       "       'aged_70_older', 'gdp_per_capita', 'extreme_poverty',\n",
       "       'cardiovasc_death_rate', 'diabetes_prevalence', 'female_smokers',\n",
       "       'male_smokers', 'handwashing_facilities', 'hospital_beds_per_thousand',\n",
       "       'life_expectancy', 'human_development_index'],\n",
       "      dtype='object')"
      ]
     },
     "execution_count": 41,
     "metadata": {},
     "output_type": "execute_result"
    }
   ],
   "source": [
    "df.columns"
   ]
  },
  {
   "cell_type": "code",
   "execution_count": 42,
   "metadata": {},
   "outputs": [
    {
     "data": {
      "text/plain": [
       "array(['North America', 'Asia', 'Africa', 'Europe', 'South America',\n",
       "       'Oceania', nan], dtype=object)"
      ]
     },
     "execution_count": 42,
     "metadata": {},
     "output_type": "execute_result"
    }
   ],
   "source": [
    "df['continent'].unique()"
   ]
  },
  {
   "cell_type": "code",
   "execution_count": 54,
   "metadata": {},
   "outputs": [],
   "source": [
    "# df_sa = df.loc[(df['continent']=='South America') & (~df['iso_code'].duplicated(keep='last'))][['iso_code','total_deaths_per_million','hospital_beds_per_thousand']]"
   ]
  },
  {
   "cell_type": "code",
   "execution_count": 86,
   "metadata": {},
   "outputs": [],
   "source": [
    "df_sa = df.loc[(df['continent']=='South America')&(df['date']>'2020-04-15')][['iso_code','new_deaths_smoothed_per_million','hospital_beds_per_thousand','date']]"
   ]
  },
  {
   "cell_type": "code",
   "execution_count": 87,
   "metadata": {},
   "outputs": [],
   "source": [
    "df_sa = df_sa.rename(\n",
    "    columns={\n",
    "        'new_deaths_smoothed_per_million':'New C-19 deaths per 1M',\n",
    "        'date':'Date'\n",
    "    }\n",
    ")"
   ]
  },
  {
   "cell_type": "code",
   "execution_count": 88,
   "metadata": {},
   "outputs": [
    {
     "data": {
      "application/vnd.plotly.v1+json": {
       "config": {
        "plotlyServerURL": "https://plot.ly"
       },
       "data": [
        {
         "coloraxis": "coloraxis",
         "geo": "geo",
         "hovertemplate": "Date=2020-04-16<br>iso_code=%{location}<br>New C-19 deaths per 1M=%{z}<extra></extra>",
         "locations": [
          "ARG",
          "BOL",
          "BRA",
          "CHL",
          "COL",
          "ECU",
          "FLK",
          "GUY",
          "PER",
          "PRY",
          "SUR",
          "URY",
          "VEN"
         ],
         "name": "",
         "type": "choropleth",
         "z": [
          0.139,
          0.135,
          0.629,
          0.344,
          0.213,
          1.182,
          0,
          0,
          0.5760000000000001,
          0.06,
          0,
          0.08199999999999999,
          0.005
         ]
        }
       ],
       "frames": [
        {
         "data": [
          {
           "coloraxis": "coloraxis",
           "geo": "geo",
           "hovertemplate": "Date=2020-04-16<br>iso_code=%{location}<br>New C-19 deaths per 1M=%{z}<extra></extra>",
           "locations": [
            "ARG",
            "BOL",
            "BRA",
            "CHL",
            "COL",
            "ECU",
            "FLK",
            "GUY",
            "PER",
            "PRY",
            "SUR",
            "URY",
            "VEN"
           ],
           "name": "",
           "type": "choropleth",
           "z": [
            0.139,
            0.135,
            0.629,
            0.344,
            0.213,
            1.182,
            0,
            0,
            0.5760000000000001,
            0.06,
            0,
            0.08199999999999999,
            0.005
           ]
          }
         ],
         "name": "2020-04-16"
        },
        {
         "data": [
          {
           "coloraxis": "coloraxis",
           "geo": "geo",
           "hovertemplate": "Date=2020-04-17<br>iso_code=%{location}<br>New C-19 deaths per 1M=%{z}<extra></extra>",
           "locations": [
            "ARG",
            "BOL",
            "BRA",
            "CHL",
            "COL",
            "ECU",
            "FLK",
            "GUY",
            "PER",
            "PRY",
            "SUR",
            "URY",
            "VEN"
           ],
           "name": "",
           "type": "choropleth",
           "z": [
            0.114,
            0.147,
            0.6609999999999999,
            0.359,
            0.21100000000000002,
            1.061,
            0,
            0,
            0.589,
            0.04,
            0,
            0.08199999999999999,
            0
           ]
          }
         ],
         "name": "2020-04-17"
        },
        {
         "data": [
          {
           "coloraxis": "coloraxis",
           "geo": "geo",
           "hovertemplate": "Date=2020-04-18<br>iso_code=%{location}<br>New C-19 deaths per 1M=%{z}<extra></extra>",
           "locations": [
            "ARG",
            "BOL",
            "BRA",
            "CHL",
            "COL",
            "ECU",
            "FLK",
            "GUY",
            "PER",
            "PRY",
            "SUR",
            "URY",
            "VEN"
           ],
           "name": "",
           "type": "choropleth",
           "z": [
            0.126,
            0.135,
            0.7290000000000001,
            0.381,
            0.205,
            1.004,
            0,
            0,
            0.568,
            0.04,
            0,
            0.08199999999999999,
            0
           ]
          }
         ],
         "name": "2020-04-18"
        },
        {
         "data": [
          {
           "coloraxis": "coloraxis",
           "geo": "geo",
           "hovertemplate": "Date=2020-04-19<br>iso_code=%{location}<br>New C-19 deaths per 1M=%{z}<extra></extra>",
           "locations": [
            "ARG",
            "BOL",
            "BRA",
            "CHL",
            "COL",
            "ECU",
            "FLK",
            "GUY",
            "PER",
            "PRY",
            "SUR",
            "URY",
            "VEN"
           ],
           "name": "",
           "type": "choropleth",
           "z": [
            0.136,
            0.098,
            0.8220000000000001,
            0.396,
            0.185,
            1.1420000000000001,
            0,
            0.182,
            0.7240000000000001,
            0.04,
            0,
            0.08199999999999999,
            0
           ]
          }
         ],
         "name": "2020-04-19"
        },
        {
         "data": [
          {
           "coloraxis": "coloraxis",
           "geo": "geo",
           "hovertemplate": "Date=2020-04-20<br>iso_code=%{location}<br>New C-19 deaths per 1M=%{z}<extra></extra>",
           "locations": [
            "ARG",
            "BOL",
            "BRA",
            "CHL",
            "COL",
            "ECU",
            "FLK",
            "GUY",
            "PER",
            "PRY",
            "SUR",
            "URY",
            "VEN"
           ],
           "name": "",
           "type": "choropleth",
           "z": [
            0.12300000000000001,
            0.073,
            0.833,
            0.396,
            0.19699999999999998,
            1.1420000000000001,
            0,
            0.182,
            0.897,
            0.04,
            0,
            0.08199999999999999,
            0
           ]
          }
         ],
         "name": "2020-04-20"
        },
        {
         "data": [
          {
           "coloraxis": "coloraxis",
           "geo": "geo",
           "hovertemplate": "Date=2020-04-21<br>iso_code=%{location}<br>New C-19 deaths per 1M=%{z}<extra></extra>",
           "locations": [
            "ARG",
            "BOL",
            "BRA",
            "CHL",
            "COL",
            "ECU",
            "FLK",
            "GUY",
            "PER",
            "PRY",
            "SUR",
            "URY",
            "VEN"
           ],
           "name": "",
           "type": "choropleth",
           "z": [
            0.139,
            0.073,
            0.838,
            0.426,
            0.21600000000000003,
            1.2309999999999999,
            0,
            0.182,
            1.092,
            0.02,
            0,
            0.08199999999999999,
            0
           ]
          }
         ],
         "name": "2020-04-21"
        },
        {
         "data": [
          {
           "coloraxis": "coloraxis",
           "geo": "geo",
           "hovertemplate": "Date=2020-04-22<br>iso_code=%{location}<br>New C-19 deaths per 1M=%{z}<extra></extra>",
           "locations": [
            "ARG",
            "BOL",
            "BRA",
            "CHL",
            "COL",
            "ECU",
            "FLK",
            "GUY",
            "PER",
            "PRY",
            "SUR",
            "URY",
            "VEN"
           ],
           "name": "",
           "type": "choropleth",
           "z": [
            0.145,
            0.11,
            0.813,
            0.41100000000000003,
            0.19399999999999998,
            1.3359999999999999,
            0,
            0.182,
            1.101,
            0.02,
            0,
            0.165,
            0.005
           ]
          }
         ],
         "name": "2020-04-22"
        },
        {
         "data": [
          {
           "coloraxis": "coloraxis",
           "geo": "geo",
           "hovertemplate": "Date=2020-04-23<br>iso_code=%{location}<br>New C-19 deaths per 1M=%{z}<extra></extra>",
           "locations": [
            "ARG",
            "BOL",
            "BRA",
            "CHL",
            "COL",
            "ECU",
            "FLK",
            "GUY",
            "PER",
            "PRY",
            "SUR",
            "URY",
            "VEN"
           ],
           "name": "",
           "type": "choropleth",
           "z": [
            0.158,
            0.135,
            0.7859999999999999,
            0.493,
            0.21100000000000002,
            1.206,
            0,
            0.182,
            1.196,
            0.02,
            0,
            0.12300000000000001,
            0.005
           ]
          }
         ],
         "name": "2020-04-23"
        },
        {
         "data": [
          {
           "coloraxis": "coloraxis",
           "geo": "geo",
           "hovertemplate": "Date=2020-04-24<br>iso_code=%{location}<br>New C-19 deaths per 1M=%{z}<extra></extra>",
           "locations": [
            "ARG",
            "BOL",
            "BRA",
            "CHL",
            "COL",
            "ECU",
            "FLK",
            "GUY",
            "PER",
            "PRY",
            "SUR",
            "URY",
            "VEN"
           ],
           "name": "",
           "type": "choropleth",
           "z": [
            0.158,
            0.147,
            0.934,
            0.47100000000000003,
            0.19899999999999998,
            1.271,
            0,
            0.182,
            1.291,
            0.02,
            0,
            0.12300000000000001,
            0.005
           ]
          }
         ],
         "name": "2020-04-24"
        },
        {
         "data": [
          {
           "coloraxis": "coloraxis",
           "geo": "geo",
           "hovertemplate": "Date=2020-04-25<br>iso_code=%{location}<br>New C-19 deaths per 1M=%{z}<extra></extra>",
           "locations": [
            "ARG",
            "BOL",
            "BRA",
            "CHL",
            "COL",
            "ECU",
            "FLK",
            "GUY",
            "PER",
            "PRY",
            "SUR",
            "URY",
            "VEN"
           ],
           "name": "",
           "type": "choropleth",
           "z": [
            0.142,
            0.159,
            1.028,
            0.433,
            0.20199999999999999,
            1.255,
            0,
            0.363,
            1.4469999999999998,
            0.02,
            0,
            0.12300000000000001,
            0.005
           ]
          }
         ],
         "name": "2020-04-25"
        },
        {
         "data": [
          {
           "coloraxis": "coloraxis",
           "geo": "geo",
           "hovertemplate": "Date=2020-04-26<br>iso_code=%{location}<br>New C-19 deaths per 1M=%{z}<extra></extra>",
           "locations": [
            "ARG",
            "BOL",
            "BRA",
            "CHL",
            "COL",
            "ECU",
            "FLK",
            "GUY",
            "PER",
            "PRY",
            "SUR",
            "URY",
            "VEN"
           ],
           "name": "",
           "type": "choropleth",
           "z": [
            0.168,
            0.171,
            1.122,
            0.41100000000000003,
            0.188,
            0.972,
            0,
            0.182,
            1.525,
            0.02,
            0,
            0.20600000000000002,
            0.005
           ]
          }
         ],
         "name": "2020-04-26"
        },
        {
         "data": [
          {
           "coloraxis": "coloraxis",
           "geo": "geo",
           "hovertemplate": "Date=2020-04-27<br>iso_code=%{location}<br>New C-19 deaths per 1M=%{z}<extra></extra>",
           "locations": [
            "ARG",
            "BOL",
            "BRA",
            "CHL",
            "COL",
            "ECU",
            "FLK",
            "GUY",
            "PER",
            "PRY",
            "SUR",
            "URY",
            "VEN"
           ],
           "name": "",
           "type": "choropleth",
           "z": [
            0.16399999999999998,
            0.20800000000000002,
            1.171,
            0.418,
            0.18,
            0.826,
            0,
            0.182,
            1.421,
            0.02,
            0,
            0.20600000000000002,
            0.005
           ]
          }
         ],
         "name": "2020-04-27"
        },
        {
         "data": [
          {
           "coloraxis": "coloraxis",
           "geo": "geo",
           "hovertemplate": "Date=2020-04-28<br>iso_code=%{location}<br>New C-19 deaths per 1M=%{z}<extra></extra>",
           "locations": [
            "ARG",
            "BOL",
            "BRA",
            "CHL",
            "COL",
            "ECU",
            "FLK",
            "GUY",
            "PER",
            "PRY",
            "SUR",
            "URY",
            "VEN"
           ],
           "name": "",
           "type": "choropleth",
           "z": [
            0.174,
            0.233,
            1.3230000000000002,
            0.441,
            0.18,
            1.263,
            0,
            0.182,
            1.46,
            0.02,
            0,
            0.20600000000000002,
            0.005
           ]
          }
         ],
         "name": "2020-04-28"
        },
        {
         "data": [
          {
           "coloraxis": "coloraxis",
           "geo": "geo",
           "hovertemplate": "Date=2020-04-29<br>iso_code=%{location}<br>New C-19 deaths per 1M=%{z}<extra></extra>",
           "locations": [
            "ARG",
            "BOL",
            "BRA",
            "CHL",
            "COL",
            "ECU",
            "FLK",
            "GUY",
            "PER",
            "PRY",
            "SUR",
            "URY",
            "VEN"
           ],
           "name": "",
           "type": "choropleth",
           "z": [
            0.177,
            0.22,
            1.53,
            0.44799999999999995,
            0.205,
            2.842,
            0,
            0.182,
            1.6030000000000002,
            0,
            0,
            0.12300000000000001,
            0
           ]
          }
         ],
         "name": "2020-04-29"
        },
        {
         "data": [
          {
           "coloraxis": "coloraxis",
           "geo": "geo",
           "hovertemplate": "Date=2020-04-30<br>iso_code=%{location}<br>New C-19 deaths per 1M=%{z}<extra></extra>",
           "locations": [
            "ARG",
            "BOL",
            "BRA",
            "CHL",
            "COL",
            "ECU",
            "FLK",
            "GUY",
            "PER",
            "PRY",
            "SUR",
            "URY",
            "VEN"
           ],
           "name": "",
           "type": "choropleth",
           "z": [
            0.174,
            0.233,
            1.7209999999999999,
            0.418,
            0.20199999999999999,
            2.802,
            0,
            0.182,
            1.7890000000000001,
            0,
            0,
            0.12300000000000001,
            0
           ]
          }
         ],
         "name": "2020-04-30"
        },
        {
         "data": [
          {
           "coloraxis": "coloraxis",
           "geo": "geo",
           "hovertemplate": "Date=2020-05-01<br>iso_code=%{location}<br>New C-19 deaths per 1M=%{z}<extra></extra>",
           "locations": [
            "ARG",
            "BOL",
            "BRA",
            "CHL",
            "COL",
            "ECU",
            "FLK",
            "GUY",
            "PER",
            "PRY",
            "SUR",
            "URY",
            "VEN"
           ],
           "name": "",
           "type": "choropleth",
           "z": [
            0.168,
            0.233,
            1.739,
            0.441,
            0.21899999999999997,
            2.753,
            0,
            0.363,
            2.075,
            0.02,
            0,
            0.20600000000000002,
            0
           ]
          }
         ],
         "name": "2020-05-01"
        },
        {
         "data": [
          {
           "coloraxis": "coloraxis",
           "geo": "geo",
           "hovertemplate": "Date=2020-05-02<br>iso_code=%{location}<br>New C-19 deaths per 1M=%{z}<extra></extra>",
           "locations": [
            "ARG",
            "BOL",
            "BRA",
            "CHL",
            "COL",
            "ECU",
            "FLK",
            "GUY",
            "PER",
            "PRY",
            "SUR",
            "URY",
            "VEN"
           ],
           "name": "",
           "type": "choropleth",
           "z": [
            0.183,
            0.26899999999999996,
            1.787,
            0.44799999999999995,
            0.25,
            3.943,
            0,
            0.182,
            2.123,
            0.02,
            0,
            0.20600000000000002,
            0
           ]
          }
         ],
         "name": "2020-05-02"
        },
        {
         "data": [
          {
           "coloraxis": "coloraxis",
           "geo": "geo",
           "hovertemplate": "Date=2020-05-03<br>iso_code=%{location}<br>New C-19 deaths per 1M=%{z}<extra></extra>",
           "locations": [
            "ARG",
            "BOL",
            "BRA",
            "CHL",
            "COL",
            "ECU",
            "FLK",
            "GUY",
            "PER",
            "PRY",
            "SUR",
            "URY",
            "VEN"
           ],
           "name": "",
           "type": "choropleth",
           "z": [
            0.16399999999999998,
            0.306,
            1.837,
            0.493,
            0.255,
            6.437,
            0,
            0.182,
            2.166,
            0.02,
            0,
            0.12300000000000001,
            0
           ]
          }
         ],
         "name": "2020-05-03"
        },
        {
         "data": [
          {
           "coloraxis": "coloraxis",
           "geo": "geo",
           "hovertemplate": "Date=2020-05-04<br>iso_code=%{location}<br>New C-19 deaths per 1M=%{z}<extra></extra>",
           "locations": [
            "ARG",
            "BOL",
            "BRA",
            "CHL",
            "COL",
            "ECU",
            "FLK",
            "GUY",
            "PER",
            "PRY",
            "SUR",
            "URY",
            "VEN"
           ],
           "name": "",
           "type": "choropleth",
           "z": [
            0.19,
            0.318,
            1.895,
            0.531,
            0.272,
            8,
            0,
            0.182,
            2.418,
            0.02,
            0,
            0.08199999999999999,
            0
           ]
          }
         ],
         "name": "2020-05-04"
        },
        {
         "data": [
          {
           "coloraxis": "coloraxis",
           "geo": "geo",
           "hovertemplate": "Date=2020-05-05<br>iso_code=%{location}<br>New C-19 deaths per 1M=%{z}<extra></extra>",
           "locations": [
            "ARG",
            "BOL",
            "BRA",
            "CHL",
            "COL",
            "ECU",
            "FLK",
            "GUY",
            "PER",
            "PRY",
            "SUR",
            "URY",
            "VEN"
           ],
           "name": "",
           "type": "choropleth",
           "z": [
            0.19899999999999998,
            0.355,
            1.867,
            0.5379999999999999,
            0.295,
            7.336,
            0,
            0.182,
            2.435,
            0.02,
            0,
            0.08199999999999999,
            0
           ]
          }
         ],
         "name": "2020-05-05"
        },
        {
         "data": [
          {
           "coloraxis": "coloraxis",
           "geo": "geo",
           "hovertemplate": "Date=2020-05-06<br>iso_code=%{location}<br>New C-19 deaths per 1M=%{z}<extra></extra>",
           "locations": [
            "ARG",
            "BOL",
            "BRA",
            "CHL",
            "COL",
            "ECU",
            "FLK",
            "GUY",
            "PER",
            "PRY",
            "SUR",
            "URY",
            "VEN"
           ],
           "name": "",
           "type": "choropleth",
           "z": [
            0.18,
            0.379,
            1.952,
            0.508,
            0.306,
            5.652,
            0,
            0.363,
            2.556,
            0.02,
            0,
            0.08199999999999999,
            0
           ]
          }
         ],
         "name": "2020-05-06"
        },
        {
         "data": [
          {
           "coloraxis": "coloraxis",
           "geo": "geo",
           "hovertemplate": "Date=2020-05-07<br>iso_code=%{location}<br>New C-19 deaths per 1M=%{z}<extra></extra>",
           "locations": [
            "ARG",
            "BOL",
            "BRA",
            "CHL",
            "COL",
            "ECU",
            "FLK",
            "GUY",
            "PER",
            "PRY",
            "SUR",
            "URY",
            "VEN"
           ],
           "name": "",
           "type": "choropleth",
           "z": [
            0.18600000000000003,
            0.392,
            2.063,
            0.486,
            0.33399999999999996,
            5.9510000000000005,
            0,
            0.363,
            2.556,
            0.02,
            0,
            0.08199999999999999,
            0
           ]
          }
         ],
         "name": "2020-05-07"
        },
        {
         "data": [
          {
           "coloraxis": "coloraxis",
           "geo": "geo",
           "hovertemplate": "Date=2020-05-08<br>iso_code=%{location}<br>New C-19 deaths per 1M=%{z}<extra></extra>",
           "locations": [
            "ARG",
            "BOL",
            "BRA",
            "CHL",
            "COL",
            "ECU",
            "FLK",
            "GUY",
            "PER",
            "PRY",
            "SUR",
            "URY",
            "VEN"
           ],
           "name": "",
           "type": "choropleth",
           "z": [
            0.20199999999999999,
            0.49,
            2.181,
            0.433,
            0.32,
            6.105,
            0,
            0.182,
            2.496,
            0,
            0,
            0,
            0
           ]
          }
         ],
         "name": "2020-05-08"
        },
        {
         "data": [
          {
           "coloraxis": "coloraxis",
           "geo": "geo",
           "hovertemplate": "Date=2020-05-09<br>iso_code=%{location}<br>New C-19 deaths per 1M=%{z}<extra></extra>",
           "locations": [
            "ARG",
            "BOL",
            "BRA",
            "CHL",
            "COL",
            "ECU",
            "FLK",
            "GUY",
            "PER",
            "PRY",
            "SUR",
            "URY",
            "VEN"
           ],
           "name": "",
           "type": "choropleth",
           "z": [
            0.215,
            0.49,
            2.398,
            0.44799999999999995,
            0.32,
            5.19,
            0,
            0.182,
            2.556,
            0,
            0,
            0.040999999999999995,
            0
           ]
          }
         ],
         "name": "2020-05-09"
        },
        {
         "data": [
          {
           "coloraxis": "coloraxis",
           "geo": "geo",
           "hovertemplate": "Date=2020-05-10<br>iso_code=%{location}<br>New C-19 deaths per 1M=%{z}<extra></extra>",
           "locations": [
            "ARG",
            "BOL",
            "BRA",
            "CHL",
            "COL",
            "ECU",
            "FLK",
            "GUY",
            "PER",
            "PRY",
            "SUR",
            "URY",
            "VEN"
           ],
           "name": "",
           "type": "choropleth",
           "z": [
            0.19899999999999998,
            0.526,
            2.6060000000000003,
            0.426,
            0.34,
            2.802,
            0,
            0.182,
            2.66,
            0,
            0,
            0.040999999999999995,
            0
           ]
          }
         ],
         "name": "2020-05-10"
        },
        {
         "data": [
          {
           "coloraxis": "coloraxis",
           "geo": "geo",
           "hovertemplate": "Date=2020-05-11<br>iso_code=%{location}<br>New C-19 deaths per 1M=%{z}<extra></extra>",
           "locations": [
            "ARG",
            "BOL",
            "BRA",
            "CHL",
            "COL",
            "ECU",
            "FLK",
            "GUY",
            "PER",
            "PRY",
            "SUR",
            "URY",
            "VEN"
           ],
           "name": "",
           "type": "choropleth",
           "z": [
            0.171,
            0.514,
            2.7539999999999996,
            0.389,
            0.345,
            4.559,
            0,
            0.182,
            2.613,
            0,
            0,
            0.08199999999999999,
            0
           ]
          }
         ],
         "name": "2020-05-11"
        },
        {
         "data": [
          {
           "coloraxis": "coloraxis",
           "geo": "geo",
           "hovertemplate": "Date=2020-05-12<br>iso_code=%{location}<br>New C-19 deaths per 1M=%{z}<extra></extra>",
           "locations": [
            "ARG",
            "BOL",
            "BRA",
            "CHL",
            "COL",
            "ECU",
            "FLK",
            "GUY",
            "PER",
            "PRY",
            "SUR",
            "URY",
            "VEN"
           ],
           "name": "",
           "type": "choropleth",
           "z": [
            0.142,
            0.49,
            2.821,
            0.396,
            0.34,
            4.664,
            0,
            0.182,
            2.673,
            0,
            0,
            0.08199999999999999,
            0
           ]
          }
         ],
         "name": "2020-05-12"
        },
        {
         "data": [
          {
           "coloraxis": "coloraxis",
           "geo": "geo",
           "hovertemplate": "Date=2020-05-13<br>iso_code=%{location}<br>New C-19 deaths per 1M=%{z}<extra></extra>",
           "locations": [
            "ARG",
            "BOL",
            "BRA",
            "CHL",
            "COL",
            "ECU",
            "FLK",
            "GUY",
            "PER",
            "PRY",
            "SUR",
            "URY",
            "VEN"
           ],
           "name": "",
           "type": "choropleth",
           "z": [
            0.174,
            0.514,
            3.01,
            0.44799999999999995,
            0.32299999999999995,
            6.138,
            0,
            0,
            2.656,
            0,
            0,
            0.08199999999999999,
            0
           ]
          }
         ],
         "name": "2020-05-13"
        },
        {
         "data": [
          {
           "coloraxis": "coloraxis",
           "geo": "geo",
           "hovertemplate": "Date=2020-05-14<br>iso_code=%{location}<br>New C-19 deaths per 1M=%{z}<extra></extra>",
           "locations": [
            "ARG",
            "BOL",
            "BRA",
            "CHL",
            "COL",
            "ECU",
            "FLK",
            "GUY",
            "PER",
            "PRY",
            "SUR",
            "URY",
            "VEN"
           ],
           "name": "",
           "type": "choropleth",
           "z": [
            0.177,
            0.624,
            3.1,
            0.486,
            0.314,
            5.797999999999999,
            0,
            0,
            2.7560000000000002,
            0.02,
            0,
            0.08199999999999999,
            0
           ]
          }
         ],
         "name": "2020-05-14"
        },
        {
         "data": [
          {
           "coloraxis": "coloraxis",
           "geo": "geo",
           "hovertemplate": "Date=2020-05-15<br>iso_code=%{location}<br>New C-19 deaths per 1M=%{z}<extra></extra>",
           "locations": [
            "ARG",
            "BOL",
            "BRA",
            "CHL",
            "COL",
            "ECU",
            "FLK",
            "GUY",
            "PER",
            "PRY",
            "SUR",
            "URY",
            "VEN"
           ],
           "name": "",
           "type": "choropleth",
           "z": [
            0.22399999999999998,
            0.612,
            3.258,
            0.546,
            0.331,
            5.537999999999999,
            0,
            0,
            2.773,
            0.02,
            0,
            0.08199999999999999,
            0
           ]
          }
         ],
         "name": "2020-05-15"
        },
        {
         "data": [
          {
           "coloraxis": "coloraxis",
           "geo": "geo",
           "hovertemplate": "Date=2020-05-16<br>iso_code=%{location}<br>New C-19 deaths per 1M=%{z}<extra></extra>",
           "locations": [
            "ARG",
            "BOL",
            "BRA",
            "CHL",
            "COL",
            "ECU",
            "FLK",
            "GUY",
            "PER",
            "PRY",
            "SUR",
            "URY",
            "VEN"
           ],
           "name": "",
           "type": "choropleth",
           "z": [
            0.19899999999999998,
            0.71,
            3.307,
            0.747,
            0.331,
            7.206,
            0,
            0,
            2.9419999999999997,
            0.02,
            0,
            0.040999999999999995,
            0
           ]
          }
         ],
         "name": "2020-05-16"
        },
        {
         "data": [
          {
           "coloraxis": "coloraxis",
           "geo": "geo",
           "hovertemplate": "Date=2020-05-17<br>iso_code=%{location}<br>New C-19 deaths per 1M=%{z}<extra></extra>",
           "locations": [
            "ARG",
            "BOL",
            "BRA",
            "CHL",
            "COL",
            "ECU",
            "FLK",
            "GUY",
            "PER",
            "PRY",
            "SUR",
            "URY",
            "VEN"
           ],
           "name": "",
           "type": "choropleth",
           "z": [
            0.19899999999999998,
            0.624,
            3.364,
            0.8740000000000001,
            0.32799999999999996,
            7.862,
            0,
            0,
            3.072,
            0.02,
            0,
            0.040999999999999995,
            0
           ]
          }
         ],
         "name": "2020-05-17"
        },
        {
         "data": [
          {
           "coloraxis": "coloraxis",
           "geo": "geo",
           "hovertemplate": "Date=2020-05-18<br>iso_code=%{location}<br>New C-19 deaths per 1M=%{z}<extra></extra>",
           "locations": [
            "ARG",
            "BOL",
            "BRA",
            "CHL",
            "COL",
            "ECU",
            "FLK",
            "GUY",
            "PER",
            "PRY",
            "SUR",
            "URY",
            "VEN"
           ],
           "name": "",
           "type": "choropleth",
           "z": [
            0.209,
            0.624,
            3.3569999999999998,
            1.031,
            0.312,
            4.931,
            0,
            0,
            3.2889999999999997,
            0.02,
            0,
            0.040999999999999995,
            0
           ]
          }
         ],
         "name": "2020-05-18"
        },
        {
         "data": [
          {
           "coloraxis": "coloraxis",
           "geo": "geo",
           "hovertemplate": "Date=2020-05-19<br>iso_code=%{location}<br>New C-19 deaths per 1M=%{z}<extra></extra>",
           "locations": [
            "ARG",
            "BOL",
            "BRA",
            "CHL",
            "COL",
            "ECU",
            "FLK",
            "GUY",
            "PER",
            "PRY",
            "SUR",
            "URY",
            "VEN"
           ],
           "name": "",
           "type": "choropleth",
           "z": [
            0.243,
            0.636,
            3.5439999999999996,
            1.158,
            0.317,
            5.295,
            0,
            0,
            3.5869999999999997,
            0.02,
            0,
            0.040999999999999995,
            0
           ]
          }
         ],
         "name": "2020-05-19"
        },
        {
         "data": [
          {
           "coloraxis": "coloraxis",
           "geo": "geo",
           "hovertemplate": "Date=2020-05-20<br>iso_code=%{location}<br>New C-19 deaths per 1M=%{z}<extra></extra>",
           "locations": [
            "ARG",
            "BOL",
            "BRA",
            "CHL",
            "COL",
            "ECU",
            "FLK",
            "GUY",
            "PER",
            "PRY",
            "SUR",
            "URY",
            "VEN"
           ],
           "name": "",
           "type": "choropleth",
           "z": [
            0.23399999999999999,
            0.747,
            3.7439999999999998,
            1.3,
            0.337,
            4.146,
            0,
            0,
            3.713,
            0.02,
            0,
            0.040999999999999995,
            0
           ]
          }
         ],
         "name": "2020-05-20"
        },
        {
         "data": [
          {
           "coloraxis": "coloraxis",
           "geo": "geo",
           "hovertemplate": "Date=2020-05-21<br>iso_code=%{location}<br>New C-19 deaths per 1M=%{z}<extra></extra>",
           "locations": [
            "ARG",
            "BOL",
            "BRA",
            "CHL",
            "COL",
            "ECU",
            "FLK",
            "GUY",
            "PER",
            "PRY",
            "SUR",
            "URY",
            "VEN"
           ],
           "name": "",
           "type": "choropleth",
           "z": [
            0.23399999999999999,
            0.698,
            3.838,
            1.48,
            0.34,
            4.486000000000001,
            0,
            0,
            3.7039999999999997,
            0,
            0,
            0.040999999999999995,
            0
           ]
          }
         ],
         "name": "2020-05-21"
        },
        {
         "data": [
          {
           "coloraxis": "coloraxis",
           "geo": "geo",
           "hovertemplate": "Date=2020-05-22<br>iso_code=%{location}<br>New C-19 deaths per 1M=%{z}<extra></extra>",
           "locations": [
            "ARG",
            "BOL",
            "BRA",
            "CHL",
            "COL",
            "ECU",
            "FLK",
            "GUY",
            "PER",
            "PRY",
            "SUR",
            "URY",
            "VEN"
           ],
           "name": "",
           "type": "choropleth",
           "z": [
            0.19899999999999998,
            0.7709999999999999,
            4.069,
            1.726,
            0.35700000000000004,
            4.8660000000000005,
            0,
            0,
            3.8169999999999997,
            0,
            0,
            0.040999999999999995,
            0
           ]
          }
         ],
         "name": "2020-05-22"
        },
        {
         "data": [
          {
           "coloraxis": "coloraxis",
           "geo": "geo",
           "hovertemplate": "Date=2020-05-23<br>iso_code=%{location}<br>New C-19 deaths per 1M=%{z}<extra></extra>",
           "locations": [
            "ARG",
            "BOL",
            "BRA",
            "CHL",
            "COL",
            "ECU",
            "FLK",
            "GUY",
            "PER",
            "PRY",
            "SUR",
            "URY",
            "VEN"
           ],
           "name": "",
           "type": "choropleth",
           "z": [
            0.243,
            0.8079999999999999,
            4.188,
            1.764,
            0.382,
            3.741,
            0,
            0,
            3.687,
            0,
            0,
            0.040999999999999995,
            0
           ]
          }
         ],
         "name": "2020-05-23"
        },
        {
         "data": [
          {
           "coloraxis": "coloraxis",
           "geo": "geo",
           "hovertemplate": "Date=2020-05-24<br>iso_code=%{location}<br>New C-19 deaths per 1M=%{z}<extra></extra>",
           "locations": [
            "ARG",
            "BOL",
            "BRA",
            "CHL",
            "COL",
            "ECU",
            "FLK",
            "GUY",
            "PER",
            "PRY",
            "SUR",
            "URY",
            "VEN"
           ],
           "name": "",
           "type": "choropleth",
           "z": [
            0.259,
            0.9179999999999999,
            4.288,
            1.883,
            0.401,
            3.304,
            0,
            0,
            3.6830000000000003,
            0,
            0,
            0.12300000000000001,
            0
           ]
          }
         ],
         "name": "2020-05-24"
        },
        {
         "data": [
          {
           "coloraxis": "coloraxis",
           "geo": "geo",
           "hovertemplate": "Date=2020-05-25<br>iso_code=%{location}<br>New C-19 deaths per 1M=%{z}<extra></extra>",
           "locations": [
            "ARG",
            "BOL",
            "BRA",
            "CHL",
            "COL",
            "ECU",
            "FLK",
            "GUY",
            "PER",
            "PRY",
            "SUR",
            "URY",
            "VEN"
           ],
           "name": "",
           "type": "choropleth",
           "z": [
            0.272,
            0.991,
            4.401,
            2.003,
            0.43,
            3.012,
            0,
            0,
            3.5010000000000003,
            0,
            0,
            0.08199999999999999,
            0
           ]
          }
         ],
         "name": "2020-05-25"
        },
        {
         "data": [
          {
           "coloraxis": "coloraxis",
           "geo": "geo",
           "hovertemplate": "Date=2020-05-26<br>iso_code=%{location}<br>New C-19 deaths per 1M=%{z}<extra></extra>",
           "locations": [
            "ARG",
            "BOL",
            "BRA",
            "CHL",
            "COL",
            "ECU",
            "FLK",
            "GUY",
            "PER",
            "PRY",
            "SUR",
            "URY",
            "VEN"
           ],
           "name": "",
           "type": "choropleth",
           "z": [
            0.26899999999999996,
            1.065,
            4.49,
            2.115,
            0.444,
            3.2710000000000004,
            0,
            0.182,
            3.639,
            0,
            0,
            0.08199999999999999,
            0
           ]
          }
         ],
         "name": "2020-05-26"
        },
        {
         "data": [
          {
           "coloraxis": "coloraxis",
           "geo": "geo",
           "hovertemplate": "Date=2020-05-27<br>iso_code=%{location}<br>New C-19 deaths per 1M=%{z}<extra></extra>",
           "locations": [
            "ARG",
            "BOL",
            "BRA",
            "CHL",
            "COL",
            "ECU",
            "FLK",
            "GUY",
            "PER",
            "PRY",
            "SUR",
            "URY",
            "VEN"
           ],
           "name": "",
           "type": "choropleth",
           "z": [
            0.28800000000000003,
            1.04,
            4.396,
            2.22,
            0.45799999999999996,
            2.947,
            0,
            0.182,
            3.787,
            0,
            0,
            0.08199999999999999,
            0.005
           ]
          }
         ],
         "name": "2020-05-27"
        },
        {
         "data": [
          {
           "coloraxis": "coloraxis",
           "geo": "geo",
           "hovertemplate": "Date=2020-05-28<br>iso_code=%{location}<br>New C-19 deaths per 1M=%{z}<extra></extra>",
           "locations": [
            "ARG",
            "BOL",
            "BRA",
            "CHL",
            "COL",
            "ECU",
            "FLK",
            "GUY",
            "PER",
            "PRY",
            "SUR",
            "URY",
            "VEN"
           ],
           "name": "",
           "type": "choropleth",
           "z": [
            0.307,
            0.991,
            4.529,
            2.22,
            0.486,
            3.134,
            0,
            0.182,
            4.155,
            0,
            0,
            0.08199999999999999,
            0.005
           ]
          }
         ],
         "name": "2020-05-28"
        },
        {
         "data": [
          {
           "coloraxis": "coloraxis",
           "geo": "geo",
           "hovertemplate": "Date=2020-05-29<br>iso_code=%{location}<br>New C-19 deaths per 1M=%{z}<extra></extra>",
           "locations": [
            "ARG",
            "BOL",
            "BRA",
            "CHL",
            "COL",
            "ECU",
            "FLK",
            "GUY",
            "PER",
            "PRY",
            "SUR",
            "URY",
            "VEN"
           ],
           "name": "",
           "type": "choropleth",
           "z": [
            0.29100000000000004,
            0.955,
            4.508,
            2.249,
            0.47700000000000004,
            3.028,
            0,
            0.182,
            4.12,
            0,
            0,
            0.08199999999999999,
            0.005
           ]
          }
         ],
         "name": "2020-05-29"
        },
        {
         "data": [
          {
           "coloraxis": "coloraxis",
           "geo": "geo",
           "hovertemplate": "Date=2020-05-30<br>iso_code=%{location}<br>New C-19 deaths per 1M=%{z}<extra></extra>",
           "locations": [
            "ARG",
            "BOL",
            "BRA",
            "CHL",
            "COL",
            "ECU",
            "FLK",
            "GUY",
            "PER",
            "PRY",
            "SUR",
            "URY",
            "VEN"
           ],
           "name": "",
           "type": "choropleth",
           "z": [
            0.275,
            0.857,
            4.59,
            2.347,
            0.48,
            2.251,
            0,
            0.182,
            4.272,
            0,
            0,
            0.08199999999999999,
            0.02
           ]
          }
         ],
         "name": "2020-05-30"
        },
        {
         "data": [
          {
           "coloraxis": "coloraxis",
           "geo": "geo",
           "hovertemplate": "Date=2020-05-31<br>iso_code=%{location}<br>New C-19 deaths per 1M=%{z}<extra></extra>",
           "locations": [
            "ARG",
            "BOL",
            "BRA",
            "CHL",
            "COL",
            "ECU",
            "FLK",
            "GUY",
            "PER",
            "PRY",
            "SUR",
            "URY",
            "VEN"
           ],
           "name": "",
           "type": "choropleth",
           "z": [
            0.262,
            0.857,
            4.584,
            2.421,
            0.519,
            1.9269999999999998,
            0,
            0.363,
            4.324,
            0,
            0,
            0,
            0.02
           ]
          }
         ],
         "name": "2020-05-31"
        },
        {
         "data": [
          {
           "coloraxis": "coloraxis",
           "geo": "geo",
           "hovertemplate": "Date=2020-06-01<br>iso_code=%{location}<br>New C-19 deaths per 1M=%{z}<extra></extra>",
           "locations": [
            "ARG",
            "BOL",
            "BRA",
            "CHL",
            "COL",
            "ECU",
            "FLK",
            "GUY",
            "PER",
            "PRY",
            "SUR",
            "URY",
            "VEN"
           ],
           "name": "",
           "type": "choropleth",
           "z": [
            0.275,
            0.7709999999999999,
            4.468,
            2.511,
            0.595,
            2.024,
            0,
            0.363,
            4.5489999999999995,
            0,
            0,
            0,
            0.02
           ]
          }
         ],
         "name": "2020-06-01"
        },
        {
         "data": [
          {
           "coloraxis": "coloraxis",
           "geo": "geo",
           "hovertemplate": "Date=2020-06-02<br>iso_code=%{location}<br>New C-19 deaths per 1M=%{z}<extra></extra>",
           "locations": [
            "ARG",
            "BOL",
            "BRA",
            "CHL",
            "COL",
            "ECU",
            "FLK",
            "GUY",
            "PER",
            "PRY",
            "SUR",
            "URY",
            "VEN"
           ],
           "name": "",
           "type": "choropleth",
           "z": [
            0.281,
            1.004,
            4.343999999999999,
            2.6310000000000002,
            0.615,
            1.547,
            0,
            0.182,
            4.354,
            0,
            0,
            0.040999999999999995,
            0.035
           ]
          }
         ],
         "name": "2020-06-02"
        },
        {
         "data": [
          {
           "coloraxis": "coloraxis",
           "geo": "geo",
           "hovertemplate": "Date=2020-06-03<br>iso_code=%{location}<br>New C-19 deaths per 1M=%{z}<extra></extra>",
           "locations": [
            "ARG",
            "BOL",
            "BRA",
            "CHL",
            "COL",
            "ECU",
            "FLK",
            "GUY",
            "PER",
            "PRY",
            "SUR",
            "URY",
            "VEN"
           ],
           "name": "",
           "type": "choropleth",
           "z": [
            0.26899999999999996,
            1.248,
            4.494,
            2.855,
            0.654,
            1.903,
            0,
            0.182,
            3.665,
            0,
            0,
            0.040999999999999995,
            0.035
           ]
          }
         ],
         "name": "2020-06-03"
        },
        {
         "data": [
          {
           "coloraxis": "coloraxis",
           "geo": "geo",
           "hovertemplate": "Date=2020-06-04<br>iso_code=%{location}<br>New C-19 deaths per 1M=%{z}<extra></extra>",
           "locations": [
            "ARG",
            "BOL",
            "BRA",
            "CHL",
            "COL",
            "ECU",
            "FLK",
            "GUY",
            "PER",
            "PRY",
            "SUR",
            "URY",
            "VEN"
           ],
           "name": "",
           "type": "choropleth",
           "z": [
            0.262,
            1.469,
            4.671,
            3.2430000000000003,
            0.679,
            1.7080000000000002,
            0,
            0.182,
            3.947,
            0,
            0,
            0.040999999999999995,
            0.045
           ]
          }
         ],
         "name": "2020-06-04"
        },
        {
         "data": [
          {
           "coloraxis": "coloraxis",
           "geo": "geo",
           "hovertemplate": "Date=2020-06-05<br>iso_code=%{location}<br>New C-19 deaths per 1M=%{z}<extra></extra>",
           "locations": [
            "ARG",
            "BOL",
            "BRA",
            "CHL",
            "COL",
            "ECU",
            "FLK",
            "GUY",
            "PER",
            "PRY",
            "SUR",
            "URY",
            "VEN"
           ],
           "name": "",
           "type": "choropleth",
           "z": [
            0.253,
            1.493,
            4.8839999999999995,
            3.4819999999999998,
            0.7440000000000001,
            1.401,
            0,
            0.182,
            4.038,
            0,
            0,
            0.040999999999999995,
            0.045
           ]
          }
         ],
         "name": "2020-06-05"
        },
        {
         "data": [
          {
           "coloraxis": "coloraxis",
           "geo": "geo",
           "hovertemplate": "Date=2020-06-06<br>iso_code=%{location}<br>New C-19 deaths per 1M=%{z}<extra></extra>",
           "locations": [
            "ARG",
            "BOL",
            "BRA",
            "CHL",
            "COL",
            "ECU",
            "FLK",
            "GUY",
            "PER",
            "PRY",
            "SUR",
            "URY",
            "VEN"
           ],
           "name": "",
           "type": "choropleth",
           "z": [
            0.354,
            1.554,
            4.803999999999999,
            3.766,
            0.82,
            1.619,
            0,
            0.182,
            4.038,
            0,
            0,
            0.040999999999999995,
            0.03
           ]
          }
         ],
         "name": "2020-06-06"
        },
        {
         "data": [
          {
           "coloraxis": "coloraxis",
           "geo": "geo",
           "hovertemplate": "Date=2020-06-07<br>iso_code=%{location}<br>New C-19 deaths per 1M=%{z}<extra></extra>",
           "locations": [
            "ARG",
            "BOL",
            "BRA",
            "CHL",
            "COL",
            "ECU",
            "FLK",
            "GUY",
            "PER",
            "PRY",
            "SUR",
            "URY",
            "VEN"
           ],
           "name": "",
           "type": "choropleth",
           "z": [
            0.379,
            1.7619999999999998,
            4.769,
            4.065,
            0.884,
            2.219,
            0,
            0,
            4.029,
            0,
            0,
            0.040999999999999995,
            0.04
           ]
          }
         ],
         "name": "2020-06-07"
        },
        {
         "data": [
          {
           "coloraxis": "coloraxis",
           "geo": "geo",
           "hovertemplate": "Date=2020-06-08<br>iso_code=%{location}<br>New C-19 deaths per 1M=%{z}<extra></extra>",
           "locations": [
            "ARG",
            "BOL",
            "BRA",
            "CHL",
            "COL",
            "ECU",
            "FLK",
            "GUY",
            "PER",
            "PRY",
            "SUR",
            "URY",
            "VEN"
           ],
           "name": "",
           "type": "choropleth",
           "z": [
            0.395,
            1.86,
            4.7989999999999995,
            8.488999999999999,
            0.898,
            2.13,
            0,
            0,
            4.155,
            0,
            0,
            0.040999999999999995,
            0.04
           ]
          }
         ],
         "name": "2020-06-08"
        },
        {
         "data": [
          {
           "coloraxis": "coloraxis",
           "geo": "geo",
           "hovertemplate": "Date=2020-06-09<br>iso_code=%{location}<br>New C-19 deaths per 1M=%{z}<extra></extra>",
           "locations": [
            "ARG",
            "BOL",
            "BRA",
            "CHL",
            "COL",
            "ECU",
            "FLK",
            "GUY",
            "PER",
            "PRY",
            "SUR",
            "URY",
            "VEN"
           ],
           "name": "",
           "type": "choropleth",
           "z": [
            0.433,
            1.615,
            4.837,
            8.602,
            0.9520000000000001,
            2.008,
            0,
            0,
            4.06,
            0,
            0.244,
            0,
            0.025
           ]
          }
         ],
         "name": "2020-06-09"
        },
        {
         "data": [
          {
           "coloraxis": "coloraxis",
           "geo": "geo",
           "hovertemplate": "Date=2020-06-10<br>iso_code=%{location}<br>New C-19 deaths per 1M=%{z}<extra></extra>",
           "locations": [
            "ARG",
            "BOL",
            "BRA",
            "CHL",
            "COL",
            "ECU",
            "FLK",
            "GUY",
            "PER",
            "PRY",
            "SUR",
            "URY",
            "VEN"
           ],
           "name": "",
           "type": "choropleth",
           "z": [
            0.46799999999999997,
            1.358,
            4.843999999999999,
            8.183,
            1.0190000000000001,
            2.04,
            0,
            0,
            4.783,
            0,
            0.244,
            0,
            0.025
           ]
          }
         ],
         "name": "2020-06-10"
        },
        {
         "data": [
          {
           "coloraxis": "coloraxis",
           "geo": "geo",
           "hovertemplate": "Date=2020-06-11<br>iso_code=%{location}<br>New C-19 deaths per 1M=%{z}<extra></extra>",
           "locations": [
            "ARG",
            "BOL",
            "BRA",
            "CHL",
            "COL",
            "ECU",
            "FLK",
            "GUY",
            "PER",
            "PRY",
            "SUR",
            "URY",
            "VEN"
           ],
           "name": "",
           "type": "choropleth",
           "z": [
            0.48,
            1.371,
            4.793,
            8.968,
            1.089,
            1.895,
            0,
            0,
            4.372,
            0,
            0.244,
            0,
            0.015
           ]
          }
         ],
         "name": "2020-06-11"
        },
        {
         "data": [
          {
           "coloraxis": "coloraxis",
           "geo": "geo",
           "hovertemplate": "Date=2020-06-12<br>iso_code=%{location}<br>New C-19 deaths per 1M=%{z}<extra></extra>",
           "locations": [
            "ARG",
            "BOL",
            "BRA",
            "CHL",
            "COL",
            "ECU",
            "FLK",
            "GUY",
            "PER",
            "PRY",
            "SUR",
            "URY",
            "VEN"
           ],
           "name": "",
           "type": "choropleth",
           "z": [
            0.5589999999999999,
            1.444,
            4.636,
            9.655,
            0.971,
            1.895,
            0,
            0,
            4.671,
            0,
            0.244,
            0,
            0.015
           ]
          }
         ],
         "name": "2020-06-12"
        },
        {
         "data": [
          {
           "coloraxis": "coloraxis",
           "geo": "geo",
           "hovertemplate": "Date=2020-06-13<br>iso_code=%{location}<br>New C-19 deaths per 1M=%{z}<extra></extra>",
           "locations": [
            "ARG",
            "BOL",
            "BRA",
            "CHL",
            "COL",
            "ECU",
            "FLK",
            "GUY",
            "PER",
            "PRY",
            "SUR",
            "URY",
            "VEN"
           ],
           "name": "",
           "type": "choropleth",
           "z": [
            0.484,
            1.615,
            4.571000000000001,
            10.627,
            1.123,
            2.381,
            0,
            0,
            4.965,
            0,
            0.48700000000000004,
            0,
            0.015
           ]
          }
         ],
         "name": "2020-06-13"
        },
        {
         "data": [
          {
           "coloraxis": "coloraxis",
           "geo": "geo",
           "hovertemplate": "Date=2020-06-14<br>iso_code=%{location}<br>New C-19 deaths per 1M=%{z}<extra></extra>",
           "locations": [
            "ARG",
            "BOL",
            "BRA",
            "CHL",
            "COL",
            "ECU",
            "FLK",
            "GUY",
            "PER",
            "PRY",
            "SUR",
            "URY",
            "VEN"
           ],
           "name": "",
           "type": "choropleth",
           "z": [
            0.528,
            1.6030000000000002,
            4.563,
            11.658,
            1.087,
            2.154,
            0,
            0,
            5.186,
            0,
            0.48700000000000004,
            0,
            0.01
           ]
          }
         ],
         "name": "2020-06-14"
        },
        {
         "data": [
          {
           "coloraxis": "coloraxis",
           "geo": "geo",
           "hovertemplate": "Date=2020-06-15<br>iso_code=%{location}<br>New C-19 deaths per 1M=%{z}<extra></extra>",
           "locations": [
            "ARG",
            "BOL",
            "BRA",
            "CHL",
            "COL",
            "ECU",
            "FLK",
            "GUY",
            "PER",
            "PRY",
            "SUR",
            "URY",
            "VEN"
           ],
           "name": "",
           "type": "choropleth",
           "z": [
            0.534,
            1.787,
            4.622,
            8.467,
            1.145,
            2.227,
            0,
            0,
            5.2989999999999995,
            0,
            0.48700000000000004,
            0,
            0.015
           ]
          }
         ],
         "name": "2020-06-15"
        },
        {
         "data": [
          {
           "coloraxis": "coloraxis",
           "geo": "geo",
           "hovertemplate": "Date=2020-06-16<br>iso_code=%{location}<br>New C-19 deaths per 1M=%{z}<extra></extra>",
           "locations": [
            "ARG",
            "BOL",
            "BRA",
            "CHL",
            "COL",
            "ECU",
            "FLK",
            "GUY",
            "PER",
            "PRY",
            "SUR",
            "URY",
            "VEN"
           ],
           "name": "",
           "type": "choropleth",
           "z": [
            0.509,
            1.921,
            4.587,
            8.205,
            1.1740000000000002,
            2.324,
            0,
            0,
            5.585,
            0.02,
            0.731,
            0,
            0.02
           ]
          }
         ],
         "name": "2020-06-16"
        },
        {
         "data": [
          {
           "coloraxis": "coloraxis",
           "geo": "geo",
           "hovertemplate": "Date=2020-06-17<br>iso_code=%{location}<br>New C-19 deaths per 1M=%{z}<extra></extra>",
           "locations": [
            "ARG",
            "BOL",
            "BRA",
            "CHL",
            "COL",
            "ECU",
            "FLK",
            "GUY",
            "PER",
            "PRY",
            "SUR",
            "URY",
            "VEN"
           ],
           "name": "",
           "type": "choropleth",
           "z": [
            0.509,
            2.105,
            4.593999999999999,
            8.22,
            1.204,
            2.267,
            0,
            0,
            5.71,
            0.04,
            0.9740000000000001,
            0.040999999999999995,
            0.02
           ]
          }
         ],
         "name": "2020-06-17"
        },
        {
         "data": [
          {
           "coloraxis": "coloraxis",
           "geo": "geo",
           "hovertemplate": "Date=2020-06-18<br>iso_code=%{location}<br>New C-19 deaths per 1M=%{z}<extra></extra>",
           "locations": [
            "ARG",
            "BOL",
            "BRA",
            "CHL",
            "COL",
            "ECU",
            "FLK",
            "GUY",
            "PER",
            "PRY",
            "SUR",
            "URY",
            "VEN"
           ],
           "name": "",
           "type": "choropleth",
           "z": [
            0.563,
            2.044,
            4.59,
            8.519,
            1.21,
            2.324,
            0,
            0,
            5.8660000000000005,
            0.04,
            0.9740000000000001,
            0.040999999999999995,
            0.02
           ]
          }
         ],
         "name": "2020-06-18"
        },
        {
         "data": [
          {
           "coloraxis": "coloraxis",
           "geo": "geo",
           "hovertemplate": "Date=2020-06-19<br>iso_code=%{location}<br>New C-19 deaths per 1M=%{z}<extra></extra>",
           "locations": [
            "ARG",
            "BOL",
            "BRA",
            "CHL",
            "COL",
            "ECU",
            "FLK",
            "GUY",
            "PER",
            "PRY",
            "SUR",
            "URY",
            "VEN"
           ],
           "name": "",
           "type": "choropleth",
           "z": [
            0.518,
            2.0069999999999997,
            4.59,
            8.915,
            1.452,
            2.972,
            0,
            0,
            5.858,
            0.04,
            1.218,
            0.040999999999999995,
            0.025
           ]
          }
         ],
         "name": "2020-06-19"
        },
        {
         "data": [
          {
           "coloraxis": "coloraxis",
           "geo": "geo",
           "hovertemplate": "Date=2020-06-20<br>iso_code=%{location}<br>New C-19 deaths per 1M=%{z}<extra></extra>",
           "locations": [
            "ARG",
            "BOL",
            "BRA",
            "CHL",
            "COL",
            "ECU",
            "FLK",
            "GUY",
            "PER",
            "PRY",
            "SUR",
            "URY",
            "VEN"
           ],
           "name": "",
           "type": "choropleth",
           "z": [
            0.613,
            1.909,
            4.789,
            9.14,
            1.4040000000000001,
            2.656,
            0,
            0,
            5.858,
            0.04,
            1.218,
            0.040999999999999995,
            0.035
           ]
          }
         ],
         "name": "2020-06-20"
        },
        {
         "data": [
          {
           "coloraxis": "coloraxis",
           "geo": "geo",
           "hovertemplate": "Date=2020-06-21<br>iso_code=%{location}<br>New C-19 deaths per 1M=%{z}<extra></extra>",
           "locations": [
            "ARG",
            "BOL",
            "BRA",
            "CHL",
            "COL",
            "ECU",
            "FLK",
            "GUY",
            "PER",
            "PRY",
            "SUR",
            "URY",
            "VEN"
           ],
           "name": "",
           "type": "choropleth",
           "z": [
            0.5589999999999999,
            1.8969999999999998,
            4.877,
            8.923,
            1.499,
            2.6319999999999997,
            0,
            0,
            5.905,
            0.04,
            1.218,
            0.08199999999999999,
            0.045
           ]
          }
         ],
         "name": "2020-06-21"
        },
        {
         "data": [
          {
           "coloraxis": "coloraxis",
           "geo": "geo",
           "hovertemplate": "Date=2020-06-22<br>iso_code=%{location}<br>New C-19 deaths per 1M=%{z}<extra></extra>",
           "locations": [
            "ARG",
            "BOL",
            "BRA",
            "CHL",
            "COL",
            "ECU",
            "FLK",
            "GUY",
            "PER",
            "PRY",
            "SUR",
            "URY",
            "VEN"
           ],
           "name": "",
           "type": "choropleth",
           "z": [
            0.563,
            1.983,
            4.896,
            8.639,
            1.6,
            2.648,
            0,
            0,
            5.879,
            0.04,
            1.218,
            0.08199999999999999,
            0.04
           ]
          }
         ],
         "name": "2020-06-22"
        },
        {
         "data": [
          {
           "coloraxis": "coloraxis",
           "geo": "geo",
           "hovertemplate": "Date=2020-06-23<br>iso_code=%{location}<br>New C-19 deaths per 1M=%{z}<extra></extra>",
           "locations": [
            "ARG",
            "BOL",
            "BRA",
            "CHL",
            "COL",
            "ECU",
            "FLK",
            "GUY",
            "PER",
            "PRY",
            "SUR",
            "URY",
            "VEN"
           ],
           "name": "",
           "type": "choropleth",
           "z": [
            0.597,
            2.301,
            4.914,
            8.519,
            1.64,
            2.381,
            0,
            0,
            5.1339999999999995,
            0.02,
            0.731,
            0.08199999999999999,
            0.045
           ]
          }
         ],
         "name": "2020-06-23"
        },
        {
         "data": [
          {
           "coloraxis": "coloraxis",
           "geo": "geo",
           "hovertemplate": "Date=2020-06-24<br>iso_code=%{location}<br>New C-19 deaths per 1M=%{z}<extra></extra>",
           "locations": [
            "ARG",
            "BOL",
            "BRA",
            "CHL",
            "COL",
            "ECU",
            "FLK",
            "GUY",
            "PER",
            "PRY",
            "SUR",
            "URY",
            "VEN"
           ],
           "name": "",
           "type": "choropleth",
           "z": [
            0.541,
            2.289,
            4.976,
            8.385,
            1.693,
            2.4619999999999997,
            0,
            0,
            5.84,
            0,
            0.731,
            0.040999999999999995,
            0.04
           ]
          }
         ],
         "name": "2020-06-24"
        },
        {
         "data": [
          {
           "coloraxis": "coloraxis",
           "geo": "geo",
           "hovertemplate": "Date=2020-06-25<br>iso_code=%{location}<br>New C-19 deaths per 1M=%{z}<extra></extra>",
           "locations": [
            "ARG",
            "BOL",
            "BRA",
            "CHL",
            "COL",
            "ECU",
            "FLK",
            "GUY",
            "PER",
            "PRY",
            "SUR",
            "URY",
            "VEN"
           ],
           "name": "",
           "type": "choropleth",
           "z": [
            0.544,
            2.411,
            4.92,
            8.34,
            1.76,
            2.445,
            0,
            0,
            5.757999999999999,
            0,
            0.9740000000000001,
            0.08199999999999999,
            0.055
           ]
          }
         ],
         "name": "2020-06-25"
        },
        {
         "data": [
          {
           "coloraxis": "coloraxis",
           "geo": "geo",
           "hovertemplate": "Date=2020-06-26<br>iso_code=%{location}<br>New C-19 deaths per 1M=%{z}<extra></extra>",
           "locations": [
            "ARG",
            "BOL",
            "BRA",
            "CHL",
            "COL",
            "ECU",
            "FLK",
            "GUY",
            "PER",
            "PRY",
            "SUR",
            "URY",
            "VEN"
           ],
           "name": "",
           "type": "choropleth",
           "z": [
            0.616,
            2.6430000000000002,
            4.854,
            7.936,
            1.9769999999999999,
            2.073,
            0,
            0,
            5.632999999999999,
            0,
            0.731,
            0.08199999999999999,
            0.055
           ]
          }
         ],
         "name": "2020-06-26"
        },
        {
         "data": [
          {
           "coloraxis": "coloraxis",
           "geo": "geo",
           "hovertemplate": "Date=2020-06-27<br>iso_code=%{location}<br>New C-19 deaths per 1M=%{z}<extra></extra>",
           "locations": [
            "ARG",
            "BOL",
            "BRA",
            "CHL",
            "COL",
            "ECU",
            "FLK",
            "GUY",
            "PER",
            "PRY",
            "SUR",
            "URY",
            "VEN"
           ],
           "name": "",
           "type": "choropleth",
           "z": [
            0.594,
            2.68,
            4.709,
            7.2860000000000005,
            2.151,
            2.024,
            0,
            0,
            5.542000000000001,
            0,
            0.48700000000000004,
            0.08199999999999999,
            0.055
           ]
          }
         ],
         "name": "2020-06-27"
        },
        {
         "data": [
          {
           "coloraxis": "coloraxis",
           "geo": "geo",
           "hovertemplate": "Date=2020-06-28<br>iso_code=%{location}<br>New C-19 deaths per 1M=%{z}<extra></extra>",
           "locations": [
            "ARG",
            "BOL",
            "BRA",
            "CHL",
            "COL",
            "ECU",
            "FLK",
            "GUY",
            "PER",
            "PRY",
            "SUR",
            "URY",
            "VEN"
           ],
           "name": "",
           "type": "choropleth",
           "z": [
            0.68,
            2.815,
            4.768,
            7.862,
            2.283,
            1.8219999999999998,
            0,
            0,
            5.52,
            0.04,
            0.48700000000000004,
            0.040999999999999995,
            0.045
           ]
          }
         ],
         "name": "2020-06-28"
        },
        {
         "data": [
          {
           "coloraxis": "coloraxis",
           "geo": "geo",
           "hovertemplate": "Date=2020-06-29<br>iso_code=%{location}<br>New C-19 deaths per 1M=%{z}<extra></extra>",
           "locations": [
            "ARG",
            "BOL",
            "BRA",
            "CHL",
            "COL",
            "ECU",
            "FLK",
            "GUY",
            "PER",
            "PRY",
            "SUR",
            "URY",
            "VEN"
           ],
           "name": "",
           "type": "choropleth",
           "z": [
            0.6509999999999999,
            2.949,
            4.708,
            7.697,
            2.44,
            1.6680000000000001,
            0,
            0,
            5.511,
            0.04,
            0.731,
            0.08199999999999999,
            0.055
           ]
          }
         ],
         "name": "2020-06-29"
        },
        {
         "data": [
          {
           "coloraxis": "coloraxis",
           "geo": "geo",
           "hovertemplate": "Date=2020-06-30<br>iso_code=%{location}<br>New C-19 deaths per 1M=%{z}<extra></extra>",
           "locations": [
            "ARG",
            "BOL",
            "BRA",
            "CHL",
            "COL",
            "ECU",
            "FLK",
            "GUY",
            "PER",
            "PRY",
            "SUR",
            "URY",
            "VEN"
           ],
           "name": "",
           "type": "choropleth",
           "z": [
            0.7490000000000001,
            3.072,
            4.7330000000000005,
            8.019,
            2.563,
            2.259,
            0,
            0,
            6.321000000000001,
            0.06,
            1.218,
            0.08199999999999999,
            0.065
           ]
          }
         ],
         "name": "2020-06-30"
        },
        {
         "data": [
          {
           "coloraxis": "coloraxis",
           "geo": "geo",
           "hovertemplate": "Date=2020-07-01<br>iso_code=%{location}<br>New C-19 deaths per 1M=%{z}<extra></extra>",
           "locations": [
            "ARG",
            "BOL",
            "BRA",
            "CHL",
            "COL",
            "ECU",
            "FLK",
            "GUY",
            "PER",
            "PRY",
            "SUR",
            "URY",
            "VEN"
           ],
           "name": "",
           "type": "choropleth",
           "z": [
            0.815,
            3.39,
            4.67,
            8.841000000000001,
            2.611,
            2.049,
            0,
            0,
            5.516,
            0.08,
            0.9740000000000001,
            0.08199999999999999,
            0.08
           ]
          }
         ],
         "name": "2020-07-01"
        },
        {
         "data": [
          {
           "coloraxis": "coloraxis",
           "geo": "geo",
           "hovertemplate": "Date=2020-07-02<br>iso_code=%{location}<br>New C-19 deaths per 1M=%{z}<extra></extra>",
           "locations": [
            "ARG",
            "BOL",
            "BRA",
            "CHL",
            "COL",
            "ECU",
            "FLK",
            "GUY",
            "PER",
            "PRY",
            "SUR",
            "URY",
            "VEN"
           ],
           "name": "",
           "type": "choropleth",
           "z": [
            0.841,
            3.977,
            4.571000000000001,
            7.6370000000000005,
            2.7489999999999997,
            2.162,
            0,
            0.182,
            5.52,
            0.12,
            0.731,
            0.08199999999999999,
            0.08
           ]
          }
         ],
         "name": "2020-07-02"
        },
        {
         "data": [
          {
           "coloraxis": "coloraxis",
           "geo": "geo",
           "hovertemplate": "Date=2020-07-03<br>iso_code=%{location}<br>New C-19 deaths per 1M=%{z}<extra></extra>",
           "locations": [
            "ARG",
            "BOL",
            "BRA",
            "CHL",
            "COL",
            "ECU",
            "FLK",
            "GUY",
            "PER",
            "PRY",
            "SUR",
            "URY",
            "VEN"
           ],
           "name": "",
           "type": "choropleth",
           "z": [
            0.825,
            4.381,
            4.646,
            7.6,
            2.7710000000000004,
            2.397,
            0,
            0.363,
            5.563,
            0.12,
            0.731,
            0.08199999999999999,
            0.09
           ]
          }
         ],
         "name": "2020-07-03"
        },
        {
         "data": [
          {
           "coloraxis": "coloraxis",
           "geo": "geo",
           "hovertemplate": "Date=2020-07-04<br>iso_code=%{location}<br>New C-19 deaths per 1M=%{z}<extra></extra>",
           "locations": [
            "ARG",
            "BOL",
            "BRA",
            "CHL",
            "COL",
            "ECU",
            "FLK",
            "GUY",
            "PER",
            "PRY",
            "SUR",
            "URY",
            "VEN"
           ],
           "name": "",
           "type": "choropleth",
           "z": [
            0.853,
            4.724,
            4.848,
            7.346,
            2.7119999999999997,
            2.381,
            0,
            0.363,
            5.5760000000000005,
            0.12,
            0.731,
            0.08199999999999999,
            0.09
           ]
          }
         ],
         "name": "2020-07-04"
        },
        {
         "data": [
          {
           "coloraxis": "coloraxis",
           "geo": "geo",
           "hovertemplate": "Date=2020-07-05<br>iso_code=%{location}<br>New C-19 deaths per 1M=%{z}<extra></extra>",
           "locations": [
            "ARG",
            "BOL",
            "BRA",
            "CHL",
            "COL",
            "ECU",
            "FLK",
            "GUY",
            "PER",
            "PRY",
            "SUR",
            "URY",
            "VEN"
           ],
           "name": "",
           "type": "choropleth",
           "z": [
            0.778,
            4.993,
            4.836,
            6.315,
            2.8160000000000003,
            2.793,
            0,
            0.363,
            5.5329999999999995,
            0.1,
            0.9740000000000001,
            0.08199999999999999,
            0.1
           ]
          }
         ],
         "name": "2020-07-05"
        },
        {
         "data": [
          {
           "coloraxis": "coloraxis",
           "geo": "geo",
           "hovertemplate": "Date=2020-07-06<br>iso_code=%{location}<br>New C-19 deaths per 1M=%{z}<extra></extra>",
           "locations": [
            "ARG",
            "BOL",
            "BRA",
            "CHL",
            "COL",
            "ECU",
            "FLK",
            "GUY",
            "PER",
            "PRY",
            "SUR",
            "URY",
            "VEN"
           ],
           "name": "",
           "type": "choropleth",
           "z": [
            0.863,
            5.14,
            4.869,
            5.971,
            2.69,
            2.85,
            0,
            0.545,
            5.511,
            0.1,
            0.731,
            0.040999999999999995,
            0.1
           ]
          }
         ],
         "name": "2020-07-06"
        },
        {
         "data": [
          {
           "coloraxis": "coloraxis",
           "geo": "geo",
           "hovertemplate": "Date=2020-07-07<br>iso_code=%{location}<br>New C-19 deaths per 1M=%{z}<extra></extra>",
           "locations": [
            "ARG",
            "BOL",
            "BRA",
            "CHL",
            "COL",
            "ECU",
            "FLK",
            "GUY",
            "PER",
            "PRY",
            "SUR",
            "URY",
            "VEN"
           ],
           "name": "",
           "type": "choropleth",
           "z": [
            0.768,
            4.956,
            4.821000000000001,
            6.046,
            2.7710000000000004,
            2.583,
            0,
            0.726,
            5.494,
            0.08,
            0.244,
            0.08199999999999999,
            0.1
           ]
          }
         ],
         "name": "2020-07-07"
        },
        {
         "data": [
          {
           "coloraxis": "coloraxis",
           "geo": "geo",
           "hovertemplate": "Date=2020-07-08<br>iso_code=%{location}<br>New C-19 deaths per 1M=%{z}<extra></extra>",
           "locations": [
            "ARG",
            "BOL",
            "BRA",
            "CHL",
            "COL",
            "ECU",
            "FLK",
            "GUY",
            "PER",
            "PRY",
            "SUR",
            "URY",
            "VEN"
           ],
           "name": "",
           "type": "choropleth",
           "z": [
            0.932,
            4.981,
            4.803,
            5.575,
            2.878,
            2.802,
            0,
            0.726,
            5.524,
            0.06,
            0.244,
            0.08199999999999999,
            0.1
           ]
          }
         ],
         "name": "2020-07-08"
        },
        {
         "data": [
          {
           "coloraxis": "coloraxis",
           "geo": "geo",
           "hovertemplate": "Date=2020-07-09<br>iso_code=%{location}<br>New C-19 deaths per 1M=%{z}<extra></extra>",
           "locations": [
            "ARG",
            "BOL",
            "BRA",
            "CHL",
            "COL",
            "ECU",
            "FLK",
            "GUY",
            "PER",
            "PRY",
            "SUR",
            "URY",
            "VEN"
           ],
           "name": "",
           "type": "choropleth",
           "z": [
            0.958,
            4.602,
            4.928,
            6.127999999999999,
            2.968,
            2.623,
            0,
            0.545,
            5.516,
            0.02,
            0.9740000000000001,
            0.040999999999999995,
            0.106
           ]
          }
         ],
         "name": "2020-07-09"
        },
        {
         "data": [
          {
           "coloraxis": "coloraxis",
           "geo": "geo",
           "hovertemplate": "Date=2020-07-10<br>iso_code=%{location}<br>New C-19 deaths per 1M=%{z}<extra></extra>",
           "locations": [
            "ARG",
            "BOL",
            "BRA",
            "CHL",
            "COL",
            "ECU",
            "FLK",
            "GUY",
            "PER",
            "PRY",
            "SUR",
            "URY",
            "VEN"
           ],
           "name": "",
           "type": "choropleth",
           "z": [
            1.018,
            4.4910000000000005,
            4.906000000000001,
            5.694,
            3.013,
            2.4290000000000003,
            0,
            0.363,
            5.497999999999999,
            0.02,
            0.9740000000000001,
            0.040999999999999995,
            0.11599999999999999
           ]
          }
         ],
         "name": "2020-07-10"
        },
        {
         "data": [
          {
           "coloraxis": "coloraxis",
           "geo": "geo",
           "hovertemplate": "Date=2020-07-11<br>iso_code=%{location}<br>New C-19 deaths per 1M=%{z}<extra></extra>",
           "locations": [
            "ARG",
            "BOL",
            "BRA",
            "CHL",
            "COL",
            "ECU",
            "FLK",
            "GUY",
            "PER",
            "PRY",
            "SUR",
            "URY",
            "VEN"
           ],
           "name": "",
           "type": "choropleth",
           "z": [
            0.986,
            4.675,
            4.855,
            5.455,
            3.2230000000000003,
            2.291,
            0,
            0.363,
            5.52,
            0.02,
            1.218,
            0.040999999999999995,
            0.121
           ]
          }
         ],
         "name": "2020-07-11"
        },
        {
         "data": [
          {
           "coloraxis": "coloraxis",
           "geo": "geo",
           "hovertemplate": "Date=2020-07-12<br>iso_code=%{location}<br>New C-19 deaths per 1M=%{z}<extra></extra>",
           "locations": [
            "ARG",
            "BOL",
            "BRA",
            "CHL",
            "COL",
            "ECU",
            "FLK",
            "GUY",
            "PER",
            "PRY",
            "SUR",
            "URY",
            "VEN"
           ],
           "name": "",
           "type": "choropleth",
           "z": [
            1.128,
            4.602,
            4.842,
            5.149,
            3.305,
            2.121,
            0,
            0.545,
            5.502999999999999,
            0.02,
            0.9740000000000001,
            0.08199999999999999,
            0.11599999999999999
           ]
          }
         ],
         "name": "2020-07-12"
        },
        {
         "data": [
          {
           "coloraxis": "coloraxis",
           "geo": "geo",
           "hovertemplate": "Date=2020-07-13<br>iso_code=%{location}<br>New C-19 deaths per 1M=%{z}<extra></extra>",
           "locations": [
            "ARG",
            "BOL",
            "BRA",
            "CHL",
            "COL",
            "ECU",
            "FLK",
            "GUY",
            "PER",
            "PRY",
            "SUR",
            "URY",
            "VEN"
           ],
           "name": "",
           "type": "choropleth",
           "z": [
            1.037,
            4.565,
            4.861000000000001,
            5.013999999999999,
            3.49,
            2.154,
            0,
            0.363,
            5.55,
            0.04,
            0.9740000000000001,
            0.12300000000000001,
            0.126
           ]
          }
         ],
         "name": "2020-07-13"
        },
        {
         "data": [
          {
           "coloraxis": "coloraxis",
           "geo": "geo",
           "hovertemplate": "Date=2020-07-14<br>iso_code=%{location}<br>New C-19 deaths per 1M=%{z}<extra></extra>",
           "locations": [
            "ARG",
            "BOL",
            "BRA",
            "CHL",
            "COL",
            "ECU",
            "FLK",
            "GUY",
            "PER",
            "PRY",
            "SUR",
            "URY",
            "VEN"
           ],
           "name": "",
           "type": "choropleth",
           "z": [
            1.2009999999999998,
            4.773,
            4.937,
            4.783,
            3.495,
            1.959,
            0,
            0.182,
            5.555,
            0.1,
            0.9740000000000001,
            0.08199999999999999,
            0.126
           ]
          }
         ],
         "name": "2020-07-14"
        },
        {
         "data": [
          {
           "coloraxis": "coloraxis",
           "geo": "geo",
           "hovertemplate": "Date=2020-07-15<br>iso_code=%{location}<br>New C-19 deaths per 1M=%{z}<extra></extra>",
           "locations": [
            "ARG",
            "BOL",
            "BRA",
            "CHL",
            "COL",
            "ECU",
            "FLK",
            "GUY",
            "PER",
            "PRY",
            "SUR",
            "URY",
            "VEN"
           ],
           "name": "",
           "type": "choropleth",
           "z": [
            1.024,
            4.504,
            4.968,
            4.745,
            3.554,
            2.081,
            0,
            0.182,
            5.5329999999999995,
            0.1,
            0.9740000000000001,
            0.08199999999999999,
            0.126
           ]
          }
         ],
         "name": "2020-07-15"
        },
        {
         "data": [
          {
           "coloraxis": "coloraxis",
           "geo": "geo",
           "hovertemplate": "Date=2020-07-16<br>iso_code=%{location}<br>New C-19 deaths per 1M=%{z}<extra></extra>",
           "locations": [
            "ARG",
            "BOL",
            "BRA",
            "CHL",
            "COL",
            "ECU",
            "FLK",
            "GUY",
            "PER",
            "PRY",
            "SUR",
            "URY",
            "VEN"
           ],
           "name": "",
           "type": "choropleth",
           "z": [
            1.252,
            4.467,
            4.975,
            4.581,
            3.613,
            2.089,
            0,
            0.363,
            5.563,
            0.1,
            0.244,
            0.08199999999999999,
            0.126
           ]
          }
         ],
         "name": "2020-07-16"
        },
        {
         "data": [
          {
           "coloraxis": "coloraxis",
           "geo": "geo",
           "hovertemplate": "Date=2020-07-17<br>iso_code=%{location}<br>New C-19 deaths per 1M=%{z}<extra></extra>",
           "locations": [
            "ARG",
            "BOL",
            "BRA",
            "CHL",
            "COL",
            "ECU",
            "FLK",
            "GUY",
            "PER",
            "PRY",
            "SUR",
            "URY",
            "VEN"
           ],
           "name": "",
           "type": "choropleth",
           "z": [
            1.28,
            4.234,
            5.043,
            4.544,
            3.6919999999999997,
            2.17,
            0,
            0.545,
            5.6370000000000005,
            0.14,
            0.244,
            0.08199999999999999,
            0.121
           ]
          }
         ],
         "name": "2020-07-17"
        },
        {
         "data": [
          {
           "coloraxis": "coloraxis",
           "geo": "geo",
           "hovertemplate": "Date=2020-07-18<br>iso_code=%{location}<br>New C-19 deaths per 1M=%{z}<extra></extra>",
           "locations": [
            "ARG",
            "BOL",
            "BRA",
            "CHL",
            "COL",
            "ECU",
            "FLK",
            "GUY",
            "PER",
            "PRY",
            "SUR",
            "URY",
            "VEN"
           ],
           "name": "",
           "type": "choropleth",
           "z": [
            1.214,
            4.247,
            5.0089999999999995,
            11.703,
            3.827,
            2.162,
            0,
            0.545,
            5.627999999999999,
            0.16,
            0.244,
            0.12300000000000001,
            0.121
           ]
          }
         ],
         "name": "2020-07-18"
        },
        {
         "data": [
          {
           "coloraxis": "coloraxis",
           "geo": "geo",
           "hovertemplate": "Date=2020-07-19<br>iso_code=%{location}<br>New C-19 deaths per 1M=%{z}<extra></extra>",
           "locations": [
            "ARG",
            "BOL",
            "BRA",
            "CHL",
            "COL",
            "ECU",
            "FLK",
            "GUY",
            "PER",
            "PRY",
            "SUR",
            "URY",
            "VEN"
           ],
           "name": "",
           "type": "choropleth",
           "z": [
            1.245,
            4.308,
            4.908,
            11.687999999999999,
            3.9219999999999997,
            2.032,
            0,
            0.363,
            5.702000000000001,
            0.16,
            0.48700000000000004,
            0.12300000000000001,
            0.126
           ]
          }
         ],
         "name": "2020-07-19"
        },
        {
         "data": [
          {
           "coloraxis": "coloraxis",
           "geo": "geo",
           "hovertemplate": "Date=2020-07-20<br>iso_code=%{location}<br>New C-19 deaths per 1M=%{z}<extra></extra>",
           "locations": [
            "ARG",
            "BOL",
            "BRA",
            "CHL",
            "COL",
            "ECU",
            "FLK",
            "GUY",
            "PER",
            "PRY",
            "SUR",
            "URY",
            "VEN"
           ],
           "name": "",
           "type": "choropleth",
           "z": [
            1.3530000000000002,
            4.21,
            4.965,
            11.389000000000001,
            4.012,
            2.154,
            0,
            0.363,
            5.706,
            0.18,
            0.731,
            0.08199999999999999,
            0.11599999999999999
           ]
          }
         ],
         "name": "2020-07-20"
        },
        {
         "data": [
          {
           "coloraxis": "coloraxis",
           "geo": "geo",
           "hovertemplate": "Date=2020-07-21<br>iso_code=%{location}<br>New C-19 deaths per 1M=%{z}<extra></extra>",
           "locations": [
            "ARG",
            "BOL",
            "BRA",
            "CHL",
            "COL",
            "ECU",
            "FLK",
            "GUY",
            "PER",
            "PRY",
            "SUR",
            "URY",
            "VEN"
           ],
           "name": "",
           "type": "choropleth",
           "z": [
            1.486,
            4.308,
            4.897,
            12.024000000000001,
            4.138,
            2.065,
            0,
            0.363,
            5.7620000000000005,
            0.16,
            0.731,
            0.08199999999999999,
            0.11599999999999999
           ]
          }
         ],
         "name": "2020-07-21"
        },
        {
         "data": [
          {
           "coloraxis": "coloraxis",
           "geo": "geo",
           "hovertemplate": "Date=2020-07-22<br>iso_code=%{location}<br>New C-19 deaths per 1M=%{z}<extra></extra>",
           "locations": [
            "ARG",
            "BOL",
            "BRA",
            "CHL",
            "COL",
            "ECU",
            "FLK",
            "GUY",
            "PER",
            "PRY",
            "SUR",
            "URY",
            "VEN"
           ],
           "name": "",
           "type": "choropleth",
           "z": [
            1.413,
            4.5889999999999995,
            4.942,
            12.017000000000001,
            4.3260000000000005,
            1.911,
            0,
            0.363,
            5.849,
            0.2,
            0.731,
            0.08199999999999999,
            0.121
           ]
          }
         ],
         "name": "2020-07-22"
        },
        {
         "data": [
          {
           "coloraxis": "coloraxis",
           "geo": "geo",
           "hovertemplate": "Date=2020-07-23<br>iso_code=%{location}<br>New C-19 deaths per 1M=%{z}<extra></extra>",
           "locations": [
            "ARG",
            "BOL",
            "BRA",
            "CHL",
            "COL",
            "ECU",
            "FLK",
            "GUY",
            "PER",
            "PRY",
            "SUR",
            "URY",
            "VEN"
           ],
           "name": "",
           "type": "choropleth",
           "z": [
            1.4409999999999998,
            4.724,
            4.977,
            11.479000000000001,
            4.377,
            2.105,
            0,
            0.182,
            5.849,
            0.22,
            0.731,
            0.12300000000000001,
            0.1
           ]
          }
         ],
         "name": "2020-07-23"
        },
        {
         "data": [
          {
           "coloraxis": "coloraxis",
           "geo": "geo",
           "hovertemplate": "Date=2020-07-24<br>iso_code=%{location}<br>New C-19 deaths per 1M=%{z}<extra></extra>",
           "locations": [
            "ARG",
            "BOL",
            "BRA",
            "CHL",
            "COL",
            "ECU",
            "FLK",
            "GUY",
            "PER",
            "PRY",
            "SUR",
            "URY",
            "VEN"
           ],
           "name": "",
           "type": "choropleth",
           "z": [
            1.5959999999999999,
            5.1770000000000005,
            4.968999999999999,
            11.568,
            4.658,
            1.879,
            0,
            0,
            21.831999999999997,
            0.18,
            1.218,
            0.12300000000000001,
            0.126
           ]
          }
         ],
         "name": "2020-07-24"
        },
        {
         "data": [
          {
           "coloraxis": "coloraxis",
           "geo": "geo",
           "hovertemplate": "Date=2020-07-25<br>iso_code=%{location}<br>New C-19 deaths per 1M=%{z}<extra></extra>",
           "locations": [
            "ARG",
            "BOL",
            "BRA",
            "CHL",
            "COL",
            "ECU",
            "FLK",
            "GUY",
            "PER",
            "PRY",
            "SUR",
            "URY",
            "VEN"
           ],
           "name": "",
           "type": "choropleth",
           "z": [
            1.8619999999999999,
            5.189,
            4.965,
            4.237,
            4.736000000000001,
            1.765,
            0,
            0.182,
            21.854,
            0.2,
            0.9740000000000001,
            0.08199999999999999,
            0.136
           ]
          }
         ],
         "name": "2020-07-25"
        },
        {
         "data": [
          {
           "coloraxis": "coloraxis",
           "geo": "geo",
           "hovertemplate": "Date=2020-07-26<br>iso_code=%{location}<br>New C-19 deaths per 1M=%{z}<extra></extra>",
           "locations": [
            "ARG",
            "BOL",
            "BRA",
            "CHL",
            "COL",
            "ECU",
            "FLK",
            "GUY",
            "PER",
            "PRY",
            "SUR",
            "URY",
            "VEN"
           ],
           "name": "",
           "type": "choropleth",
           "z": [
            2.032,
            5.25,
            5.16,
            4.297,
            4.922,
            1.8219999999999998,
            0,
            0.182,
            21.802,
            0.22,
            0.731,
            0.040999999999999995,
            0.121
           ]
          }
         ],
         "name": "2020-07-26"
        },
        {
         "data": [
          {
           "coloraxis": "coloraxis",
           "geo": "geo",
           "hovertemplate": "Date=2020-07-27<br>iso_code=%{location}<br>New C-19 deaths per 1M=%{z}<extra></extra>",
           "locations": [
            "ARG",
            "BOL",
            "BRA",
            "CHL",
            "COL",
            "ECU",
            "FLK",
            "GUY",
            "PER",
            "PRY",
            "SUR",
            "URY",
            "VEN"
           ],
           "name": "",
           "type": "choropleth",
           "z": [
            2.19,
            5.287000000000001,
            5.051,
            4.551,
            5.023,
            1.636,
            0,
            0.182,
            21.845,
            0.2,
            0.48700000000000004,
            0.040999999999999995,
            0.151
           ]
          }
         ],
         "name": "2020-07-27"
        },
        {
         "data": [
          {
           "coloraxis": "coloraxis",
           "geo": "geo",
           "hovertemplate": "Date=2020-07-28<br>iso_code=%{location}<br>New C-19 deaths per 1M=%{z}<extra></extra>",
           "locations": [
            "ARG",
            "BOL",
            "BRA",
            "CHL",
            "COL",
            "ECU",
            "FLK",
            "GUY",
            "PER",
            "PRY",
            "SUR",
            "URY",
            "VEN"
           ],
           "name": "",
           "type": "choropleth",
           "z": [
            1.8430000000000002,
            5.25,
            5.039,
            4.14,
            5.188,
            1.733,
            0,
            0.182,
            21.811,
            0.2,
            0.731,
            0.08199999999999999,
            0.151
           ]
          }
         ],
         "name": "2020-07-28"
        },
        {
         "data": [
          {
           "coloraxis": "coloraxis",
           "geo": "geo",
           "hovertemplate": "Date=2020-07-29<br>iso_code=%{location}<br>New C-19 deaths per 1M=%{z}<extra></extra>",
           "locations": [
            "ARG",
            "BOL",
            "BRA",
            "CHL",
            "COL",
            "ECU",
            "FLK",
            "GUY",
            "PER",
            "PRY",
            "SUR",
            "URY",
            "VEN"
           ],
           "name": "",
           "type": "choropleth",
           "z": [
            2.241,
            5.47,
            4.74,
            4.207,
            5.357,
            1.765,
            0,
            0.182,
            21.805999999999997,
            0.2,
            0.731,
            0.08199999999999999,
            0.156
           ]
          }
         ],
         "name": "2020-07-29"
        },
        {
         "data": [
          {
           "coloraxis": "coloraxis",
           "geo": "geo",
           "hovertemplate": "Date=2020-07-30<br>iso_code=%{location}<br>New C-19 deaths per 1M=%{z}<extra></extra>",
           "locations": [
            "ARG",
            "BOL",
            "BRA",
            "CHL",
            "COL",
            "ECU",
            "FLK",
            "GUY",
            "PER",
            "PRY",
            "SUR",
            "URY",
            "VEN"
           ],
           "name": "",
           "type": "choropleth",
           "z": [
            2.194,
            5.874,
            4.949,
            4.155,
            5.843,
            1.66,
            0,
            0.182,
            21.875999999999998,
            0.2,
            1.218,
            0.040999999999999995,
            0.156
           ]
          }
         ],
         "name": "2020-07-30"
        },
        {
         "data": [
          {
           "coloraxis": "coloraxis",
           "geo": "geo",
           "hovertemplate": "Date=2020-07-31<br>iso_code=%{location}<br>New C-19 deaths per 1M=%{z}<extra></extra>",
           "locations": [
            "ARG",
            "BOL",
            "BRA",
            "CHL",
            "COL",
            "ECU",
            "FLK",
            "GUY",
            "PER",
            "PRY",
            "SUR",
            "URY",
            "VEN"
           ],
           "name": "",
           "type": "choropleth",
           "z": [
            2.194,
            5.96,
            4.8260000000000005,
            4.0280000000000005,
            5.957999999999999,
            1.765,
            0,
            0.182,
            5.922999999999999,
            0.22,
            0.731,
            0.040999999999999995,
            0.146
           ]
          }
         ],
         "name": "2020-07-31"
        },
        {
         "data": [
          {
           "coloraxis": "coloraxis",
           "geo": "geo",
           "hovertemplate": "Date=2020-08-01<br>iso_code=%{location}<br>New C-19 deaths per 1M=%{z}<extra></extra>",
           "locations": [
            "ARG",
            "BOL",
            "BRA",
            "CHL",
            "COL",
            "ECU",
            "FLK",
            "GUY",
            "PER",
            "PRY",
            "SUR",
            "URY",
            "VEN"
           ],
           "name": "",
           "type": "choropleth",
           "z": [
            2.352,
            6.167999999999999,
            4.864,
            4.058,
            5.98,
            1.895,
            0,
            0,
            5.952999999999999,
            0.22,
            0.731,
            0.040999999999999995,
            0.151
           ]
          }
         ],
         "name": "2020-08-01"
        },
        {
         "data": [
          {
           "coloraxis": "coloraxis",
           "geo": "geo",
           "hovertemplate": "Date=2020-08-02<br>iso_code=%{location}<br>New C-19 deaths per 1M=%{z}<extra></extra>",
           "locations": [
            "ARG",
            "BOL",
            "BRA",
            "CHL",
            "COL",
            "ECU",
            "FLK",
            "GUY",
            "PER",
            "PRY",
            "SUR",
            "URY",
            "VEN"
           ],
           "name": "",
           "type": "choropleth",
           "z": [
            2.247,
            6.474,
            4.781000000000001,
            3.8339999999999996,
            5.7860000000000005,
            1.854,
            0,
            0,
            5.97,
            0.24,
            0.731,
            0.040999999999999995,
            0.17600000000000002
           ]
          }
         ],
         "name": "2020-08-02"
        },
        {
         "data": [
          {
           "coloraxis": "coloraxis",
           "geo": "geo",
           "hovertemplate": "Date=2020-08-03<br>iso_code=%{location}<br>New C-19 deaths per 1M=%{z}<extra></extra>",
           "locations": [
            "ARG",
            "BOL",
            "BRA",
            "CHL",
            "COL",
            "ECU",
            "FLK",
            "GUY",
            "PER",
            "PRY",
            "SUR",
            "URY",
            "VEN"
           ],
           "name": "",
           "type": "choropleth",
           "z": [
            2.127,
            6.976,
            4.772,
            3.707,
            5.966,
            1.903,
            0,
            0.182,
            6.001,
            0.22,
            0.9740000000000001,
            0.08199999999999999,
            0.161
           ]
          }
         ],
         "name": "2020-08-03"
        },
        {
         "data": [
          {
           "coloraxis": "coloraxis",
           "geo": "geo",
           "hovertemplate": "Date=2020-08-04<br>iso_code=%{location}<br>New C-19 deaths per 1M=%{z}<extra></extra>",
           "locations": [
            "ARG",
            "BOL",
            "BRA",
            "CHL",
            "COL",
            "ECU",
            "FLK",
            "GUY",
            "PER",
            "PRY",
            "SUR",
            "URY",
            "VEN"
           ],
           "name": "",
           "type": "choropleth",
           "z": [
            2.247,
            7.11,
            4.736000000000001,
            3.886,
            6.289,
            1.903,
            0,
            0.182,
            6.035,
            0.24,
            0.731,
            0.040999999999999995,
            0.141
           ]
          }
         ],
         "name": "2020-08-04"
        },
        {
         "data": [
          {
           "coloraxis": "coloraxis",
           "geo": "geo",
           "hovertemplate": "Date=2020-08-05<br>iso_code=%{location}<br>New C-19 deaths per 1M=%{z}<extra></extra>",
           "locations": [
            "ARG",
            "BOL",
            "BRA",
            "CHL",
            "COL",
            "ECU",
            "FLK",
            "GUY",
            "PER",
            "PRY",
            "SUR",
            "URY",
            "VEN"
           ],
           "name": "",
           "type": "choropleth",
           "z": [
            2.469,
            7.343,
            4.893,
            3.7739999999999996,
            6.292000000000001,
            1.814,
            0,
            0.363,
            6.044,
            0.28,
            0.731,
            0.08199999999999999,
            0.18100000000000002
           ]
          }
         ],
         "name": "2020-08-05"
        },
        {
         "data": [
          {
           "coloraxis": "coloraxis",
           "geo": "geo",
           "hovertemplate": "Date=2020-08-06<br>iso_code=%{location}<br>New C-19 deaths per 1M=%{z}<extra></extra>",
           "locations": [
            "ARG",
            "BOL",
            "BRA",
            "CHL",
            "COL",
            "ECU",
            "FLK",
            "GUY",
            "PER",
            "PRY",
            "SUR",
            "URY",
            "VEN"
           ],
           "name": "",
           "type": "choropleth",
           "z": [
            2.557,
            7.061,
            4.787,
            3.841,
            6.0920000000000005,
            1.814,
            0,
            0.363,
            6.117999999999999,
            0.3,
            0.244,
            0.08199999999999999,
            0.221
           ]
          }
         ],
         "name": "2020-08-06"
        },
        {
         "data": [
          {
           "coloraxis": "coloraxis",
           "geo": "geo",
           "hovertemplate": "Date=2020-08-07<br>iso_code=%{location}<br>New C-19 deaths per 1M=%{z}<extra></extra>",
           "locations": [
            "ARG",
            "BOL",
            "BRA",
            "CHL",
            "COL",
            "ECU",
            "FLK",
            "GUY",
            "PER",
            "PRY",
            "SUR",
            "URY",
            "VEN"
           ],
           "name": "",
           "type": "choropleth",
           "z": [
            2.605,
            6.9879999999999995,
            4.859,
            3.826,
            5.977,
            1.8619999999999999,
            0,
            0.363,
            6.079,
            0.381,
            0.731,
            0.08199999999999999,
            0.221
           ]
          }
         ],
         "name": "2020-08-07"
        },
        {
         "data": [
          {
           "coloraxis": "coloraxis",
           "geo": "geo",
           "hovertemplate": "Date=2020-08-08<br>iso_code=%{location}<br>New C-19 deaths per 1M=%{z}<extra></extra>",
           "locations": [
            "ARG",
            "BOL",
            "BRA",
            "CHL",
            "COL",
            "ECU",
            "FLK",
            "GUY",
            "PER",
            "PRY",
            "SUR",
            "URY",
            "VEN"
           ],
           "name": "",
           "type": "choropleth",
           "z": [
            2.608,
            6.694,
            4.77,
            3.7439999999999998,
            6.022,
            1.579,
            0,
            0.363,
            6.204,
            0.401,
            0.731,
            0.08199999999999999,
            0.221
           ]
          }
         ],
         "name": "2020-08-08"
        },
        {
         "data": [
          {
           "coloraxis": "coloraxis",
           "geo": "geo",
           "hovertemplate": "Date=2020-08-09<br>iso_code=%{location}<br>New C-19 deaths per 1M=%{z}<extra></extra>",
           "locations": [
            "ARG",
            "BOL",
            "BRA",
            "CHL",
            "COL",
            "ECU",
            "FLK",
            "GUY",
            "PER",
            "PRY",
            "SUR",
            "URY",
            "VEN"
           ],
           "name": "",
           "type": "choropleth",
           "z": [
            2.819,
            6.401,
            4.647,
            3.572,
            6.205,
            1.4569999999999999,
            0,
            0.363,
            6.222,
            0.401,
            0.731,
            0.08199999999999999,
            0.196
           ]
          }
         ],
         "name": "2020-08-09"
        },
        {
         "data": [
          {
           "coloraxis": "coloraxis",
           "geo": "geo",
           "hovertemplate": "Date=2020-08-10<br>iso_code=%{location}<br>New C-19 deaths per 1M=%{z}<extra></extra>",
           "locations": [
            "ARG",
            "BOL",
            "BRA",
            "CHL",
            "COL",
            "ECU",
            "FLK",
            "GUY",
            "PER",
            "PRY",
            "SUR",
            "URY",
            "VEN"
           ],
           "name": "",
           "type": "choropleth",
           "z": [
            2.984,
            5.96,
            4.668,
            3.505,
            6.154,
            1.393,
            0,
            0.182,
            6.317,
            0.461,
            0.48700000000000004,
            0.040999999999999995,
            0.24600000000000002
           ]
          }
         ],
         "name": "2020-08-10"
        },
        {
         "data": [
          {
           "coloraxis": "coloraxis",
           "geo": "geo",
           "hovertemplate": "Date=2020-08-11<br>iso_code=%{location}<br>New C-19 deaths per 1M=%{z}<extra></extra>",
           "locations": [
            "ARG",
            "BOL",
            "BRA",
            "CHL",
            "COL",
            "ECU",
            "FLK",
            "GUY",
            "PER",
            "PRY",
            "SUR",
            "URY",
            "VEN"
           ],
           "name": "",
           "type": "choropleth",
           "z": [
            3.057,
            5.922999999999999,
            4.763,
            3.228,
            6,
            1.3359999999999999,
            0,
            0.182,
            6.347,
            0.541,
            0.731,
            0.040999999999999995,
            0.24600000000000002
           ]
          }
         ],
         "name": "2020-08-11"
        },
        {
         "data": [
          {
           "coloraxis": "coloraxis",
           "geo": "geo",
           "hovertemplate": "Date=2020-08-12<br>iso_code=%{location}<br>New C-19 deaths per 1M=%{z}<extra></extra>",
           "locations": [
            "ARG",
            "BOL",
            "BRA",
            "CHL",
            "COL",
            "ECU",
            "FLK",
            "GUY",
            "PER",
            "PRY",
            "SUR",
            "URY",
            "VEN"
           ],
           "name": "",
           "type": "choropleth",
           "z": [
            2.9139999999999997,
            5.397,
            4.843999999999999,
            3.236,
            6.064,
            1.158,
            0,
            0,
            6.473,
            0.541,
            2.9219999999999997,
            0,
            0.256
           ]
          }
         ],
         "name": "2020-08-12"
        },
        {
         "data": [
          {
           "coloraxis": "coloraxis",
           "geo": "geo",
           "hovertemplate": "Date=2020-08-13<br>iso_code=%{location}<br>New C-19 deaths per 1M=%{z}<extra></extra>",
           "locations": [
            "ARG",
            "BOL",
            "BRA",
            "CHL",
            "COL",
            "ECU",
            "FLK",
            "GUY",
            "PER",
            "PRY",
            "SUR",
            "URY",
            "VEN"
           ],
           "name": "",
           "type": "choropleth",
           "z": [
            3.411,
            5.409,
            4.668,
            3.0860000000000003,
            6.212999999999999,
            1.109,
            0,
            0,
            6.434,
            0.6409999999999999,
            2.9219999999999997,
            0,
            0.261
           ]
          }
         ],
         "name": "2020-08-13"
        },
        {
         "data": [
          {
           "coloraxis": "coloraxis",
           "geo": "geo",
           "hovertemplate": "Date=2020-08-14<br>iso_code=%{location}<br>New C-19 deaths per 1M=%{z}<extra></extra>",
           "locations": [
            "ARG",
            "BOL",
            "BRA",
            "CHL",
            "COL",
            "ECU",
            "FLK",
            "GUY",
            "PER",
            "PRY",
            "SUR",
            "URY",
            "VEN"
           ],
           "name": "",
           "type": "choropleth",
           "z": [
            3.512,
            4.43,
            4.684,
            3.0639999999999996,
            6.193,
            0.996,
            0,
            0,
            22.634,
            0.621,
            2.679,
            0,
            0.28600000000000003
           ]
          }
         ],
         "name": "2020-08-14"
        },
        {
         "data": [
          {
           "coloraxis": "coloraxis",
           "geo": "geo",
           "hovertemplate": "Date=2020-08-15<br>iso_code=%{location}<br>New C-19 deaths per 1M=%{z}<extra></extra>",
           "locations": [
            "ARG",
            "BOL",
            "BRA",
            "CHL",
            "COL",
            "ECU",
            "FLK",
            "GUY",
            "PER",
            "PRY",
            "SUR",
            "URY",
            "VEN"
           ],
           "name": "",
           "type": "choropleth",
           "z": [
            3.594,
            4.406000000000001,
            4.672,
            2.855,
            6.295,
            1.077,
            0,
            0,
            22.56,
            0.7809999999999999,
            2.9219999999999997,
            0.040999999999999995,
            0.29100000000000004
           ]
          }
         ],
         "name": "2020-08-15"
        },
        {
         "data": [
          {
           "coloraxis": "coloraxis",
           "geo": "geo",
           "hovertemplate": "Date=2020-08-16<br>iso_code=%{location}<br>New C-19 deaths per 1M=%{z}<extra></extra>",
           "locations": [
            "ARG",
            "BOL",
            "BRA",
            "CHL",
            "COL",
            "ECU",
            "FLK",
            "GUY",
            "PER",
            "PRY",
            "SUR",
            "URY",
            "VEN"
           ],
           "name": "",
           "type": "choropleth",
           "z": [
            3.5239999999999996,
            5.091,
            4.54,
            2.87,
            6.372999999999999,
            1.206,
            0,
            0,
            22.664,
            1.102,
            3.1660000000000004,
            0.040999999999999995,
            0.342
           ]
          }
         ],
         "name": "2020-08-16"
        },
        {
         "data": [
          {
           "coloraxis": "coloraxis",
           "geo": "geo",
           "hovertemplate": "Date=2020-08-17<br>iso_code=%{location}<br>New C-19 deaths per 1M=%{z}<extra></extra>",
           "locations": [
            "ARG",
            "BOL",
            "BRA",
            "CHL",
            "COL",
            "ECU",
            "FLK",
            "GUY",
            "PER",
            "PRY",
            "SUR",
            "URY",
            "VEN"
           ],
           "name": "",
           "type": "choropleth",
           "z": [
            3.48,
            4.993,
            4.572,
            2.802,
            6.331,
            1.198,
            0,
            0.182,
            22.569000000000003,
            1.262,
            4.383,
            0.040999999999999995,
            0.29100000000000004
           ]
          }
         ],
         "name": "2020-08-17"
        },
        {
         "data": [
          {
           "coloraxis": "coloraxis",
           "geo": "geo",
           "hovertemplate": "Date=2020-08-18<br>iso_code=%{location}<br>New C-19 deaths per 1M=%{z}<extra></extra>",
           "locations": [
            "ARG",
            "BOL",
            "BRA",
            "CHL",
            "COL",
            "ECU",
            "FLK",
            "GUY",
            "PER",
            "PRY",
            "SUR",
            "URY",
            "VEN"
           ],
           "name": "",
           "type": "choropleth",
           "z": [
            3.528,
            5.03,
            4.559,
            2.795,
            6.227,
            1.2229999999999999,
            0,
            0.182,
            22.552,
            1.262,
            4.383,
            0.12300000000000001,
            0.327
           ]
          }
         ],
         "name": "2020-08-18"
        },
        {
         "data": [
          {
           "coloraxis": "coloraxis",
           "geo": "geo",
           "hovertemplate": "Date=2020-08-19<br>iso_code=%{location}<br>New C-19 deaths per 1M=%{z}<extra></extra>",
           "locations": [
            "ARG",
            "BOL",
            "BRA",
            "CHL",
            "COL",
            "ECU",
            "FLK",
            "GUY",
            "PER",
            "PRY",
            "SUR",
            "URY",
            "VEN"
           ],
           "name": "",
           "type": "choropleth",
           "z": [
            3.452,
            5.03,
            4.612,
            2.75,
            6.019,
            1.247,
            0,
            0.545,
            22.344,
            1.5019999999999998,
            3.653,
            0.12300000000000001,
            0.29600000000000004
           ]
          }
         ],
         "name": "2020-08-19"
        },
        {
         "data": [
          {
           "coloraxis": "coloraxis",
           "geo": "geo",
           "hovertemplate": "Date=2020-08-20<br>iso_code=%{location}<br>New C-19 deaths per 1M=%{z}<extra></extra>",
           "locations": [
            "ARG",
            "BOL",
            "BRA",
            "CHL",
            "COL",
            "ECU",
            "FLK",
            "GUY",
            "PER",
            "PRY",
            "SUR",
            "URY",
            "VEN"
           ],
           "name": "",
           "type": "choropleth",
           "z": [
            3.2430000000000003,
            4.968999999999999,
            4.637,
            2.787,
            6.013999999999999,
            1.3119999999999998,
            0,
            0.9079999999999999,
            22.188000000000002,
            1.442,
            3.653,
            0.12300000000000001,
            0.281
           ]
          }
         ],
         "name": "2020-08-20"
        },
        {
         "data": [
          {
           "coloraxis": "coloraxis",
           "geo": "geo",
           "hovertemplate": "Date=2020-08-21<br>iso_code=%{location}<br>New C-19 deaths per 1M=%{z}<extra></extra>",
           "locations": [
            "ARG",
            "BOL",
            "BRA",
            "CHL",
            "COL",
            "ECU",
            "FLK",
            "GUY",
            "PER",
            "PRY",
            "SUR",
            "URY",
            "VEN"
           ],
           "name": "",
           "type": "choropleth",
           "z": [
            3.667,
            5.85,
            4.598,
            2.78,
            5.722,
            1.538,
            0,
            1.271,
            6.005,
            1.462,
            3.653,
            0.165,
            0.261
           ]
          }
         ],
         "name": "2020-08-21"
        },
        {
         "data": [
          {
           "coloraxis": "coloraxis",
           "geo": "geo",
           "hovertemplate": "Date=2020-08-22<br>iso_code=%{location}<br>New C-19 deaths per 1M=%{z}<extra></extra>",
           "locations": [
            "ARG",
            "BOL",
            "BRA",
            "CHL",
            "COL",
            "ECU",
            "FLK",
            "GUY",
            "PER",
            "PRY",
            "SUR",
            "URY",
            "VEN"
           ],
           "name": "",
           "type": "choropleth",
           "z": [
            3.6,
            5.899,
            4.593999999999999,
            2.862,
            5.829,
            1.765,
            0,
            1.453,
            6.018,
            1.482,
            3.653,
            0.165,
            0.256
           ]
          }
         ],
         "name": "2020-08-22"
        },
        {
         "data": [
          {
           "coloraxis": "coloraxis",
           "geo": "geo",
           "hovertemplate": "Date=2020-08-23<br>iso_code=%{location}<br>New C-19 deaths per 1M=%{z}<extra></extra>",
           "locations": [
            "ARG",
            "BOL",
            "BRA",
            "CHL",
            "COL",
            "ECU",
            "FLK",
            "GUY",
            "PER",
            "PRY",
            "SUR",
            "URY",
            "VEN"
           ],
           "name": "",
           "type": "choropleth",
           "z": [
            3.888,
            5.372999999999999,
            4.717,
            2.967,
            6.059,
            1.7169999999999999,
            0,
            1.635,
            5.97,
            1.3019999999999998,
            3.653,
            0.165,
            0.23600000000000002
           ]
          }
         ],
         "name": "2020-08-23"
        },
        {
         "data": [
          {
           "coloraxis": "coloraxis",
           "geo": "geo",
           "hovertemplate": "Date=2020-08-24<br>iso_code=%{location}<br>New C-19 deaths per 1M=%{z}<extra></extra>",
           "locations": [
            "ARG",
            "BOL",
            "BRA",
            "CHL",
            "COL",
            "ECU",
            "FLK",
            "GUY",
            "PER",
            "PRY",
            "SUR",
            "URY",
            "VEN"
           ],
           "name": "",
           "type": "choropleth",
           "z": [
            3.765,
            5.642,
            4.632,
            2.989,
            6.23,
            1.943,
            0,
            1.453,
            5.9879999999999995,
            1.3419999999999999,
            2.679,
            0.165,
            0.24100000000000002
           ]
          }
         ],
         "name": "2020-08-24"
        },
        {
         "data": [
          {
           "coloraxis": "coloraxis",
           "geo": "geo",
           "hovertemplate": "Date=2020-08-25<br>iso_code=%{location}<br>New C-19 deaths per 1M=%{z}<extra></extra>",
           "locations": [
            "ARG",
            "BOL",
            "BRA",
            "CHL",
            "COL",
            "ECU",
            "FLK",
            "GUY",
            "PER",
            "PRY",
            "SUR",
            "URY",
            "VEN"
           ],
           "name": "",
           "type": "choropleth",
           "z": [
            4.2010000000000005,
            5.568,
            4.552,
            3.012,
            6.289,
            1.935,
            0,
            1.453,
            5.771,
            1.482,
            2.9219999999999997,
            0.08199999999999999,
            0.24600000000000002
           ]
          }
         ],
         "name": "2020-08-25"
        },
        {
         "data": [
          {
           "coloraxis": "coloraxis",
           "geo": "geo",
           "hovertemplate": "Date=2020-08-26<br>iso_code=%{location}<br>New C-19 deaths per 1M=%{z}<extra></extra>",
           "locations": [
            "ARG",
            "BOL",
            "BRA",
            "CHL",
            "COL",
            "ECU",
            "FLK",
            "GUY",
            "PER",
            "PRY",
            "SUR",
            "URY",
            "VEN"
           ],
           "name": "",
           "type": "choropleth",
           "z": [
            4.82,
            6.021,
            4.498,
            3.0789999999999997,
            6.372999999999999,
            2.13,
            0,
            1.09,
            5.819,
            1.402,
            1.705,
            0.12300000000000001,
            0.231
           ]
          }
         ],
         "name": "2020-08-26"
        },
        {
         "data": [
          {
           "coloraxis": "coloraxis",
           "geo": "geo",
           "hovertemplate": "Date=2020-08-27<br>iso_code=%{location}<br>New C-19 deaths per 1M=%{z}<extra></extra>",
           "locations": [
            "ARG",
            "BOL",
            "BRA",
            "CHL",
            "COL",
            "ECU",
            "FLK",
            "GUY",
            "PER",
            "PRY",
            "SUR",
            "URY",
            "VEN"
           ],
           "name": "",
           "type": "choropleth",
           "z": [
            4.89,
            6.0329999999999995,
            4.412,
            3.0789999999999997,
            6.191,
            2.138,
            0,
            0.726,
            5.5889999999999995,
            1.642,
            1.9480000000000002,
            0.12300000000000001,
            0.201
           ]
          }
         ],
         "name": "2020-08-27"
        },
        {
         "data": [
          {
           "coloraxis": "coloraxis",
           "geo": "geo",
           "hovertemplate": "Date=2020-08-28<br>iso_code=%{location}<br>New C-19 deaths per 1M=%{z}<extra></extra>",
           "locations": [
            "ARG",
            "BOL",
            "BRA",
            "CHL",
            "COL",
            "ECU",
            "FLK",
            "GUY",
            "PER",
            "PRY",
            "SUR",
            "URY",
            "VEN"
           ],
           "name": "",
           "type": "choropleth",
           "z": [
            4.861000000000001,
            5.9479999999999995,
            4.263999999999999,
            2.997,
            6.415,
            2.194,
            0,
            0.545,
            5.386,
            1.903,
            2.679,
            0.08199999999999999,
            0.23600000000000002
           ]
          }
         ],
         "name": "2020-08-28"
        },
        {
         "data": [
          {
           "coloraxis": "coloraxis",
           "geo": "geo",
           "hovertemplate": "Date=2020-08-29<br>iso_code=%{location}<br>New C-19 deaths per 1M=%{z}<extra></extra>",
           "locations": [
            "ARG",
            "BOL",
            "BRA",
            "CHL",
            "COL",
            "ECU",
            "FLK",
            "GUY",
            "PER",
            "PRY",
            "SUR",
            "URY",
            "VEN"
           ],
           "name": "",
           "type": "choropleth",
           "z": [
            4.937,
            5.874,
            4.131,
            3.056,
            6.1739999999999995,
            2.073,
            0,
            0.9079999999999999,
            5.312,
            1.963,
            2.435,
            0.040999999999999995,
            0.20600000000000002
           ]
          }
         ],
         "name": "2020-08-29"
        },
        {
         "data": [
          {
           "coloraxis": "coloraxis",
           "geo": "geo",
           "hovertemplate": "Date=2020-08-30<br>iso_code=%{location}<br>New C-19 deaths per 1M=%{z}<extra></extra>",
           "locations": [
            "ARG",
            "BOL",
            "BRA",
            "CHL",
            "COL",
            "ECU",
            "FLK",
            "GUY",
            "PER",
            "PRY",
            "SUR",
            "URY",
            "VEN"
           ],
           "name": "",
           "type": "choropleth",
           "z": [
            4.773,
            6.07,
            4.175,
            2.907,
            5.885,
            2.105,
            0,
            0.726,
            5,
            2.043,
            2.435,
            0.08199999999999999,
            0.261
           ]
          }
         ],
         "name": "2020-08-30"
        },
        {
         "data": [
          {
           "coloraxis": "coloraxis",
           "geo": "geo",
           "hovertemplate": "Date=2020-08-31<br>iso_code=%{location}<br>New C-19 deaths per 1M=%{z}<extra></extra>",
           "locations": [
            "ARG",
            "BOL",
            "BRA",
            "CHL",
            "COL",
            "ECU",
            "FLK",
            "GUY",
            "PER",
            "PRY",
            "SUR",
            "URY",
            "VEN"
           ],
           "name": "",
           "type": "choropleth",
           "z": [
            4.909,
            5.593,
            4.0889999999999995,
            2.929,
            5.75,
            1.984,
            0,
            1.09,
            4.874,
            2.063,
            2.1919999999999997,
            0.08199999999999999,
            0.261
           ]
          }
         ],
         "name": "2020-08-31"
        },
        {
         "data": [
          {
           "coloraxis": "coloraxis",
           "geo": "geo",
           "hovertemplate": "Date=2020-09-01<br>iso_code=%{location}<br>New C-19 deaths per 1M=%{z}<extra></extra>",
           "locations": [
            "ARG",
            "BOL",
            "BRA",
            "CHL",
            "COL",
            "ECU",
            "FLK",
            "GUY",
            "PER",
            "PRY",
            "SUR",
            "URY",
            "VEN"
           ],
           "name": "",
           "type": "choropleth",
           "z": [
            4.485,
            5.495,
            4.081,
            2.787,
            5.757999999999999,
            1.895,
            0,
            1.453,
            4.9,
            2.1430000000000002,
            2.679,
            0.08199999999999999,
            0.221
           ]
          }
         ],
         "name": "2020-09-01"
        },
        {
         "data": [
          {
           "coloraxis": "coloraxis",
           "geo": "geo",
           "hovertemplate": "Date=2020-09-02<br>iso_code=%{location}<br>New C-19 deaths per 1M=%{z}<extra></extra>",
           "locations": [
            "ARG",
            "BOL",
            "BRA",
            "CHL",
            "COL",
            "ECU",
            "FLK",
            "GUY",
            "PER",
            "PRY",
            "SUR",
            "URY",
            "VEN"
           ],
           "name": "",
           "type": "choropleth",
           "z": [
            4.198,
            5.348,
            4.043,
            2.713,
            6.0729999999999995,
            1.6440000000000001,
            0,
            1.8159999999999998,
            4.623,
            2.343,
            2.679,
            0.040999999999999995,
            0.24100000000000002
           ]
          }
         ],
         "name": "2020-09-02"
        },
        {
         "data": [
          {
           "coloraxis": "coloraxis",
           "geo": "geo",
           "hovertemplate": "Date=2020-09-03<br>iso_code=%{location}<br>New C-19 deaths per 1M=%{z}<extra></extra>",
           "locations": [
            "ARG",
            "BOL",
            "BRA",
            "CHL",
            "COL",
            "ECU",
            "FLK",
            "GUY",
            "PER",
            "PRY",
            "SUR",
            "URY",
            "VEN"
           ],
           "name": "",
           "type": "choropleth",
           "z": [
            4.141,
            5.837999999999999,
            4.11,
            2.645,
            6.0760000000000005,
            1.692,
            0,
            1.8159999999999998,
            4.918,
            2.2230000000000003,
            2.435,
            0.040999999999999995,
            0.276
           ]
          }
         ],
         "name": "2020-09-03"
        },
        {
         "data": [
          {
           "coloraxis": "coloraxis",
           "geo": "geo",
           "hovertemplate": "Date=2020-09-04<br>iso_code=%{location}<br>New C-19 deaths per 1M=%{z}<extra></extra>",
           "locations": [
            "ARG",
            "BOL",
            "BRA",
            "CHL",
            "COL",
            "ECU",
            "FLK",
            "GUY",
            "PER",
            "PRY",
            "SUR",
            "URY",
            "VEN"
           ],
           "name": "",
           "type": "choropleth",
           "z": [
            3.8280000000000003,
            5.042,
            4.0089999999999995,
            2.616,
            6.0360000000000005,
            1.433,
            0,
            2.1790000000000003,
            4.887,
            2.1630000000000003,
            1.705,
            0.040999999999999995,
            0.221
           ]
          }
         ],
         "name": "2020-09-04"
        },
        {
         "data": [
          {
           "coloraxis": "coloraxis",
           "geo": "geo",
           "hovertemplate": "Date=2020-09-05<br>iso_code=%{location}<br>New C-19 deaths per 1M=%{z}<extra></extra>",
           "locations": [
            "ARG",
            "BOL",
            "BRA",
            "CHL",
            "COL",
            "ECU",
            "FLK",
            "GUY",
            "PER",
            "PRY",
            "SUR",
            "URY",
            "VEN"
           ],
           "name": "",
           "type": "choropleth",
           "z": [
            4.232,
            6.082000000000001,
            4.044,
            2.705,
            5.955,
            1.3769999999999998,
            0,
            1.635,
            4.692,
            2.363,
            2.1919999999999997,
            0.08199999999999999,
            0.271
           ]
          }
         ],
         "name": "2020-09-05"
        },
        {
         "data": [
          {
           "coloraxis": "coloraxis",
           "geo": "geo",
           "hovertemplate": "Date=2020-09-06<br>iso_code=%{location}<br>New C-19 deaths per 1M=%{z}<extra></extra>",
           "locations": [
            "ARG",
            "BOL",
            "BRA",
            "CHL",
            "COL",
            "ECU",
            "FLK",
            "GUY",
            "PER",
            "PRY",
            "SUR",
            "URY",
            "VEN"
           ],
           "name": "",
           "type": "choropleth",
           "z": [
            4.362,
            5.63,
            3.858,
            2.765,
            5.872999999999999,
            1.514,
            0,
            1.9980000000000002,
            4.678999999999999,
            2.363,
            2.435,
            0.040999999999999995,
            0.226
           ]
          }
         ],
         "name": "2020-09-06"
        },
        {
         "data": [
          {
           "coloraxis": "coloraxis",
           "geo": "geo",
           "hovertemplate": "Date=2020-09-07<br>iso_code=%{location}<br>New C-19 deaths per 1M=%{z}<extra></extra>",
           "locations": [
            "ARG",
            "BOL",
            "BRA",
            "CHL",
            "COL",
            "ECU",
            "FLK",
            "GUY",
            "PER",
            "PRY",
            "SUR",
            "URY",
            "VEN"
           ],
           "name": "",
           "type": "choropleth",
           "z": [
            4.444,
            24.99,
            3.9130000000000003,
            2.6010000000000004,
            5.75,
            32.137,
            0,
            1.635,
            4.5489999999999995,
            2.544,
            4.383,
            0.040999999999999995,
            0.23600000000000002
           ]
          }
         ],
         "name": "2020-09-07"
        },
        {
         "data": [
          {
           "coloraxis": "coloraxis",
           "geo": "geo",
           "hovertemplate": "Date=2020-09-08<br>iso_code=%{location}<br>New C-19 deaths per 1M=%{z}<extra></extra>",
           "locations": [
            "ARG",
            "BOL",
            "BRA",
            "CHL",
            "COL",
            "ECU",
            "FLK",
            "GUY",
            "PER",
            "PRY",
            "SUR",
            "URY",
            "VEN"
           ],
           "name": "",
           "type": "choropleth",
           "z": [
            4.468999999999999,
            24.807,
            3.75,
            2.713,
            5.48,
            32.55,
            0,
            1.453,
            4.471,
            2.464,
            4.87,
            0.040999999999999995,
            0.276
           ]
          }
         ],
         "name": "2020-09-08"
        },
        {
         "data": [
          {
           "coloraxis": "coloraxis",
           "geo": "geo",
           "hovertemplate": "Date=2020-09-09<br>iso_code=%{location}<br>New C-19 deaths per 1M=%{z}<extra></extra>",
           "locations": [
            "ARG",
            "BOL",
            "BRA",
            "CHL",
            "COL",
            "ECU",
            "FLK",
            "GUY",
            "PER",
            "PRY",
            "SUR",
            "URY",
            "VEN"
           ],
           "name": "",
           "type": "choropleth",
           "z": [
            4.58,
            24.427,
            3.272,
            2.698,
            4.955,
            32.842,
            0,
            1.271,
            4.571000000000001,
            2.303,
            4.627,
            0.040999999999999995,
            0.266
           ]
          }
         ],
         "name": "2020-09-09"
        },
        {
         "data": [
          {
           "coloraxis": "coloraxis",
           "geo": "geo",
           "hovertemplate": "Date=2020-09-10<br>iso_code=%{location}<br>New C-19 deaths per 1M=%{z}<extra></extra>",
           "locations": [
            "ARG",
            "BOL",
            "BRA",
            "CHL",
            "COL",
            "ECU",
            "FLK",
            "GUY",
            "PER",
            "PRY",
            "SUR",
            "URY",
            "VEN"
           ],
           "name": "",
           "type": "choropleth",
           "z": [
            4.697,
            23.779,
            3.198,
            2.675,
            4.787,
            33.052,
            0,
            1.271,
            4.2330000000000005,
            2.323,
            4.87,
            0.040999999999999995,
            0.271
           ]
          }
         ],
         "name": "2020-09-10"
        },
        {
         "data": [
          {
           "coloraxis": "coloraxis",
           "geo": "geo",
           "hovertemplate": "Date=2020-09-11<br>iso_code=%{location}<br>New C-19 deaths per 1M=%{z}<extra></extra>",
           "locations": [
            "ARG",
            "BOL",
            "BRA",
            "CHL",
            "COL",
            "ECU",
            "FLK",
            "GUY",
            "PER",
            "PRY",
            "SUR",
            "URY",
            "VEN"
           ],
           "name": "",
           "type": "choropleth",
           "z": [
            4.925,
            24.354,
            3.299,
            2.6830000000000003,
            4.652,
            33.205999999999996,
            0,
            0.9079999999999999,
            4.0680000000000005,
            2.2430000000000003,
            4.87,
            0.040999999999999995,
            0.29100000000000004
           ]
          }
         ],
         "name": "2020-09-11"
        },
        {
         "data": [
          {
           "coloraxis": "coloraxis",
           "geo": "geo",
           "hovertemplate": "Date=2020-09-12<br>iso_code=%{location}<br>New C-19 deaths per 1M=%{z}<extra></extra>",
           "locations": [
            "ARG",
            "BOL",
            "BRA",
            "CHL",
            "COL",
            "ECU",
            "FLK",
            "GUY",
            "PER",
            "PRY",
            "SUR",
            "URY",
            "VEN"
           ],
           "name": "",
           "type": "choropleth",
           "z": [
            4.823,
            23.338,
            3.2760000000000002,
            2.66,
            4.5760000000000005,
            33.7,
            0,
            1.453,
            3.969,
            1.963,
            4.383,
            0,
            0.281
           ]
          }
         ],
         "name": "2020-09-12"
        },
        {
         "data": [
          {
           "coloraxis": "coloraxis",
           "geo": "geo",
           "hovertemplate": "Date=2020-09-13<br>iso_code=%{location}<br>New C-19 deaths per 1M=%{z}<extra></extra>",
           "locations": [
            "ARG",
            "BOL",
            "BRA",
            "CHL",
            "COL",
            "ECU",
            "FLK",
            "GUY",
            "PER",
            "PRY",
            "SUR",
            "URY",
            "VEN"
           ],
           "name": "",
           "type": "choropleth",
           "z": [
            4.808,
            23.24,
            3.365,
            2.571,
            4.43,
            33.522,
            0,
            1.453,
            3.925,
            2.043,
            3.8960000000000004,
            0,
            0.28600000000000003
           ]
          }
         ],
         "name": "2020-09-13"
        },
        {
         "data": [
          {
           "coloraxis": "coloraxis",
           "geo": "geo",
           "hovertemplate": "Date=2020-09-14<br>iso_code=%{location}<br>New C-19 deaths per 1M=%{z}<extra></extra>",
           "locations": [
            "ARG",
            "BOL",
            "BRA",
            "CHL",
            "COL",
            "ECU",
            "FLK",
            "GUY",
            "PER",
            "PRY",
            "SUR",
            "URY",
            "VEN"
           ],
           "name": "",
           "type": "choropleth",
           "z": [
            4.7410000000000005,
            4.112,
            3.344,
            2.668,
            4.245,
            3.069,
            0,
            1.8159999999999998,
            3.778,
            1.8030000000000002,
            1.9480000000000002,
            0,
            0.28600000000000003
           ]
          }
         ],
         "name": "2020-09-14"
        },
        {
         "data": [
          {
           "coloraxis": "coloraxis",
           "geo": "geo",
           "hovertemplate": "Date=2020-09-15<br>iso_code=%{location}<br>New C-19 deaths per 1M=%{z}<extra></extra>",
           "locations": [
            "ARG",
            "BOL",
            "BRA",
            "CHL",
            "COL",
            "ECU",
            "FLK",
            "GUY",
            "PER",
            "PRY",
            "SUR",
            "URY",
            "VEN"
           ],
           "name": "",
           "type": "choropleth",
           "z": [
            4.7410000000000005,
            4.1610000000000005,
            3.391,
            2.698,
            4.234,
            2.802,
            0,
            1.635,
            3.622,
            1.8030000000000002,
            0.9740000000000001,
            0,
            0.29100000000000004
           ]
          }
         ],
         "name": "2020-09-15"
        },
        {
         "data": [
          {
           "coloraxis": "coloraxis",
           "geo": "geo",
           "hovertemplate": "Date=2020-09-16<br>iso_code=%{location}<br>New C-19 deaths per 1M=%{z}<extra></extra>",
           "locations": [
            "ARG",
            "BOL",
            "BRA",
            "CHL",
            "COL",
            "ECU",
            "FLK",
            "GUY",
            "PER",
            "PRY",
            "SUR",
            "URY",
            "VEN"
           ],
           "name": "",
           "type": "choropleth",
           "z": [
            4.8389999999999995,
            4.283,
            3.801,
            2.675,
            4.13,
            2.721,
            0,
            1.8159999999999998,
            3.483,
            1.7830000000000001,
            0.9740000000000001,
            0,
            0.29100000000000004
           ]
          }
         ],
         "name": "2020-09-16"
        },
        {
         "data": [
          {
           "coloraxis": "coloraxis",
           "geo": "geo",
           "hovertemplate": "Date=2020-09-17<br>iso_code=%{location}<br>New C-19 deaths per 1M=%{z}<extra></extra>",
           "locations": [
            "ARG",
            "BOL",
            "BRA",
            "CHL",
            "COL",
            "ECU",
            "FLK",
            "GUY",
            "PER",
            "PRY",
            "SUR",
            "URY",
            "VEN"
           ],
           "name": "",
           "type": "choropleth",
           "z": [
            4.593,
            4.063,
            3.741,
            2.66,
            4.001,
            2.3890000000000002,
            0,
            1.8159999999999998,
            3.531,
            1.8430000000000002,
            0.731,
            0,
            0.29600000000000004
           ]
          }
         ],
         "name": "2020-09-17"
        },
        {
         "data": [
          {
           "coloraxis": "coloraxis",
           "geo": "geo",
           "hovertemplate": "Date=2020-09-18<br>iso_code=%{location}<br>New C-19 deaths per 1M=%{z}<extra></extra>",
           "locations": [
            "ARG",
            "BOL",
            "BRA",
            "CHL",
            "COL",
            "ECU",
            "FLK",
            "GUY",
            "PER",
            "PRY",
            "SUR",
            "URY",
            "VEN"
           ],
           "name": "",
           "type": "choropleth",
           "z": [
            4.792,
            3.892,
            3.638,
            2.698,
            3.903,
            2.267,
            0,
            1.9980000000000002,
            3.475,
            1.983,
            0.48700000000000004,
            0.040999999999999995,
            0.306
           ]
          }
         ],
         "name": "2020-09-18"
        },
        {
         "data": [
          {
           "coloraxis": "coloraxis",
           "geo": "geo",
           "hovertemplate": "Date=2020-09-19<br>iso_code=%{location}<br>New C-19 deaths per 1M=%{z}<extra></extra>",
           "locations": [
            "ARG",
            "BOL",
            "BRA",
            "CHL",
            "COL",
            "ECU",
            "FLK",
            "GUY",
            "PER",
            "PRY",
            "SUR",
            "URY",
            "VEN"
           ],
           "name": "",
           "type": "choropleth",
           "z": [
            4.732,
            3.6710000000000003,
            3.627,
            2.608,
            3.74,
            1.6840000000000002,
            0,
            1.8159999999999998,
            3.522,
            2.303,
            0.731,
            0.040999999999999995,
            0.311
           ]
          }
         ],
         "name": "2020-09-19"
        },
        {
         "data": [
          {
           "coloraxis": "coloraxis",
           "geo": "geo",
           "hovertemplate": "Date=2020-09-20<br>iso_code=%{location}<br>New C-19 deaths per 1M=%{z}<extra></extra>",
           "locations": [
            "ARG",
            "BOL",
            "BRA",
            "CHL",
            "COL",
            "ECU",
            "FLK",
            "GUY",
            "PER",
            "PRY",
            "SUR",
            "URY",
            "VEN"
           ],
           "name": "",
           "type": "choropleth",
           "z": [
            4.738,
            3.537,
            3.577,
            2.6830000000000003,
            3.6639999999999997,
            1.781,
            0,
            1.8159999999999998,
            3.362,
            2.444,
            0.9740000000000001,
            0.040999999999999995,
            0.311
           ]
          }
         ],
         "name": "2020-09-20"
        },
        {
         "data": [
          {
           "coloraxis": "coloraxis",
           "geo": "geo",
           "hovertemplate": "Date=2020-09-21<br>iso_code=%{location}<br>New C-19 deaths per 1M=%{z}<extra></extra>",
           "locations": [
            "ARG",
            "BOL",
            "BRA",
            "CHL",
            "COL",
            "ECU",
            "FLK",
            "GUY",
            "PER",
            "PRY",
            "SUR",
            "URY",
            "VEN"
           ],
           "name": "",
           "type": "choropleth",
           "z": [
            5.064,
            3.341,
            3.542,
            2.5180000000000002,
            3.605,
            1.514,
            0,
            1.453,
            2.855,
            2.6839999999999997,
            0.9740000000000001,
            0.040999999999999995,
            0.311
           ]
          }
         ],
         "name": "2020-09-21"
        },
        {
         "data": [
          {
           "coloraxis": "coloraxis",
           "geo": "geo",
           "hovertemplate": "Date=2020-09-22<br>iso_code=%{location}<br>New C-19 deaths per 1M=%{z}<extra></extra>",
           "locations": [
            "ARG",
            "BOL",
            "BRA",
            "CHL",
            "COL",
            "ECU",
            "FLK",
            "GUY",
            "PER",
            "PRY",
            "SUR",
            "URY",
            "VEN"
           ],
           "name": "",
           "type": "choropleth",
           "z": [
            6.542999999999999,
            3.182,
            3.5389999999999997,
            2.13,
            3.577,
            1.401,
            0,
            1.635,
            2.8680000000000003,
            2.7439999999999998,
            0.48700000000000004,
            0.040999999999999995,
            0.306
           ]
          }
         ],
         "name": "2020-09-22"
        },
        {
         "data": [
          {
           "coloraxis": "coloraxis",
           "geo": "geo",
           "hovertemplate": "Date=2020-09-23<br>iso_code=%{location}<br>New C-19 deaths per 1M=%{z}<extra></extra>",
           "locations": [
            "ARG",
            "BOL",
            "BRA",
            "CHL",
            "COL",
            "ECU",
            "FLK",
            "GUY",
            "PER",
            "PRY",
            "SUR",
            "URY",
            "VEN"
           ],
           "name": "",
           "type": "choropleth",
           "z": [
            7.087000000000001,
            3.011,
            3.353,
            2.1,
            3.5989999999999998,
            1.32,
            0,
            1.635,
            2.855,
            3.0639999999999996,
            1.218,
            0.040999999999999995,
            0.311
           ]
          }
         ],
         "name": "2020-09-23"
        },
        {
         "data": [
          {
           "coloraxis": "coloraxis",
           "geo": "geo",
           "hovertemplate": "Date=2020-09-24<br>iso_code=%{location}<br>New C-19 deaths per 1M=%{z}<extra></extra>",
           "locations": [
            "ARG",
            "BOL",
            "BRA",
            "CHL",
            "COL",
            "ECU",
            "FLK",
            "GUY",
            "PER",
            "PRY",
            "SUR",
            "URY",
            "VEN"
           ],
           "name": "",
           "type": "choropleth",
           "z": [
            7.795,
            3.096,
            3.2739999999999996,
            2.145,
            3.56,
            1.4169999999999998,
            0,
            1.9980000000000002,
            3.548,
            3.225,
            1.4609999999999999,
            0.08199999999999999,
            0.317
           ]
          }
         ],
         "name": "2020-09-24"
        },
        {
         "data": [
          {
           "coloraxis": "coloraxis",
           "geo": "geo",
           "hovertemplate": "Date=2020-09-25<br>iso_code=%{location}<br>New C-19 deaths per 1M=%{z}<extra></extra>",
           "locations": [
            "ARG",
            "BOL",
            "BRA",
            "CHL",
            "COL",
            "ECU",
            "FLK",
            "GUY",
            "PER",
            "PRY",
            "SUR",
            "URY",
            "VEN"
           ],
           "name": "",
           "type": "choropleth",
           "z": [
            8.019,
            3.109,
            3.275,
            2.444,
            3.535,
            1.49,
            0,
            1.9980000000000002,
            3.431,
            3.185,
            1.705,
            0.040999999999999995,
            0.301
           ]
          }
         ],
         "name": "2020-09-25"
        },
        {
         "data": [
          {
           "coloraxis": "coloraxis",
           "geo": "geo",
           "hovertemplate": "Date=2020-09-26<br>iso_code=%{location}<br>New C-19 deaths per 1M=%{z}<extra></extra>",
           "locations": [
            "ARG",
            "BOL",
            "BRA",
            "CHL",
            "COL",
            "ECU",
            "FLK",
            "GUY",
            "PER",
            "PRY",
            "SUR",
            "URY",
            "VEN"
           ],
           "name": "",
           "type": "choropleth",
           "z": [
            8.588,
            3.06,
            3.188,
            2.451,
            3.5180000000000002,
            1.555,
            0,
            1.9980000000000002,
            3.267,
            3.0039999999999996,
            1.4609999999999999,
            0.040999999999999995,
            0.306
           ]
          }
         ],
         "name": "2020-09-26"
        },
        {
         "data": [
          {
           "coloraxis": "coloraxis",
           "geo": "geo",
           "hovertemplate": "Date=2020-09-27<br>iso_code=%{location}<br>New C-19 deaths per 1M=%{z}<extra></extra>",
           "locations": [
            "ARG",
            "BOL",
            "BRA",
            "CHL",
            "COL",
            "ECU",
            "FLK",
            "GUY",
            "PER",
            "PRY",
            "SUR",
            "URY",
            "VEN"
           ],
           "name": "",
           "type": "choropleth",
           "z": [
            8.97,
            2.9619999999999997,
            3.2760000000000002,
            2.5180000000000002,
            3.529,
            1.53,
            0,
            1.8159999999999998,
            3.3489999999999998,
            2.924,
            1.218,
            0.040999999999999995,
            0.306
           ]
          }
         ],
         "name": "2020-09-27"
        },
        {
         "data": [
          {
           "coloraxis": "coloraxis",
           "geo": "geo",
           "hovertemplate": "Date=2020-09-28<br>iso_code=%{location}<br>New C-19 deaths per 1M=%{z}<extra></extra>",
           "locations": [
            "ARG",
            "BOL",
            "BRA",
            "CHL",
            "COL",
            "ECU",
            "FLK",
            "GUY",
            "PER",
            "PRY",
            "SUR",
            "URY",
            "VEN"
           ],
           "name": "",
           "type": "choropleth",
           "z": [
            8.977,
            2.949,
            3.2569999999999997,
            2.653,
            3.594,
            1.53,
            0,
            2.1790000000000003,
            3.8689999999999998,
            2.884,
            1.218,
            0.040999999999999995,
            0.29600000000000004
           ]
          }
         ],
         "name": "2020-09-28"
        },
        {
         "data": [
          {
           "coloraxis": "coloraxis",
           "geo": "geo",
           "hovertemplate": "Date=2020-09-29<br>iso_code=%{location}<br>New C-19 deaths per 1M=%{z}<extra></extra>",
           "locations": [
            "ARG",
            "BOL",
            "BRA",
            "CHL",
            "COL",
            "ECU",
            "FLK",
            "GUY",
            "PER",
            "PRY",
            "SUR",
            "URY",
            "VEN"
           ],
           "name": "",
           "type": "choropleth",
           "z": [
            8.316,
            3.011,
            3.217,
            2.989,
            3.4930000000000003,
            1.4980000000000002,
            0,
            2.3609999999999998,
            3.6830000000000003,
            2.844,
            1.218,
            0.040999999999999995,
            0.29600000000000004
           ]
          }
         ],
         "name": "2020-09-29"
        },
        {
         "data": [
          {
           "coloraxis": "coloraxis",
           "geo": "geo",
           "hovertemplate": "Date=2020-09-30<br>iso_code=%{location}<br>New C-19 deaths per 1M=%{z}<extra></extra>",
           "locations": [
            "ARG",
            "BOL",
            "BRA",
            "CHL",
            "COL",
            "ECU",
            "FLK",
            "GUY",
            "PER",
            "PRY",
            "SUR",
            "URY",
            "VEN"
           ],
           "name": "",
           "type": "choropleth",
           "z": [
            8.113999999999999,
            2.9130000000000003,
            3.235,
            3.0189999999999997,
            3.532,
            1.506,
            0,
            1.9980000000000002,
            3.509,
            2.7239999999999998,
            0.9740000000000001,
            0.08199999999999999,
            0.28600000000000003
           ]
          }
         ],
         "name": "2020-09-30"
        },
        {
         "data": [
          {
           "coloraxis": "coloraxis",
           "geo": "geo",
           "hovertemplate": "Date=2020-10-01<br>iso_code=%{location}<br>New C-19 deaths per 1M=%{z}<extra></extra>",
           "locations": [
            "ARG",
            "BOL",
            "BRA",
            "CHL",
            "COL",
            "ECU",
            "FLK",
            "GUY",
            "PER",
            "PRY",
            "SUR",
            "URY",
            "VEN"
           ],
           "name": "",
           "type": "choropleth",
           "z": [
            8.095,
            2.864,
            3.344,
            2.9589999999999996,
            3.515,
            1.49,
            0,
            1.9980000000000002,
            2.569,
            2.6039999999999996,
            0.731,
            0.040999999999999995,
            0.271
           ]
          }
         ],
         "name": "2020-10-01"
        },
        {
         "data": [
          {
           "coloraxis": "coloraxis",
           "geo": "geo",
           "hovertemplate": "Date=2020-10-02<br>iso_code=%{location}<br>New C-19 deaths per 1M=%{z}<extra></extra>",
           "locations": [
            "ARG",
            "BOL",
            "BRA",
            "CHL",
            "COL",
            "ECU",
            "FLK",
            "GUY",
            "PER",
            "PRY",
            "SUR",
            "URY",
            "VEN"
           ],
           "name": "",
           "type": "choropleth",
           "z": [
            17.454,
            2.888,
            3.2739999999999996,
            2.638,
            3.571,
            1.781,
            0,
            1.9980000000000002,
            2.5869999999999997,
            2.524,
            0.731,
            0.040999999999999995,
            0.271
           ]
          }
         ],
         "name": "2020-10-02"
        },
        {
         "data": [
          {
           "coloraxis": "coloraxis",
           "geo": "geo",
           "hovertemplate": "Date=2020-10-03<br>iso_code=%{location}<br>New C-19 deaths per 1M=%{z}<extra></extra>",
           "locations": [
            "ARG",
            "BOL",
            "BRA",
            "CHL",
            "COL",
            "ECU",
            "FLK",
            "GUY",
            "PER",
            "PRY",
            "SUR",
            "URY",
            "VEN"
           ],
           "name": "",
           "type": "choropleth",
           "z": [
            17.04,
            2.998,
            3.26,
            2.541,
            3.633,
            2.097,
            0,
            2.1790000000000003,
            2.478,
            2.5839999999999996,
            0.731,
            0.040999999999999995,
            0.261
           ]
          }
         ],
         "name": "2020-10-03"
        },
        {
         "data": [
          {
           "coloraxis": "coloraxis",
           "geo": "geo",
           "hovertemplate": "Date=2020-10-04<br>iso_code=%{location}<br>New C-19 deaths per 1M=%{z}<extra></extra>",
           "locations": [
            "ARG",
            "BOL",
            "BRA",
            "CHL",
            "COL",
            "ECU",
            "FLK",
            "GUY",
            "PER",
            "PRY",
            "SUR",
            "URY",
            "VEN"
           ],
           "name": "",
           "type": "choropleth",
           "z": [
            16.601,
            2.998,
            3.0789999999999997,
            2.451,
            3.5380000000000003,
            2.623,
            0,
            1.9980000000000002,
            2.266,
            2.6239999999999997,
            0.9740000000000001,
            0.040999999999999995,
            0.21600000000000003
           ]
          }
         ],
         "name": "2020-10-04"
        },
        {
         "data": [
          {
           "coloraxis": "coloraxis",
           "geo": "geo",
           "hovertemplate": "Date=2020-10-05<br>iso_code=%{location}<br>New C-19 deaths per 1M=%{z}<extra></extra>",
           "locations": [
            "ARG",
            "BOL",
            "BRA",
            "CHL",
            "COL",
            "ECU",
            "FLK",
            "GUY",
            "PER",
            "PRY",
            "SUR",
            "URY",
            "VEN"
           ],
           "name": "",
           "type": "choropleth",
           "z": [
            16.655,
            2.9739999999999998,
            3.0989999999999998,
            2.526,
            3.4360000000000004,
            2.98,
            0,
            1.9980000000000002,
            2.08,
            2.524,
            0.9740000000000001,
            0.040999999999999995,
            0.23600000000000002
           ]
          }
         ],
         "name": "2020-10-05"
        },
        {
         "data": [
          {
           "coloraxis": "coloraxis",
           "geo": "geo",
           "hovertemplate": "Date=2020-10-06<br>iso_code=%{location}<br>New C-19 deaths per 1M=%{z}<extra></extra>",
           "locations": [
            "ARG",
            "BOL",
            "BRA",
            "CHL",
            "COL",
            "ECU",
            "FLK",
            "GUY",
            "PER",
            "PRY",
            "SUR",
            "URY",
            "VEN"
           ],
           "name": "",
           "type": "choropleth",
           "z": [
            16.926,
            2.803,
            3.103,
            2.533,
            3.378,
            3.247,
            0,
            2.1790000000000003,
            2.21,
            2.5839999999999996,
            0.9740000000000001,
            0.040999999999999995,
            0.221
           ]
          }
         ],
         "name": "2020-10-06"
        },
        {
         "data": [
          {
           "coloraxis": "coloraxis",
           "geo": "geo",
           "hovertemplate": "Date=2020-10-07<br>iso_code=%{location}<br>New C-19 deaths per 1M=%{z}<extra></extra>",
           "locations": [
            "ARG",
            "BOL",
            "BRA",
            "CHL",
            "COL",
            "ECU",
            "FLK",
            "GUY",
            "PER",
            "PRY",
            "SUR",
            "URY",
            "VEN"
           ],
           "name": "",
           "type": "choropleth",
           "z": [
            16.778,
            2.7539999999999996,
            3.073,
            2.5780000000000003,
            3.338,
            3.158,
            0,
            2.543,
            2.244,
            2.504,
            0.48700000000000004,
            0.040999999999999995,
            0.221
           ]
          }
         ],
         "name": "2020-10-07"
        },
        {
         "data": [
          {
           "coloraxis": "coloraxis",
           "geo": "geo",
           "hovertemplate": "Date=2020-10-08<br>iso_code=%{location}<br>New C-19 deaths per 1M=%{z}<extra></extra>",
           "locations": [
            "ARG",
            "BOL",
            "BRA",
            "CHL",
            "COL",
            "ECU",
            "FLK",
            "GUY",
            "PER",
            "PRY",
            "SUR",
            "URY",
            "VEN"
           ],
           "name": "",
           "type": "choropleth",
           "z": [
            16.718,
            2.778,
            2.8739999999999997,
            2.608,
            3.319,
            3.142,
            0,
            2.7239999999999998,
            2.366,
            2.6439999999999997,
            0.48700000000000004,
            0.040999999999999995,
            0.21600000000000003
           ]
          }
         ],
         "name": "2020-10-08"
        },
        {
         "data": [
          {
           "coloraxis": "coloraxis",
           "geo": "geo",
           "hovertemplate": "Date=2020-10-09<br>iso_code=%{location}<br>New C-19 deaths per 1M=%{z}<extra></extra>",
           "locations": [
            "ARG",
            "BOL",
            "BRA",
            "CHL",
            "COL",
            "ECU",
            "FLK",
            "GUY",
            "PER",
            "PRY",
            "SUR",
            "URY",
            "VEN"
           ],
           "name": "",
           "type": "choropleth",
           "z": [
            7.656000000000001,
            2.778,
            2.8739999999999997,
            2.5780000000000003,
            3.187,
            5.733,
            0,
            2.906,
            2.439,
            2.864,
            0.244,
            0.040999999999999995,
            0.21600000000000003
           ]
          }
         ],
         "name": "2020-10-09"
        },
        {
         "data": [
          {
           "coloraxis": "coloraxis",
           "geo": "geo",
           "hovertemplate": "Date=2020-10-10<br>iso_code=%{location}<br>New C-19 deaths per 1M=%{z}<extra></extra>",
           "locations": [
            "ARG",
            "BOL",
            "BRA",
            "CHL",
            "COL",
            "ECU",
            "FLK",
            "GUY",
            "PER",
            "PRY",
            "SUR",
            "URY",
            "VEN"
           ],
           "name": "",
           "type": "choropleth",
           "z": [
            8.3,
            2.656,
            2.8569999999999998,
            2.638,
            3.083,
            5.506,
            0,
            2.7239999999999998,
            2.379,
            3.1039999999999996,
            0.244,
            0.040999999999999995,
            0.20600000000000002
           ]
          }
         ],
         "name": "2020-10-10"
        },
        {
         "data": [
          {
           "coloraxis": "coloraxis",
           "geo": "geo",
           "hovertemplate": "Date=2020-10-11<br>iso_code=%{location}<br>New C-19 deaths per 1M=%{z}<extra></extra>",
           "locations": [
            "ARG",
            "BOL",
            "BRA",
            "CHL",
            "COL",
            "ECU",
            "FLK",
            "GUY",
            "PER",
            "PRY",
            "SUR",
            "URY",
            "VEN"
           ],
           "name": "",
           "type": "choropleth",
           "z": [
            8.806000000000001,
            2.68,
            2.83,
            2.638,
            3.1,
            4.785,
            0,
            3.088,
            2.418,
            3.0439999999999996,
            0.244,
            0.08199999999999999,
            0.24100000000000002
           ]
          }
         ],
         "name": "2020-10-11"
        },
        {
         "data": [
          {
           "coloraxis": "coloraxis",
           "geo": "geo",
           "hovertemplate": "Date=2020-10-12<br>iso_code=%{location}<br>New C-19 deaths per 1M=%{z}<extra></extra>",
           "locations": [
            "ARG",
            "BOL",
            "BRA",
            "CHL",
            "COL",
            "ECU",
            "FLK",
            "GUY",
            "PER",
            "PRY",
            "SUR",
            "URY",
            "VEN"
           ],
           "name": "",
           "type": "choropleth",
           "z": [
            9.008,
            2.533,
            2.78,
            2.533,
            3.15,
            4.405,
            0,
            2.906,
            2.439,
            2.964,
            0.244,
            0.08199999999999999,
            0.221
           ]
          }
         ],
         "name": "2020-10-12"
        },
        {
         "data": [
          {
           "coloraxis": "coloraxis",
           "geo": "geo",
           "hovertemplate": "Date=2020-10-13<br>iso_code=%{location}<br>New C-19 deaths per 1M=%{z}<extra></extra>",
           "locations": [
            "ARG",
            "BOL",
            "BRA",
            "CHL",
            "COL",
            "ECU",
            "FLK",
            "GUY",
            "PER",
            "PRY",
            "SUR",
            "URY",
            "VEN"
           ],
           "name": "",
           "type": "choropleth",
           "z": [
            8.591000000000001,
            2.411,
            2.698,
            2.556,
            3.2030000000000003,
            4.348,
            0,
            2.543,
            2.266,
            2.984,
            0.244,
            0.12300000000000001,
            0.231
           ]
          }
         ],
         "name": "2020-10-13"
        },
        {
         "data": [
          {
           "coloraxis": "coloraxis",
           "geo": "geo",
           "hovertemplate": "Date=2020-10-14<br>iso_code=%{location}<br>New C-19 deaths per 1M=%{z}<extra></extra>",
           "locations": [
            "ARG",
            "BOL",
            "BRA",
            "CHL",
            "COL",
            "ECU",
            "FLK",
            "GUY",
            "PER",
            "PRY",
            "SUR",
            "URY",
            "VEN"
           ],
           "name": "",
           "type": "choropleth",
           "z": [
            8.677,
            2.386,
            2.355,
            2.436,
            3.156,
            4.316,
            0,
            2.543,
            2.188,
            2.844,
            0.244,
            0.08199999999999999,
            0.226
           ]
          }
         ],
         "name": "2020-10-14"
        },
        {
         "data": [
          {
           "coloraxis": "coloraxis",
           "geo": "geo",
           "hovertemplate": "Date=2020-10-15<br>iso_code=%{location}<br>New C-19 deaths per 1M=%{z}<extra></extra>",
           "locations": [
            "ARG",
            "BOL",
            "BRA",
            "CHL",
            "COL",
            "ECU",
            "FLK",
            "GUY",
            "PER",
            "PRY",
            "SUR",
            "URY",
            "VEN"
           ],
           "name": "",
           "type": "choropleth",
           "z": [
            8.517999999999999,
            2.2640000000000002,
            2.365,
            2.4290000000000003,
            3.161,
            4.218999999999999,
            0,
            1.9980000000000002,
            2.1790000000000003,
            2.844,
            0.48700000000000004,
            0.08199999999999999,
            0.21600000000000003
           ]
          }
         ],
         "name": "2020-10-15"
        },
        {
         "data": [
          {
           "coloraxis": "coloraxis",
           "geo": "geo",
           "hovertemplate": "Date=2020-10-16<br>iso_code=%{location}<br>New C-19 deaths per 1M=%{z}<extra></extra>",
           "locations": [
            "ARG",
            "BOL",
            "BRA",
            "CHL",
            "COL",
            "ECU",
            "FLK",
            "GUY",
            "PER",
            "PRY",
            "SUR",
            "URY",
            "VEN"
           ],
           "name": "",
           "type": "choropleth",
           "z": [
            8.318999999999999,
            2.191,
            2.354,
            1.995,
            3.161,
            1.3359999999999999,
            0,
            1.635,
            2.075,
            2.764,
            0.731,
            0.08199999999999999,
            0.21100000000000002
           ]
          }
         ],
         "name": "2020-10-16"
        },
        {
         "data": [
          {
           "coloraxis": "coloraxis",
           "geo": "geo",
           "hovertemplate": "Date=2020-10-17<br>iso_code=%{location}<br>New C-19 deaths per 1M=%{z}<extra></extra>",
           "locations": [
            "ARG",
            "BOL",
            "BRA",
            "CHL",
            "COL",
            "ECU",
            "FLK",
            "GUY",
            "PER",
            "PRY",
            "SUR",
            "URY",
            "VEN"
           ],
           "name": "",
           "type": "choropleth",
           "z": [
            7.896,
            2.166,
            2.403,
            2.309,
            3.147,
            1.474,
            0,
            1.271,
            2.123,
            2.424,
            0.731,
            0.08199999999999999,
            0.18100000000000002
           ]
          }
         ],
         "name": "2020-10-17"
        },
        {
         "data": [
          {
           "coloraxis": "coloraxis",
           "geo": "geo",
           "hovertemplate": "Date=2020-10-18<br>iso_code=%{location}<br>New C-19 deaths per 1M=%{z}<extra></extra>",
           "locations": [
            "ARG",
            "BOL",
            "BRA",
            "CHL",
            "COL",
            "ECU",
            "FLK",
            "GUY",
            "PER",
            "PRY",
            "SUR",
            "URY",
            "VEN"
           ],
           "name": "",
           "type": "choropleth",
           "z": [
            7.984,
            2.093,
            2.3369999999999997,
            2.3609999999999998,
            3.2089999999999996,
            1.514,
            0,
            1.271,
            2.075,
            2.283,
            0.48700000000000004,
            0.040999999999999995,
            0.171
           ]
          }
         ],
         "name": "2020-10-18"
        },
        {
         "data": [
          {
           "coloraxis": "coloraxis",
           "geo": "geo",
           "hovertemplate": "Date=2020-10-19<br>iso_code=%{location}<br>New C-19 deaths per 1M=%{z}<extra></extra>",
           "locations": [
            "ARG",
            "BOL",
            "BRA",
            "CHL",
            "COL",
            "ECU",
            "FLK",
            "GUY",
            "PER",
            "PRY",
            "SUR",
            "URY",
            "VEN"
           ],
           "name": "",
           "type": "choropleth",
           "z": [
            7.582999999999999,
            2.117,
            2.2969999999999997,
            2.369,
            3.1889999999999996,
            1.587,
            0,
            1.09,
            1.9669999999999999,
            2.2230000000000003,
            0.48700000000000004,
            0.040999999999999995,
            0.196
           ]
          }
         ],
         "name": "2020-10-19"
        },
        {
         "data": [
          {
           "coloraxis": "coloraxis",
           "geo": "geo",
           "hovertemplate": "Date=2020-10-20<br>iso_code=%{location}<br>New C-19 deaths per 1M=%{z}<extra></extra>",
           "locations": [
            "ARG",
            "BOL",
            "BRA",
            "CHL",
            "COL",
            "ECU",
            "FLK",
            "GUY",
            "PER",
            "PRY",
            "SUR",
            "URY",
            "VEN"
           ],
           "name": "",
           "type": "choropleth",
           "z": [
            7.997000000000001,
            2.154,
            2.344,
            2.22,
            3.136,
            1.433,
            0,
            1.271,
            2.006,
            2.2230000000000003,
            0.48700000000000004,
            0,
            0.161
           ]
          }
         ],
         "name": "2020-10-20"
        },
        {
         "data": [
          {
           "coloraxis": "coloraxis",
           "geo": "geo",
           "hovertemplate": "Date=2020-10-21<br>iso_code=%{location}<br>New C-19 deaths per 1M=%{z}<extra></extra>",
           "locations": [
            "ARG",
            "BOL",
            "BRA",
            "CHL",
            "COL",
            "ECU",
            "FLK",
            "GUY",
            "PER",
            "PRY",
            "SUR",
            "URY",
            "VEN"
           ],
           "name": "",
           "type": "choropleth",
           "z": [
            7.9910000000000005,
            2.142,
            2.58,
            2.287,
            3.175,
            1.368,
            0,
            1.453,
            1.976,
            2.464,
            0.48700000000000004,
            0.040999999999999995,
            0.18600000000000003
           ]
          }
         ],
         "name": "2020-10-21"
        },
        {
         "data": [
          {
           "coloraxis": "coloraxis",
           "geo": "geo",
           "hovertemplate": "Date=2020-10-22<br>iso_code=%{location}<br>New C-19 deaths per 1M=%{z}<extra></extra>",
           "locations": [
            "ARG",
            "BOL",
            "BRA",
            "CHL",
            "COL",
            "ECU",
            "FLK",
            "GUY",
            "PER",
            "PRY",
            "SUR",
            "URY",
            "VEN"
           ],
           "name": "",
           "type": "choropleth",
           "z": [
            8.212,
            2.215,
            2.457,
            2.272,
            3.2510000000000003,
            1.53,
            0,
            1.8159999999999998,
            1.841,
            2.383,
            0.244,
            0.08199999999999999,
            0.196
           ]
          }
         ],
         "name": "2020-10-22"
        },
        {
         "data": [
          {
           "coloraxis": "coloraxis",
           "geo": "geo",
           "hovertemplate": "Date=2020-10-23<br>iso_code=%{location}<br>New C-19 deaths per 1M=%{z}<extra></extra>",
           "locations": [
            "ARG",
            "BOL",
            "BRA",
            "CHL",
            "COL",
            "ECU",
            "FLK",
            "GUY",
            "PER",
            "PRY",
            "SUR",
            "URY",
            "VEN"
           ],
           "name": "",
           "type": "choropleth",
           "z": [
            8.266,
            2.166,
            2.312,
            2.675,
            3.31,
            1.571,
            0,
            1.8159999999999998,
            1.7630000000000001,
            2.343,
            0,
            0.08199999999999999,
            0.196
           ]
          }
         ],
         "name": "2020-10-23"
        },
        {
         "data": [
          {
           "coloraxis": "coloraxis",
           "geo": "geo",
           "hovertemplate": "Date=2020-10-24<br>iso_code=%{location}<br>New C-19 deaths per 1M=%{z}<extra></extra>",
           "locations": [
            "ARG",
            "BOL",
            "BRA",
            "CHL",
            "COL",
            "ECU",
            "FLK",
            "GUY",
            "PER",
            "PRY",
            "SUR",
            "URY",
            "VEN"
           ],
           "name": "",
           "type": "choropleth",
           "z": [
            8.266,
            2.068,
            2.189,
            2.354,
            3.33,
            1.385,
            0,
            1.8159999999999998,
            1.6680000000000001,
            2.2430000000000003,
            0,
            0.08199999999999999,
            0.221
           ]
          }
         ],
         "name": "2020-10-24"
        },
        {
         "data": [
          {
           "coloraxis": "coloraxis",
           "geo": "geo",
           "hovertemplate": "Date=2020-10-25<br>iso_code=%{location}<br>New C-19 deaths per 1M=%{z}<extra></extra>",
           "locations": [
            "ARG",
            "BOL",
            "BRA",
            "CHL",
            "COL",
            "ECU",
            "FLK",
            "GUY",
            "PER",
            "PRY",
            "SUR",
            "URY",
            "VEN"
           ],
           "name": "",
           "type": "choropleth",
           "z": [
            7.921,
            2.0069999999999997,
            2.169,
            2.272,
            3.361,
            1.3519999999999999,
            0,
            1.453,
            1.703,
            2.283,
            0,
            0.08199999999999999,
            0.226
           ]
          }
         ],
         "name": "2020-10-25"
        },
        {
         "data": [
          {
           "coloraxis": "coloraxis",
           "geo": "geo",
           "hovertemplate": "Date=2020-10-26<br>iso_code=%{location}<br>New C-19 deaths per 1M=%{z}<extra></extra>",
           "locations": [
            "ARG",
            "BOL",
            "BRA",
            "CHL",
            "COL",
            "ECU",
            "FLK",
            "GUY",
            "PER",
            "PRY",
            "SUR",
            "URY",
            "VEN"
           ],
           "name": "",
           "type": "choropleth",
           "z": [
            8.31,
            2.0069999999999997,
            2.17,
            2.309,
            3.324,
            1.344,
            0,
            1.8159999999999998,
            1.69,
            2.424,
            0,
            0.08199999999999999,
            0.18600000000000003
           ]
          }
         ],
         "name": "2020-10-26"
        },
        {
         "data": [
          {
           "coloraxis": "coloraxis",
           "geo": "geo",
           "hovertemplate": "Date=2020-10-27<br>iso_code=%{location}<br>New C-19 deaths per 1M=%{z}<extra></extra>",
           "locations": [
            "ARG",
            "BOL",
            "BRA",
            "CHL",
            "COL",
            "ECU",
            "FLK",
            "GUY",
            "PER",
            "PRY",
            "SUR",
            "URY",
            "VEN"
           ],
           "name": "",
           "type": "choropleth",
           "z": [
            8.171,
            1.909,
            2.165,
            2.444,
            3.498,
            1.4409999999999998,
            0,
            1.453,
            1.633,
            2.043,
            0.244,
            0.12300000000000001,
            0.20600000000000002
           ]
          }
         ],
         "name": "2020-10-27"
        },
        {
         "data": [
          {
           "coloraxis": "coloraxis",
           "geo": "geo",
           "hovertemplate": "Date=2020-10-28<br>iso_code=%{location}<br>New C-19 deaths per 1M=%{z}<extra></extra>",
           "locations": [
            "ARG",
            "BOL",
            "BRA",
            "CHL",
            "COL",
            "ECU",
            "FLK",
            "GUY",
            "PER",
            "PRY",
            "SUR",
            "URY",
            "VEN"
           ],
           "name": "",
           "type": "choropleth",
           "z": [
            8.312999999999999,
            1.787,
            2.089,
            2.421,
            3.63,
            1.49,
            0,
            0.9079999999999999,
            1.655,
            1.923,
            0.48700000000000004,
            0.08199999999999999,
            0.166
           ]
          }
         ],
         "name": "2020-10-28"
        },
        {
         "data": [
          {
           "coloraxis": "coloraxis",
           "geo": "geo",
           "hovertemplate": "Date=2020-10-29<br>iso_code=%{location}<br>New C-19 deaths per 1M=%{z}<extra></extra>",
           "locations": [
            "ARG",
            "BOL",
            "BRA",
            "CHL",
            "COL",
            "ECU",
            "FLK",
            "GUY",
            "PER",
            "PRY",
            "SUR",
            "URY",
            "VEN"
           ],
           "name": "",
           "type": "choropleth",
           "z": [
            8.066,
            1.6640000000000001,
            2.052,
            2.339,
            3.6189999999999998,
            1.255,
            0,
            1.271,
            1.6380000000000001,
            2.1830000000000003,
            0.48700000000000004,
            0.08199999999999999,
            0.156
           ]
          }
         ],
         "name": "2020-10-29"
        },
        {
         "data": [
          {
           "coloraxis": "coloraxis",
           "geo": "geo",
           "hovertemplate": "Date=2020-10-30<br>iso_code=%{location}<br>New C-19 deaths per 1M=%{z}<extra></extra>",
           "locations": [
            "ARG",
            "BOL",
            "BRA",
            "CHL",
            "COL",
            "ECU",
            "FLK",
            "GUY",
            "PER",
            "PRY",
            "SUR",
            "URY",
            "VEN"
           ],
           "name": "",
           "type": "choropleth",
           "z": [
            7.855,
            1.4809999999999999,
            2.063,
            2.436,
            3.622,
            0.988,
            0,
            1.09,
            1.6380000000000001,
            1.8430000000000002,
            0.48700000000000004,
            0.165,
            0.151
           ]
          }
         ],
         "name": "2020-10-30"
        },
        {
         "data": [
          {
           "coloraxis": "coloraxis",
           "geo": "geo",
           "hovertemplate": "Date=2020-10-31<br>iso_code=%{location}<br>New C-19 deaths per 1M=%{z}<extra></extra>",
           "locations": [
            "ARG",
            "BOL",
            "BRA",
            "CHL",
            "COL",
            "ECU",
            "FLK",
            "GUY",
            "PER",
            "PRY",
            "SUR",
            "URY",
            "VEN"
           ],
           "name": "",
           "type": "choropleth",
           "z": [
            7.757000000000001,
            1.3090000000000002,
            2.02,
            2.347,
            3.742,
            0.8420000000000001,
            0,
            1.271,
            1.6380000000000001,
            2.1830000000000003,
            0.48700000000000004,
            0.20600000000000002,
            0.146
           ]
          }
         ],
         "name": "2020-10-31"
        },
        {
         "data": [
          {
           "coloraxis": "coloraxis",
           "geo": "geo",
           "hovertemplate": "Date=2020-11-01<br>iso_code=%{location}<br>New C-19 deaths per 1M=%{z}<extra></extra>",
           "locations": [
            "ARG",
            "BOL",
            "BRA",
            "CHL",
            "COL",
            "ECU",
            "FLK",
            "GUY",
            "PER",
            "PRY",
            "SUR",
            "URY",
            "VEN"
           ],
           "name": "",
           "type": "choropleth",
           "z": [
            7.551,
            1.199,
            2.003,
            2.354,
            3.6889999999999996,
            1.036,
            0,
            1.271,
            1.651,
            2.2230000000000003,
            0.48700000000000004,
            0.20600000000000002,
            0.141
           ]
          }
         ],
         "name": "2020-11-01"
        },
        {
         "data": [
          {
           "coloraxis": "coloraxis",
           "geo": "geo",
           "hovertemplate": "Date=2020-11-02<br>iso_code=%{location}<br>New C-19 deaths per 1M=%{z}<extra></extra>",
           "locations": [
            "ARG",
            "BOL",
            "BRA",
            "CHL",
            "COL",
            "ECU",
            "FLK",
            "GUY",
            "PER",
            "PRY",
            "SUR",
            "URY",
            "VEN"
           ],
           "name": "",
           "type": "choropleth",
           "z": [
            7.093,
            1.052,
            1.976,
            2.2640000000000002,
            3.821,
            1.061,
            0,
            1.271,
            1.646,
            2.1830000000000003,
            0.48700000000000004,
            0.247,
            0.141
           ]
          }
         ],
         "name": "2020-11-02"
        },
        {
         "data": [
          {
           "coloraxis": "coloraxis",
           "geo": "geo",
           "hovertemplate": "Date=2020-11-03<br>iso_code=%{location}<br>New C-19 deaths per 1M=%{z}<extra></extra>",
           "locations": [
            "ARG",
            "BOL",
            "BRA",
            "CHL",
            "COL",
            "ECU",
            "FLK",
            "GUY",
            "PER",
            "PRY",
            "SUR",
            "URY",
            "VEN"
           ],
           "name": "",
           "type": "choropleth",
           "z": [
            7.3389999999999995,
            1.016,
            1.919,
            2.234,
            3.7119999999999997,
            0.9640000000000001,
            0,
            1.635,
            1.681,
            2.403,
            0.244,
            0.247,
            0.141
           ]
          }
         ],
         "name": "2020-11-03"
        }
       ],
       "layout": {
        "coloraxis": {
         "cmax": 10,
         "cmin": 0,
         "colorbar": {
          "title": {
           "text": "New C-19 deaths per 1M"
          }
         },
         "colorscale": [
          [
           0,
           "rgb(255,245,240)"
          ],
          [
           0.125,
           "rgb(254,224,210)"
          ],
          [
           0.25,
           "rgb(252,187,161)"
          ],
          [
           0.375,
           "rgb(252,146,114)"
          ],
          [
           0.5,
           "rgb(251,106,74)"
          ],
          [
           0.625,
           "rgb(239,59,44)"
          ],
          [
           0.75,
           "rgb(203,24,29)"
          ],
          [
           0.875,
           "rgb(165,15,21)"
          ],
          [
           1,
           "rgb(103,0,13)"
          ]
         ]
        },
        "geo": {
         "center": {},
         "domain": {
          "x": [
           0,
           1
          ],
          "y": [
           0,
           1
          ]
         },
         "scope": "south america"
        },
        "height": 600,
        "legend": {
         "tracegroupgap": 0
        },
        "margin": {
         "b": 0,
         "l": 0,
         "r": 0,
         "t": 0
        },
        "sliders": [
         {
          "active": 0,
          "currentvalue": {
           "prefix": "Date="
          },
          "len": 0.9,
          "pad": {
           "b": 10,
           "t": 60
          },
          "steps": [
           {
            "args": [
             [
              "2020-04-16"
             ],
             {
              "frame": {
               "duration": 0,
               "redraw": true
              },
              "fromcurrent": true,
              "mode": "immediate",
              "transition": {
               "duration": 0,
               "easing": "linear"
              }
             }
            ],
            "label": "2020-04-16",
            "method": "animate"
           },
           {
            "args": [
             [
              "2020-04-17"
             ],
             {
              "frame": {
               "duration": 0,
               "redraw": true
              },
              "fromcurrent": true,
              "mode": "immediate",
              "transition": {
               "duration": 0,
               "easing": "linear"
              }
             }
            ],
            "label": "2020-04-17",
            "method": "animate"
           },
           {
            "args": [
             [
              "2020-04-18"
             ],
             {
              "frame": {
               "duration": 0,
               "redraw": true
              },
              "fromcurrent": true,
              "mode": "immediate",
              "transition": {
               "duration": 0,
               "easing": "linear"
              }
             }
            ],
            "label": "2020-04-18",
            "method": "animate"
           },
           {
            "args": [
             [
              "2020-04-19"
             ],
             {
              "frame": {
               "duration": 0,
               "redraw": true
              },
              "fromcurrent": true,
              "mode": "immediate",
              "transition": {
               "duration": 0,
               "easing": "linear"
              }
             }
            ],
            "label": "2020-04-19",
            "method": "animate"
           },
           {
            "args": [
             [
              "2020-04-20"
             ],
             {
              "frame": {
               "duration": 0,
               "redraw": true
              },
              "fromcurrent": true,
              "mode": "immediate",
              "transition": {
               "duration": 0,
               "easing": "linear"
              }
             }
            ],
            "label": "2020-04-20",
            "method": "animate"
           },
           {
            "args": [
             [
              "2020-04-21"
             ],
             {
              "frame": {
               "duration": 0,
               "redraw": true
              },
              "fromcurrent": true,
              "mode": "immediate",
              "transition": {
               "duration": 0,
               "easing": "linear"
              }
             }
            ],
            "label": "2020-04-21",
            "method": "animate"
           },
           {
            "args": [
             [
              "2020-04-22"
             ],
             {
              "frame": {
               "duration": 0,
               "redraw": true
              },
              "fromcurrent": true,
              "mode": "immediate",
              "transition": {
               "duration": 0,
               "easing": "linear"
              }
             }
            ],
            "label": "2020-04-22",
            "method": "animate"
           },
           {
            "args": [
             [
              "2020-04-23"
             ],
             {
              "frame": {
               "duration": 0,
               "redraw": true
              },
              "fromcurrent": true,
              "mode": "immediate",
              "transition": {
               "duration": 0,
               "easing": "linear"
              }
             }
            ],
            "label": "2020-04-23",
            "method": "animate"
           },
           {
            "args": [
             [
              "2020-04-24"
             ],
             {
              "frame": {
               "duration": 0,
               "redraw": true
              },
              "fromcurrent": true,
              "mode": "immediate",
              "transition": {
               "duration": 0,
               "easing": "linear"
              }
             }
            ],
            "label": "2020-04-24",
            "method": "animate"
           },
           {
            "args": [
             [
              "2020-04-25"
             ],
             {
              "frame": {
               "duration": 0,
               "redraw": true
              },
              "fromcurrent": true,
              "mode": "immediate",
              "transition": {
               "duration": 0,
               "easing": "linear"
              }
             }
            ],
            "label": "2020-04-25",
            "method": "animate"
           },
           {
            "args": [
             [
              "2020-04-26"
             ],
             {
              "frame": {
               "duration": 0,
               "redraw": true
              },
              "fromcurrent": true,
              "mode": "immediate",
              "transition": {
               "duration": 0,
               "easing": "linear"
              }
             }
            ],
            "label": "2020-04-26",
            "method": "animate"
           },
           {
            "args": [
             [
              "2020-04-27"
             ],
             {
              "frame": {
               "duration": 0,
               "redraw": true
              },
              "fromcurrent": true,
              "mode": "immediate",
              "transition": {
               "duration": 0,
               "easing": "linear"
              }
             }
            ],
            "label": "2020-04-27",
            "method": "animate"
           },
           {
            "args": [
             [
              "2020-04-28"
             ],
             {
              "frame": {
               "duration": 0,
               "redraw": true
              },
              "fromcurrent": true,
              "mode": "immediate",
              "transition": {
               "duration": 0,
               "easing": "linear"
              }
             }
            ],
            "label": "2020-04-28",
            "method": "animate"
           },
           {
            "args": [
             [
              "2020-04-29"
             ],
             {
              "frame": {
               "duration": 0,
               "redraw": true
              },
              "fromcurrent": true,
              "mode": "immediate",
              "transition": {
               "duration": 0,
               "easing": "linear"
              }
             }
            ],
            "label": "2020-04-29",
            "method": "animate"
           },
           {
            "args": [
             [
              "2020-04-30"
             ],
             {
              "frame": {
               "duration": 0,
               "redraw": true
              },
              "fromcurrent": true,
              "mode": "immediate",
              "transition": {
               "duration": 0,
               "easing": "linear"
              }
             }
            ],
            "label": "2020-04-30",
            "method": "animate"
           },
           {
            "args": [
             [
              "2020-05-01"
             ],
             {
              "frame": {
               "duration": 0,
               "redraw": true
              },
              "fromcurrent": true,
              "mode": "immediate",
              "transition": {
               "duration": 0,
               "easing": "linear"
              }
             }
            ],
            "label": "2020-05-01",
            "method": "animate"
           },
           {
            "args": [
             [
              "2020-05-02"
             ],
             {
              "frame": {
               "duration": 0,
               "redraw": true
              },
              "fromcurrent": true,
              "mode": "immediate",
              "transition": {
               "duration": 0,
               "easing": "linear"
              }
             }
            ],
            "label": "2020-05-02",
            "method": "animate"
           },
           {
            "args": [
             [
              "2020-05-03"
             ],
             {
              "frame": {
               "duration": 0,
               "redraw": true
              },
              "fromcurrent": true,
              "mode": "immediate",
              "transition": {
               "duration": 0,
               "easing": "linear"
              }
             }
            ],
            "label": "2020-05-03",
            "method": "animate"
           },
           {
            "args": [
             [
              "2020-05-04"
             ],
             {
              "frame": {
               "duration": 0,
               "redraw": true
              },
              "fromcurrent": true,
              "mode": "immediate",
              "transition": {
               "duration": 0,
               "easing": "linear"
              }
             }
            ],
            "label": "2020-05-04",
            "method": "animate"
           },
           {
            "args": [
             [
              "2020-05-05"
             ],
             {
              "frame": {
               "duration": 0,
               "redraw": true
              },
              "fromcurrent": true,
              "mode": "immediate",
              "transition": {
               "duration": 0,
               "easing": "linear"
              }
             }
            ],
            "label": "2020-05-05",
            "method": "animate"
           },
           {
            "args": [
             [
              "2020-05-06"
             ],
             {
              "frame": {
               "duration": 0,
               "redraw": true
              },
              "fromcurrent": true,
              "mode": "immediate",
              "transition": {
               "duration": 0,
               "easing": "linear"
              }
             }
            ],
            "label": "2020-05-06",
            "method": "animate"
           },
           {
            "args": [
             [
              "2020-05-07"
             ],
             {
              "frame": {
               "duration": 0,
               "redraw": true
              },
              "fromcurrent": true,
              "mode": "immediate",
              "transition": {
               "duration": 0,
               "easing": "linear"
              }
             }
            ],
            "label": "2020-05-07",
            "method": "animate"
           },
           {
            "args": [
             [
              "2020-05-08"
             ],
             {
              "frame": {
               "duration": 0,
               "redraw": true
              },
              "fromcurrent": true,
              "mode": "immediate",
              "transition": {
               "duration": 0,
               "easing": "linear"
              }
             }
            ],
            "label": "2020-05-08",
            "method": "animate"
           },
           {
            "args": [
             [
              "2020-05-09"
             ],
             {
              "frame": {
               "duration": 0,
               "redraw": true
              },
              "fromcurrent": true,
              "mode": "immediate",
              "transition": {
               "duration": 0,
               "easing": "linear"
              }
             }
            ],
            "label": "2020-05-09",
            "method": "animate"
           },
           {
            "args": [
             [
              "2020-05-10"
             ],
             {
              "frame": {
               "duration": 0,
               "redraw": true
              },
              "fromcurrent": true,
              "mode": "immediate",
              "transition": {
               "duration": 0,
               "easing": "linear"
              }
             }
            ],
            "label": "2020-05-10",
            "method": "animate"
           },
           {
            "args": [
             [
              "2020-05-11"
             ],
             {
              "frame": {
               "duration": 0,
               "redraw": true
              },
              "fromcurrent": true,
              "mode": "immediate",
              "transition": {
               "duration": 0,
               "easing": "linear"
              }
             }
            ],
            "label": "2020-05-11",
            "method": "animate"
           },
           {
            "args": [
             [
              "2020-05-12"
             ],
             {
              "frame": {
               "duration": 0,
               "redraw": true
              },
              "fromcurrent": true,
              "mode": "immediate",
              "transition": {
               "duration": 0,
               "easing": "linear"
              }
             }
            ],
            "label": "2020-05-12",
            "method": "animate"
           },
           {
            "args": [
             [
              "2020-05-13"
             ],
             {
              "frame": {
               "duration": 0,
               "redraw": true
              },
              "fromcurrent": true,
              "mode": "immediate",
              "transition": {
               "duration": 0,
               "easing": "linear"
              }
             }
            ],
            "label": "2020-05-13",
            "method": "animate"
           },
           {
            "args": [
             [
              "2020-05-14"
             ],
             {
              "frame": {
               "duration": 0,
               "redraw": true
              },
              "fromcurrent": true,
              "mode": "immediate",
              "transition": {
               "duration": 0,
               "easing": "linear"
              }
             }
            ],
            "label": "2020-05-14",
            "method": "animate"
           },
           {
            "args": [
             [
              "2020-05-15"
             ],
             {
              "frame": {
               "duration": 0,
               "redraw": true
              },
              "fromcurrent": true,
              "mode": "immediate",
              "transition": {
               "duration": 0,
               "easing": "linear"
              }
             }
            ],
            "label": "2020-05-15",
            "method": "animate"
           },
           {
            "args": [
             [
              "2020-05-16"
             ],
             {
              "frame": {
               "duration": 0,
               "redraw": true
              },
              "fromcurrent": true,
              "mode": "immediate",
              "transition": {
               "duration": 0,
               "easing": "linear"
              }
             }
            ],
            "label": "2020-05-16",
            "method": "animate"
           },
           {
            "args": [
             [
              "2020-05-17"
             ],
             {
              "frame": {
               "duration": 0,
               "redraw": true
              },
              "fromcurrent": true,
              "mode": "immediate",
              "transition": {
               "duration": 0,
               "easing": "linear"
              }
             }
            ],
            "label": "2020-05-17",
            "method": "animate"
           },
           {
            "args": [
             [
              "2020-05-18"
             ],
             {
              "frame": {
               "duration": 0,
               "redraw": true
              },
              "fromcurrent": true,
              "mode": "immediate",
              "transition": {
               "duration": 0,
               "easing": "linear"
              }
             }
            ],
            "label": "2020-05-18",
            "method": "animate"
           },
           {
            "args": [
             [
              "2020-05-19"
             ],
             {
              "frame": {
               "duration": 0,
               "redraw": true
              },
              "fromcurrent": true,
              "mode": "immediate",
              "transition": {
               "duration": 0,
               "easing": "linear"
              }
             }
            ],
            "label": "2020-05-19",
            "method": "animate"
           },
           {
            "args": [
             [
              "2020-05-20"
             ],
             {
              "frame": {
               "duration": 0,
               "redraw": true
              },
              "fromcurrent": true,
              "mode": "immediate",
              "transition": {
               "duration": 0,
               "easing": "linear"
              }
             }
            ],
            "label": "2020-05-20",
            "method": "animate"
           },
           {
            "args": [
             [
              "2020-05-21"
             ],
             {
              "frame": {
               "duration": 0,
               "redraw": true
              },
              "fromcurrent": true,
              "mode": "immediate",
              "transition": {
               "duration": 0,
               "easing": "linear"
              }
             }
            ],
            "label": "2020-05-21",
            "method": "animate"
           },
           {
            "args": [
             [
              "2020-05-22"
             ],
             {
              "frame": {
               "duration": 0,
               "redraw": true
              },
              "fromcurrent": true,
              "mode": "immediate",
              "transition": {
               "duration": 0,
               "easing": "linear"
              }
             }
            ],
            "label": "2020-05-22",
            "method": "animate"
           },
           {
            "args": [
             [
              "2020-05-23"
             ],
             {
              "frame": {
               "duration": 0,
               "redraw": true
              },
              "fromcurrent": true,
              "mode": "immediate",
              "transition": {
               "duration": 0,
               "easing": "linear"
              }
             }
            ],
            "label": "2020-05-23",
            "method": "animate"
           },
           {
            "args": [
             [
              "2020-05-24"
             ],
             {
              "frame": {
               "duration": 0,
               "redraw": true
              },
              "fromcurrent": true,
              "mode": "immediate",
              "transition": {
               "duration": 0,
               "easing": "linear"
              }
             }
            ],
            "label": "2020-05-24",
            "method": "animate"
           },
           {
            "args": [
             [
              "2020-05-25"
             ],
             {
              "frame": {
               "duration": 0,
               "redraw": true
              },
              "fromcurrent": true,
              "mode": "immediate",
              "transition": {
               "duration": 0,
               "easing": "linear"
              }
             }
            ],
            "label": "2020-05-25",
            "method": "animate"
           },
           {
            "args": [
             [
              "2020-05-26"
             ],
             {
              "frame": {
               "duration": 0,
               "redraw": true
              },
              "fromcurrent": true,
              "mode": "immediate",
              "transition": {
               "duration": 0,
               "easing": "linear"
              }
             }
            ],
            "label": "2020-05-26",
            "method": "animate"
           },
           {
            "args": [
             [
              "2020-05-27"
             ],
             {
              "frame": {
               "duration": 0,
               "redraw": true
              },
              "fromcurrent": true,
              "mode": "immediate",
              "transition": {
               "duration": 0,
               "easing": "linear"
              }
             }
            ],
            "label": "2020-05-27",
            "method": "animate"
           },
           {
            "args": [
             [
              "2020-05-28"
             ],
             {
              "frame": {
               "duration": 0,
               "redraw": true
              },
              "fromcurrent": true,
              "mode": "immediate",
              "transition": {
               "duration": 0,
               "easing": "linear"
              }
             }
            ],
            "label": "2020-05-28",
            "method": "animate"
           },
           {
            "args": [
             [
              "2020-05-29"
             ],
             {
              "frame": {
               "duration": 0,
               "redraw": true
              },
              "fromcurrent": true,
              "mode": "immediate",
              "transition": {
               "duration": 0,
               "easing": "linear"
              }
             }
            ],
            "label": "2020-05-29",
            "method": "animate"
           },
           {
            "args": [
             [
              "2020-05-30"
             ],
             {
              "frame": {
               "duration": 0,
               "redraw": true
              },
              "fromcurrent": true,
              "mode": "immediate",
              "transition": {
               "duration": 0,
               "easing": "linear"
              }
             }
            ],
            "label": "2020-05-30",
            "method": "animate"
           },
           {
            "args": [
             [
              "2020-05-31"
             ],
             {
              "frame": {
               "duration": 0,
               "redraw": true
              },
              "fromcurrent": true,
              "mode": "immediate",
              "transition": {
               "duration": 0,
               "easing": "linear"
              }
             }
            ],
            "label": "2020-05-31",
            "method": "animate"
           },
           {
            "args": [
             [
              "2020-06-01"
             ],
             {
              "frame": {
               "duration": 0,
               "redraw": true
              },
              "fromcurrent": true,
              "mode": "immediate",
              "transition": {
               "duration": 0,
               "easing": "linear"
              }
             }
            ],
            "label": "2020-06-01",
            "method": "animate"
           },
           {
            "args": [
             [
              "2020-06-02"
             ],
             {
              "frame": {
               "duration": 0,
               "redraw": true
              },
              "fromcurrent": true,
              "mode": "immediate",
              "transition": {
               "duration": 0,
               "easing": "linear"
              }
             }
            ],
            "label": "2020-06-02",
            "method": "animate"
           },
           {
            "args": [
             [
              "2020-06-03"
             ],
             {
              "frame": {
               "duration": 0,
               "redraw": true
              },
              "fromcurrent": true,
              "mode": "immediate",
              "transition": {
               "duration": 0,
               "easing": "linear"
              }
             }
            ],
            "label": "2020-06-03",
            "method": "animate"
           },
           {
            "args": [
             [
              "2020-06-04"
             ],
             {
              "frame": {
               "duration": 0,
               "redraw": true
              },
              "fromcurrent": true,
              "mode": "immediate",
              "transition": {
               "duration": 0,
               "easing": "linear"
              }
             }
            ],
            "label": "2020-06-04",
            "method": "animate"
           },
           {
            "args": [
             [
              "2020-06-05"
             ],
             {
              "frame": {
               "duration": 0,
               "redraw": true
              },
              "fromcurrent": true,
              "mode": "immediate",
              "transition": {
               "duration": 0,
               "easing": "linear"
              }
             }
            ],
            "label": "2020-06-05",
            "method": "animate"
           },
           {
            "args": [
             [
              "2020-06-06"
             ],
             {
              "frame": {
               "duration": 0,
               "redraw": true
              },
              "fromcurrent": true,
              "mode": "immediate",
              "transition": {
               "duration": 0,
               "easing": "linear"
              }
             }
            ],
            "label": "2020-06-06",
            "method": "animate"
           },
           {
            "args": [
             [
              "2020-06-07"
             ],
             {
              "frame": {
               "duration": 0,
               "redraw": true
              },
              "fromcurrent": true,
              "mode": "immediate",
              "transition": {
               "duration": 0,
               "easing": "linear"
              }
             }
            ],
            "label": "2020-06-07",
            "method": "animate"
           },
           {
            "args": [
             [
              "2020-06-08"
             ],
             {
              "frame": {
               "duration": 0,
               "redraw": true
              },
              "fromcurrent": true,
              "mode": "immediate",
              "transition": {
               "duration": 0,
               "easing": "linear"
              }
             }
            ],
            "label": "2020-06-08",
            "method": "animate"
           },
           {
            "args": [
             [
              "2020-06-09"
             ],
             {
              "frame": {
               "duration": 0,
               "redraw": true
              },
              "fromcurrent": true,
              "mode": "immediate",
              "transition": {
               "duration": 0,
               "easing": "linear"
              }
             }
            ],
            "label": "2020-06-09",
            "method": "animate"
           },
           {
            "args": [
             [
              "2020-06-10"
             ],
             {
              "frame": {
               "duration": 0,
               "redraw": true
              },
              "fromcurrent": true,
              "mode": "immediate",
              "transition": {
               "duration": 0,
               "easing": "linear"
              }
             }
            ],
            "label": "2020-06-10",
            "method": "animate"
           },
           {
            "args": [
             [
              "2020-06-11"
             ],
             {
              "frame": {
               "duration": 0,
               "redraw": true
              },
              "fromcurrent": true,
              "mode": "immediate",
              "transition": {
               "duration": 0,
               "easing": "linear"
              }
             }
            ],
            "label": "2020-06-11",
            "method": "animate"
           },
           {
            "args": [
             [
              "2020-06-12"
             ],
             {
              "frame": {
               "duration": 0,
               "redraw": true
              },
              "fromcurrent": true,
              "mode": "immediate",
              "transition": {
               "duration": 0,
               "easing": "linear"
              }
             }
            ],
            "label": "2020-06-12",
            "method": "animate"
           },
           {
            "args": [
             [
              "2020-06-13"
             ],
             {
              "frame": {
               "duration": 0,
               "redraw": true
              },
              "fromcurrent": true,
              "mode": "immediate",
              "transition": {
               "duration": 0,
               "easing": "linear"
              }
             }
            ],
            "label": "2020-06-13",
            "method": "animate"
           },
           {
            "args": [
             [
              "2020-06-14"
             ],
             {
              "frame": {
               "duration": 0,
               "redraw": true
              },
              "fromcurrent": true,
              "mode": "immediate",
              "transition": {
               "duration": 0,
               "easing": "linear"
              }
             }
            ],
            "label": "2020-06-14",
            "method": "animate"
           },
           {
            "args": [
             [
              "2020-06-15"
             ],
             {
              "frame": {
               "duration": 0,
               "redraw": true
              },
              "fromcurrent": true,
              "mode": "immediate",
              "transition": {
               "duration": 0,
               "easing": "linear"
              }
             }
            ],
            "label": "2020-06-15",
            "method": "animate"
           },
           {
            "args": [
             [
              "2020-06-16"
             ],
             {
              "frame": {
               "duration": 0,
               "redraw": true
              },
              "fromcurrent": true,
              "mode": "immediate",
              "transition": {
               "duration": 0,
               "easing": "linear"
              }
             }
            ],
            "label": "2020-06-16",
            "method": "animate"
           },
           {
            "args": [
             [
              "2020-06-17"
             ],
             {
              "frame": {
               "duration": 0,
               "redraw": true
              },
              "fromcurrent": true,
              "mode": "immediate",
              "transition": {
               "duration": 0,
               "easing": "linear"
              }
             }
            ],
            "label": "2020-06-17",
            "method": "animate"
           },
           {
            "args": [
             [
              "2020-06-18"
             ],
             {
              "frame": {
               "duration": 0,
               "redraw": true
              },
              "fromcurrent": true,
              "mode": "immediate",
              "transition": {
               "duration": 0,
               "easing": "linear"
              }
             }
            ],
            "label": "2020-06-18",
            "method": "animate"
           },
           {
            "args": [
             [
              "2020-06-19"
             ],
             {
              "frame": {
               "duration": 0,
               "redraw": true
              },
              "fromcurrent": true,
              "mode": "immediate",
              "transition": {
               "duration": 0,
               "easing": "linear"
              }
             }
            ],
            "label": "2020-06-19",
            "method": "animate"
           },
           {
            "args": [
             [
              "2020-06-20"
             ],
             {
              "frame": {
               "duration": 0,
               "redraw": true
              },
              "fromcurrent": true,
              "mode": "immediate",
              "transition": {
               "duration": 0,
               "easing": "linear"
              }
             }
            ],
            "label": "2020-06-20",
            "method": "animate"
           },
           {
            "args": [
             [
              "2020-06-21"
             ],
             {
              "frame": {
               "duration": 0,
               "redraw": true
              },
              "fromcurrent": true,
              "mode": "immediate",
              "transition": {
               "duration": 0,
               "easing": "linear"
              }
             }
            ],
            "label": "2020-06-21",
            "method": "animate"
           },
           {
            "args": [
             [
              "2020-06-22"
             ],
             {
              "frame": {
               "duration": 0,
               "redraw": true
              },
              "fromcurrent": true,
              "mode": "immediate",
              "transition": {
               "duration": 0,
               "easing": "linear"
              }
             }
            ],
            "label": "2020-06-22",
            "method": "animate"
           },
           {
            "args": [
             [
              "2020-06-23"
             ],
             {
              "frame": {
               "duration": 0,
               "redraw": true
              },
              "fromcurrent": true,
              "mode": "immediate",
              "transition": {
               "duration": 0,
               "easing": "linear"
              }
             }
            ],
            "label": "2020-06-23",
            "method": "animate"
           },
           {
            "args": [
             [
              "2020-06-24"
             ],
             {
              "frame": {
               "duration": 0,
               "redraw": true
              },
              "fromcurrent": true,
              "mode": "immediate",
              "transition": {
               "duration": 0,
               "easing": "linear"
              }
             }
            ],
            "label": "2020-06-24",
            "method": "animate"
           },
           {
            "args": [
             [
              "2020-06-25"
             ],
             {
              "frame": {
               "duration": 0,
               "redraw": true
              },
              "fromcurrent": true,
              "mode": "immediate",
              "transition": {
               "duration": 0,
               "easing": "linear"
              }
             }
            ],
            "label": "2020-06-25",
            "method": "animate"
           },
           {
            "args": [
             [
              "2020-06-26"
             ],
             {
              "frame": {
               "duration": 0,
               "redraw": true
              },
              "fromcurrent": true,
              "mode": "immediate",
              "transition": {
               "duration": 0,
               "easing": "linear"
              }
             }
            ],
            "label": "2020-06-26",
            "method": "animate"
           },
           {
            "args": [
             [
              "2020-06-27"
             ],
             {
              "frame": {
               "duration": 0,
               "redraw": true
              },
              "fromcurrent": true,
              "mode": "immediate",
              "transition": {
               "duration": 0,
               "easing": "linear"
              }
             }
            ],
            "label": "2020-06-27",
            "method": "animate"
           },
           {
            "args": [
             [
              "2020-06-28"
             ],
             {
              "frame": {
               "duration": 0,
               "redraw": true
              },
              "fromcurrent": true,
              "mode": "immediate",
              "transition": {
               "duration": 0,
               "easing": "linear"
              }
             }
            ],
            "label": "2020-06-28",
            "method": "animate"
           },
           {
            "args": [
             [
              "2020-06-29"
             ],
             {
              "frame": {
               "duration": 0,
               "redraw": true
              },
              "fromcurrent": true,
              "mode": "immediate",
              "transition": {
               "duration": 0,
               "easing": "linear"
              }
             }
            ],
            "label": "2020-06-29",
            "method": "animate"
           },
           {
            "args": [
             [
              "2020-06-30"
             ],
             {
              "frame": {
               "duration": 0,
               "redraw": true
              },
              "fromcurrent": true,
              "mode": "immediate",
              "transition": {
               "duration": 0,
               "easing": "linear"
              }
             }
            ],
            "label": "2020-06-30",
            "method": "animate"
           },
           {
            "args": [
             [
              "2020-07-01"
             ],
             {
              "frame": {
               "duration": 0,
               "redraw": true
              },
              "fromcurrent": true,
              "mode": "immediate",
              "transition": {
               "duration": 0,
               "easing": "linear"
              }
             }
            ],
            "label": "2020-07-01",
            "method": "animate"
           },
           {
            "args": [
             [
              "2020-07-02"
             ],
             {
              "frame": {
               "duration": 0,
               "redraw": true
              },
              "fromcurrent": true,
              "mode": "immediate",
              "transition": {
               "duration": 0,
               "easing": "linear"
              }
             }
            ],
            "label": "2020-07-02",
            "method": "animate"
           },
           {
            "args": [
             [
              "2020-07-03"
             ],
             {
              "frame": {
               "duration": 0,
               "redraw": true
              },
              "fromcurrent": true,
              "mode": "immediate",
              "transition": {
               "duration": 0,
               "easing": "linear"
              }
             }
            ],
            "label": "2020-07-03",
            "method": "animate"
           },
           {
            "args": [
             [
              "2020-07-04"
             ],
             {
              "frame": {
               "duration": 0,
               "redraw": true
              },
              "fromcurrent": true,
              "mode": "immediate",
              "transition": {
               "duration": 0,
               "easing": "linear"
              }
             }
            ],
            "label": "2020-07-04",
            "method": "animate"
           },
           {
            "args": [
             [
              "2020-07-05"
             ],
             {
              "frame": {
               "duration": 0,
               "redraw": true
              },
              "fromcurrent": true,
              "mode": "immediate",
              "transition": {
               "duration": 0,
               "easing": "linear"
              }
             }
            ],
            "label": "2020-07-05",
            "method": "animate"
           },
           {
            "args": [
             [
              "2020-07-06"
             ],
             {
              "frame": {
               "duration": 0,
               "redraw": true
              },
              "fromcurrent": true,
              "mode": "immediate",
              "transition": {
               "duration": 0,
               "easing": "linear"
              }
             }
            ],
            "label": "2020-07-06",
            "method": "animate"
           },
           {
            "args": [
             [
              "2020-07-07"
             ],
             {
              "frame": {
               "duration": 0,
               "redraw": true
              },
              "fromcurrent": true,
              "mode": "immediate",
              "transition": {
               "duration": 0,
               "easing": "linear"
              }
             }
            ],
            "label": "2020-07-07",
            "method": "animate"
           },
           {
            "args": [
             [
              "2020-07-08"
             ],
             {
              "frame": {
               "duration": 0,
               "redraw": true
              },
              "fromcurrent": true,
              "mode": "immediate",
              "transition": {
               "duration": 0,
               "easing": "linear"
              }
             }
            ],
            "label": "2020-07-08",
            "method": "animate"
           },
           {
            "args": [
             [
              "2020-07-09"
             ],
             {
              "frame": {
               "duration": 0,
               "redraw": true
              },
              "fromcurrent": true,
              "mode": "immediate",
              "transition": {
               "duration": 0,
               "easing": "linear"
              }
             }
            ],
            "label": "2020-07-09",
            "method": "animate"
           },
           {
            "args": [
             [
              "2020-07-10"
             ],
             {
              "frame": {
               "duration": 0,
               "redraw": true
              },
              "fromcurrent": true,
              "mode": "immediate",
              "transition": {
               "duration": 0,
               "easing": "linear"
              }
             }
            ],
            "label": "2020-07-10",
            "method": "animate"
           },
           {
            "args": [
             [
              "2020-07-11"
             ],
             {
              "frame": {
               "duration": 0,
               "redraw": true
              },
              "fromcurrent": true,
              "mode": "immediate",
              "transition": {
               "duration": 0,
               "easing": "linear"
              }
             }
            ],
            "label": "2020-07-11",
            "method": "animate"
           },
           {
            "args": [
             [
              "2020-07-12"
             ],
             {
              "frame": {
               "duration": 0,
               "redraw": true
              },
              "fromcurrent": true,
              "mode": "immediate",
              "transition": {
               "duration": 0,
               "easing": "linear"
              }
             }
            ],
            "label": "2020-07-12",
            "method": "animate"
           },
           {
            "args": [
             [
              "2020-07-13"
             ],
             {
              "frame": {
               "duration": 0,
               "redraw": true
              },
              "fromcurrent": true,
              "mode": "immediate",
              "transition": {
               "duration": 0,
               "easing": "linear"
              }
             }
            ],
            "label": "2020-07-13",
            "method": "animate"
           },
           {
            "args": [
             [
              "2020-07-14"
             ],
             {
              "frame": {
               "duration": 0,
               "redraw": true
              },
              "fromcurrent": true,
              "mode": "immediate",
              "transition": {
               "duration": 0,
               "easing": "linear"
              }
             }
            ],
            "label": "2020-07-14",
            "method": "animate"
           },
           {
            "args": [
             [
              "2020-07-15"
             ],
             {
              "frame": {
               "duration": 0,
               "redraw": true
              },
              "fromcurrent": true,
              "mode": "immediate",
              "transition": {
               "duration": 0,
               "easing": "linear"
              }
             }
            ],
            "label": "2020-07-15",
            "method": "animate"
           },
           {
            "args": [
             [
              "2020-07-16"
             ],
             {
              "frame": {
               "duration": 0,
               "redraw": true
              },
              "fromcurrent": true,
              "mode": "immediate",
              "transition": {
               "duration": 0,
               "easing": "linear"
              }
             }
            ],
            "label": "2020-07-16",
            "method": "animate"
           },
           {
            "args": [
             [
              "2020-07-17"
             ],
             {
              "frame": {
               "duration": 0,
               "redraw": true
              },
              "fromcurrent": true,
              "mode": "immediate",
              "transition": {
               "duration": 0,
               "easing": "linear"
              }
             }
            ],
            "label": "2020-07-17",
            "method": "animate"
           },
           {
            "args": [
             [
              "2020-07-18"
             ],
             {
              "frame": {
               "duration": 0,
               "redraw": true
              },
              "fromcurrent": true,
              "mode": "immediate",
              "transition": {
               "duration": 0,
               "easing": "linear"
              }
             }
            ],
            "label": "2020-07-18",
            "method": "animate"
           },
           {
            "args": [
             [
              "2020-07-19"
             ],
             {
              "frame": {
               "duration": 0,
               "redraw": true
              },
              "fromcurrent": true,
              "mode": "immediate",
              "transition": {
               "duration": 0,
               "easing": "linear"
              }
             }
            ],
            "label": "2020-07-19",
            "method": "animate"
           },
           {
            "args": [
             [
              "2020-07-20"
             ],
             {
              "frame": {
               "duration": 0,
               "redraw": true
              },
              "fromcurrent": true,
              "mode": "immediate",
              "transition": {
               "duration": 0,
               "easing": "linear"
              }
             }
            ],
            "label": "2020-07-20",
            "method": "animate"
           },
           {
            "args": [
             [
              "2020-07-21"
             ],
             {
              "frame": {
               "duration": 0,
               "redraw": true
              },
              "fromcurrent": true,
              "mode": "immediate",
              "transition": {
               "duration": 0,
               "easing": "linear"
              }
             }
            ],
            "label": "2020-07-21",
            "method": "animate"
           },
           {
            "args": [
             [
              "2020-07-22"
             ],
             {
              "frame": {
               "duration": 0,
               "redraw": true
              },
              "fromcurrent": true,
              "mode": "immediate",
              "transition": {
               "duration": 0,
               "easing": "linear"
              }
             }
            ],
            "label": "2020-07-22",
            "method": "animate"
           },
           {
            "args": [
             [
              "2020-07-23"
             ],
             {
              "frame": {
               "duration": 0,
               "redraw": true
              },
              "fromcurrent": true,
              "mode": "immediate",
              "transition": {
               "duration": 0,
               "easing": "linear"
              }
             }
            ],
            "label": "2020-07-23",
            "method": "animate"
           },
           {
            "args": [
             [
              "2020-07-24"
             ],
             {
              "frame": {
               "duration": 0,
               "redraw": true
              },
              "fromcurrent": true,
              "mode": "immediate",
              "transition": {
               "duration": 0,
               "easing": "linear"
              }
             }
            ],
            "label": "2020-07-24",
            "method": "animate"
           },
           {
            "args": [
             [
              "2020-07-25"
             ],
             {
              "frame": {
               "duration": 0,
               "redraw": true
              },
              "fromcurrent": true,
              "mode": "immediate",
              "transition": {
               "duration": 0,
               "easing": "linear"
              }
             }
            ],
            "label": "2020-07-25",
            "method": "animate"
           },
           {
            "args": [
             [
              "2020-07-26"
             ],
             {
              "frame": {
               "duration": 0,
               "redraw": true
              },
              "fromcurrent": true,
              "mode": "immediate",
              "transition": {
               "duration": 0,
               "easing": "linear"
              }
             }
            ],
            "label": "2020-07-26",
            "method": "animate"
           },
           {
            "args": [
             [
              "2020-07-27"
             ],
             {
              "frame": {
               "duration": 0,
               "redraw": true
              },
              "fromcurrent": true,
              "mode": "immediate",
              "transition": {
               "duration": 0,
               "easing": "linear"
              }
             }
            ],
            "label": "2020-07-27",
            "method": "animate"
           },
           {
            "args": [
             [
              "2020-07-28"
             ],
             {
              "frame": {
               "duration": 0,
               "redraw": true
              },
              "fromcurrent": true,
              "mode": "immediate",
              "transition": {
               "duration": 0,
               "easing": "linear"
              }
             }
            ],
            "label": "2020-07-28",
            "method": "animate"
           },
           {
            "args": [
             [
              "2020-07-29"
             ],
             {
              "frame": {
               "duration": 0,
               "redraw": true
              },
              "fromcurrent": true,
              "mode": "immediate",
              "transition": {
               "duration": 0,
               "easing": "linear"
              }
             }
            ],
            "label": "2020-07-29",
            "method": "animate"
           },
           {
            "args": [
             [
              "2020-07-30"
             ],
             {
              "frame": {
               "duration": 0,
               "redraw": true
              },
              "fromcurrent": true,
              "mode": "immediate",
              "transition": {
               "duration": 0,
               "easing": "linear"
              }
             }
            ],
            "label": "2020-07-30",
            "method": "animate"
           },
           {
            "args": [
             [
              "2020-07-31"
             ],
             {
              "frame": {
               "duration": 0,
               "redraw": true
              },
              "fromcurrent": true,
              "mode": "immediate",
              "transition": {
               "duration": 0,
               "easing": "linear"
              }
             }
            ],
            "label": "2020-07-31",
            "method": "animate"
           },
           {
            "args": [
             [
              "2020-08-01"
             ],
             {
              "frame": {
               "duration": 0,
               "redraw": true
              },
              "fromcurrent": true,
              "mode": "immediate",
              "transition": {
               "duration": 0,
               "easing": "linear"
              }
             }
            ],
            "label": "2020-08-01",
            "method": "animate"
           },
           {
            "args": [
             [
              "2020-08-02"
             ],
             {
              "frame": {
               "duration": 0,
               "redraw": true
              },
              "fromcurrent": true,
              "mode": "immediate",
              "transition": {
               "duration": 0,
               "easing": "linear"
              }
             }
            ],
            "label": "2020-08-02",
            "method": "animate"
           },
           {
            "args": [
             [
              "2020-08-03"
             ],
             {
              "frame": {
               "duration": 0,
               "redraw": true
              },
              "fromcurrent": true,
              "mode": "immediate",
              "transition": {
               "duration": 0,
               "easing": "linear"
              }
             }
            ],
            "label": "2020-08-03",
            "method": "animate"
           },
           {
            "args": [
             [
              "2020-08-04"
             ],
             {
              "frame": {
               "duration": 0,
               "redraw": true
              },
              "fromcurrent": true,
              "mode": "immediate",
              "transition": {
               "duration": 0,
               "easing": "linear"
              }
             }
            ],
            "label": "2020-08-04",
            "method": "animate"
           },
           {
            "args": [
             [
              "2020-08-05"
             ],
             {
              "frame": {
               "duration": 0,
               "redraw": true
              },
              "fromcurrent": true,
              "mode": "immediate",
              "transition": {
               "duration": 0,
               "easing": "linear"
              }
             }
            ],
            "label": "2020-08-05",
            "method": "animate"
           },
           {
            "args": [
             [
              "2020-08-06"
             ],
             {
              "frame": {
               "duration": 0,
               "redraw": true
              },
              "fromcurrent": true,
              "mode": "immediate",
              "transition": {
               "duration": 0,
               "easing": "linear"
              }
             }
            ],
            "label": "2020-08-06",
            "method": "animate"
           },
           {
            "args": [
             [
              "2020-08-07"
             ],
             {
              "frame": {
               "duration": 0,
               "redraw": true
              },
              "fromcurrent": true,
              "mode": "immediate",
              "transition": {
               "duration": 0,
               "easing": "linear"
              }
             }
            ],
            "label": "2020-08-07",
            "method": "animate"
           },
           {
            "args": [
             [
              "2020-08-08"
             ],
             {
              "frame": {
               "duration": 0,
               "redraw": true
              },
              "fromcurrent": true,
              "mode": "immediate",
              "transition": {
               "duration": 0,
               "easing": "linear"
              }
             }
            ],
            "label": "2020-08-08",
            "method": "animate"
           },
           {
            "args": [
             [
              "2020-08-09"
             ],
             {
              "frame": {
               "duration": 0,
               "redraw": true
              },
              "fromcurrent": true,
              "mode": "immediate",
              "transition": {
               "duration": 0,
               "easing": "linear"
              }
             }
            ],
            "label": "2020-08-09",
            "method": "animate"
           },
           {
            "args": [
             [
              "2020-08-10"
             ],
             {
              "frame": {
               "duration": 0,
               "redraw": true
              },
              "fromcurrent": true,
              "mode": "immediate",
              "transition": {
               "duration": 0,
               "easing": "linear"
              }
             }
            ],
            "label": "2020-08-10",
            "method": "animate"
           },
           {
            "args": [
             [
              "2020-08-11"
             ],
             {
              "frame": {
               "duration": 0,
               "redraw": true
              },
              "fromcurrent": true,
              "mode": "immediate",
              "transition": {
               "duration": 0,
               "easing": "linear"
              }
             }
            ],
            "label": "2020-08-11",
            "method": "animate"
           },
           {
            "args": [
             [
              "2020-08-12"
             ],
             {
              "frame": {
               "duration": 0,
               "redraw": true
              },
              "fromcurrent": true,
              "mode": "immediate",
              "transition": {
               "duration": 0,
               "easing": "linear"
              }
             }
            ],
            "label": "2020-08-12",
            "method": "animate"
           },
           {
            "args": [
             [
              "2020-08-13"
             ],
             {
              "frame": {
               "duration": 0,
               "redraw": true
              },
              "fromcurrent": true,
              "mode": "immediate",
              "transition": {
               "duration": 0,
               "easing": "linear"
              }
             }
            ],
            "label": "2020-08-13",
            "method": "animate"
           },
           {
            "args": [
             [
              "2020-08-14"
             ],
             {
              "frame": {
               "duration": 0,
               "redraw": true
              },
              "fromcurrent": true,
              "mode": "immediate",
              "transition": {
               "duration": 0,
               "easing": "linear"
              }
             }
            ],
            "label": "2020-08-14",
            "method": "animate"
           },
           {
            "args": [
             [
              "2020-08-15"
             ],
             {
              "frame": {
               "duration": 0,
               "redraw": true
              },
              "fromcurrent": true,
              "mode": "immediate",
              "transition": {
               "duration": 0,
               "easing": "linear"
              }
             }
            ],
            "label": "2020-08-15",
            "method": "animate"
           },
           {
            "args": [
             [
              "2020-08-16"
             ],
             {
              "frame": {
               "duration": 0,
               "redraw": true
              },
              "fromcurrent": true,
              "mode": "immediate",
              "transition": {
               "duration": 0,
               "easing": "linear"
              }
             }
            ],
            "label": "2020-08-16",
            "method": "animate"
           },
           {
            "args": [
             [
              "2020-08-17"
             ],
             {
              "frame": {
               "duration": 0,
               "redraw": true
              },
              "fromcurrent": true,
              "mode": "immediate",
              "transition": {
               "duration": 0,
               "easing": "linear"
              }
             }
            ],
            "label": "2020-08-17",
            "method": "animate"
           },
           {
            "args": [
             [
              "2020-08-18"
             ],
             {
              "frame": {
               "duration": 0,
               "redraw": true
              },
              "fromcurrent": true,
              "mode": "immediate",
              "transition": {
               "duration": 0,
               "easing": "linear"
              }
             }
            ],
            "label": "2020-08-18",
            "method": "animate"
           },
           {
            "args": [
             [
              "2020-08-19"
             ],
             {
              "frame": {
               "duration": 0,
               "redraw": true
              },
              "fromcurrent": true,
              "mode": "immediate",
              "transition": {
               "duration": 0,
               "easing": "linear"
              }
             }
            ],
            "label": "2020-08-19",
            "method": "animate"
           },
           {
            "args": [
             [
              "2020-08-20"
             ],
             {
              "frame": {
               "duration": 0,
               "redraw": true
              },
              "fromcurrent": true,
              "mode": "immediate",
              "transition": {
               "duration": 0,
               "easing": "linear"
              }
             }
            ],
            "label": "2020-08-20",
            "method": "animate"
           },
           {
            "args": [
             [
              "2020-08-21"
             ],
             {
              "frame": {
               "duration": 0,
               "redraw": true
              },
              "fromcurrent": true,
              "mode": "immediate",
              "transition": {
               "duration": 0,
               "easing": "linear"
              }
             }
            ],
            "label": "2020-08-21",
            "method": "animate"
           },
           {
            "args": [
             [
              "2020-08-22"
             ],
             {
              "frame": {
               "duration": 0,
               "redraw": true
              },
              "fromcurrent": true,
              "mode": "immediate",
              "transition": {
               "duration": 0,
               "easing": "linear"
              }
             }
            ],
            "label": "2020-08-22",
            "method": "animate"
           },
           {
            "args": [
             [
              "2020-08-23"
             ],
             {
              "frame": {
               "duration": 0,
               "redraw": true
              },
              "fromcurrent": true,
              "mode": "immediate",
              "transition": {
               "duration": 0,
               "easing": "linear"
              }
             }
            ],
            "label": "2020-08-23",
            "method": "animate"
           },
           {
            "args": [
             [
              "2020-08-24"
             ],
             {
              "frame": {
               "duration": 0,
               "redraw": true
              },
              "fromcurrent": true,
              "mode": "immediate",
              "transition": {
               "duration": 0,
               "easing": "linear"
              }
             }
            ],
            "label": "2020-08-24",
            "method": "animate"
           },
           {
            "args": [
             [
              "2020-08-25"
             ],
             {
              "frame": {
               "duration": 0,
               "redraw": true
              },
              "fromcurrent": true,
              "mode": "immediate",
              "transition": {
               "duration": 0,
               "easing": "linear"
              }
             }
            ],
            "label": "2020-08-25",
            "method": "animate"
           },
           {
            "args": [
             [
              "2020-08-26"
             ],
             {
              "frame": {
               "duration": 0,
               "redraw": true
              },
              "fromcurrent": true,
              "mode": "immediate",
              "transition": {
               "duration": 0,
               "easing": "linear"
              }
             }
            ],
            "label": "2020-08-26",
            "method": "animate"
           },
           {
            "args": [
             [
              "2020-08-27"
             ],
             {
              "frame": {
               "duration": 0,
               "redraw": true
              },
              "fromcurrent": true,
              "mode": "immediate",
              "transition": {
               "duration": 0,
               "easing": "linear"
              }
             }
            ],
            "label": "2020-08-27",
            "method": "animate"
           },
           {
            "args": [
             [
              "2020-08-28"
             ],
             {
              "frame": {
               "duration": 0,
               "redraw": true
              },
              "fromcurrent": true,
              "mode": "immediate",
              "transition": {
               "duration": 0,
               "easing": "linear"
              }
             }
            ],
            "label": "2020-08-28",
            "method": "animate"
           },
           {
            "args": [
             [
              "2020-08-29"
             ],
             {
              "frame": {
               "duration": 0,
               "redraw": true
              },
              "fromcurrent": true,
              "mode": "immediate",
              "transition": {
               "duration": 0,
               "easing": "linear"
              }
             }
            ],
            "label": "2020-08-29",
            "method": "animate"
           },
           {
            "args": [
             [
              "2020-08-30"
             ],
             {
              "frame": {
               "duration": 0,
               "redraw": true
              },
              "fromcurrent": true,
              "mode": "immediate",
              "transition": {
               "duration": 0,
               "easing": "linear"
              }
             }
            ],
            "label": "2020-08-30",
            "method": "animate"
           },
           {
            "args": [
             [
              "2020-08-31"
             ],
             {
              "frame": {
               "duration": 0,
               "redraw": true
              },
              "fromcurrent": true,
              "mode": "immediate",
              "transition": {
               "duration": 0,
               "easing": "linear"
              }
             }
            ],
            "label": "2020-08-31",
            "method": "animate"
           },
           {
            "args": [
             [
              "2020-09-01"
             ],
             {
              "frame": {
               "duration": 0,
               "redraw": true
              },
              "fromcurrent": true,
              "mode": "immediate",
              "transition": {
               "duration": 0,
               "easing": "linear"
              }
             }
            ],
            "label": "2020-09-01",
            "method": "animate"
           },
           {
            "args": [
             [
              "2020-09-02"
             ],
             {
              "frame": {
               "duration": 0,
               "redraw": true
              },
              "fromcurrent": true,
              "mode": "immediate",
              "transition": {
               "duration": 0,
               "easing": "linear"
              }
             }
            ],
            "label": "2020-09-02",
            "method": "animate"
           },
           {
            "args": [
             [
              "2020-09-03"
             ],
             {
              "frame": {
               "duration": 0,
               "redraw": true
              },
              "fromcurrent": true,
              "mode": "immediate",
              "transition": {
               "duration": 0,
               "easing": "linear"
              }
             }
            ],
            "label": "2020-09-03",
            "method": "animate"
           },
           {
            "args": [
             [
              "2020-09-04"
             ],
             {
              "frame": {
               "duration": 0,
               "redraw": true
              },
              "fromcurrent": true,
              "mode": "immediate",
              "transition": {
               "duration": 0,
               "easing": "linear"
              }
             }
            ],
            "label": "2020-09-04",
            "method": "animate"
           },
           {
            "args": [
             [
              "2020-09-05"
             ],
             {
              "frame": {
               "duration": 0,
               "redraw": true
              },
              "fromcurrent": true,
              "mode": "immediate",
              "transition": {
               "duration": 0,
               "easing": "linear"
              }
             }
            ],
            "label": "2020-09-05",
            "method": "animate"
           },
           {
            "args": [
             [
              "2020-09-06"
             ],
             {
              "frame": {
               "duration": 0,
               "redraw": true
              },
              "fromcurrent": true,
              "mode": "immediate",
              "transition": {
               "duration": 0,
               "easing": "linear"
              }
             }
            ],
            "label": "2020-09-06",
            "method": "animate"
           },
           {
            "args": [
             [
              "2020-09-07"
             ],
             {
              "frame": {
               "duration": 0,
               "redraw": true
              },
              "fromcurrent": true,
              "mode": "immediate",
              "transition": {
               "duration": 0,
               "easing": "linear"
              }
             }
            ],
            "label": "2020-09-07",
            "method": "animate"
           },
           {
            "args": [
             [
              "2020-09-08"
             ],
             {
              "frame": {
               "duration": 0,
               "redraw": true
              },
              "fromcurrent": true,
              "mode": "immediate",
              "transition": {
               "duration": 0,
               "easing": "linear"
              }
             }
            ],
            "label": "2020-09-08",
            "method": "animate"
           },
           {
            "args": [
             [
              "2020-09-09"
             ],
             {
              "frame": {
               "duration": 0,
               "redraw": true
              },
              "fromcurrent": true,
              "mode": "immediate",
              "transition": {
               "duration": 0,
               "easing": "linear"
              }
             }
            ],
            "label": "2020-09-09",
            "method": "animate"
           },
           {
            "args": [
             [
              "2020-09-10"
             ],
             {
              "frame": {
               "duration": 0,
               "redraw": true
              },
              "fromcurrent": true,
              "mode": "immediate",
              "transition": {
               "duration": 0,
               "easing": "linear"
              }
             }
            ],
            "label": "2020-09-10",
            "method": "animate"
           },
           {
            "args": [
             [
              "2020-09-11"
             ],
             {
              "frame": {
               "duration": 0,
               "redraw": true
              },
              "fromcurrent": true,
              "mode": "immediate",
              "transition": {
               "duration": 0,
               "easing": "linear"
              }
             }
            ],
            "label": "2020-09-11",
            "method": "animate"
           },
           {
            "args": [
             [
              "2020-09-12"
             ],
             {
              "frame": {
               "duration": 0,
               "redraw": true
              },
              "fromcurrent": true,
              "mode": "immediate",
              "transition": {
               "duration": 0,
               "easing": "linear"
              }
             }
            ],
            "label": "2020-09-12",
            "method": "animate"
           },
           {
            "args": [
             [
              "2020-09-13"
             ],
             {
              "frame": {
               "duration": 0,
               "redraw": true
              },
              "fromcurrent": true,
              "mode": "immediate",
              "transition": {
               "duration": 0,
               "easing": "linear"
              }
             }
            ],
            "label": "2020-09-13",
            "method": "animate"
           },
           {
            "args": [
             [
              "2020-09-14"
             ],
             {
              "frame": {
               "duration": 0,
               "redraw": true
              },
              "fromcurrent": true,
              "mode": "immediate",
              "transition": {
               "duration": 0,
               "easing": "linear"
              }
             }
            ],
            "label": "2020-09-14",
            "method": "animate"
           },
           {
            "args": [
             [
              "2020-09-15"
             ],
             {
              "frame": {
               "duration": 0,
               "redraw": true
              },
              "fromcurrent": true,
              "mode": "immediate",
              "transition": {
               "duration": 0,
               "easing": "linear"
              }
             }
            ],
            "label": "2020-09-15",
            "method": "animate"
           },
           {
            "args": [
             [
              "2020-09-16"
             ],
             {
              "frame": {
               "duration": 0,
               "redraw": true
              },
              "fromcurrent": true,
              "mode": "immediate",
              "transition": {
               "duration": 0,
               "easing": "linear"
              }
             }
            ],
            "label": "2020-09-16",
            "method": "animate"
           },
           {
            "args": [
             [
              "2020-09-17"
             ],
             {
              "frame": {
               "duration": 0,
               "redraw": true
              },
              "fromcurrent": true,
              "mode": "immediate",
              "transition": {
               "duration": 0,
               "easing": "linear"
              }
             }
            ],
            "label": "2020-09-17",
            "method": "animate"
           },
           {
            "args": [
             [
              "2020-09-18"
             ],
             {
              "frame": {
               "duration": 0,
               "redraw": true
              },
              "fromcurrent": true,
              "mode": "immediate",
              "transition": {
               "duration": 0,
               "easing": "linear"
              }
             }
            ],
            "label": "2020-09-18",
            "method": "animate"
           },
           {
            "args": [
             [
              "2020-09-19"
             ],
             {
              "frame": {
               "duration": 0,
               "redraw": true
              },
              "fromcurrent": true,
              "mode": "immediate",
              "transition": {
               "duration": 0,
               "easing": "linear"
              }
             }
            ],
            "label": "2020-09-19",
            "method": "animate"
           },
           {
            "args": [
             [
              "2020-09-20"
             ],
             {
              "frame": {
               "duration": 0,
               "redraw": true
              },
              "fromcurrent": true,
              "mode": "immediate",
              "transition": {
               "duration": 0,
               "easing": "linear"
              }
             }
            ],
            "label": "2020-09-20",
            "method": "animate"
           },
           {
            "args": [
             [
              "2020-09-21"
             ],
             {
              "frame": {
               "duration": 0,
               "redraw": true
              },
              "fromcurrent": true,
              "mode": "immediate",
              "transition": {
               "duration": 0,
               "easing": "linear"
              }
             }
            ],
            "label": "2020-09-21",
            "method": "animate"
           },
           {
            "args": [
             [
              "2020-09-22"
             ],
             {
              "frame": {
               "duration": 0,
               "redraw": true
              },
              "fromcurrent": true,
              "mode": "immediate",
              "transition": {
               "duration": 0,
               "easing": "linear"
              }
             }
            ],
            "label": "2020-09-22",
            "method": "animate"
           },
           {
            "args": [
             [
              "2020-09-23"
             ],
             {
              "frame": {
               "duration": 0,
               "redraw": true
              },
              "fromcurrent": true,
              "mode": "immediate",
              "transition": {
               "duration": 0,
               "easing": "linear"
              }
             }
            ],
            "label": "2020-09-23",
            "method": "animate"
           },
           {
            "args": [
             [
              "2020-09-24"
             ],
             {
              "frame": {
               "duration": 0,
               "redraw": true
              },
              "fromcurrent": true,
              "mode": "immediate",
              "transition": {
               "duration": 0,
               "easing": "linear"
              }
             }
            ],
            "label": "2020-09-24",
            "method": "animate"
           },
           {
            "args": [
             [
              "2020-09-25"
             ],
             {
              "frame": {
               "duration": 0,
               "redraw": true
              },
              "fromcurrent": true,
              "mode": "immediate",
              "transition": {
               "duration": 0,
               "easing": "linear"
              }
             }
            ],
            "label": "2020-09-25",
            "method": "animate"
           },
           {
            "args": [
             [
              "2020-09-26"
             ],
             {
              "frame": {
               "duration": 0,
               "redraw": true
              },
              "fromcurrent": true,
              "mode": "immediate",
              "transition": {
               "duration": 0,
               "easing": "linear"
              }
             }
            ],
            "label": "2020-09-26",
            "method": "animate"
           },
           {
            "args": [
             [
              "2020-09-27"
             ],
             {
              "frame": {
               "duration": 0,
               "redraw": true
              },
              "fromcurrent": true,
              "mode": "immediate",
              "transition": {
               "duration": 0,
               "easing": "linear"
              }
             }
            ],
            "label": "2020-09-27",
            "method": "animate"
           },
           {
            "args": [
             [
              "2020-09-28"
             ],
             {
              "frame": {
               "duration": 0,
               "redraw": true
              },
              "fromcurrent": true,
              "mode": "immediate",
              "transition": {
               "duration": 0,
               "easing": "linear"
              }
             }
            ],
            "label": "2020-09-28",
            "method": "animate"
           },
           {
            "args": [
             [
              "2020-09-29"
             ],
             {
              "frame": {
               "duration": 0,
               "redraw": true
              },
              "fromcurrent": true,
              "mode": "immediate",
              "transition": {
               "duration": 0,
               "easing": "linear"
              }
             }
            ],
            "label": "2020-09-29",
            "method": "animate"
           },
           {
            "args": [
             [
              "2020-09-30"
             ],
             {
              "frame": {
               "duration": 0,
               "redraw": true
              },
              "fromcurrent": true,
              "mode": "immediate",
              "transition": {
               "duration": 0,
               "easing": "linear"
              }
             }
            ],
            "label": "2020-09-30",
            "method": "animate"
           },
           {
            "args": [
             [
              "2020-10-01"
             ],
             {
              "frame": {
               "duration": 0,
               "redraw": true
              },
              "fromcurrent": true,
              "mode": "immediate",
              "transition": {
               "duration": 0,
               "easing": "linear"
              }
             }
            ],
            "label": "2020-10-01",
            "method": "animate"
           },
           {
            "args": [
             [
              "2020-10-02"
             ],
             {
              "frame": {
               "duration": 0,
               "redraw": true
              },
              "fromcurrent": true,
              "mode": "immediate",
              "transition": {
               "duration": 0,
               "easing": "linear"
              }
             }
            ],
            "label": "2020-10-02",
            "method": "animate"
           },
           {
            "args": [
             [
              "2020-10-03"
             ],
             {
              "frame": {
               "duration": 0,
               "redraw": true
              },
              "fromcurrent": true,
              "mode": "immediate",
              "transition": {
               "duration": 0,
               "easing": "linear"
              }
             }
            ],
            "label": "2020-10-03",
            "method": "animate"
           },
           {
            "args": [
             [
              "2020-10-04"
             ],
             {
              "frame": {
               "duration": 0,
               "redraw": true
              },
              "fromcurrent": true,
              "mode": "immediate",
              "transition": {
               "duration": 0,
               "easing": "linear"
              }
             }
            ],
            "label": "2020-10-04",
            "method": "animate"
           },
           {
            "args": [
             [
              "2020-10-05"
             ],
             {
              "frame": {
               "duration": 0,
               "redraw": true
              },
              "fromcurrent": true,
              "mode": "immediate",
              "transition": {
               "duration": 0,
               "easing": "linear"
              }
             }
            ],
            "label": "2020-10-05",
            "method": "animate"
           },
           {
            "args": [
             [
              "2020-10-06"
             ],
             {
              "frame": {
               "duration": 0,
               "redraw": true
              },
              "fromcurrent": true,
              "mode": "immediate",
              "transition": {
               "duration": 0,
               "easing": "linear"
              }
             }
            ],
            "label": "2020-10-06",
            "method": "animate"
           },
           {
            "args": [
             [
              "2020-10-07"
             ],
             {
              "frame": {
               "duration": 0,
               "redraw": true
              },
              "fromcurrent": true,
              "mode": "immediate",
              "transition": {
               "duration": 0,
               "easing": "linear"
              }
             }
            ],
            "label": "2020-10-07",
            "method": "animate"
           },
           {
            "args": [
             [
              "2020-10-08"
             ],
             {
              "frame": {
               "duration": 0,
               "redraw": true
              },
              "fromcurrent": true,
              "mode": "immediate",
              "transition": {
               "duration": 0,
               "easing": "linear"
              }
             }
            ],
            "label": "2020-10-08",
            "method": "animate"
           },
           {
            "args": [
             [
              "2020-10-09"
             ],
             {
              "frame": {
               "duration": 0,
               "redraw": true
              },
              "fromcurrent": true,
              "mode": "immediate",
              "transition": {
               "duration": 0,
               "easing": "linear"
              }
             }
            ],
            "label": "2020-10-09",
            "method": "animate"
           },
           {
            "args": [
             [
              "2020-10-10"
             ],
             {
              "frame": {
               "duration": 0,
               "redraw": true
              },
              "fromcurrent": true,
              "mode": "immediate",
              "transition": {
               "duration": 0,
               "easing": "linear"
              }
             }
            ],
            "label": "2020-10-10",
            "method": "animate"
           },
           {
            "args": [
             [
              "2020-10-11"
             ],
             {
              "frame": {
               "duration": 0,
               "redraw": true
              },
              "fromcurrent": true,
              "mode": "immediate",
              "transition": {
               "duration": 0,
               "easing": "linear"
              }
             }
            ],
            "label": "2020-10-11",
            "method": "animate"
           },
           {
            "args": [
             [
              "2020-10-12"
             ],
             {
              "frame": {
               "duration": 0,
               "redraw": true
              },
              "fromcurrent": true,
              "mode": "immediate",
              "transition": {
               "duration": 0,
               "easing": "linear"
              }
             }
            ],
            "label": "2020-10-12",
            "method": "animate"
           },
           {
            "args": [
             [
              "2020-10-13"
             ],
             {
              "frame": {
               "duration": 0,
               "redraw": true
              },
              "fromcurrent": true,
              "mode": "immediate",
              "transition": {
               "duration": 0,
               "easing": "linear"
              }
             }
            ],
            "label": "2020-10-13",
            "method": "animate"
           },
           {
            "args": [
             [
              "2020-10-14"
             ],
             {
              "frame": {
               "duration": 0,
               "redraw": true
              },
              "fromcurrent": true,
              "mode": "immediate",
              "transition": {
               "duration": 0,
               "easing": "linear"
              }
             }
            ],
            "label": "2020-10-14",
            "method": "animate"
           },
           {
            "args": [
             [
              "2020-10-15"
             ],
             {
              "frame": {
               "duration": 0,
               "redraw": true
              },
              "fromcurrent": true,
              "mode": "immediate",
              "transition": {
               "duration": 0,
               "easing": "linear"
              }
             }
            ],
            "label": "2020-10-15",
            "method": "animate"
           },
           {
            "args": [
             [
              "2020-10-16"
             ],
             {
              "frame": {
               "duration": 0,
               "redraw": true
              },
              "fromcurrent": true,
              "mode": "immediate",
              "transition": {
               "duration": 0,
               "easing": "linear"
              }
             }
            ],
            "label": "2020-10-16",
            "method": "animate"
           },
           {
            "args": [
             [
              "2020-10-17"
             ],
             {
              "frame": {
               "duration": 0,
               "redraw": true
              },
              "fromcurrent": true,
              "mode": "immediate",
              "transition": {
               "duration": 0,
               "easing": "linear"
              }
             }
            ],
            "label": "2020-10-17",
            "method": "animate"
           },
           {
            "args": [
             [
              "2020-10-18"
             ],
             {
              "frame": {
               "duration": 0,
               "redraw": true
              },
              "fromcurrent": true,
              "mode": "immediate",
              "transition": {
               "duration": 0,
               "easing": "linear"
              }
             }
            ],
            "label": "2020-10-18",
            "method": "animate"
           },
           {
            "args": [
             [
              "2020-10-19"
             ],
             {
              "frame": {
               "duration": 0,
               "redraw": true
              },
              "fromcurrent": true,
              "mode": "immediate",
              "transition": {
               "duration": 0,
               "easing": "linear"
              }
             }
            ],
            "label": "2020-10-19",
            "method": "animate"
           },
           {
            "args": [
             [
              "2020-10-20"
             ],
             {
              "frame": {
               "duration": 0,
               "redraw": true
              },
              "fromcurrent": true,
              "mode": "immediate",
              "transition": {
               "duration": 0,
               "easing": "linear"
              }
             }
            ],
            "label": "2020-10-20",
            "method": "animate"
           },
           {
            "args": [
             [
              "2020-10-21"
             ],
             {
              "frame": {
               "duration": 0,
               "redraw": true
              },
              "fromcurrent": true,
              "mode": "immediate",
              "transition": {
               "duration": 0,
               "easing": "linear"
              }
             }
            ],
            "label": "2020-10-21",
            "method": "animate"
           },
           {
            "args": [
             [
              "2020-10-22"
             ],
             {
              "frame": {
               "duration": 0,
               "redraw": true
              },
              "fromcurrent": true,
              "mode": "immediate",
              "transition": {
               "duration": 0,
               "easing": "linear"
              }
             }
            ],
            "label": "2020-10-22",
            "method": "animate"
           },
           {
            "args": [
             [
              "2020-10-23"
             ],
             {
              "frame": {
               "duration": 0,
               "redraw": true
              },
              "fromcurrent": true,
              "mode": "immediate",
              "transition": {
               "duration": 0,
               "easing": "linear"
              }
             }
            ],
            "label": "2020-10-23",
            "method": "animate"
           },
           {
            "args": [
             [
              "2020-10-24"
             ],
             {
              "frame": {
               "duration": 0,
               "redraw": true
              },
              "fromcurrent": true,
              "mode": "immediate",
              "transition": {
               "duration": 0,
               "easing": "linear"
              }
             }
            ],
            "label": "2020-10-24",
            "method": "animate"
           },
           {
            "args": [
             [
              "2020-10-25"
             ],
             {
              "frame": {
               "duration": 0,
               "redraw": true
              },
              "fromcurrent": true,
              "mode": "immediate",
              "transition": {
               "duration": 0,
               "easing": "linear"
              }
             }
            ],
            "label": "2020-10-25",
            "method": "animate"
           },
           {
            "args": [
             [
              "2020-10-26"
             ],
             {
              "frame": {
               "duration": 0,
               "redraw": true
              },
              "fromcurrent": true,
              "mode": "immediate",
              "transition": {
               "duration": 0,
               "easing": "linear"
              }
             }
            ],
            "label": "2020-10-26",
            "method": "animate"
           },
           {
            "args": [
             [
              "2020-10-27"
             ],
             {
              "frame": {
               "duration": 0,
               "redraw": true
              },
              "fromcurrent": true,
              "mode": "immediate",
              "transition": {
               "duration": 0,
               "easing": "linear"
              }
             }
            ],
            "label": "2020-10-27",
            "method": "animate"
           },
           {
            "args": [
             [
              "2020-10-28"
             ],
             {
              "frame": {
               "duration": 0,
               "redraw": true
              },
              "fromcurrent": true,
              "mode": "immediate",
              "transition": {
               "duration": 0,
               "easing": "linear"
              }
             }
            ],
            "label": "2020-10-28",
            "method": "animate"
           },
           {
            "args": [
             [
              "2020-10-29"
             ],
             {
              "frame": {
               "duration": 0,
               "redraw": true
              },
              "fromcurrent": true,
              "mode": "immediate",
              "transition": {
               "duration": 0,
               "easing": "linear"
              }
             }
            ],
            "label": "2020-10-29",
            "method": "animate"
           },
           {
            "args": [
             [
              "2020-10-30"
             ],
             {
              "frame": {
               "duration": 0,
               "redraw": true
              },
              "fromcurrent": true,
              "mode": "immediate",
              "transition": {
               "duration": 0,
               "easing": "linear"
              }
             }
            ],
            "label": "2020-10-30",
            "method": "animate"
           },
           {
            "args": [
             [
              "2020-10-31"
             ],
             {
              "frame": {
               "duration": 0,
               "redraw": true
              },
              "fromcurrent": true,
              "mode": "immediate",
              "transition": {
               "duration": 0,
               "easing": "linear"
              }
             }
            ],
            "label": "2020-10-31",
            "method": "animate"
           },
           {
            "args": [
             [
              "2020-11-01"
             ],
             {
              "frame": {
               "duration": 0,
               "redraw": true
              },
              "fromcurrent": true,
              "mode": "immediate",
              "transition": {
               "duration": 0,
               "easing": "linear"
              }
             }
            ],
            "label": "2020-11-01",
            "method": "animate"
           },
           {
            "args": [
             [
              "2020-11-02"
             ],
             {
              "frame": {
               "duration": 0,
               "redraw": true
              },
              "fromcurrent": true,
              "mode": "immediate",
              "transition": {
               "duration": 0,
               "easing": "linear"
              }
             }
            ],
            "label": "2020-11-02",
            "method": "animate"
           },
           {
            "args": [
             [
              "2020-11-03"
             ],
             {
              "frame": {
               "duration": 0,
               "redraw": true
              },
              "fromcurrent": true,
              "mode": "immediate",
              "transition": {
               "duration": 0,
               "easing": "linear"
              }
             }
            ],
            "label": "2020-11-03",
            "method": "animate"
           }
          ],
          "x": 0.1,
          "xanchor": "left",
          "y": 0,
          "yanchor": "top"
         }
        ],
        "template": {
         "data": {
          "bar": [
           {
            "error_x": {
             "color": "#2a3f5f"
            },
            "error_y": {
             "color": "#2a3f5f"
            },
            "marker": {
             "line": {
              "color": "#E5ECF6",
              "width": 0.5
             }
            },
            "type": "bar"
           }
          ],
          "barpolar": [
           {
            "marker": {
             "line": {
              "color": "#E5ECF6",
              "width": 0.5
             }
            },
            "type": "barpolar"
           }
          ],
          "carpet": [
           {
            "aaxis": {
             "endlinecolor": "#2a3f5f",
             "gridcolor": "white",
             "linecolor": "white",
             "minorgridcolor": "white",
             "startlinecolor": "#2a3f5f"
            },
            "baxis": {
             "endlinecolor": "#2a3f5f",
             "gridcolor": "white",
             "linecolor": "white",
             "minorgridcolor": "white",
             "startlinecolor": "#2a3f5f"
            },
            "type": "carpet"
           }
          ],
          "choropleth": [
           {
            "colorbar": {
             "outlinewidth": 0,
             "ticks": ""
            },
            "type": "choropleth"
           }
          ],
          "contour": [
           {
            "colorbar": {
             "outlinewidth": 0,
             "ticks": ""
            },
            "colorscale": [
             [
              0,
              "#0d0887"
             ],
             [
              0.1111111111111111,
              "#46039f"
             ],
             [
              0.2222222222222222,
              "#7201a8"
             ],
             [
              0.3333333333333333,
              "#9c179e"
             ],
             [
              0.4444444444444444,
              "#bd3786"
             ],
             [
              0.5555555555555556,
              "#d8576b"
             ],
             [
              0.6666666666666666,
              "#ed7953"
             ],
             [
              0.7777777777777778,
              "#fb9f3a"
             ],
             [
              0.8888888888888888,
              "#fdca26"
             ],
             [
              1,
              "#f0f921"
             ]
            ],
            "type": "contour"
           }
          ],
          "contourcarpet": [
           {
            "colorbar": {
             "outlinewidth": 0,
             "ticks": ""
            },
            "type": "contourcarpet"
           }
          ],
          "heatmap": [
           {
            "colorbar": {
             "outlinewidth": 0,
             "ticks": ""
            },
            "colorscale": [
             [
              0,
              "#0d0887"
             ],
             [
              0.1111111111111111,
              "#46039f"
             ],
             [
              0.2222222222222222,
              "#7201a8"
             ],
             [
              0.3333333333333333,
              "#9c179e"
             ],
             [
              0.4444444444444444,
              "#bd3786"
             ],
             [
              0.5555555555555556,
              "#d8576b"
             ],
             [
              0.6666666666666666,
              "#ed7953"
             ],
             [
              0.7777777777777778,
              "#fb9f3a"
             ],
             [
              0.8888888888888888,
              "#fdca26"
             ],
             [
              1,
              "#f0f921"
             ]
            ],
            "type": "heatmap"
           }
          ],
          "heatmapgl": [
           {
            "colorbar": {
             "outlinewidth": 0,
             "ticks": ""
            },
            "colorscale": [
             [
              0,
              "#0d0887"
             ],
             [
              0.1111111111111111,
              "#46039f"
             ],
             [
              0.2222222222222222,
              "#7201a8"
             ],
             [
              0.3333333333333333,
              "#9c179e"
             ],
             [
              0.4444444444444444,
              "#bd3786"
             ],
             [
              0.5555555555555556,
              "#d8576b"
             ],
             [
              0.6666666666666666,
              "#ed7953"
             ],
             [
              0.7777777777777778,
              "#fb9f3a"
             ],
             [
              0.8888888888888888,
              "#fdca26"
             ],
             [
              1,
              "#f0f921"
             ]
            ],
            "type": "heatmapgl"
           }
          ],
          "histogram": [
           {
            "marker": {
             "colorbar": {
              "outlinewidth": 0,
              "ticks": ""
             }
            },
            "type": "histogram"
           }
          ],
          "histogram2d": [
           {
            "colorbar": {
             "outlinewidth": 0,
             "ticks": ""
            },
            "colorscale": [
             [
              0,
              "#0d0887"
             ],
             [
              0.1111111111111111,
              "#46039f"
             ],
             [
              0.2222222222222222,
              "#7201a8"
             ],
             [
              0.3333333333333333,
              "#9c179e"
             ],
             [
              0.4444444444444444,
              "#bd3786"
             ],
             [
              0.5555555555555556,
              "#d8576b"
             ],
             [
              0.6666666666666666,
              "#ed7953"
             ],
             [
              0.7777777777777778,
              "#fb9f3a"
             ],
             [
              0.8888888888888888,
              "#fdca26"
             ],
             [
              1,
              "#f0f921"
             ]
            ],
            "type": "histogram2d"
           }
          ],
          "histogram2dcontour": [
           {
            "colorbar": {
             "outlinewidth": 0,
             "ticks": ""
            },
            "colorscale": [
             [
              0,
              "#0d0887"
             ],
             [
              0.1111111111111111,
              "#46039f"
             ],
             [
              0.2222222222222222,
              "#7201a8"
             ],
             [
              0.3333333333333333,
              "#9c179e"
             ],
             [
              0.4444444444444444,
              "#bd3786"
             ],
             [
              0.5555555555555556,
              "#d8576b"
             ],
             [
              0.6666666666666666,
              "#ed7953"
             ],
             [
              0.7777777777777778,
              "#fb9f3a"
             ],
             [
              0.8888888888888888,
              "#fdca26"
             ],
             [
              1,
              "#f0f921"
             ]
            ],
            "type": "histogram2dcontour"
           }
          ],
          "mesh3d": [
           {
            "colorbar": {
             "outlinewidth": 0,
             "ticks": ""
            },
            "type": "mesh3d"
           }
          ],
          "parcoords": [
           {
            "line": {
             "colorbar": {
              "outlinewidth": 0,
              "ticks": ""
             }
            },
            "type": "parcoords"
           }
          ],
          "pie": [
           {
            "automargin": true,
            "type": "pie"
           }
          ],
          "scatter": [
           {
            "marker": {
             "colorbar": {
              "outlinewidth": 0,
              "ticks": ""
             }
            },
            "type": "scatter"
           }
          ],
          "scatter3d": [
           {
            "line": {
             "colorbar": {
              "outlinewidth": 0,
              "ticks": ""
             }
            },
            "marker": {
             "colorbar": {
              "outlinewidth": 0,
              "ticks": ""
             }
            },
            "type": "scatter3d"
           }
          ],
          "scattercarpet": [
           {
            "marker": {
             "colorbar": {
              "outlinewidth": 0,
              "ticks": ""
             }
            },
            "type": "scattercarpet"
           }
          ],
          "scattergeo": [
           {
            "marker": {
             "colorbar": {
              "outlinewidth": 0,
              "ticks": ""
             }
            },
            "type": "scattergeo"
           }
          ],
          "scattergl": [
           {
            "marker": {
             "colorbar": {
              "outlinewidth": 0,
              "ticks": ""
             }
            },
            "type": "scattergl"
           }
          ],
          "scattermapbox": [
           {
            "marker": {
             "colorbar": {
              "outlinewidth": 0,
              "ticks": ""
             }
            },
            "type": "scattermapbox"
           }
          ],
          "scatterpolar": [
           {
            "marker": {
             "colorbar": {
              "outlinewidth": 0,
              "ticks": ""
             }
            },
            "type": "scatterpolar"
           }
          ],
          "scatterpolargl": [
           {
            "marker": {
             "colorbar": {
              "outlinewidth": 0,
              "ticks": ""
             }
            },
            "type": "scatterpolargl"
           }
          ],
          "scatterternary": [
           {
            "marker": {
             "colorbar": {
              "outlinewidth": 0,
              "ticks": ""
             }
            },
            "type": "scatterternary"
           }
          ],
          "surface": [
           {
            "colorbar": {
             "outlinewidth": 0,
             "ticks": ""
            },
            "colorscale": [
             [
              0,
              "#0d0887"
             ],
             [
              0.1111111111111111,
              "#46039f"
             ],
             [
              0.2222222222222222,
              "#7201a8"
             ],
             [
              0.3333333333333333,
              "#9c179e"
             ],
             [
              0.4444444444444444,
              "#bd3786"
             ],
             [
              0.5555555555555556,
              "#d8576b"
             ],
             [
              0.6666666666666666,
              "#ed7953"
             ],
             [
              0.7777777777777778,
              "#fb9f3a"
             ],
             [
              0.8888888888888888,
              "#fdca26"
             ],
             [
              1,
              "#f0f921"
             ]
            ],
            "type": "surface"
           }
          ],
          "table": [
           {
            "cells": {
             "fill": {
              "color": "#EBF0F8"
             },
             "line": {
              "color": "white"
             }
            },
            "header": {
             "fill": {
              "color": "#C8D4E3"
             },
             "line": {
              "color": "white"
             }
            },
            "type": "table"
           }
          ]
         },
         "layout": {
          "annotationdefaults": {
           "arrowcolor": "#2a3f5f",
           "arrowhead": 0,
           "arrowwidth": 1
          },
          "coloraxis": {
           "colorbar": {
            "outlinewidth": 0,
            "ticks": ""
           }
          },
          "colorscale": {
           "diverging": [
            [
             0,
             "#8e0152"
            ],
            [
             0.1,
             "#c51b7d"
            ],
            [
             0.2,
             "#de77ae"
            ],
            [
             0.3,
             "#f1b6da"
            ],
            [
             0.4,
             "#fde0ef"
            ],
            [
             0.5,
             "#f7f7f7"
            ],
            [
             0.6,
             "#e6f5d0"
            ],
            [
             0.7,
             "#b8e186"
            ],
            [
             0.8,
             "#7fbc41"
            ],
            [
             0.9,
             "#4d9221"
            ],
            [
             1,
             "#276419"
            ]
           ],
           "sequential": [
            [
             0,
             "#0d0887"
            ],
            [
             0.1111111111111111,
             "#46039f"
            ],
            [
             0.2222222222222222,
             "#7201a8"
            ],
            [
             0.3333333333333333,
             "#9c179e"
            ],
            [
             0.4444444444444444,
             "#bd3786"
            ],
            [
             0.5555555555555556,
             "#d8576b"
            ],
            [
             0.6666666666666666,
             "#ed7953"
            ],
            [
             0.7777777777777778,
             "#fb9f3a"
            ],
            [
             0.8888888888888888,
             "#fdca26"
            ],
            [
             1,
             "#f0f921"
            ]
           ],
           "sequentialminus": [
            [
             0,
             "#0d0887"
            ],
            [
             0.1111111111111111,
             "#46039f"
            ],
            [
             0.2222222222222222,
             "#7201a8"
            ],
            [
             0.3333333333333333,
             "#9c179e"
            ],
            [
             0.4444444444444444,
             "#bd3786"
            ],
            [
             0.5555555555555556,
             "#d8576b"
            ],
            [
             0.6666666666666666,
             "#ed7953"
            ],
            [
             0.7777777777777778,
             "#fb9f3a"
            ],
            [
             0.8888888888888888,
             "#fdca26"
            ],
            [
             1,
             "#f0f921"
            ]
           ]
          },
          "colorway": [
           "#636efa",
           "#EF553B",
           "#00cc96",
           "#ab63fa",
           "#FFA15A",
           "#19d3f3",
           "#FF6692",
           "#B6E880",
           "#FF97FF",
           "#FECB52"
          ],
          "font": {
           "color": "#2a3f5f"
          },
          "geo": {
           "bgcolor": "white",
           "lakecolor": "white",
           "landcolor": "#E5ECF6",
           "showlakes": true,
           "showland": true,
           "subunitcolor": "white"
          },
          "hoverlabel": {
           "align": "left"
          },
          "hovermode": "closest",
          "mapbox": {
           "style": "light"
          },
          "paper_bgcolor": "white",
          "plot_bgcolor": "#E5ECF6",
          "polar": {
           "angularaxis": {
            "gridcolor": "white",
            "linecolor": "white",
            "ticks": ""
           },
           "bgcolor": "#E5ECF6",
           "radialaxis": {
            "gridcolor": "white",
            "linecolor": "white",
            "ticks": ""
           }
          },
          "scene": {
           "xaxis": {
            "backgroundcolor": "#E5ECF6",
            "gridcolor": "white",
            "gridwidth": 2,
            "linecolor": "white",
            "showbackground": true,
            "ticks": "",
            "zerolinecolor": "white"
           },
           "yaxis": {
            "backgroundcolor": "#E5ECF6",
            "gridcolor": "white",
            "gridwidth": 2,
            "linecolor": "white",
            "showbackground": true,
            "ticks": "",
            "zerolinecolor": "white"
           },
           "zaxis": {
            "backgroundcolor": "#E5ECF6",
            "gridcolor": "white",
            "gridwidth": 2,
            "linecolor": "white",
            "showbackground": true,
            "ticks": "",
            "zerolinecolor": "white"
           }
          },
          "shapedefaults": {
           "line": {
            "color": "#2a3f5f"
           }
          },
          "ternary": {
           "aaxis": {
            "gridcolor": "white",
            "linecolor": "white",
            "ticks": ""
           },
           "baxis": {
            "gridcolor": "white",
            "linecolor": "white",
            "ticks": ""
           },
           "bgcolor": "#E5ECF6",
           "caxis": {
            "gridcolor": "white",
            "linecolor": "white",
            "ticks": ""
           }
          },
          "title": {
           "x": 0.05
          },
          "xaxis": {
           "automargin": true,
           "gridcolor": "white",
           "linecolor": "white",
           "ticks": "",
           "title": {
            "standoff": 15
           },
           "zerolinecolor": "white",
           "zerolinewidth": 2
          },
          "yaxis": {
           "automargin": true,
           "gridcolor": "white",
           "linecolor": "white",
           "ticks": "",
           "title": {
            "standoff": 15
           },
           "zerolinecolor": "white",
           "zerolinewidth": 2
          }
         }
        },
        "updatemenus": [
         {
          "buttons": [
           {
            "args": [
             null,
             {
              "frame": {
               "duration": 100,
               "redraw": true
              },
              "fromcurrent": true,
              "mode": "immediate",
              "transition": {
               "duration": 500,
               "easing": "linear"
              }
             }
            ],
            "label": "&#9654;",
            "method": "animate"
           },
           {
            "args": [
             [
              null
             ],
             {
              "frame": {
               "duration": 0,
               "redraw": true
              },
              "fromcurrent": true,
              "mode": "immediate",
              "transition": {
               "duration": 0,
               "easing": "linear"
              }
             }
            ],
            "label": "&#9724;",
            "method": "animate"
           }
          ],
          "direction": "left",
          "pad": {
           "r": 10,
           "t": 70
          },
          "showactive": false,
          "type": "buttons",
          "x": 0.1,
          "xanchor": "right",
          "y": 0,
          "yanchor": "top"
         }
        ],
        "width": 600
       }
      },
      "text/html": [
       "<div>                            <div id=\"2900f9df-0cd1-49bd-805e-0017edee8def\" class=\"plotly-graph-div\" style=\"height:600px; width:600px;\"></div>            <script type=\"text/javascript\">                require([\"plotly\"], function(Plotly) {                    window.PLOTLYENV=window.PLOTLYENV || {};                                    if (document.getElementById(\"2900f9df-0cd1-49bd-805e-0017edee8def\")) {                    Plotly.newPlot(                        \"2900f9df-0cd1-49bd-805e-0017edee8def\",                        [{\"coloraxis\": \"coloraxis\", \"geo\": \"geo\", \"hovertemplate\": \"Date=2020-04-16<br>iso_code=%{location}<br>New C-19 deaths per 1M=%{z}<extra></extra>\", \"locations\": [\"ARG\", \"BOL\", \"BRA\", \"CHL\", \"COL\", \"ECU\", \"FLK\", \"GUY\", \"PER\", \"PRY\", \"SUR\", \"URY\", \"VEN\"], \"name\": \"\", \"type\": \"choropleth\", \"z\": [0.139, 0.135, 0.629, 0.344, 0.213, 1.182, 0.0, 0.0, 0.5760000000000001, 0.06, 0.0, 0.08199999999999999, 0.005]}],                        {\"coloraxis\": {\"cmax\": 10, \"cmin\": 0, \"colorbar\": {\"title\": {\"text\": \"New C-19 deaths per 1M\"}}, \"colorscale\": [[0.0, \"rgb(255,245,240)\"], [0.125, \"rgb(254,224,210)\"], [0.25, \"rgb(252,187,161)\"], [0.375, \"rgb(252,146,114)\"], [0.5, \"rgb(251,106,74)\"], [0.625, \"rgb(239,59,44)\"], [0.75, \"rgb(203,24,29)\"], [0.875, \"rgb(165,15,21)\"], [1.0, \"rgb(103,0,13)\"]]}, \"geo\": {\"center\": {}, \"domain\": {\"x\": [0.0, 1.0], \"y\": [0.0, 1.0]}, \"scope\": \"south america\"}, \"height\": 600, \"legend\": {\"tracegroupgap\": 0}, \"margin\": {\"b\": 0, \"l\": 0, \"r\": 0, \"t\": 0}, \"sliders\": [{\"active\": 0, \"currentvalue\": {\"prefix\": \"Date=\"}, \"len\": 0.9, \"pad\": {\"b\": 10, \"t\": 60}, \"steps\": [{\"args\": [[\"2020-04-16\"], {\"frame\": {\"duration\": 0, \"redraw\": true}, \"fromcurrent\": true, \"mode\": \"immediate\", \"transition\": {\"duration\": 0, \"easing\": \"linear\"}}], \"label\": \"2020-04-16\", \"method\": \"animate\"}, {\"args\": [[\"2020-04-17\"], {\"frame\": {\"duration\": 0, \"redraw\": true}, \"fromcurrent\": true, \"mode\": \"immediate\", \"transition\": {\"duration\": 0, \"easing\": \"linear\"}}], \"label\": \"2020-04-17\", \"method\": \"animate\"}, {\"args\": [[\"2020-04-18\"], {\"frame\": {\"duration\": 0, \"redraw\": true}, \"fromcurrent\": true, \"mode\": \"immediate\", \"transition\": {\"duration\": 0, \"easing\": \"linear\"}}], \"label\": \"2020-04-18\", \"method\": \"animate\"}, {\"args\": [[\"2020-04-19\"], {\"frame\": {\"duration\": 0, \"redraw\": true}, \"fromcurrent\": true, \"mode\": \"immediate\", \"transition\": {\"duration\": 0, \"easing\": \"linear\"}}], \"label\": \"2020-04-19\", \"method\": \"animate\"}, {\"args\": [[\"2020-04-20\"], {\"frame\": {\"duration\": 0, \"redraw\": true}, \"fromcurrent\": true, \"mode\": \"immediate\", \"transition\": {\"duration\": 0, \"easing\": \"linear\"}}], \"label\": \"2020-04-20\", \"method\": \"animate\"}, {\"args\": [[\"2020-04-21\"], {\"frame\": {\"duration\": 0, \"redraw\": true}, \"fromcurrent\": true, \"mode\": \"immediate\", \"transition\": {\"duration\": 0, \"easing\": \"linear\"}}], \"label\": \"2020-04-21\", \"method\": \"animate\"}, {\"args\": [[\"2020-04-22\"], {\"frame\": {\"duration\": 0, \"redraw\": true}, \"fromcurrent\": true, \"mode\": \"immediate\", \"transition\": {\"duration\": 0, \"easing\": \"linear\"}}], \"label\": \"2020-04-22\", \"method\": \"animate\"}, {\"args\": [[\"2020-04-23\"], {\"frame\": {\"duration\": 0, \"redraw\": true}, \"fromcurrent\": true, \"mode\": \"immediate\", \"transition\": {\"duration\": 0, \"easing\": \"linear\"}}], \"label\": \"2020-04-23\", \"method\": \"animate\"}, {\"args\": [[\"2020-04-24\"], {\"frame\": {\"duration\": 0, \"redraw\": true}, \"fromcurrent\": true, \"mode\": \"immediate\", \"transition\": {\"duration\": 0, \"easing\": \"linear\"}}], \"label\": \"2020-04-24\", \"method\": \"animate\"}, {\"args\": [[\"2020-04-25\"], {\"frame\": {\"duration\": 0, \"redraw\": true}, \"fromcurrent\": true, \"mode\": \"immediate\", \"transition\": {\"duration\": 0, \"easing\": \"linear\"}}], \"label\": \"2020-04-25\", \"method\": \"animate\"}, {\"args\": [[\"2020-04-26\"], {\"frame\": {\"duration\": 0, \"redraw\": true}, \"fromcurrent\": true, \"mode\": \"immediate\", \"transition\": {\"duration\": 0, \"easing\": \"linear\"}}], \"label\": \"2020-04-26\", \"method\": \"animate\"}, {\"args\": [[\"2020-04-27\"], {\"frame\": {\"duration\": 0, \"redraw\": true}, \"fromcurrent\": true, \"mode\": \"immediate\", \"transition\": {\"duration\": 0, \"easing\": \"linear\"}}], \"label\": \"2020-04-27\", \"method\": \"animate\"}, {\"args\": [[\"2020-04-28\"], {\"frame\": {\"duration\": 0, \"redraw\": true}, \"fromcurrent\": true, \"mode\": \"immediate\", \"transition\": {\"duration\": 0, \"easing\": \"linear\"}}], \"label\": \"2020-04-28\", \"method\": \"animate\"}, {\"args\": [[\"2020-04-29\"], {\"frame\": {\"duration\": 0, \"redraw\": true}, \"fromcurrent\": true, \"mode\": \"immediate\", \"transition\": {\"duration\": 0, \"easing\": \"linear\"}}], \"label\": \"2020-04-29\", \"method\": \"animate\"}, {\"args\": [[\"2020-04-30\"], {\"frame\": {\"duration\": 0, \"redraw\": true}, \"fromcurrent\": true, \"mode\": \"immediate\", \"transition\": {\"duration\": 0, \"easing\": \"linear\"}}], \"label\": \"2020-04-30\", \"method\": \"animate\"}, {\"args\": [[\"2020-05-01\"], {\"frame\": {\"duration\": 0, \"redraw\": true}, \"fromcurrent\": true, \"mode\": \"immediate\", \"transition\": {\"duration\": 0, \"easing\": \"linear\"}}], \"label\": \"2020-05-01\", \"method\": \"animate\"}, {\"args\": [[\"2020-05-02\"], {\"frame\": {\"duration\": 0, \"redraw\": true}, \"fromcurrent\": true, \"mode\": \"immediate\", \"transition\": {\"duration\": 0, \"easing\": \"linear\"}}], \"label\": \"2020-05-02\", \"method\": \"animate\"}, {\"args\": [[\"2020-05-03\"], {\"frame\": {\"duration\": 0, \"redraw\": true}, \"fromcurrent\": true, \"mode\": \"immediate\", \"transition\": {\"duration\": 0, \"easing\": \"linear\"}}], \"label\": \"2020-05-03\", \"method\": \"animate\"}, {\"args\": [[\"2020-05-04\"], {\"frame\": {\"duration\": 0, \"redraw\": true}, \"fromcurrent\": true, \"mode\": \"immediate\", \"transition\": {\"duration\": 0, \"easing\": \"linear\"}}], \"label\": \"2020-05-04\", \"method\": \"animate\"}, {\"args\": [[\"2020-05-05\"], {\"frame\": {\"duration\": 0, \"redraw\": true}, \"fromcurrent\": true, \"mode\": \"immediate\", \"transition\": {\"duration\": 0, \"easing\": \"linear\"}}], \"label\": \"2020-05-05\", \"method\": \"animate\"}, {\"args\": [[\"2020-05-06\"], {\"frame\": {\"duration\": 0, \"redraw\": true}, \"fromcurrent\": true, \"mode\": \"immediate\", \"transition\": {\"duration\": 0, \"easing\": \"linear\"}}], \"label\": \"2020-05-06\", \"method\": \"animate\"}, {\"args\": [[\"2020-05-07\"], {\"frame\": {\"duration\": 0, \"redraw\": true}, \"fromcurrent\": true, \"mode\": \"immediate\", \"transition\": {\"duration\": 0, \"easing\": \"linear\"}}], \"label\": \"2020-05-07\", \"method\": \"animate\"}, {\"args\": [[\"2020-05-08\"], {\"frame\": {\"duration\": 0, \"redraw\": true}, \"fromcurrent\": true, \"mode\": \"immediate\", \"transition\": {\"duration\": 0, \"easing\": \"linear\"}}], \"label\": \"2020-05-08\", \"method\": \"animate\"}, {\"args\": [[\"2020-05-09\"], {\"frame\": {\"duration\": 0, \"redraw\": true}, \"fromcurrent\": true, \"mode\": \"immediate\", \"transition\": {\"duration\": 0, \"easing\": \"linear\"}}], \"label\": \"2020-05-09\", \"method\": \"animate\"}, {\"args\": [[\"2020-05-10\"], {\"frame\": {\"duration\": 0, \"redraw\": true}, \"fromcurrent\": true, \"mode\": \"immediate\", \"transition\": {\"duration\": 0, \"easing\": \"linear\"}}], \"label\": \"2020-05-10\", \"method\": \"animate\"}, {\"args\": [[\"2020-05-11\"], {\"frame\": {\"duration\": 0, \"redraw\": true}, \"fromcurrent\": true, \"mode\": \"immediate\", \"transition\": {\"duration\": 0, \"easing\": \"linear\"}}], \"label\": \"2020-05-11\", \"method\": \"animate\"}, {\"args\": [[\"2020-05-12\"], {\"frame\": {\"duration\": 0, \"redraw\": true}, \"fromcurrent\": true, \"mode\": \"immediate\", \"transition\": {\"duration\": 0, \"easing\": \"linear\"}}], \"label\": \"2020-05-12\", \"method\": \"animate\"}, {\"args\": [[\"2020-05-13\"], {\"frame\": {\"duration\": 0, \"redraw\": true}, \"fromcurrent\": true, \"mode\": \"immediate\", \"transition\": {\"duration\": 0, \"easing\": \"linear\"}}], \"label\": \"2020-05-13\", \"method\": \"animate\"}, {\"args\": [[\"2020-05-14\"], {\"frame\": {\"duration\": 0, \"redraw\": true}, \"fromcurrent\": true, \"mode\": \"immediate\", \"transition\": {\"duration\": 0, \"easing\": \"linear\"}}], \"label\": \"2020-05-14\", \"method\": \"animate\"}, {\"args\": [[\"2020-05-15\"], {\"frame\": {\"duration\": 0, \"redraw\": true}, \"fromcurrent\": true, \"mode\": \"immediate\", \"transition\": {\"duration\": 0, \"easing\": \"linear\"}}], \"label\": \"2020-05-15\", \"method\": \"animate\"}, {\"args\": [[\"2020-05-16\"], {\"frame\": {\"duration\": 0, \"redraw\": true}, \"fromcurrent\": true, \"mode\": \"immediate\", \"transition\": {\"duration\": 0, \"easing\": \"linear\"}}], \"label\": \"2020-05-16\", \"method\": \"animate\"}, {\"args\": [[\"2020-05-17\"], {\"frame\": {\"duration\": 0, \"redraw\": true}, \"fromcurrent\": true, \"mode\": \"immediate\", \"transition\": {\"duration\": 0, \"easing\": \"linear\"}}], \"label\": \"2020-05-17\", \"method\": \"animate\"}, {\"args\": [[\"2020-05-18\"], {\"frame\": {\"duration\": 0, \"redraw\": true}, \"fromcurrent\": true, \"mode\": \"immediate\", \"transition\": {\"duration\": 0, \"easing\": \"linear\"}}], \"label\": \"2020-05-18\", \"method\": \"animate\"}, {\"args\": [[\"2020-05-19\"], {\"frame\": {\"duration\": 0, \"redraw\": true}, \"fromcurrent\": true, \"mode\": \"immediate\", \"transition\": {\"duration\": 0, \"easing\": \"linear\"}}], \"label\": \"2020-05-19\", \"method\": \"animate\"}, {\"args\": [[\"2020-05-20\"], {\"frame\": {\"duration\": 0, \"redraw\": true}, \"fromcurrent\": true, \"mode\": \"immediate\", \"transition\": {\"duration\": 0, \"easing\": \"linear\"}}], \"label\": \"2020-05-20\", \"method\": \"animate\"}, {\"args\": [[\"2020-05-21\"], {\"frame\": {\"duration\": 0, \"redraw\": true}, \"fromcurrent\": true, \"mode\": \"immediate\", \"transition\": {\"duration\": 0, \"easing\": \"linear\"}}], \"label\": \"2020-05-21\", \"method\": \"animate\"}, {\"args\": [[\"2020-05-22\"], {\"frame\": {\"duration\": 0, \"redraw\": true}, \"fromcurrent\": true, \"mode\": \"immediate\", \"transition\": {\"duration\": 0, \"easing\": \"linear\"}}], \"label\": \"2020-05-22\", \"method\": \"animate\"}, {\"args\": [[\"2020-05-23\"], {\"frame\": {\"duration\": 0, \"redraw\": true}, \"fromcurrent\": true, \"mode\": \"immediate\", \"transition\": {\"duration\": 0, \"easing\": \"linear\"}}], \"label\": \"2020-05-23\", \"method\": \"animate\"}, {\"args\": [[\"2020-05-24\"], {\"frame\": {\"duration\": 0, \"redraw\": true}, \"fromcurrent\": true, \"mode\": \"immediate\", \"transition\": {\"duration\": 0, \"easing\": \"linear\"}}], \"label\": \"2020-05-24\", \"method\": \"animate\"}, {\"args\": [[\"2020-05-25\"], {\"frame\": {\"duration\": 0, \"redraw\": true}, \"fromcurrent\": true, \"mode\": \"immediate\", \"transition\": {\"duration\": 0, \"easing\": \"linear\"}}], \"label\": \"2020-05-25\", \"method\": \"animate\"}, {\"args\": [[\"2020-05-26\"], {\"frame\": {\"duration\": 0, \"redraw\": true}, \"fromcurrent\": true, \"mode\": \"immediate\", \"transition\": {\"duration\": 0, \"easing\": \"linear\"}}], \"label\": \"2020-05-26\", \"method\": \"animate\"}, {\"args\": [[\"2020-05-27\"], {\"frame\": {\"duration\": 0, \"redraw\": true}, \"fromcurrent\": true, \"mode\": \"immediate\", \"transition\": {\"duration\": 0, \"easing\": \"linear\"}}], \"label\": \"2020-05-27\", \"method\": \"animate\"}, {\"args\": [[\"2020-05-28\"], {\"frame\": {\"duration\": 0, \"redraw\": true}, \"fromcurrent\": true, \"mode\": \"immediate\", \"transition\": {\"duration\": 0, \"easing\": \"linear\"}}], \"label\": \"2020-05-28\", \"method\": \"animate\"}, {\"args\": [[\"2020-05-29\"], {\"frame\": {\"duration\": 0, \"redraw\": true}, \"fromcurrent\": true, \"mode\": \"immediate\", \"transition\": {\"duration\": 0, \"easing\": \"linear\"}}], \"label\": \"2020-05-29\", \"method\": \"animate\"}, {\"args\": [[\"2020-05-30\"], {\"frame\": {\"duration\": 0, \"redraw\": true}, \"fromcurrent\": true, \"mode\": \"immediate\", \"transition\": {\"duration\": 0, \"easing\": \"linear\"}}], \"label\": \"2020-05-30\", \"method\": \"animate\"}, {\"args\": [[\"2020-05-31\"], {\"frame\": {\"duration\": 0, \"redraw\": true}, \"fromcurrent\": true, \"mode\": \"immediate\", \"transition\": {\"duration\": 0, \"easing\": \"linear\"}}], \"label\": \"2020-05-31\", \"method\": \"animate\"}, {\"args\": [[\"2020-06-01\"], {\"frame\": {\"duration\": 0, \"redraw\": true}, \"fromcurrent\": true, \"mode\": \"immediate\", \"transition\": {\"duration\": 0, \"easing\": \"linear\"}}], \"label\": \"2020-06-01\", \"method\": \"animate\"}, {\"args\": [[\"2020-06-02\"], {\"frame\": {\"duration\": 0, \"redraw\": true}, \"fromcurrent\": true, \"mode\": \"immediate\", \"transition\": {\"duration\": 0, \"easing\": \"linear\"}}], \"label\": \"2020-06-02\", \"method\": \"animate\"}, {\"args\": [[\"2020-06-03\"], {\"frame\": {\"duration\": 0, \"redraw\": true}, \"fromcurrent\": true, \"mode\": \"immediate\", \"transition\": {\"duration\": 0, \"easing\": \"linear\"}}], \"label\": \"2020-06-03\", \"method\": \"animate\"}, {\"args\": [[\"2020-06-04\"], {\"frame\": {\"duration\": 0, \"redraw\": true}, \"fromcurrent\": true, \"mode\": \"immediate\", \"transition\": {\"duration\": 0, \"easing\": \"linear\"}}], \"label\": \"2020-06-04\", \"method\": \"animate\"}, {\"args\": [[\"2020-06-05\"], {\"frame\": {\"duration\": 0, \"redraw\": true}, \"fromcurrent\": true, \"mode\": \"immediate\", \"transition\": {\"duration\": 0, \"easing\": \"linear\"}}], \"label\": \"2020-06-05\", \"method\": \"animate\"}, {\"args\": [[\"2020-06-06\"], {\"frame\": {\"duration\": 0, \"redraw\": true}, \"fromcurrent\": true, \"mode\": \"immediate\", \"transition\": {\"duration\": 0, \"easing\": \"linear\"}}], \"label\": \"2020-06-06\", \"method\": \"animate\"}, {\"args\": [[\"2020-06-07\"], {\"frame\": {\"duration\": 0, \"redraw\": true}, \"fromcurrent\": true, \"mode\": \"immediate\", \"transition\": {\"duration\": 0, \"easing\": \"linear\"}}], \"label\": \"2020-06-07\", \"method\": \"animate\"}, {\"args\": [[\"2020-06-08\"], {\"frame\": {\"duration\": 0, \"redraw\": true}, \"fromcurrent\": true, \"mode\": \"immediate\", \"transition\": {\"duration\": 0, \"easing\": \"linear\"}}], \"label\": \"2020-06-08\", \"method\": \"animate\"}, {\"args\": [[\"2020-06-09\"], {\"frame\": {\"duration\": 0, \"redraw\": true}, \"fromcurrent\": true, \"mode\": \"immediate\", \"transition\": {\"duration\": 0, \"easing\": \"linear\"}}], \"label\": \"2020-06-09\", \"method\": \"animate\"}, {\"args\": [[\"2020-06-10\"], {\"frame\": {\"duration\": 0, \"redraw\": true}, \"fromcurrent\": true, \"mode\": \"immediate\", \"transition\": {\"duration\": 0, \"easing\": \"linear\"}}], \"label\": \"2020-06-10\", \"method\": \"animate\"}, {\"args\": [[\"2020-06-11\"], {\"frame\": {\"duration\": 0, \"redraw\": true}, \"fromcurrent\": true, \"mode\": \"immediate\", \"transition\": {\"duration\": 0, \"easing\": \"linear\"}}], \"label\": \"2020-06-11\", \"method\": \"animate\"}, {\"args\": [[\"2020-06-12\"], {\"frame\": {\"duration\": 0, \"redraw\": true}, \"fromcurrent\": true, \"mode\": \"immediate\", \"transition\": {\"duration\": 0, \"easing\": \"linear\"}}], \"label\": \"2020-06-12\", \"method\": \"animate\"}, {\"args\": [[\"2020-06-13\"], {\"frame\": {\"duration\": 0, \"redraw\": true}, \"fromcurrent\": true, \"mode\": \"immediate\", \"transition\": {\"duration\": 0, \"easing\": \"linear\"}}], \"label\": \"2020-06-13\", \"method\": \"animate\"}, {\"args\": [[\"2020-06-14\"], {\"frame\": {\"duration\": 0, \"redraw\": true}, \"fromcurrent\": true, \"mode\": \"immediate\", \"transition\": {\"duration\": 0, \"easing\": \"linear\"}}], \"label\": \"2020-06-14\", \"method\": \"animate\"}, {\"args\": [[\"2020-06-15\"], {\"frame\": {\"duration\": 0, \"redraw\": true}, \"fromcurrent\": true, \"mode\": \"immediate\", \"transition\": {\"duration\": 0, \"easing\": \"linear\"}}], \"label\": \"2020-06-15\", \"method\": \"animate\"}, {\"args\": [[\"2020-06-16\"], {\"frame\": {\"duration\": 0, \"redraw\": true}, \"fromcurrent\": true, \"mode\": \"immediate\", \"transition\": {\"duration\": 0, \"easing\": \"linear\"}}], \"label\": \"2020-06-16\", \"method\": \"animate\"}, {\"args\": [[\"2020-06-17\"], {\"frame\": {\"duration\": 0, \"redraw\": true}, \"fromcurrent\": true, \"mode\": \"immediate\", \"transition\": {\"duration\": 0, \"easing\": \"linear\"}}], \"label\": \"2020-06-17\", \"method\": \"animate\"}, {\"args\": [[\"2020-06-18\"], {\"frame\": {\"duration\": 0, \"redraw\": true}, \"fromcurrent\": true, \"mode\": \"immediate\", \"transition\": {\"duration\": 0, \"easing\": \"linear\"}}], \"label\": \"2020-06-18\", \"method\": \"animate\"}, {\"args\": [[\"2020-06-19\"], {\"frame\": {\"duration\": 0, \"redraw\": true}, \"fromcurrent\": true, \"mode\": \"immediate\", \"transition\": {\"duration\": 0, \"easing\": \"linear\"}}], \"label\": \"2020-06-19\", \"method\": \"animate\"}, {\"args\": [[\"2020-06-20\"], {\"frame\": {\"duration\": 0, \"redraw\": true}, \"fromcurrent\": true, \"mode\": \"immediate\", \"transition\": {\"duration\": 0, \"easing\": \"linear\"}}], \"label\": \"2020-06-20\", \"method\": \"animate\"}, {\"args\": [[\"2020-06-21\"], {\"frame\": {\"duration\": 0, \"redraw\": true}, \"fromcurrent\": true, \"mode\": \"immediate\", \"transition\": {\"duration\": 0, \"easing\": \"linear\"}}], \"label\": \"2020-06-21\", \"method\": \"animate\"}, {\"args\": [[\"2020-06-22\"], {\"frame\": {\"duration\": 0, \"redraw\": true}, \"fromcurrent\": true, \"mode\": \"immediate\", \"transition\": {\"duration\": 0, \"easing\": \"linear\"}}], \"label\": \"2020-06-22\", \"method\": \"animate\"}, {\"args\": [[\"2020-06-23\"], {\"frame\": {\"duration\": 0, \"redraw\": true}, \"fromcurrent\": true, \"mode\": \"immediate\", \"transition\": {\"duration\": 0, \"easing\": \"linear\"}}], \"label\": \"2020-06-23\", \"method\": \"animate\"}, {\"args\": [[\"2020-06-24\"], {\"frame\": {\"duration\": 0, \"redraw\": true}, \"fromcurrent\": true, \"mode\": \"immediate\", \"transition\": {\"duration\": 0, \"easing\": \"linear\"}}], \"label\": \"2020-06-24\", \"method\": \"animate\"}, {\"args\": [[\"2020-06-25\"], {\"frame\": {\"duration\": 0, \"redraw\": true}, \"fromcurrent\": true, \"mode\": \"immediate\", \"transition\": {\"duration\": 0, \"easing\": \"linear\"}}], \"label\": \"2020-06-25\", \"method\": \"animate\"}, {\"args\": [[\"2020-06-26\"], {\"frame\": {\"duration\": 0, \"redraw\": true}, \"fromcurrent\": true, \"mode\": \"immediate\", \"transition\": {\"duration\": 0, \"easing\": \"linear\"}}], \"label\": \"2020-06-26\", \"method\": \"animate\"}, {\"args\": [[\"2020-06-27\"], {\"frame\": {\"duration\": 0, \"redraw\": true}, \"fromcurrent\": true, \"mode\": \"immediate\", \"transition\": {\"duration\": 0, \"easing\": \"linear\"}}], \"label\": \"2020-06-27\", \"method\": \"animate\"}, {\"args\": [[\"2020-06-28\"], {\"frame\": {\"duration\": 0, \"redraw\": true}, \"fromcurrent\": true, \"mode\": \"immediate\", \"transition\": {\"duration\": 0, \"easing\": \"linear\"}}], \"label\": \"2020-06-28\", \"method\": \"animate\"}, {\"args\": [[\"2020-06-29\"], {\"frame\": {\"duration\": 0, \"redraw\": true}, \"fromcurrent\": true, \"mode\": \"immediate\", \"transition\": {\"duration\": 0, \"easing\": \"linear\"}}], \"label\": \"2020-06-29\", \"method\": \"animate\"}, {\"args\": [[\"2020-06-30\"], {\"frame\": {\"duration\": 0, \"redraw\": true}, \"fromcurrent\": true, \"mode\": \"immediate\", \"transition\": {\"duration\": 0, \"easing\": \"linear\"}}], \"label\": \"2020-06-30\", \"method\": \"animate\"}, {\"args\": [[\"2020-07-01\"], {\"frame\": {\"duration\": 0, \"redraw\": true}, \"fromcurrent\": true, \"mode\": \"immediate\", \"transition\": {\"duration\": 0, \"easing\": \"linear\"}}], \"label\": \"2020-07-01\", \"method\": \"animate\"}, {\"args\": [[\"2020-07-02\"], {\"frame\": {\"duration\": 0, \"redraw\": true}, \"fromcurrent\": true, \"mode\": \"immediate\", \"transition\": {\"duration\": 0, \"easing\": \"linear\"}}], \"label\": \"2020-07-02\", \"method\": \"animate\"}, {\"args\": [[\"2020-07-03\"], {\"frame\": {\"duration\": 0, \"redraw\": true}, \"fromcurrent\": true, \"mode\": \"immediate\", \"transition\": {\"duration\": 0, \"easing\": \"linear\"}}], \"label\": \"2020-07-03\", \"method\": \"animate\"}, {\"args\": [[\"2020-07-04\"], {\"frame\": {\"duration\": 0, \"redraw\": true}, \"fromcurrent\": true, \"mode\": \"immediate\", \"transition\": {\"duration\": 0, \"easing\": \"linear\"}}], \"label\": \"2020-07-04\", \"method\": \"animate\"}, {\"args\": [[\"2020-07-05\"], {\"frame\": {\"duration\": 0, \"redraw\": true}, \"fromcurrent\": true, \"mode\": \"immediate\", \"transition\": {\"duration\": 0, \"easing\": \"linear\"}}], \"label\": \"2020-07-05\", \"method\": \"animate\"}, {\"args\": [[\"2020-07-06\"], {\"frame\": {\"duration\": 0, \"redraw\": true}, \"fromcurrent\": true, \"mode\": \"immediate\", \"transition\": {\"duration\": 0, \"easing\": \"linear\"}}], \"label\": \"2020-07-06\", \"method\": \"animate\"}, {\"args\": [[\"2020-07-07\"], {\"frame\": {\"duration\": 0, \"redraw\": true}, \"fromcurrent\": true, \"mode\": \"immediate\", \"transition\": {\"duration\": 0, \"easing\": \"linear\"}}], \"label\": \"2020-07-07\", \"method\": \"animate\"}, {\"args\": [[\"2020-07-08\"], {\"frame\": {\"duration\": 0, \"redraw\": true}, \"fromcurrent\": true, \"mode\": \"immediate\", \"transition\": {\"duration\": 0, \"easing\": \"linear\"}}], \"label\": \"2020-07-08\", \"method\": \"animate\"}, {\"args\": [[\"2020-07-09\"], {\"frame\": {\"duration\": 0, \"redraw\": true}, \"fromcurrent\": true, \"mode\": \"immediate\", \"transition\": {\"duration\": 0, \"easing\": \"linear\"}}], \"label\": \"2020-07-09\", \"method\": \"animate\"}, {\"args\": [[\"2020-07-10\"], {\"frame\": {\"duration\": 0, \"redraw\": true}, \"fromcurrent\": true, \"mode\": \"immediate\", \"transition\": {\"duration\": 0, \"easing\": \"linear\"}}], \"label\": \"2020-07-10\", \"method\": \"animate\"}, {\"args\": [[\"2020-07-11\"], {\"frame\": {\"duration\": 0, \"redraw\": true}, \"fromcurrent\": true, \"mode\": \"immediate\", \"transition\": {\"duration\": 0, \"easing\": \"linear\"}}], \"label\": \"2020-07-11\", \"method\": \"animate\"}, {\"args\": [[\"2020-07-12\"], {\"frame\": {\"duration\": 0, \"redraw\": true}, \"fromcurrent\": true, \"mode\": \"immediate\", \"transition\": {\"duration\": 0, \"easing\": \"linear\"}}], \"label\": \"2020-07-12\", \"method\": \"animate\"}, {\"args\": [[\"2020-07-13\"], {\"frame\": {\"duration\": 0, \"redraw\": true}, \"fromcurrent\": true, \"mode\": \"immediate\", \"transition\": {\"duration\": 0, \"easing\": \"linear\"}}], \"label\": \"2020-07-13\", \"method\": \"animate\"}, {\"args\": [[\"2020-07-14\"], {\"frame\": {\"duration\": 0, \"redraw\": true}, \"fromcurrent\": true, \"mode\": \"immediate\", \"transition\": {\"duration\": 0, \"easing\": \"linear\"}}], \"label\": \"2020-07-14\", \"method\": \"animate\"}, {\"args\": [[\"2020-07-15\"], {\"frame\": {\"duration\": 0, \"redraw\": true}, \"fromcurrent\": true, \"mode\": \"immediate\", \"transition\": {\"duration\": 0, \"easing\": \"linear\"}}], \"label\": \"2020-07-15\", \"method\": \"animate\"}, {\"args\": [[\"2020-07-16\"], {\"frame\": {\"duration\": 0, \"redraw\": true}, \"fromcurrent\": true, \"mode\": \"immediate\", \"transition\": {\"duration\": 0, \"easing\": \"linear\"}}], \"label\": \"2020-07-16\", \"method\": \"animate\"}, {\"args\": [[\"2020-07-17\"], {\"frame\": {\"duration\": 0, \"redraw\": true}, \"fromcurrent\": true, \"mode\": \"immediate\", \"transition\": {\"duration\": 0, \"easing\": \"linear\"}}], \"label\": \"2020-07-17\", \"method\": \"animate\"}, {\"args\": [[\"2020-07-18\"], {\"frame\": {\"duration\": 0, \"redraw\": true}, \"fromcurrent\": true, \"mode\": \"immediate\", \"transition\": {\"duration\": 0, \"easing\": \"linear\"}}], \"label\": \"2020-07-18\", \"method\": \"animate\"}, {\"args\": [[\"2020-07-19\"], {\"frame\": {\"duration\": 0, \"redraw\": true}, \"fromcurrent\": true, \"mode\": \"immediate\", \"transition\": {\"duration\": 0, \"easing\": \"linear\"}}], \"label\": \"2020-07-19\", \"method\": \"animate\"}, {\"args\": [[\"2020-07-20\"], {\"frame\": {\"duration\": 0, \"redraw\": true}, \"fromcurrent\": true, \"mode\": \"immediate\", \"transition\": {\"duration\": 0, \"easing\": \"linear\"}}], \"label\": \"2020-07-20\", \"method\": \"animate\"}, {\"args\": [[\"2020-07-21\"], {\"frame\": {\"duration\": 0, \"redraw\": true}, \"fromcurrent\": true, \"mode\": \"immediate\", \"transition\": {\"duration\": 0, \"easing\": \"linear\"}}], \"label\": \"2020-07-21\", \"method\": \"animate\"}, {\"args\": [[\"2020-07-22\"], {\"frame\": {\"duration\": 0, \"redraw\": true}, \"fromcurrent\": true, \"mode\": \"immediate\", \"transition\": {\"duration\": 0, \"easing\": \"linear\"}}], \"label\": \"2020-07-22\", \"method\": \"animate\"}, {\"args\": [[\"2020-07-23\"], {\"frame\": {\"duration\": 0, \"redraw\": true}, \"fromcurrent\": true, \"mode\": \"immediate\", \"transition\": {\"duration\": 0, \"easing\": \"linear\"}}], \"label\": \"2020-07-23\", \"method\": \"animate\"}, {\"args\": [[\"2020-07-24\"], {\"frame\": {\"duration\": 0, \"redraw\": true}, \"fromcurrent\": true, \"mode\": \"immediate\", \"transition\": {\"duration\": 0, \"easing\": \"linear\"}}], \"label\": \"2020-07-24\", \"method\": \"animate\"}, {\"args\": [[\"2020-07-25\"], {\"frame\": {\"duration\": 0, \"redraw\": true}, \"fromcurrent\": true, \"mode\": \"immediate\", \"transition\": {\"duration\": 0, \"easing\": \"linear\"}}], \"label\": \"2020-07-25\", \"method\": \"animate\"}, {\"args\": [[\"2020-07-26\"], {\"frame\": {\"duration\": 0, \"redraw\": true}, \"fromcurrent\": true, \"mode\": \"immediate\", \"transition\": {\"duration\": 0, \"easing\": \"linear\"}}], \"label\": \"2020-07-26\", \"method\": \"animate\"}, {\"args\": [[\"2020-07-27\"], {\"frame\": {\"duration\": 0, \"redraw\": true}, \"fromcurrent\": true, \"mode\": \"immediate\", \"transition\": {\"duration\": 0, \"easing\": \"linear\"}}], \"label\": \"2020-07-27\", \"method\": \"animate\"}, {\"args\": [[\"2020-07-28\"], {\"frame\": {\"duration\": 0, \"redraw\": true}, \"fromcurrent\": true, \"mode\": \"immediate\", \"transition\": {\"duration\": 0, \"easing\": \"linear\"}}], \"label\": \"2020-07-28\", \"method\": \"animate\"}, {\"args\": [[\"2020-07-29\"], {\"frame\": {\"duration\": 0, \"redraw\": true}, \"fromcurrent\": true, \"mode\": \"immediate\", \"transition\": {\"duration\": 0, \"easing\": \"linear\"}}], \"label\": \"2020-07-29\", \"method\": \"animate\"}, {\"args\": [[\"2020-07-30\"], {\"frame\": {\"duration\": 0, \"redraw\": true}, \"fromcurrent\": true, \"mode\": \"immediate\", \"transition\": {\"duration\": 0, \"easing\": \"linear\"}}], \"label\": \"2020-07-30\", \"method\": \"animate\"}, {\"args\": [[\"2020-07-31\"], {\"frame\": {\"duration\": 0, \"redraw\": true}, \"fromcurrent\": true, \"mode\": \"immediate\", \"transition\": {\"duration\": 0, \"easing\": \"linear\"}}], \"label\": \"2020-07-31\", \"method\": \"animate\"}, {\"args\": [[\"2020-08-01\"], {\"frame\": {\"duration\": 0, \"redraw\": true}, \"fromcurrent\": true, \"mode\": \"immediate\", \"transition\": {\"duration\": 0, \"easing\": \"linear\"}}], \"label\": \"2020-08-01\", \"method\": \"animate\"}, {\"args\": [[\"2020-08-02\"], {\"frame\": {\"duration\": 0, \"redraw\": true}, \"fromcurrent\": true, \"mode\": \"immediate\", \"transition\": {\"duration\": 0, \"easing\": \"linear\"}}], \"label\": \"2020-08-02\", \"method\": \"animate\"}, {\"args\": [[\"2020-08-03\"], {\"frame\": {\"duration\": 0, \"redraw\": true}, \"fromcurrent\": true, \"mode\": \"immediate\", \"transition\": {\"duration\": 0, \"easing\": \"linear\"}}], \"label\": \"2020-08-03\", \"method\": \"animate\"}, {\"args\": [[\"2020-08-04\"], {\"frame\": {\"duration\": 0, \"redraw\": true}, \"fromcurrent\": true, \"mode\": \"immediate\", \"transition\": {\"duration\": 0, \"easing\": \"linear\"}}], \"label\": \"2020-08-04\", \"method\": \"animate\"}, {\"args\": [[\"2020-08-05\"], {\"frame\": {\"duration\": 0, \"redraw\": true}, \"fromcurrent\": true, \"mode\": \"immediate\", \"transition\": {\"duration\": 0, \"easing\": \"linear\"}}], \"label\": \"2020-08-05\", \"method\": \"animate\"}, {\"args\": [[\"2020-08-06\"], {\"frame\": {\"duration\": 0, \"redraw\": true}, \"fromcurrent\": true, \"mode\": \"immediate\", \"transition\": {\"duration\": 0, \"easing\": \"linear\"}}], \"label\": \"2020-08-06\", \"method\": \"animate\"}, {\"args\": [[\"2020-08-07\"], {\"frame\": {\"duration\": 0, \"redraw\": true}, \"fromcurrent\": true, \"mode\": \"immediate\", \"transition\": {\"duration\": 0, \"easing\": \"linear\"}}], \"label\": \"2020-08-07\", \"method\": \"animate\"}, {\"args\": [[\"2020-08-08\"], {\"frame\": {\"duration\": 0, \"redraw\": true}, \"fromcurrent\": true, \"mode\": \"immediate\", \"transition\": {\"duration\": 0, \"easing\": \"linear\"}}], \"label\": \"2020-08-08\", \"method\": \"animate\"}, {\"args\": [[\"2020-08-09\"], {\"frame\": {\"duration\": 0, \"redraw\": true}, \"fromcurrent\": true, \"mode\": \"immediate\", \"transition\": {\"duration\": 0, \"easing\": \"linear\"}}], \"label\": \"2020-08-09\", \"method\": \"animate\"}, {\"args\": [[\"2020-08-10\"], {\"frame\": {\"duration\": 0, \"redraw\": true}, \"fromcurrent\": true, \"mode\": \"immediate\", \"transition\": {\"duration\": 0, \"easing\": \"linear\"}}], \"label\": \"2020-08-10\", \"method\": \"animate\"}, {\"args\": [[\"2020-08-11\"], {\"frame\": {\"duration\": 0, \"redraw\": true}, \"fromcurrent\": true, \"mode\": \"immediate\", \"transition\": {\"duration\": 0, \"easing\": \"linear\"}}], \"label\": \"2020-08-11\", \"method\": \"animate\"}, {\"args\": [[\"2020-08-12\"], {\"frame\": {\"duration\": 0, \"redraw\": true}, \"fromcurrent\": true, \"mode\": \"immediate\", \"transition\": {\"duration\": 0, \"easing\": \"linear\"}}], \"label\": \"2020-08-12\", \"method\": \"animate\"}, {\"args\": [[\"2020-08-13\"], {\"frame\": {\"duration\": 0, \"redraw\": true}, \"fromcurrent\": true, \"mode\": \"immediate\", \"transition\": {\"duration\": 0, \"easing\": \"linear\"}}], \"label\": \"2020-08-13\", \"method\": \"animate\"}, {\"args\": [[\"2020-08-14\"], {\"frame\": {\"duration\": 0, \"redraw\": true}, \"fromcurrent\": true, \"mode\": \"immediate\", \"transition\": {\"duration\": 0, \"easing\": \"linear\"}}], \"label\": \"2020-08-14\", \"method\": \"animate\"}, {\"args\": [[\"2020-08-15\"], {\"frame\": {\"duration\": 0, \"redraw\": true}, \"fromcurrent\": true, \"mode\": \"immediate\", \"transition\": {\"duration\": 0, \"easing\": \"linear\"}}], \"label\": \"2020-08-15\", \"method\": \"animate\"}, {\"args\": [[\"2020-08-16\"], {\"frame\": {\"duration\": 0, \"redraw\": true}, \"fromcurrent\": true, \"mode\": \"immediate\", \"transition\": {\"duration\": 0, \"easing\": \"linear\"}}], \"label\": \"2020-08-16\", \"method\": \"animate\"}, {\"args\": [[\"2020-08-17\"], {\"frame\": {\"duration\": 0, \"redraw\": true}, \"fromcurrent\": true, \"mode\": \"immediate\", \"transition\": {\"duration\": 0, \"easing\": \"linear\"}}], \"label\": \"2020-08-17\", \"method\": \"animate\"}, {\"args\": [[\"2020-08-18\"], {\"frame\": {\"duration\": 0, \"redraw\": true}, \"fromcurrent\": true, \"mode\": \"immediate\", \"transition\": {\"duration\": 0, \"easing\": \"linear\"}}], \"label\": \"2020-08-18\", \"method\": \"animate\"}, {\"args\": [[\"2020-08-19\"], {\"frame\": {\"duration\": 0, \"redraw\": true}, \"fromcurrent\": true, \"mode\": \"immediate\", \"transition\": {\"duration\": 0, \"easing\": \"linear\"}}], \"label\": \"2020-08-19\", \"method\": \"animate\"}, {\"args\": [[\"2020-08-20\"], {\"frame\": {\"duration\": 0, \"redraw\": true}, \"fromcurrent\": true, \"mode\": \"immediate\", \"transition\": {\"duration\": 0, \"easing\": \"linear\"}}], \"label\": \"2020-08-20\", \"method\": \"animate\"}, {\"args\": [[\"2020-08-21\"], {\"frame\": {\"duration\": 0, \"redraw\": true}, \"fromcurrent\": true, \"mode\": \"immediate\", \"transition\": {\"duration\": 0, \"easing\": \"linear\"}}], \"label\": \"2020-08-21\", \"method\": \"animate\"}, {\"args\": [[\"2020-08-22\"], {\"frame\": {\"duration\": 0, \"redraw\": true}, \"fromcurrent\": true, \"mode\": \"immediate\", \"transition\": {\"duration\": 0, \"easing\": \"linear\"}}], \"label\": \"2020-08-22\", \"method\": \"animate\"}, {\"args\": [[\"2020-08-23\"], {\"frame\": {\"duration\": 0, \"redraw\": true}, \"fromcurrent\": true, \"mode\": \"immediate\", \"transition\": {\"duration\": 0, \"easing\": \"linear\"}}], \"label\": \"2020-08-23\", \"method\": \"animate\"}, {\"args\": [[\"2020-08-24\"], {\"frame\": {\"duration\": 0, \"redraw\": true}, \"fromcurrent\": true, \"mode\": \"immediate\", \"transition\": {\"duration\": 0, \"easing\": \"linear\"}}], \"label\": \"2020-08-24\", \"method\": \"animate\"}, {\"args\": [[\"2020-08-25\"], {\"frame\": {\"duration\": 0, \"redraw\": true}, \"fromcurrent\": true, \"mode\": \"immediate\", \"transition\": {\"duration\": 0, \"easing\": \"linear\"}}], \"label\": \"2020-08-25\", \"method\": \"animate\"}, {\"args\": [[\"2020-08-26\"], {\"frame\": {\"duration\": 0, \"redraw\": true}, \"fromcurrent\": true, \"mode\": \"immediate\", \"transition\": {\"duration\": 0, \"easing\": \"linear\"}}], \"label\": \"2020-08-26\", \"method\": \"animate\"}, {\"args\": [[\"2020-08-27\"], {\"frame\": {\"duration\": 0, \"redraw\": true}, \"fromcurrent\": true, \"mode\": \"immediate\", \"transition\": {\"duration\": 0, \"easing\": \"linear\"}}], \"label\": \"2020-08-27\", \"method\": \"animate\"}, {\"args\": [[\"2020-08-28\"], {\"frame\": {\"duration\": 0, \"redraw\": true}, \"fromcurrent\": true, \"mode\": \"immediate\", \"transition\": {\"duration\": 0, \"easing\": \"linear\"}}], \"label\": \"2020-08-28\", \"method\": \"animate\"}, {\"args\": [[\"2020-08-29\"], {\"frame\": {\"duration\": 0, \"redraw\": true}, \"fromcurrent\": true, \"mode\": \"immediate\", \"transition\": {\"duration\": 0, \"easing\": \"linear\"}}], \"label\": \"2020-08-29\", \"method\": \"animate\"}, {\"args\": [[\"2020-08-30\"], {\"frame\": {\"duration\": 0, \"redraw\": true}, \"fromcurrent\": true, \"mode\": \"immediate\", \"transition\": {\"duration\": 0, \"easing\": \"linear\"}}], \"label\": \"2020-08-30\", \"method\": \"animate\"}, {\"args\": [[\"2020-08-31\"], {\"frame\": {\"duration\": 0, \"redraw\": true}, \"fromcurrent\": true, \"mode\": \"immediate\", \"transition\": {\"duration\": 0, \"easing\": \"linear\"}}], \"label\": \"2020-08-31\", \"method\": \"animate\"}, {\"args\": [[\"2020-09-01\"], {\"frame\": {\"duration\": 0, \"redraw\": true}, \"fromcurrent\": true, \"mode\": \"immediate\", \"transition\": {\"duration\": 0, \"easing\": \"linear\"}}], \"label\": \"2020-09-01\", \"method\": \"animate\"}, {\"args\": [[\"2020-09-02\"], {\"frame\": {\"duration\": 0, \"redraw\": true}, \"fromcurrent\": true, \"mode\": \"immediate\", \"transition\": {\"duration\": 0, \"easing\": \"linear\"}}], \"label\": \"2020-09-02\", \"method\": \"animate\"}, {\"args\": [[\"2020-09-03\"], {\"frame\": {\"duration\": 0, \"redraw\": true}, \"fromcurrent\": true, \"mode\": \"immediate\", \"transition\": {\"duration\": 0, \"easing\": \"linear\"}}], \"label\": \"2020-09-03\", \"method\": \"animate\"}, {\"args\": [[\"2020-09-04\"], {\"frame\": {\"duration\": 0, \"redraw\": true}, \"fromcurrent\": true, \"mode\": \"immediate\", \"transition\": {\"duration\": 0, \"easing\": \"linear\"}}], \"label\": \"2020-09-04\", \"method\": \"animate\"}, {\"args\": [[\"2020-09-05\"], {\"frame\": {\"duration\": 0, \"redraw\": true}, \"fromcurrent\": true, \"mode\": \"immediate\", \"transition\": {\"duration\": 0, \"easing\": \"linear\"}}], \"label\": \"2020-09-05\", \"method\": \"animate\"}, {\"args\": [[\"2020-09-06\"], {\"frame\": {\"duration\": 0, \"redraw\": true}, \"fromcurrent\": true, \"mode\": \"immediate\", \"transition\": {\"duration\": 0, \"easing\": \"linear\"}}], \"label\": \"2020-09-06\", \"method\": \"animate\"}, {\"args\": [[\"2020-09-07\"], {\"frame\": {\"duration\": 0, \"redraw\": true}, \"fromcurrent\": true, \"mode\": \"immediate\", \"transition\": {\"duration\": 0, \"easing\": \"linear\"}}], \"label\": \"2020-09-07\", \"method\": \"animate\"}, {\"args\": [[\"2020-09-08\"], {\"frame\": {\"duration\": 0, \"redraw\": true}, \"fromcurrent\": true, \"mode\": \"immediate\", \"transition\": {\"duration\": 0, \"easing\": \"linear\"}}], \"label\": \"2020-09-08\", \"method\": \"animate\"}, {\"args\": [[\"2020-09-09\"], {\"frame\": {\"duration\": 0, \"redraw\": true}, \"fromcurrent\": true, \"mode\": \"immediate\", \"transition\": {\"duration\": 0, \"easing\": \"linear\"}}], \"label\": \"2020-09-09\", \"method\": \"animate\"}, {\"args\": [[\"2020-09-10\"], {\"frame\": {\"duration\": 0, \"redraw\": true}, \"fromcurrent\": true, \"mode\": \"immediate\", \"transition\": {\"duration\": 0, \"easing\": \"linear\"}}], \"label\": \"2020-09-10\", \"method\": \"animate\"}, {\"args\": [[\"2020-09-11\"], {\"frame\": {\"duration\": 0, \"redraw\": true}, \"fromcurrent\": true, \"mode\": \"immediate\", \"transition\": {\"duration\": 0, \"easing\": \"linear\"}}], \"label\": \"2020-09-11\", \"method\": \"animate\"}, {\"args\": [[\"2020-09-12\"], {\"frame\": {\"duration\": 0, \"redraw\": true}, \"fromcurrent\": true, \"mode\": \"immediate\", \"transition\": {\"duration\": 0, \"easing\": \"linear\"}}], \"label\": \"2020-09-12\", \"method\": \"animate\"}, {\"args\": [[\"2020-09-13\"], {\"frame\": {\"duration\": 0, \"redraw\": true}, \"fromcurrent\": true, \"mode\": \"immediate\", \"transition\": {\"duration\": 0, \"easing\": \"linear\"}}], \"label\": \"2020-09-13\", \"method\": \"animate\"}, {\"args\": [[\"2020-09-14\"], {\"frame\": {\"duration\": 0, \"redraw\": true}, \"fromcurrent\": true, \"mode\": \"immediate\", \"transition\": {\"duration\": 0, \"easing\": \"linear\"}}], \"label\": \"2020-09-14\", \"method\": \"animate\"}, {\"args\": [[\"2020-09-15\"], {\"frame\": {\"duration\": 0, \"redraw\": true}, \"fromcurrent\": true, \"mode\": \"immediate\", \"transition\": {\"duration\": 0, \"easing\": \"linear\"}}], \"label\": \"2020-09-15\", \"method\": \"animate\"}, {\"args\": [[\"2020-09-16\"], {\"frame\": {\"duration\": 0, \"redraw\": true}, \"fromcurrent\": true, \"mode\": \"immediate\", \"transition\": {\"duration\": 0, \"easing\": \"linear\"}}], \"label\": \"2020-09-16\", \"method\": \"animate\"}, {\"args\": [[\"2020-09-17\"], {\"frame\": {\"duration\": 0, \"redraw\": true}, \"fromcurrent\": true, \"mode\": \"immediate\", \"transition\": {\"duration\": 0, \"easing\": \"linear\"}}], \"label\": \"2020-09-17\", \"method\": \"animate\"}, {\"args\": [[\"2020-09-18\"], {\"frame\": {\"duration\": 0, \"redraw\": true}, \"fromcurrent\": true, \"mode\": \"immediate\", \"transition\": {\"duration\": 0, \"easing\": \"linear\"}}], \"label\": \"2020-09-18\", \"method\": \"animate\"}, {\"args\": [[\"2020-09-19\"], {\"frame\": {\"duration\": 0, \"redraw\": true}, \"fromcurrent\": true, \"mode\": \"immediate\", \"transition\": {\"duration\": 0, \"easing\": \"linear\"}}], \"label\": \"2020-09-19\", \"method\": \"animate\"}, {\"args\": [[\"2020-09-20\"], {\"frame\": {\"duration\": 0, \"redraw\": true}, \"fromcurrent\": true, \"mode\": \"immediate\", \"transition\": {\"duration\": 0, \"easing\": \"linear\"}}], \"label\": \"2020-09-20\", \"method\": \"animate\"}, {\"args\": [[\"2020-09-21\"], {\"frame\": {\"duration\": 0, \"redraw\": true}, \"fromcurrent\": true, \"mode\": \"immediate\", \"transition\": {\"duration\": 0, \"easing\": \"linear\"}}], \"label\": \"2020-09-21\", \"method\": \"animate\"}, {\"args\": [[\"2020-09-22\"], {\"frame\": {\"duration\": 0, \"redraw\": true}, \"fromcurrent\": true, \"mode\": \"immediate\", \"transition\": {\"duration\": 0, \"easing\": \"linear\"}}], \"label\": \"2020-09-22\", \"method\": \"animate\"}, {\"args\": [[\"2020-09-23\"], {\"frame\": {\"duration\": 0, \"redraw\": true}, \"fromcurrent\": true, \"mode\": \"immediate\", \"transition\": {\"duration\": 0, \"easing\": \"linear\"}}], \"label\": \"2020-09-23\", \"method\": \"animate\"}, {\"args\": [[\"2020-09-24\"], {\"frame\": {\"duration\": 0, \"redraw\": true}, \"fromcurrent\": true, \"mode\": \"immediate\", \"transition\": {\"duration\": 0, \"easing\": \"linear\"}}], \"label\": \"2020-09-24\", \"method\": \"animate\"}, {\"args\": [[\"2020-09-25\"], {\"frame\": {\"duration\": 0, \"redraw\": true}, \"fromcurrent\": true, \"mode\": \"immediate\", \"transition\": {\"duration\": 0, \"easing\": \"linear\"}}], \"label\": \"2020-09-25\", \"method\": \"animate\"}, {\"args\": [[\"2020-09-26\"], {\"frame\": {\"duration\": 0, \"redraw\": true}, \"fromcurrent\": true, \"mode\": \"immediate\", \"transition\": {\"duration\": 0, \"easing\": \"linear\"}}], \"label\": \"2020-09-26\", \"method\": \"animate\"}, {\"args\": [[\"2020-09-27\"], {\"frame\": {\"duration\": 0, \"redraw\": true}, \"fromcurrent\": true, \"mode\": \"immediate\", \"transition\": {\"duration\": 0, \"easing\": \"linear\"}}], \"label\": \"2020-09-27\", \"method\": \"animate\"}, {\"args\": [[\"2020-09-28\"], {\"frame\": {\"duration\": 0, \"redraw\": true}, \"fromcurrent\": true, \"mode\": \"immediate\", \"transition\": {\"duration\": 0, \"easing\": \"linear\"}}], \"label\": \"2020-09-28\", \"method\": \"animate\"}, {\"args\": [[\"2020-09-29\"], {\"frame\": {\"duration\": 0, \"redraw\": true}, \"fromcurrent\": true, \"mode\": \"immediate\", \"transition\": {\"duration\": 0, \"easing\": \"linear\"}}], \"label\": \"2020-09-29\", \"method\": \"animate\"}, {\"args\": [[\"2020-09-30\"], {\"frame\": {\"duration\": 0, \"redraw\": true}, \"fromcurrent\": true, \"mode\": \"immediate\", \"transition\": {\"duration\": 0, \"easing\": \"linear\"}}], \"label\": \"2020-09-30\", \"method\": \"animate\"}, {\"args\": [[\"2020-10-01\"], {\"frame\": {\"duration\": 0, \"redraw\": true}, \"fromcurrent\": true, \"mode\": \"immediate\", \"transition\": {\"duration\": 0, \"easing\": \"linear\"}}], \"label\": \"2020-10-01\", \"method\": \"animate\"}, {\"args\": [[\"2020-10-02\"], {\"frame\": {\"duration\": 0, \"redraw\": true}, \"fromcurrent\": true, \"mode\": \"immediate\", \"transition\": {\"duration\": 0, \"easing\": \"linear\"}}], \"label\": \"2020-10-02\", \"method\": \"animate\"}, {\"args\": [[\"2020-10-03\"], {\"frame\": {\"duration\": 0, \"redraw\": true}, \"fromcurrent\": true, \"mode\": \"immediate\", \"transition\": {\"duration\": 0, \"easing\": \"linear\"}}], \"label\": \"2020-10-03\", \"method\": \"animate\"}, {\"args\": [[\"2020-10-04\"], {\"frame\": {\"duration\": 0, \"redraw\": true}, \"fromcurrent\": true, \"mode\": \"immediate\", \"transition\": {\"duration\": 0, \"easing\": \"linear\"}}], \"label\": \"2020-10-04\", \"method\": \"animate\"}, {\"args\": [[\"2020-10-05\"], {\"frame\": {\"duration\": 0, \"redraw\": true}, \"fromcurrent\": true, \"mode\": \"immediate\", \"transition\": {\"duration\": 0, \"easing\": \"linear\"}}], \"label\": \"2020-10-05\", \"method\": \"animate\"}, {\"args\": [[\"2020-10-06\"], {\"frame\": {\"duration\": 0, \"redraw\": true}, \"fromcurrent\": true, \"mode\": \"immediate\", \"transition\": {\"duration\": 0, \"easing\": \"linear\"}}], \"label\": \"2020-10-06\", \"method\": \"animate\"}, {\"args\": [[\"2020-10-07\"], {\"frame\": {\"duration\": 0, \"redraw\": true}, \"fromcurrent\": true, \"mode\": \"immediate\", \"transition\": {\"duration\": 0, \"easing\": \"linear\"}}], \"label\": \"2020-10-07\", \"method\": \"animate\"}, {\"args\": [[\"2020-10-08\"], {\"frame\": {\"duration\": 0, \"redraw\": true}, \"fromcurrent\": true, \"mode\": \"immediate\", \"transition\": {\"duration\": 0, \"easing\": \"linear\"}}], \"label\": \"2020-10-08\", \"method\": \"animate\"}, {\"args\": [[\"2020-10-09\"], {\"frame\": {\"duration\": 0, \"redraw\": true}, \"fromcurrent\": true, \"mode\": \"immediate\", \"transition\": {\"duration\": 0, \"easing\": \"linear\"}}], \"label\": \"2020-10-09\", \"method\": \"animate\"}, {\"args\": [[\"2020-10-10\"], {\"frame\": {\"duration\": 0, \"redraw\": true}, \"fromcurrent\": true, \"mode\": \"immediate\", \"transition\": {\"duration\": 0, \"easing\": \"linear\"}}], \"label\": \"2020-10-10\", \"method\": \"animate\"}, {\"args\": [[\"2020-10-11\"], {\"frame\": {\"duration\": 0, \"redraw\": true}, \"fromcurrent\": true, \"mode\": \"immediate\", \"transition\": {\"duration\": 0, \"easing\": \"linear\"}}], \"label\": \"2020-10-11\", \"method\": \"animate\"}, {\"args\": [[\"2020-10-12\"], {\"frame\": {\"duration\": 0, \"redraw\": true}, \"fromcurrent\": true, \"mode\": \"immediate\", \"transition\": {\"duration\": 0, \"easing\": \"linear\"}}], \"label\": \"2020-10-12\", \"method\": \"animate\"}, {\"args\": [[\"2020-10-13\"], {\"frame\": {\"duration\": 0, \"redraw\": true}, \"fromcurrent\": true, \"mode\": \"immediate\", \"transition\": {\"duration\": 0, \"easing\": \"linear\"}}], \"label\": \"2020-10-13\", \"method\": \"animate\"}, {\"args\": [[\"2020-10-14\"], {\"frame\": {\"duration\": 0, \"redraw\": true}, \"fromcurrent\": true, \"mode\": \"immediate\", \"transition\": {\"duration\": 0, \"easing\": \"linear\"}}], \"label\": \"2020-10-14\", \"method\": \"animate\"}, {\"args\": [[\"2020-10-15\"], {\"frame\": {\"duration\": 0, \"redraw\": true}, \"fromcurrent\": true, \"mode\": \"immediate\", \"transition\": {\"duration\": 0, \"easing\": \"linear\"}}], \"label\": \"2020-10-15\", \"method\": \"animate\"}, {\"args\": [[\"2020-10-16\"], {\"frame\": {\"duration\": 0, \"redraw\": true}, \"fromcurrent\": true, \"mode\": \"immediate\", \"transition\": {\"duration\": 0, \"easing\": \"linear\"}}], \"label\": \"2020-10-16\", \"method\": \"animate\"}, {\"args\": [[\"2020-10-17\"], {\"frame\": {\"duration\": 0, \"redraw\": true}, \"fromcurrent\": true, \"mode\": \"immediate\", \"transition\": {\"duration\": 0, \"easing\": \"linear\"}}], \"label\": \"2020-10-17\", \"method\": \"animate\"}, {\"args\": [[\"2020-10-18\"], {\"frame\": {\"duration\": 0, \"redraw\": true}, \"fromcurrent\": true, \"mode\": \"immediate\", \"transition\": {\"duration\": 0, \"easing\": \"linear\"}}], \"label\": \"2020-10-18\", \"method\": \"animate\"}, {\"args\": [[\"2020-10-19\"], {\"frame\": {\"duration\": 0, \"redraw\": true}, \"fromcurrent\": true, \"mode\": \"immediate\", \"transition\": {\"duration\": 0, \"easing\": \"linear\"}}], \"label\": \"2020-10-19\", \"method\": \"animate\"}, {\"args\": [[\"2020-10-20\"], {\"frame\": {\"duration\": 0, \"redraw\": true}, \"fromcurrent\": true, \"mode\": \"immediate\", \"transition\": {\"duration\": 0, \"easing\": \"linear\"}}], \"label\": \"2020-10-20\", \"method\": \"animate\"}, {\"args\": [[\"2020-10-21\"], {\"frame\": {\"duration\": 0, \"redraw\": true}, \"fromcurrent\": true, \"mode\": \"immediate\", \"transition\": {\"duration\": 0, \"easing\": \"linear\"}}], \"label\": \"2020-10-21\", \"method\": \"animate\"}, {\"args\": [[\"2020-10-22\"], {\"frame\": {\"duration\": 0, \"redraw\": true}, \"fromcurrent\": true, \"mode\": \"immediate\", \"transition\": {\"duration\": 0, \"easing\": \"linear\"}}], \"label\": \"2020-10-22\", \"method\": \"animate\"}, {\"args\": [[\"2020-10-23\"], {\"frame\": {\"duration\": 0, \"redraw\": true}, \"fromcurrent\": true, \"mode\": \"immediate\", \"transition\": {\"duration\": 0, \"easing\": \"linear\"}}], \"label\": \"2020-10-23\", \"method\": \"animate\"}, {\"args\": [[\"2020-10-24\"], {\"frame\": {\"duration\": 0, \"redraw\": true}, \"fromcurrent\": true, \"mode\": \"immediate\", \"transition\": {\"duration\": 0, \"easing\": \"linear\"}}], \"label\": \"2020-10-24\", \"method\": \"animate\"}, {\"args\": [[\"2020-10-25\"], {\"frame\": {\"duration\": 0, \"redraw\": true}, \"fromcurrent\": true, \"mode\": \"immediate\", \"transition\": {\"duration\": 0, \"easing\": \"linear\"}}], \"label\": \"2020-10-25\", \"method\": \"animate\"}, {\"args\": [[\"2020-10-26\"], {\"frame\": {\"duration\": 0, \"redraw\": true}, \"fromcurrent\": true, \"mode\": \"immediate\", \"transition\": {\"duration\": 0, \"easing\": \"linear\"}}], \"label\": \"2020-10-26\", \"method\": \"animate\"}, {\"args\": [[\"2020-10-27\"], {\"frame\": {\"duration\": 0, \"redraw\": true}, \"fromcurrent\": true, \"mode\": \"immediate\", \"transition\": {\"duration\": 0, \"easing\": \"linear\"}}], \"label\": \"2020-10-27\", \"method\": \"animate\"}, {\"args\": [[\"2020-10-28\"], {\"frame\": {\"duration\": 0, \"redraw\": true}, \"fromcurrent\": true, \"mode\": \"immediate\", \"transition\": {\"duration\": 0, \"easing\": \"linear\"}}], \"label\": \"2020-10-28\", \"method\": \"animate\"}, {\"args\": [[\"2020-10-29\"], {\"frame\": {\"duration\": 0, \"redraw\": true}, \"fromcurrent\": true, \"mode\": \"immediate\", \"transition\": {\"duration\": 0, \"easing\": \"linear\"}}], \"label\": \"2020-10-29\", \"method\": \"animate\"}, {\"args\": [[\"2020-10-30\"], {\"frame\": {\"duration\": 0, \"redraw\": true}, \"fromcurrent\": true, \"mode\": \"immediate\", \"transition\": {\"duration\": 0, \"easing\": \"linear\"}}], \"label\": \"2020-10-30\", \"method\": \"animate\"}, {\"args\": [[\"2020-10-31\"], {\"frame\": {\"duration\": 0, \"redraw\": true}, \"fromcurrent\": true, \"mode\": \"immediate\", \"transition\": {\"duration\": 0, \"easing\": \"linear\"}}], \"label\": \"2020-10-31\", \"method\": \"animate\"}, {\"args\": [[\"2020-11-01\"], {\"frame\": {\"duration\": 0, \"redraw\": true}, \"fromcurrent\": true, \"mode\": \"immediate\", \"transition\": {\"duration\": 0, \"easing\": \"linear\"}}], \"label\": \"2020-11-01\", \"method\": \"animate\"}, {\"args\": [[\"2020-11-02\"], {\"frame\": {\"duration\": 0, \"redraw\": true}, \"fromcurrent\": true, \"mode\": \"immediate\", \"transition\": {\"duration\": 0, \"easing\": \"linear\"}}], \"label\": \"2020-11-02\", \"method\": \"animate\"}, {\"args\": [[\"2020-11-03\"], {\"frame\": {\"duration\": 0, \"redraw\": true}, \"fromcurrent\": true, \"mode\": \"immediate\", \"transition\": {\"duration\": 0, \"easing\": \"linear\"}}], \"label\": \"2020-11-03\", \"method\": \"animate\"}], \"x\": 0.1, \"xanchor\": \"left\", \"y\": 0, \"yanchor\": \"top\"}], \"template\": {\"data\": {\"bar\": [{\"error_x\": {\"color\": \"#2a3f5f\"}, \"error_y\": {\"color\": \"#2a3f5f\"}, \"marker\": {\"line\": {\"color\": \"#E5ECF6\", \"width\": 0.5}}, \"type\": \"bar\"}], \"barpolar\": [{\"marker\": {\"line\": {\"color\": \"#E5ECF6\", \"width\": 0.5}}, \"type\": \"barpolar\"}], \"carpet\": [{\"aaxis\": {\"endlinecolor\": \"#2a3f5f\", \"gridcolor\": \"white\", \"linecolor\": \"white\", \"minorgridcolor\": \"white\", \"startlinecolor\": \"#2a3f5f\"}, \"baxis\": {\"endlinecolor\": \"#2a3f5f\", \"gridcolor\": \"white\", \"linecolor\": \"white\", \"minorgridcolor\": \"white\", \"startlinecolor\": \"#2a3f5f\"}, \"type\": \"carpet\"}], \"choropleth\": [{\"colorbar\": {\"outlinewidth\": 0, \"ticks\": \"\"}, \"type\": \"choropleth\"}], \"contour\": [{\"colorbar\": {\"outlinewidth\": 0, \"ticks\": \"\"}, \"colorscale\": [[0.0, \"#0d0887\"], [0.1111111111111111, \"#46039f\"], [0.2222222222222222, \"#7201a8\"], [0.3333333333333333, \"#9c179e\"], [0.4444444444444444, \"#bd3786\"], [0.5555555555555556, \"#d8576b\"], [0.6666666666666666, \"#ed7953\"], [0.7777777777777778, \"#fb9f3a\"], [0.8888888888888888, \"#fdca26\"], [1.0, \"#f0f921\"]], \"type\": \"contour\"}], \"contourcarpet\": [{\"colorbar\": {\"outlinewidth\": 0, \"ticks\": \"\"}, \"type\": \"contourcarpet\"}], \"heatmap\": [{\"colorbar\": {\"outlinewidth\": 0, \"ticks\": \"\"}, \"colorscale\": [[0.0, \"#0d0887\"], [0.1111111111111111, \"#46039f\"], [0.2222222222222222, \"#7201a8\"], [0.3333333333333333, \"#9c179e\"], [0.4444444444444444, \"#bd3786\"], [0.5555555555555556, \"#d8576b\"], [0.6666666666666666, \"#ed7953\"], [0.7777777777777778, \"#fb9f3a\"], [0.8888888888888888, \"#fdca26\"], [1.0, \"#f0f921\"]], \"type\": \"heatmap\"}], \"heatmapgl\": [{\"colorbar\": {\"outlinewidth\": 0, \"ticks\": \"\"}, \"colorscale\": [[0.0, \"#0d0887\"], [0.1111111111111111, \"#46039f\"], [0.2222222222222222, \"#7201a8\"], [0.3333333333333333, \"#9c179e\"], [0.4444444444444444, \"#bd3786\"], [0.5555555555555556, \"#d8576b\"], [0.6666666666666666, \"#ed7953\"], [0.7777777777777778, \"#fb9f3a\"], [0.8888888888888888, \"#fdca26\"], [1.0, \"#f0f921\"]], \"type\": \"heatmapgl\"}], \"histogram\": [{\"marker\": {\"colorbar\": {\"outlinewidth\": 0, \"ticks\": \"\"}}, \"type\": \"histogram\"}], \"histogram2d\": [{\"colorbar\": {\"outlinewidth\": 0, \"ticks\": \"\"}, \"colorscale\": [[0.0, \"#0d0887\"], [0.1111111111111111, \"#46039f\"], [0.2222222222222222, \"#7201a8\"], [0.3333333333333333, \"#9c179e\"], [0.4444444444444444, \"#bd3786\"], [0.5555555555555556, \"#d8576b\"], [0.6666666666666666, \"#ed7953\"], [0.7777777777777778, \"#fb9f3a\"], [0.8888888888888888, \"#fdca26\"], [1.0, \"#f0f921\"]], \"type\": \"histogram2d\"}], \"histogram2dcontour\": [{\"colorbar\": {\"outlinewidth\": 0, \"ticks\": \"\"}, \"colorscale\": [[0.0, \"#0d0887\"], [0.1111111111111111, \"#46039f\"], [0.2222222222222222, \"#7201a8\"], [0.3333333333333333, \"#9c179e\"], [0.4444444444444444, \"#bd3786\"], [0.5555555555555556, \"#d8576b\"], [0.6666666666666666, \"#ed7953\"], [0.7777777777777778, \"#fb9f3a\"], [0.8888888888888888, \"#fdca26\"], [1.0, \"#f0f921\"]], \"type\": \"histogram2dcontour\"}], \"mesh3d\": [{\"colorbar\": {\"outlinewidth\": 0, \"ticks\": \"\"}, \"type\": \"mesh3d\"}], \"parcoords\": [{\"line\": {\"colorbar\": {\"outlinewidth\": 0, \"ticks\": \"\"}}, \"type\": \"parcoords\"}], \"pie\": [{\"automargin\": true, \"type\": \"pie\"}], \"scatter\": [{\"marker\": {\"colorbar\": {\"outlinewidth\": 0, \"ticks\": \"\"}}, \"type\": \"scatter\"}], \"scatter3d\": [{\"line\": {\"colorbar\": {\"outlinewidth\": 0, \"ticks\": \"\"}}, \"marker\": {\"colorbar\": {\"outlinewidth\": 0, \"ticks\": \"\"}}, \"type\": \"scatter3d\"}], \"scattercarpet\": [{\"marker\": {\"colorbar\": {\"outlinewidth\": 0, \"ticks\": \"\"}}, \"type\": \"scattercarpet\"}], \"scattergeo\": [{\"marker\": {\"colorbar\": {\"outlinewidth\": 0, \"ticks\": \"\"}}, \"type\": \"scattergeo\"}], \"scattergl\": [{\"marker\": {\"colorbar\": {\"outlinewidth\": 0, \"ticks\": \"\"}}, \"type\": \"scattergl\"}], \"scattermapbox\": [{\"marker\": {\"colorbar\": {\"outlinewidth\": 0, \"ticks\": \"\"}}, \"type\": \"scattermapbox\"}], \"scatterpolar\": [{\"marker\": {\"colorbar\": {\"outlinewidth\": 0, \"ticks\": \"\"}}, \"type\": \"scatterpolar\"}], \"scatterpolargl\": [{\"marker\": {\"colorbar\": {\"outlinewidth\": 0, \"ticks\": \"\"}}, \"type\": \"scatterpolargl\"}], \"scatterternary\": [{\"marker\": {\"colorbar\": {\"outlinewidth\": 0, \"ticks\": \"\"}}, \"type\": \"scatterternary\"}], \"surface\": [{\"colorbar\": {\"outlinewidth\": 0, \"ticks\": \"\"}, \"colorscale\": [[0.0, \"#0d0887\"], [0.1111111111111111, \"#46039f\"], [0.2222222222222222, \"#7201a8\"], [0.3333333333333333, \"#9c179e\"], [0.4444444444444444, \"#bd3786\"], [0.5555555555555556, \"#d8576b\"], [0.6666666666666666, \"#ed7953\"], [0.7777777777777778, \"#fb9f3a\"], [0.8888888888888888, \"#fdca26\"], [1.0, \"#f0f921\"]], \"type\": \"surface\"}], \"table\": [{\"cells\": {\"fill\": {\"color\": \"#EBF0F8\"}, \"line\": {\"color\": \"white\"}}, \"header\": {\"fill\": {\"color\": \"#C8D4E3\"}, \"line\": {\"color\": \"white\"}}, \"type\": \"table\"}]}, \"layout\": {\"annotationdefaults\": {\"arrowcolor\": \"#2a3f5f\", \"arrowhead\": 0, \"arrowwidth\": 1}, \"coloraxis\": {\"colorbar\": {\"outlinewidth\": 0, \"ticks\": \"\"}}, \"colorscale\": {\"diverging\": [[0, \"#8e0152\"], [0.1, \"#c51b7d\"], [0.2, \"#de77ae\"], [0.3, \"#f1b6da\"], [0.4, \"#fde0ef\"], [0.5, \"#f7f7f7\"], [0.6, \"#e6f5d0\"], [0.7, \"#b8e186\"], [0.8, \"#7fbc41\"], [0.9, \"#4d9221\"], [1, \"#276419\"]], \"sequential\": [[0.0, \"#0d0887\"], [0.1111111111111111, \"#46039f\"], [0.2222222222222222, \"#7201a8\"], [0.3333333333333333, \"#9c179e\"], [0.4444444444444444, \"#bd3786\"], [0.5555555555555556, \"#d8576b\"], [0.6666666666666666, \"#ed7953\"], [0.7777777777777778, \"#fb9f3a\"], [0.8888888888888888, \"#fdca26\"], [1.0, \"#f0f921\"]], \"sequentialminus\": [[0.0, \"#0d0887\"], [0.1111111111111111, \"#46039f\"], [0.2222222222222222, \"#7201a8\"], [0.3333333333333333, \"#9c179e\"], [0.4444444444444444, \"#bd3786\"], [0.5555555555555556, \"#d8576b\"], [0.6666666666666666, \"#ed7953\"], [0.7777777777777778, \"#fb9f3a\"], [0.8888888888888888, \"#fdca26\"], [1.0, \"#f0f921\"]]}, \"colorway\": [\"#636efa\", \"#EF553B\", \"#00cc96\", \"#ab63fa\", \"#FFA15A\", \"#19d3f3\", \"#FF6692\", \"#B6E880\", \"#FF97FF\", \"#FECB52\"], \"font\": {\"color\": \"#2a3f5f\"}, \"geo\": {\"bgcolor\": \"white\", \"lakecolor\": \"white\", \"landcolor\": \"#E5ECF6\", \"showlakes\": true, \"showland\": true, \"subunitcolor\": \"white\"}, \"hoverlabel\": {\"align\": \"left\"}, \"hovermode\": \"closest\", \"mapbox\": {\"style\": \"light\"}, \"paper_bgcolor\": \"white\", \"plot_bgcolor\": \"#E5ECF6\", \"polar\": {\"angularaxis\": {\"gridcolor\": \"white\", \"linecolor\": \"white\", \"ticks\": \"\"}, \"bgcolor\": \"#E5ECF6\", \"radialaxis\": {\"gridcolor\": \"white\", \"linecolor\": \"white\", \"ticks\": \"\"}}, \"scene\": {\"xaxis\": {\"backgroundcolor\": \"#E5ECF6\", \"gridcolor\": \"white\", \"gridwidth\": 2, \"linecolor\": \"white\", \"showbackground\": true, \"ticks\": \"\", \"zerolinecolor\": \"white\"}, \"yaxis\": {\"backgroundcolor\": \"#E5ECF6\", \"gridcolor\": \"white\", \"gridwidth\": 2, \"linecolor\": \"white\", \"showbackground\": true, \"ticks\": \"\", \"zerolinecolor\": \"white\"}, \"zaxis\": {\"backgroundcolor\": \"#E5ECF6\", \"gridcolor\": \"white\", \"gridwidth\": 2, \"linecolor\": \"white\", \"showbackground\": true, \"ticks\": \"\", \"zerolinecolor\": \"white\"}}, \"shapedefaults\": {\"line\": {\"color\": \"#2a3f5f\"}}, \"ternary\": {\"aaxis\": {\"gridcolor\": \"white\", \"linecolor\": \"white\", \"ticks\": \"\"}, \"baxis\": {\"gridcolor\": \"white\", \"linecolor\": \"white\", \"ticks\": \"\"}, \"bgcolor\": \"#E5ECF6\", \"caxis\": {\"gridcolor\": \"white\", \"linecolor\": \"white\", \"ticks\": \"\"}}, \"title\": {\"x\": 0.05}, \"xaxis\": {\"automargin\": true, \"gridcolor\": \"white\", \"linecolor\": \"white\", \"ticks\": \"\", \"title\": {\"standoff\": 15}, \"zerolinecolor\": \"white\", \"zerolinewidth\": 2}, \"yaxis\": {\"automargin\": true, \"gridcolor\": \"white\", \"linecolor\": \"white\", \"ticks\": \"\", \"title\": {\"standoff\": 15}, \"zerolinecolor\": \"white\", \"zerolinewidth\": 2}}}, \"updatemenus\": [{\"buttons\": [{\"args\": [null, {\"frame\": {\"duration\": 100, \"redraw\": true}, \"fromcurrent\": true, \"mode\": \"immediate\", \"transition\": {\"duration\": 500, \"easing\": \"linear\"}}], \"label\": \"&#9654;\", \"method\": \"animate\"}, {\"args\": [[null], {\"frame\": {\"duration\": 0, \"redraw\": true}, \"fromcurrent\": true, \"mode\": \"immediate\", \"transition\": {\"duration\": 0, \"easing\": \"linear\"}}], \"label\": \"&#9724;\", \"method\": \"animate\"}], \"direction\": \"left\", \"pad\": {\"r\": 10, \"t\": 70}, \"showactive\": false, \"type\": \"buttons\", \"x\": 0.1, \"xanchor\": \"right\", \"y\": 0, \"yanchor\": \"top\"}], \"width\": 600},                        {\"responsive\": true}                    ).then(function(){\n",
       "                            Plotly.addFrames('2900f9df-0cd1-49bd-805e-0017edee8def', [{\"data\": [{\"coloraxis\": \"coloraxis\", \"geo\": \"geo\", \"hovertemplate\": \"Date=2020-04-16<br>iso_code=%{location}<br>New C-19 deaths per 1M=%{z}<extra></extra>\", \"locations\": [\"ARG\", \"BOL\", \"BRA\", \"CHL\", \"COL\", \"ECU\", \"FLK\", \"GUY\", \"PER\", \"PRY\", \"SUR\", \"URY\", \"VEN\"], \"name\": \"\", \"z\": [0.139, 0.135, 0.629, 0.344, 0.213, 1.182, 0.0, 0.0, 0.5760000000000001, 0.06, 0.0, 0.08199999999999999, 0.005], \"type\": \"choropleth\"}], \"name\": \"2020-04-16\"}, {\"data\": [{\"coloraxis\": \"coloraxis\", \"geo\": \"geo\", \"hovertemplate\": \"Date=2020-04-17<br>iso_code=%{location}<br>New C-19 deaths per 1M=%{z}<extra></extra>\", \"locations\": [\"ARG\", \"BOL\", \"BRA\", \"CHL\", \"COL\", \"ECU\", \"FLK\", \"GUY\", \"PER\", \"PRY\", \"SUR\", \"URY\", \"VEN\"], \"name\": \"\", \"z\": [0.114, 0.147, 0.6609999999999999, 0.359, 0.21100000000000002, 1.061, 0.0, 0.0, 0.589, 0.04, 0.0, 0.08199999999999999, 0.0], \"type\": \"choropleth\"}], \"name\": \"2020-04-17\"}, {\"data\": [{\"coloraxis\": \"coloraxis\", \"geo\": \"geo\", \"hovertemplate\": \"Date=2020-04-18<br>iso_code=%{location}<br>New C-19 deaths per 1M=%{z}<extra></extra>\", \"locations\": [\"ARG\", \"BOL\", \"BRA\", \"CHL\", \"COL\", \"ECU\", \"FLK\", \"GUY\", \"PER\", \"PRY\", \"SUR\", \"URY\", \"VEN\"], \"name\": \"\", \"z\": [0.126, 0.135, 0.7290000000000001, 0.381, 0.205, 1.004, 0.0, 0.0, 0.568, 0.04, 0.0, 0.08199999999999999, 0.0], \"type\": \"choropleth\"}], \"name\": \"2020-04-18\"}, {\"data\": [{\"coloraxis\": \"coloraxis\", \"geo\": \"geo\", \"hovertemplate\": \"Date=2020-04-19<br>iso_code=%{location}<br>New C-19 deaths per 1M=%{z}<extra></extra>\", \"locations\": [\"ARG\", \"BOL\", \"BRA\", \"CHL\", \"COL\", \"ECU\", \"FLK\", \"GUY\", \"PER\", \"PRY\", \"SUR\", \"URY\", \"VEN\"], \"name\": \"\", \"z\": [0.136, 0.098, 0.8220000000000001, 0.396, 0.185, 1.1420000000000001, 0.0, 0.182, 0.7240000000000001, 0.04, 0.0, 0.08199999999999999, 0.0], \"type\": \"choropleth\"}], \"name\": \"2020-04-19\"}, {\"data\": [{\"coloraxis\": \"coloraxis\", \"geo\": \"geo\", \"hovertemplate\": \"Date=2020-04-20<br>iso_code=%{location}<br>New C-19 deaths per 1M=%{z}<extra></extra>\", \"locations\": [\"ARG\", \"BOL\", \"BRA\", \"CHL\", \"COL\", \"ECU\", \"FLK\", \"GUY\", \"PER\", \"PRY\", \"SUR\", \"URY\", \"VEN\"], \"name\": \"\", \"z\": [0.12300000000000001, 0.073, 0.833, 0.396, 0.19699999999999998, 1.1420000000000001, 0.0, 0.182, 0.897, 0.04, 0.0, 0.08199999999999999, 0.0], \"type\": \"choropleth\"}], \"name\": \"2020-04-20\"}, {\"data\": [{\"coloraxis\": \"coloraxis\", \"geo\": \"geo\", \"hovertemplate\": \"Date=2020-04-21<br>iso_code=%{location}<br>New C-19 deaths per 1M=%{z}<extra></extra>\", \"locations\": [\"ARG\", \"BOL\", \"BRA\", \"CHL\", \"COL\", \"ECU\", \"FLK\", \"GUY\", \"PER\", \"PRY\", \"SUR\", \"URY\", \"VEN\"], \"name\": \"\", \"z\": [0.139, 0.073, 0.838, 0.426, 0.21600000000000003, 1.2309999999999999, 0.0, 0.182, 1.092, 0.02, 0.0, 0.08199999999999999, 0.0], \"type\": \"choropleth\"}], \"name\": \"2020-04-21\"}, {\"data\": [{\"coloraxis\": \"coloraxis\", \"geo\": \"geo\", \"hovertemplate\": \"Date=2020-04-22<br>iso_code=%{location}<br>New C-19 deaths per 1M=%{z}<extra></extra>\", \"locations\": [\"ARG\", \"BOL\", \"BRA\", \"CHL\", \"COL\", \"ECU\", \"FLK\", \"GUY\", \"PER\", \"PRY\", \"SUR\", \"URY\", \"VEN\"], \"name\": \"\", \"z\": [0.145, 0.11, 0.813, 0.41100000000000003, 0.19399999999999998, 1.3359999999999999, 0.0, 0.182, 1.101, 0.02, 0.0, 0.165, 0.005], \"type\": \"choropleth\"}], \"name\": \"2020-04-22\"}, {\"data\": [{\"coloraxis\": \"coloraxis\", \"geo\": \"geo\", \"hovertemplate\": \"Date=2020-04-23<br>iso_code=%{location}<br>New C-19 deaths per 1M=%{z}<extra></extra>\", \"locations\": [\"ARG\", \"BOL\", \"BRA\", \"CHL\", \"COL\", \"ECU\", \"FLK\", \"GUY\", \"PER\", \"PRY\", \"SUR\", \"URY\", \"VEN\"], \"name\": \"\", \"z\": [0.158, 0.135, 0.7859999999999999, 0.493, 0.21100000000000002, 1.206, 0.0, 0.182, 1.196, 0.02, 0.0, 0.12300000000000001, 0.005], \"type\": \"choropleth\"}], \"name\": \"2020-04-23\"}, {\"data\": [{\"coloraxis\": \"coloraxis\", \"geo\": \"geo\", \"hovertemplate\": \"Date=2020-04-24<br>iso_code=%{location}<br>New C-19 deaths per 1M=%{z}<extra></extra>\", \"locations\": [\"ARG\", \"BOL\", \"BRA\", \"CHL\", \"COL\", \"ECU\", \"FLK\", \"GUY\", \"PER\", \"PRY\", \"SUR\", \"URY\", \"VEN\"], \"name\": \"\", \"z\": [0.158, 0.147, 0.934, 0.47100000000000003, 0.19899999999999998, 1.271, 0.0, 0.182, 1.291, 0.02, 0.0, 0.12300000000000001, 0.005], \"type\": \"choropleth\"}], \"name\": \"2020-04-24\"}, {\"data\": [{\"coloraxis\": \"coloraxis\", \"geo\": \"geo\", \"hovertemplate\": \"Date=2020-04-25<br>iso_code=%{location}<br>New C-19 deaths per 1M=%{z}<extra></extra>\", \"locations\": [\"ARG\", \"BOL\", \"BRA\", \"CHL\", \"COL\", \"ECU\", \"FLK\", \"GUY\", \"PER\", \"PRY\", \"SUR\", \"URY\", \"VEN\"], \"name\": \"\", \"z\": [0.142, 0.159, 1.028, 0.433, 0.20199999999999999, 1.255, 0.0, 0.363, 1.4469999999999998, 0.02, 0.0, 0.12300000000000001, 0.005], \"type\": \"choropleth\"}], \"name\": \"2020-04-25\"}, {\"data\": [{\"coloraxis\": \"coloraxis\", \"geo\": \"geo\", \"hovertemplate\": \"Date=2020-04-26<br>iso_code=%{location}<br>New C-19 deaths per 1M=%{z}<extra></extra>\", \"locations\": [\"ARG\", \"BOL\", \"BRA\", \"CHL\", \"COL\", \"ECU\", \"FLK\", \"GUY\", \"PER\", \"PRY\", \"SUR\", \"URY\", \"VEN\"], \"name\": \"\", \"z\": [0.168, 0.171, 1.122, 0.41100000000000003, 0.188, 0.972, 0.0, 0.182, 1.525, 0.02, 0.0, 0.20600000000000002, 0.005], \"type\": \"choropleth\"}], \"name\": \"2020-04-26\"}, {\"data\": [{\"coloraxis\": \"coloraxis\", \"geo\": \"geo\", \"hovertemplate\": \"Date=2020-04-27<br>iso_code=%{location}<br>New C-19 deaths per 1M=%{z}<extra></extra>\", \"locations\": [\"ARG\", \"BOL\", \"BRA\", \"CHL\", \"COL\", \"ECU\", \"FLK\", \"GUY\", \"PER\", \"PRY\", \"SUR\", \"URY\", \"VEN\"], \"name\": \"\", \"z\": [0.16399999999999998, 0.20800000000000002, 1.171, 0.418, 0.18, 0.826, 0.0, 0.182, 1.421, 0.02, 0.0, 0.20600000000000002, 0.005], \"type\": \"choropleth\"}], \"name\": \"2020-04-27\"}, {\"data\": [{\"coloraxis\": \"coloraxis\", \"geo\": \"geo\", \"hovertemplate\": \"Date=2020-04-28<br>iso_code=%{location}<br>New C-19 deaths per 1M=%{z}<extra></extra>\", \"locations\": [\"ARG\", \"BOL\", \"BRA\", \"CHL\", \"COL\", \"ECU\", \"FLK\", \"GUY\", \"PER\", \"PRY\", \"SUR\", \"URY\", \"VEN\"], \"name\": \"\", \"z\": [0.174, 0.233, 1.3230000000000002, 0.441, 0.18, 1.263, 0.0, 0.182, 1.46, 0.02, 0.0, 0.20600000000000002, 0.005], \"type\": \"choropleth\"}], \"name\": \"2020-04-28\"}, {\"data\": [{\"coloraxis\": \"coloraxis\", \"geo\": \"geo\", \"hovertemplate\": \"Date=2020-04-29<br>iso_code=%{location}<br>New C-19 deaths per 1M=%{z}<extra></extra>\", \"locations\": [\"ARG\", \"BOL\", \"BRA\", \"CHL\", \"COL\", \"ECU\", \"FLK\", \"GUY\", \"PER\", \"PRY\", \"SUR\", \"URY\", \"VEN\"], \"name\": \"\", \"z\": [0.177, 0.22, 1.53, 0.44799999999999995, 0.205, 2.842, 0.0, 0.182, 1.6030000000000002, 0.0, 0.0, 0.12300000000000001, 0.0], \"type\": \"choropleth\"}], \"name\": \"2020-04-29\"}, {\"data\": [{\"coloraxis\": \"coloraxis\", \"geo\": \"geo\", \"hovertemplate\": \"Date=2020-04-30<br>iso_code=%{location}<br>New C-19 deaths per 1M=%{z}<extra></extra>\", \"locations\": [\"ARG\", \"BOL\", \"BRA\", \"CHL\", \"COL\", \"ECU\", \"FLK\", \"GUY\", \"PER\", \"PRY\", \"SUR\", \"URY\", \"VEN\"], \"name\": \"\", \"z\": [0.174, 0.233, 1.7209999999999999, 0.418, 0.20199999999999999, 2.802, 0.0, 0.182, 1.7890000000000001, 0.0, 0.0, 0.12300000000000001, 0.0], \"type\": \"choropleth\"}], \"name\": \"2020-04-30\"}, {\"data\": [{\"coloraxis\": \"coloraxis\", \"geo\": \"geo\", \"hovertemplate\": \"Date=2020-05-01<br>iso_code=%{location}<br>New C-19 deaths per 1M=%{z}<extra></extra>\", \"locations\": [\"ARG\", \"BOL\", \"BRA\", \"CHL\", \"COL\", \"ECU\", \"FLK\", \"GUY\", \"PER\", \"PRY\", \"SUR\", \"URY\", \"VEN\"], \"name\": \"\", \"z\": [0.168, 0.233, 1.739, 0.441, 0.21899999999999997, 2.753, 0.0, 0.363, 2.075, 0.02, 0.0, 0.20600000000000002, 0.0], \"type\": \"choropleth\"}], \"name\": \"2020-05-01\"}, {\"data\": [{\"coloraxis\": \"coloraxis\", \"geo\": \"geo\", \"hovertemplate\": \"Date=2020-05-02<br>iso_code=%{location}<br>New C-19 deaths per 1M=%{z}<extra></extra>\", \"locations\": [\"ARG\", \"BOL\", \"BRA\", \"CHL\", \"COL\", \"ECU\", \"FLK\", \"GUY\", \"PER\", \"PRY\", \"SUR\", \"URY\", \"VEN\"], \"name\": \"\", \"z\": [0.183, 0.26899999999999996, 1.787, 0.44799999999999995, 0.25, 3.943, 0.0, 0.182, 2.123, 0.02, 0.0, 0.20600000000000002, 0.0], \"type\": \"choropleth\"}], \"name\": \"2020-05-02\"}, {\"data\": [{\"coloraxis\": \"coloraxis\", \"geo\": \"geo\", \"hovertemplate\": \"Date=2020-05-03<br>iso_code=%{location}<br>New C-19 deaths per 1M=%{z}<extra></extra>\", \"locations\": [\"ARG\", \"BOL\", \"BRA\", \"CHL\", \"COL\", \"ECU\", \"FLK\", \"GUY\", \"PER\", \"PRY\", \"SUR\", \"URY\", \"VEN\"], \"name\": \"\", \"z\": [0.16399999999999998, 0.306, 1.837, 0.493, 0.255, 6.437, 0.0, 0.182, 2.166, 0.02, 0.0, 0.12300000000000001, 0.0], \"type\": \"choropleth\"}], \"name\": \"2020-05-03\"}, {\"data\": [{\"coloraxis\": \"coloraxis\", \"geo\": \"geo\", \"hovertemplate\": \"Date=2020-05-04<br>iso_code=%{location}<br>New C-19 deaths per 1M=%{z}<extra></extra>\", \"locations\": [\"ARG\", \"BOL\", \"BRA\", \"CHL\", \"COL\", \"ECU\", \"FLK\", \"GUY\", \"PER\", \"PRY\", \"SUR\", \"URY\", \"VEN\"], \"name\": \"\", \"z\": [0.19, 0.318, 1.895, 0.531, 0.272, 8.0, 0.0, 0.182, 2.418, 0.02, 0.0, 0.08199999999999999, 0.0], \"type\": \"choropleth\"}], \"name\": \"2020-05-04\"}, {\"data\": [{\"coloraxis\": \"coloraxis\", \"geo\": \"geo\", \"hovertemplate\": \"Date=2020-05-05<br>iso_code=%{location}<br>New C-19 deaths per 1M=%{z}<extra></extra>\", \"locations\": [\"ARG\", \"BOL\", \"BRA\", \"CHL\", \"COL\", \"ECU\", \"FLK\", \"GUY\", \"PER\", \"PRY\", \"SUR\", \"URY\", \"VEN\"], \"name\": \"\", \"z\": [0.19899999999999998, 0.355, 1.867, 0.5379999999999999, 0.295, 7.336, 0.0, 0.182, 2.435, 0.02, 0.0, 0.08199999999999999, 0.0], \"type\": \"choropleth\"}], \"name\": \"2020-05-05\"}, {\"data\": [{\"coloraxis\": \"coloraxis\", \"geo\": \"geo\", \"hovertemplate\": \"Date=2020-05-06<br>iso_code=%{location}<br>New C-19 deaths per 1M=%{z}<extra></extra>\", \"locations\": [\"ARG\", \"BOL\", \"BRA\", \"CHL\", \"COL\", \"ECU\", \"FLK\", \"GUY\", \"PER\", \"PRY\", \"SUR\", \"URY\", \"VEN\"], \"name\": \"\", \"z\": [0.18, 0.379, 1.952, 0.508, 0.306, 5.652, 0.0, 0.363, 2.556, 0.02, 0.0, 0.08199999999999999, 0.0], \"type\": \"choropleth\"}], \"name\": \"2020-05-06\"}, {\"data\": [{\"coloraxis\": \"coloraxis\", \"geo\": \"geo\", \"hovertemplate\": \"Date=2020-05-07<br>iso_code=%{location}<br>New C-19 deaths per 1M=%{z}<extra></extra>\", \"locations\": [\"ARG\", \"BOL\", \"BRA\", \"CHL\", \"COL\", \"ECU\", \"FLK\", \"GUY\", \"PER\", \"PRY\", \"SUR\", \"URY\", \"VEN\"], \"name\": \"\", \"z\": [0.18600000000000003, 0.392, 2.063, 0.486, 0.33399999999999996, 5.9510000000000005, 0.0, 0.363, 2.556, 0.02, 0.0, 0.08199999999999999, 0.0], \"type\": \"choropleth\"}], \"name\": \"2020-05-07\"}, {\"data\": [{\"coloraxis\": \"coloraxis\", \"geo\": \"geo\", \"hovertemplate\": \"Date=2020-05-08<br>iso_code=%{location}<br>New C-19 deaths per 1M=%{z}<extra></extra>\", \"locations\": [\"ARG\", \"BOL\", \"BRA\", \"CHL\", \"COL\", \"ECU\", \"FLK\", \"GUY\", \"PER\", \"PRY\", \"SUR\", \"URY\", \"VEN\"], \"name\": \"\", \"z\": [0.20199999999999999, 0.49, 2.181, 0.433, 0.32, 6.105, 0.0, 0.182, 2.496, 0.0, 0.0, 0.0, 0.0], \"type\": \"choropleth\"}], \"name\": \"2020-05-08\"}, {\"data\": [{\"coloraxis\": \"coloraxis\", \"geo\": \"geo\", \"hovertemplate\": \"Date=2020-05-09<br>iso_code=%{location}<br>New C-19 deaths per 1M=%{z}<extra></extra>\", \"locations\": [\"ARG\", \"BOL\", \"BRA\", \"CHL\", \"COL\", \"ECU\", \"FLK\", \"GUY\", \"PER\", \"PRY\", \"SUR\", \"URY\", \"VEN\"], \"name\": \"\", \"z\": [0.215, 0.49, 2.398, 0.44799999999999995, 0.32, 5.19, 0.0, 0.182, 2.556, 0.0, 0.0, 0.040999999999999995, 0.0], \"type\": \"choropleth\"}], \"name\": \"2020-05-09\"}, {\"data\": [{\"coloraxis\": \"coloraxis\", \"geo\": \"geo\", \"hovertemplate\": \"Date=2020-05-10<br>iso_code=%{location}<br>New C-19 deaths per 1M=%{z}<extra></extra>\", \"locations\": [\"ARG\", \"BOL\", \"BRA\", \"CHL\", \"COL\", \"ECU\", \"FLK\", \"GUY\", \"PER\", \"PRY\", \"SUR\", \"URY\", \"VEN\"], \"name\": \"\", \"z\": [0.19899999999999998, 0.526, 2.6060000000000003, 0.426, 0.34, 2.802, 0.0, 0.182, 2.66, 0.0, 0.0, 0.040999999999999995, 0.0], \"type\": \"choropleth\"}], \"name\": \"2020-05-10\"}, {\"data\": [{\"coloraxis\": \"coloraxis\", \"geo\": \"geo\", \"hovertemplate\": \"Date=2020-05-11<br>iso_code=%{location}<br>New C-19 deaths per 1M=%{z}<extra></extra>\", \"locations\": [\"ARG\", \"BOL\", \"BRA\", \"CHL\", \"COL\", \"ECU\", \"FLK\", \"GUY\", \"PER\", \"PRY\", \"SUR\", \"URY\", \"VEN\"], \"name\": \"\", \"z\": [0.171, 0.514, 2.7539999999999996, 0.389, 0.345, 4.559, 0.0, 0.182, 2.613, 0.0, 0.0, 0.08199999999999999, 0.0], \"type\": \"choropleth\"}], \"name\": \"2020-05-11\"}, {\"data\": [{\"coloraxis\": \"coloraxis\", \"geo\": \"geo\", \"hovertemplate\": \"Date=2020-05-12<br>iso_code=%{location}<br>New C-19 deaths per 1M=%{z}<extra></extra>\", \"locations\": [\"ARG\", \"BOL\", \"BRA\", \"CHL\", \"COL\", \"ECU\", \"FLK\", \"GUY\", \"PER\", \"PRY\", \"SUR\", \"URY\", \"VEN\"], \"name\": \"\", \"z\": [0.142, 0.49, 2.821, 0.396, 0.34, 4.664, 0.0, 0.182, 2.673, 0.0, 0.0, 0.08199999999999999, 0.0], \"type\": \"choropleth\"}], \"name\": \"2020-05-12\"}, {\"data\": [{\"coloraxis\": \"coloraxis\", \"geo\": \"geo\", \"hovertemplate\": \"Date=2020-05-13<br>iso_code=%{location}<br>New C-19 deaths per 1M=%{z}<extra></extra>\", \"locations\": [\"ARG\", \"BOL\", \"BRA\", \"CHL\", \"COL\", \"ECU\", \"FLK\", \"GUY\", \"PER\", \"PRY\", \"SUR\", \"URY\", \"VEN\"], \"name\": \"\", \"z\": [0.174, 0.514, 3.01, 0.44799999999999995, 0.32299999999999995, 6.138, 0.0, 0.0, 2.656, 0.0, 0.0, 0.08199999999999999, 0.0], \"type\": \"choropleth\"}], \"name\": \"2020-05-13\"}, {\"data\": [{\"coloraxis\": \"coloraxis\", \"geo\": \"geo\", \"hovertemplate\": \"Date=2020-05-14<br>iso_code=%{location}<br>New C-19 deaths per 1M=%{z}<extra></extra>\", \"locations\": [\"ARG\", \"BOL\", \"BRA\", \"CHL\", \"COL\", \"ECU\", \"FLK\", \"GUY\", \"PER\", \"PRY\", \"SUR\", \"URY\", \"VEN\"], \"name\": \"\", \"z\": [0.177, 0.624, 3.1, 0.486, 0.314, 5.797999999999999, 0.0, 0.0, 2.7560000000000002, 0.02, 0.0, 0.08199999999999999, 0.0], \"type\": \"choropleth\"}], \"name\": \"2020-05-14\"}, {\"data\": [{\"coloraxis\": \"coloraxis\", \"geo\": \"geo\", \"hovertemplate\": \"Date=2020-05-15<br>iso_code=%{location}<br>New C-19 deaths per 1M=%{z}<extra></extra>\", \"locations\": [\"ARG\", \"BOL\", \"BRA\", \"CHL\", \"COL\", \"ECU\", \"FLK\", \"GUY\", \"PER\", \"PRY\", \"SUR\", \"URY\", \"VEN\"], \"name\": \"\", \"z\": [0.22399999999999998, 0.612, 3.258, 0.546, 0.331, 5.537999999999999, 0.0, 0.0, 2.773, 0.02, 0.0, 0.08199999999999999, 0.0], \"type\": \"choropleth\"}], \"name\": \"2020-05-15\"}, {\"data\": [{\"coloraxis\": \"coloraxis\", \"geo\": \"geo\", \"hovertemplate\": \"Date=2020-05-16<br>iso_code=%{location}<br>New C-19 deaths per 1M=%{z}<extra></extra>\", \"locations\": [\"ARG\", \"BOL\", \"BRA\", \"CHL\", \"COL\", \"ECU\", \"FLK\", \"GUY\", \"PER\", \"PRY\", \"SUR\", \"URY\", \"VEN\"], \"name\": \"\", \"z\": [0.19899999999999998, 0.71, 3.307, 0.747, 0.331, 7.206, 0.0, 0.0, 2.9419999999999997, 0.02, 0.0, 0.040999999999999995, 0.0], \"type\": \"choropleth\"}], \"name\": \"2020-05-16\"}, {\"data\": [{\"coloraxis\": \"coloraxis\", \"geo\": \"geo\", \"hovertemplate\": \"Date=2020-05-17<br>iso_code=%{location}<br>New C-19 deaths per 1M=%{z}<extra></extra>\", \"locations\": [\"ARG\", \"BOL\", \"BRA\", \"CHL\", \"COL\", \"ECU\", \"FLK\", \"GUY\", \"PER\", \"PRY\", \"SUR\", \"URY\", \"VEN\"], \"name\": \"\", \"z\": [0.19899999999999998, 0.624, 3.364, 0.8740000000000001, 0.32799999999999996, 7.862, 0.0, 0.0, 3.072, 0.02, 0.0, 0.040999999999999995, 0.0], \"type\": \"choropleth\"}], \"name\": \"2020-05-17\"}, {\"data\": [{\"coloraxis\": \"coloraxis\", \"geo\": \"geo\", \"hovertemplate\": \"Date=2020-05-18<br>iso_code=%{location}<br>New C-19 deaths per 1M=%{z}<extra></extra>\", \"locations\": [\"ARG\", \"BOL\", \"BRA\", \"CHL\", \"COL\", \"ECU\", \"FLK\", \"GUY\", \"PER\", \"PRY\", \"SUR\", \"URY\", \"VEN\"], \"name\": \"\", \"z\": [0.209, 0.624, 3.3569999999999998, 1.031, 0.312, 4.931, 0.0, 0.0, 3.2889999999999997, 0.02, 0.0, 0.040999999999999995, 0.0], \"type\": \"choropleth\"}], \"name\": \"2020-05-18\"}, {\"data\": [{\"coloraxis\": \"coloraxis\", \"geo\": \"geo\", \"hovertemplate\": \"Date=2020-05-19<br>iso_code=%{location}<br>New C-19 deaths per 1M=%{z}<extra></extra>\", \"locations\": [\"ARG\", \"BOL\", \"BRA\", \"CHL\", \"COL\", \"ECU\", \"FLK\", \"GUY\", \"PER\", \"PRY\", \"SUR\", \"URY\", \"VEN\"], \"name\": \"\", \"z\": [0.243, 0.636, 3.5439999999999996, 1.158, 0.317, 5.295, 0.0, 0.0, 3.5869999999999997, 0.02, 0.0, 0.040999999999999995, 0.0], \"type\": \"choropleth\"}], \"name\": \"2020-05-19\"}, {\"data\": [{\"coloraxis\": \"coloraxis\", \"geo\": \"geo\", \"hovertemplate\": \"Date=2020-05-20<br>iso_code=%{location}<br>New C-19 deaths per 1M=%{z}<extra></extra>\", \"locations\": [\"ARG\", \"BOL\", \"BRA\", \"CHL\", \"COL\", \"ECU\", \"FLK\", \"GUY\", \"PER\", \"PRY\", \"SUR\", \"URY\", \"VEN\"], \"name\": \"\", \"z\": [0.23399999999999999, 0.747, 3.7439999999999998, 1.3, 0.337, 4.146, 0.0, 0.0, 3.713, 0.02, 0.0, 0.040999999999999995, 0.0], \"type\": \"choropleth\"}], \"name\": \"2020-05-20\"}, {\"data\": [{\"coloraxis\": \"coloraxis\", \"geo\": \"geo\", \"hovertemplate\": \"Date=2020-05-21<br>iso_code=%{location}<br>New C-19 deaths per 1M=%{z}<extra></extra>\", \"locations\": [\"ARG\", \"BOL\", \"BRA\", \"CHL\", \"COL\", \"ECU\", \"FLK\", \"GUY\", \"PER\", \"PRY\", \"SUR\", \"URY\", \"VEN\"], \"name\": \"\", \"z\": [0.23399999999999999, 0.698, 3.838, 1.48, 0.34, 4.486000000000001, 0.0, 0.0, 3.7039999999999997, 0.0, 0.0, 0.040999999999999995, 0.0], \"type\": \"choropleth\"}], \"name\": \"2020-05-21\"}, {\"data\": [{\"coloraxis\": \"coloraxis\", \"geo\": \"geo\", \"hovertemplate\": \"Date=2020-05-22<br>iso_code=%{location}<br>New C-19 deaths per 1M=%{z}<extra></extra>\", \"locations\": [\"ARG\", \"BOL\", \"BRA\", \"CHL\", \"COL\", \"ECU\", \"FLK\", \"GUY\", \"PER\", \"PRY\", \"SUR\", \"URY\", \"VEN\"], \"name\": \"\", \"z\": [0.19899999999999998, 0.7709999999999999, 4.069, 1.726, 0.35700000000000004, 4.8660000000000005, 0.0, 0.0, 3.8169999999999997, 0.0, 0.0, 0.040999999999999995, 0.0], \"type\": \"choropleth\"}], \"name\": \"2020-05-22\"}, {\"data\": [{\"coloraxis\": \"coloraxis\", \"geo\": \"geo\", \"hovertemplate\": \"Date=2020-05-23<br>iso_code=%{location}<br>New C-19 deaths per 1M=%{z}<extra></extra>\", \"locations\": [\"ARG\", \"BOL\", \"BRA\", \"CHL\", \"COL\", \"ECU\", \"FLK\", \"GUY\", \"PER\", \"PRY\", \"SUR\", \"URY\", \"VEN\"], \"name\": \"\", \"z\": [0.243, 0.8079999999999999, 4.188, 1.764, 0.382, 3.741, 0.0, 0.0, 3.687, 0.0, 0.0, 0.040999999999999995, 0.0], \"type\": \"choropleth\"}], \"name\": \"2020-05-23\"}, {\"data\": [{\"coloraxis\": \"coloraxis\", \"geo\": \"geo\", \"hovertemplate\": \"Date=2020-05-24<br>iso_code=%{location}<br>New C-19 deaths per 1M=%{z}<extra></extra>\", \"locations\": [\"ARG\", \"BOL\", \"BRA\", \"CHL\", \"COL\", \"ECU\", \"FLK\", \"GUY\", \"PER\", \"PRY\", \"SUR\", \"URY\", \"VEN\"], \"name\": \"\", \"z\": [0.259, 0.9179999999999999, 4.288, 1.883, 0.401, 3.304, 0.0, 0.0, 3.6830000000000003, 0.0, 0.0, 0.12300000000000001, 0.0], \"type\": \"choropleth\"}], \"name\": \"2020-05-24\"}, {\"data\": [{\"coloraxis\": \"coloraxis\", \"geo\": \"geo\", \"hovertemplate\": \"Date=2020-05-25<br>iso_code=%{location}<br>New C-19 deaths per 1M=%{z}<extra></extra>\", \"locations\": [\"ARG\", \"BOL\", \"BRA\", \"CHL\", \"COL\", \"ECU\", \"FLK\", \"GUY\", \"PER\", \"PRY\", \"SUR\", \"URY\", \"VEN\"], \"name\": \"\", \"z\": [0.272, 0.991, 4.401, 2.003, 0.43, 3.012, 0.0, 0.0, 3.5010000000000003, 0.0, 0.0, 0.08199999999999999, 0.0], \"type\": \"choropleth\"}], \"name\": \"2020-05-25\"}, {\"data\": [{\"coloraxis\": \"coloraxis\", \"geo\": \"geo\", \"hovertemplate\": \"Date=2020-05-26<br>iso_code=%{location}<br>New C-19 deaths per 1M=%{z}<extra></extra>\", \"locations\": [\"ARG\", \"BOL\", \"BRA\", \"CHL\", \"COL\", \"ECU\", \"FLK\", \"GUY\", \"PER\", \"PRY\", \"SUR\", \"URY\", \"VEN\"], \"name\": \"\", \"z\": [0.26899999999999996, 1.065, 4.49, 2.115, 0.444, 3.2710000000000004, 0.0, 0.182, 3.639, 0.0, 0.0, 0.08199999999999999, 0.0], \"type\": \"choropleth\"}], \"name\": \"2020-05-26\"}, {\"data\": [{\"coloraxis\": \"coloraxis\", \"geo\": \"geo\", \"hovertemplate\": \"Date=2020-05-27<br>iso_code=%{location}<br>New C-19 deaths per 1M=%{z}<extra></extra>\", \"locations\": [\"ARG\", \"BOL\", \"BRA\", \"CHL\", \"COL\", \"ECU\", \"FLK\", \"GUY\", \"PER\", \"PRY\", \"SUR\", \"URY\", \"VEN\"], \"name\": \"\", \"z\": [0.28800000000000003, 1.04, 4.396, 2.22, 0.45799999999999996, 2.947, 0.0, 0.182, 3.787, 0.0, 0.0, 0.08199999999999999, 0.005], \"type\": \"choropleth\"}], \"name\": \"2020-05-27\"}, {\"data\": [{\"coloraxis\": \"coloraxis\", \"geo\": \"geo\", \"hovertemplate\": \"Date=2020-05-28<br>iso_code=%{location}<br>New C-19 deaths per 1M=%{z}<extra></extra>\", \"locations\": [\"ARG\", \"BOL\", \"BRA\", \"CHL\", \"COL\", \"ECU\", \"FLK\", \"GUY\", \"PER\", \"PRY\", \"SUR\", \"URY\", \"VEN\"], \"name\": \"\", \"z\": [0.307, 0.991, 4.529, 2.22, 0.486, 3.134, 0.0, 0.182, 4.155, 0.0, 0.0, 0.08199999999999999, 0.005], \"type\": \"choropleth\"}], \"name\": \"2020-05-28\"}, {\"data\": [{\"coloraxis\": \"coloraxis\", \"geo\": \"geo\", \"hovertemplate\": \"Date=2020-05-29<br>iso_code=%{location}<br>New C-19 deaths per 1M=%{z}<extra></extra>\", \"locations\": [\"ARG\", \"BOL\", \"BRA\", \"CHL\", \"COL\", \"ECU\", \"FLK\", \"GUY\", \"PER\", \"PRY\", \"SUR\", \"URY\", \"VEN\"], \"name\": \"\", \"z\": [0.29100000000000004, 0.955, 4.508, 2.249, 0.47700000000000004, 3.028, 0.0, 0.182, 4.12, 0.0, 0.0, 0.08199999999999999, 0.005], \"type\": \"choropleth\"}], \"name\": \"2020-05-29\"}, {\"data\": [{\"coloraxis\": \"coloraxis\", \"geo\": \"geo\", \"hovertemplate\": \"Date=2020-05-30<br>iso_code=%{location}<br>New C-19 deaths per 1M=%{z}<extra></extra>\", \"locations\": [\"ARG\", \"BOL\", \"BRA\", \"CHL\", \"COL\", \"ECU\", \"FLK\", \"GUY\", \"PER\", \"PRY\", \"SUR\", \"URY\", \"VEN\"], \"name\": \"\", \"z\": [0.275, 0.857, 4.59, 2.347, 0.48, 2.251, 0.0, 0.182, 4.272, 0.0, 0.0, 0.08199999999999999, 0.02], \"type\": \"choropleth\"}], \"name\": \"2020-05-30\"}, {\"data\": [{\"coloraxis\": \"coloraxis\", \"geo\": \"geo\", \"hovertemplate\": \"Date=2020-05-31<br>iso_code=%{location}<br>New C-19 deaths per 1M=%{z}<extra></extra>\", \"locations\": [\"ARG\", \"BOL\", \"BRA\", \"CHL\", \"COL\", \"ECU\", \"FLK\", \"GUY\", \"PER\", \"PRY\", \"SUR\", \"URY\", \"VEN\"], \"name\": \"\", \"z\": [0.262, 0.857, 4.584, 2.421, 0.519, 1.9269999999999998, 0.0, 0.363, 4.324, 0.0, 0.0, 0.0, 0.02], \"type\": \"choropleth\"}], \"name\": \"2020-05-31\"}, {\"data\": [{\"coloraxis\": \"coloraxis\", \"geo\": \"geo\", \"hovertemplate\": \"Date=2020-06-01<br>iso_code=%{location}<br>New C-19 deaths per 1M=%{z}<extra></extra>\", \"locations\": [\"ARG\", \"BOL\", \"BRA\", \"CHL\", \"COL\", \"ECU\", \"FLK\", \"GUY\", \"PER\", \"PRY\", \"SUR\", \"URY\", \"VEN\"], \"name\": \"\", \"z\": [0.275, 0.7709999999999999, 4.468, 2.511, 0.595, 2.024, 0.0, 0.363, 4.5489999999999995, 0.0, 0.0, 0.0, 0.02], \"type\": \"choropleth\"}], \"name\": \"2020-06-01\"}, {\"data\": [{\"coloraxis\": \"coloraxis\", \"geo\": \"geo\", \"hovertemplate\": \"Date=2020-06-02<br>iso_code=%{location}<br>New C-19 deaths per 1M=%{z}<extra></extra>\", \"locations\": [\"ARG\", \"BOL\", \"BRA\", \"CHL\", \"COL\", \"ECU\", \"FLK\", \"GUY\", \"PER\", \"PRY\", \"SUR\", \"URY\", \"VEN\"], \"name\": \"\", \"z\": [0.281, 1.004, 4.343999999999999, 2.6310000000000002, 0.615, 1.547, 0.0, 0.182, 4.354, 0.0, 0.0, 0.040999999999999995, 0.035], \"type\": \"choropleth\"}], \"name\": \"2020-06-02\"}, {\"data\": [{\"coloraxis\": \"coloraxis\", \"geo\": \"geo\", \"hovertemplate\": \"Date=2020-06-03<br>iso_code=%{location}<br>New C-19 deaths per 1M=%{z}<extra></extra>\", \"locations\": [\"ARG\", \"BOL\", \"BRA\", \"CHL\", \"COL\", \"ECU\", \"FLK\", \"GUY\", \"PER\", \"PRY\", \"SUR\", \"URY\", \"VEN\"], \"name\": \"\", \"z\": [0.26899999999999996, 1.248, 4.494, 2.855, 0.654, 1.903, 0.0, 0.182, 3.665, 0.0, 0.0, 0.040999999999999995, 0.035], \"type\": \"choropleth\"}], \"name\": \"2020-06-03\"}, {\"data\": [{\"coloraxis\": \"coloraxis\", \"geo\": \"geo\", \"hovertemplate\": \"Date=2020-06-04<br>iso_code=%{location}<br>New C-19 deaths per 1M=%{z}<extra></extra>\", \"locations\": [\"ARG\", \"BOL\", \"BRA\", \"CHL\", \"COL\", \"ECU\", \"FLK\", \"GUY\", \"PER\", \"PRY\", \"SUR\", \"URY\", \"VEN\"], \"name\": \"\", \"z\": [0.262, 1.469, 4.671, 3.2430000000000003, 0.679, 1.7080000000000002, 0.0, 0.182, 3.947, 0.0, 0.0, 0.040999999999999995, 0.045], \"type\": \"choropleth\"}], \"name\": \"2020-06-04\"}, {\"data\": [{\"coloraxis\": \"coloraxis\", \"geo\": \"geo\", \"hovertemplate\": \"Date=2020-06-05<br>iso_code=%{location}<br>New C-19 deaths per 1M=%{z}<extra></extra>\", \"locations\": [\"ARG\", \"BOL\", \"BRA\", \"CHL\", \"COL\", \"ECU\", \"FLK\", \"GUY\", \"PER\", \"PRY\", \"SUR\", \"URY\", \"VEN\"], \"name\": \"\", \"z\": [0.253, 1.493, 4.8839999999999995, 3.4819999999999998, 0.7440000000000001, 1.401, 0.0, 0.182, 4.038, 0.0, 0.0, 0.040999999999999995, 0.045], \"type\": \"choropleth\"}], \"name\": \"2020-06-05\"}, {\"data\": [{\"coloraxis\": \"coloraxis\", \"geo\": \"geo\", \"hovertemplate\": \"Date=2020-06-06<br>iso_code=%{location}<br>New C-19 deaths per 1M=%{z}<extra></extra>\", \"locations\": [\"ARG\", \"BOL\", \"BRA\", \"CHL\", \"COL\", \"ECU\", \"FLK\", \"GUY\", \"PER\", \"PRY\", \"SUR\", \"URY\", \"VEN\"], \"name\": \"\", \"z\": [0.354, 1.554, 4.803999999999999, 3.766, 0.82, 1.619, 0.0, 0.182, 4.038, 0.0, 0.0, 0.040999999999999995, 0.03], \"type\": \"choropleth\"}], \"name\": \"2020-06-06\"}, {\"data\": [{\"coloraxis\": \"coloraxis\", \"geo\": \"geo\", \"hovertemplate\": \"Date=2020-06-07<br>iso_code=%{location}<br>New C-19 deaths per 1M=%{z}<extra></extra>\", \"locations\": [\"ARG\", \"BOL\", \"BRA\", \"CHL\", \"COL\", \"ECU\", \"FLK\", \"GUY\", \"PER\", \"PRY\", \"SUR\", \"URY\", \"VEN\"], \"name\": \"\", \"z\": [0.379, 1.7619999999999998, 4.769, 4.065, 0.884, 2.219, 0.0, 0.0, 4.029, 0.0, 0.0, 0.040999999999999995, 0.04], \"type\": \"choropleth\"}], \"name\": \"2020-06-07\"}, {\"data\": [{\"coloraxis\": \"coloraxis\", \"geo\": \"geo\", \"hovertemplate\": \"Date=2020-06-08<br>iso_code=%{location}<br>New C-19 deaths per 1M=%{z}<extra></extra>\", \"locations\": [\"ARG\", \"BOL\", \"BRA\", \"CHL\", \"COL\", \"ECU\", \"FLK\", \"GUY\", \"PER\", \"PRY\", \"SUR\", \"URY\", \"VEN\"], \"name\": \"\", \"z\": [0.395, 1.86, 4.7989999999999995, 8.488999999999999, 0.898, 2.13, 0.0, 0.0, 4.155, 0.0, 0.0, 0.040999999999999995, 0.04], \"type\": \"choropleth\"}], \"name\": \"2020-06-08\"}, {\"data\": [{\"coloraxis\": \"coloraxis\", \"geo\": \"geo\", \"hovertemplate\": \"Date=2020-06-09<br>iso_code=%{location}<br>New C-19 deaths per 1M=%{z}<extra></extra>\", \"locations\": [\"ARG\", \"BOL\", \"BRA\", \"CHL\", \"COL\", \"ECU\", \"FLK\", \"GUY\", \"PER\", \"PRY\", \"SUR\", \"URY\", \"VEN\"], \"name\": \"\", \"z\": [0.433, 1.615, 4.837, 8.602, 0.9520000000000001, 2.008, 0.0, 0.0, 4.06, 0.0, 0.244, 0.0, 0.025], \"type\": \"choropleth\"}], \"name\": \"2020-06-09\"}, {\"data\": [{\"coloraxis\": \"coloraxis\", \"geo\": \"geo\", \"hovertemplate\": \"Date=2020-06-10<br>iso_code=%{location}<br>New C-19 deaths per 1M=%{z}<extra></extra>\", \"locations\": [\"ARG\", \"BOL\", \"BRA\", \"CHL\", \"COL\", \"ECU\", \"FLK\", \"GUY\", \"PER\", \"PRY\", \"SUR\", \"URY\", \"VEN\"], \"name\": \"\", \"z\": [0.46799999999999997, 1.358, 4.843999999999999, 8.183, 1.0190000000000001, 2.04, 0.0, 0.0, 4.783, 0.0, 0.244, 0.0, 0.025], \"type\": \"choropleth\"}], \"name\": \"2020-06-10\"}, {\"data\": [{\"coloraxis\": \"coloraxis\", \"geo\": \"geo\", \"hovertemplate\": \"Date=2020-06-11<br>iso_code=%{location}<br>New C-19 deaths per 1M=%{z}<extra></extra>\", \"locations\": [\"ARG\", \"BOL\", \"BRA\", \"CHL\", \"COL\", \"ECU\", \"FLK\", \"GUY\", \"PER\", \"PRY\", \"SUR\", \"URY\", \"VEN\"], \"name\": \"\", \"z\": [0.48, 1.371, 4.793, 8.968, 1.089, 1.895, 0.0, 0.0, 4.372, 0.0, 0.244, 0.0, 0.015], \"type\": \"choropleth\"}], \"name\": \"2020-06-11\"}, {\"data\": [{\"coloraxis\": \"coloraxis\", \"geo\": \"geo\", \"hovertemplate\": \"Date=2020-06-12<br>iso_code=%{location}<br>New C-19 deaths per 1M=%{z}<extra></extra>\", \"locations\": [\"ARG\", \"BOL\", \"BRA\", \"CHL\", \"COL\", \"ECU\", \"FLK\", \"GUY\", \"PER\", \"PRY\", \"SUR\", \"URY\", \"VEN\"], \"name\": \"\", \"z\": [0.5589999999999999, 1.444, 4.636, 9.655, 0.971, 1.895, 0.0, 0.0, 4.671, 0.0, 0.244, 0.0, 0.015], \"type\": \"choropleth\"}], \"name\": \"2020-06-12\"}, {\"data\": [{\"coloraxis\": \"coloraxis\", \"geo\": \"geo\", \"hovertemplate\": \"Date=2020-06-13<br>iso_code=%{location}<br>New C-19 deaths per 1M=%{z}<extra></extra>\", \"locations\": [\"ARG\", \"BOL\", \"BRA\", \"CHL\", \"COL\", \"ECU\", \"FLK\", \"GUY\", \"PER\", \"PRY\", \"SUR\", \"URY\", \"VEN\"], \"name\": \"\", \"z\": [0.484, 1.615, 4.571000000000001, 10.627, 1.123, 2.381, 0.0, 0.0, 4.965, 0.0, 0.48700000000000004, 0.0, 0.015], \"type\": \"choropleth\"}], \"name\": \"2020-06-13\"}, {\"data\": [{\"coloraxis\": \"coloraxis\", \"geo\": \"geo\", \"hovertemplate\": \"Date=2020-06-14<br>iso_code=%{location}<br>New C-19 deaths per 1M=%{z}<extra></extra>\", \"locations\": [\"ARG\", \"BOL\", \"BRA\", \"CHL\", \"COL\", \"ECU\", \"FLK\", \"GUY\", \"PER\", \"PRY\", \"SUR\", \"URY\", \"VEN\"], \"name\": \"\", \"z\": [0.528, 1.6030000000000002, 4.563, 11.658, 1.087, 2.154, 0.0, 0.0, 5.186, 0.0, 0.48700000000000004, 0.0, 0.01], \"type\": \"choropleth\"}], \"name\": \"2020-06-14\"}, {\"data\": [{\"coloraxis\": \"coloraxis\", \"geo\": \"geo\", \"hovertemplate\": \"Date=2020-06-15<br>iso_code=%{location}<br>New C-19 deaths per 1M=%{z}<extra></extra>\", \"locations\": [\"ARG\", \"BOL\", \"BRA\", \"CHL\", \"COL\", \"ECU\", \"FLK\", \"GUY\", \"PER\", \"PRY\", \"SUR\", \"URY\", \"VEN\"], \"name\": \"\", \"z\": [0.534, 1.787, 4.622, 8.467, 1.145, 2.227, 0.0, 0.0, 5.2989999999999995, 0.0, 0.48700000000000004, 0.0, 0.015], \"type\": \"choropleth\"}], \"name\": \"2020-06-15\"}, {\"data\": [{\"coloraxis\": \"coloraxis\", \"geo\": \"geo\", \"hovertemplate\": \"Date=2020-06-16<br>iso_code=%{location}<br>New C-19 deaths per 1M=%{z}<extra></extra>\", \"locations\": [\"ARG\", \"BOL\", \"BRA\", \"CHL\", \"COL\", \"ECU\", \"FLK\", \"GUY\", \"PER\", \"PRY\", \"SUR\", \"URY\", \"VEN\"], \"name\": \"\", \"z\": [0.509, 1.921, 4.587, 8.205, 1.1740000000000002, 2.324, 0.0, 0.0, 5.585, 0.02, 0.731, 0.0, 0.02], \"type\": \"choropleth\"}], \"name\": \"2020-06-16\"}, {\"data\": [{\"coloraxis\": \"coloraxis\", \"geo\": \"geo\", \"hovertemplate\": \"Date=2020-06-17<br>iso_code=%{location}<br>New C-19 deaths per 1M=%{z}<extra></extra>\", \"locations\": [\"ARG\", \"BOL\", \"BRA\", \"CHL\", \"COL\", \"ECU\", \"FLK\", \"GUY\", \"PER\", \"PRY\", \"SUR\", \"URY\", \"VEN\"], \"name\": \"\", \"z\": [0.509, 2.105, 4.593999999999999, 8.22, 1.204, 2.267, 0.0, 0.0, 5.71, 0.04, 0.9740000000000001, 0.040999999999999995, 0.02], \"type\": \"choropleth\"}], \"name\": \"2020-06-17\"}, {\"data\": [{\"coloraxis\": \"coloraxis\", \"geo\": \"geo\", \"hovertemplate\": \"Date=2020-06-18<br>iso_code=%{location}<br>New C-19 deaths per 1M=%{z}<extra></extra>\", \"locations\": [\"ARG\", \"BOL\", \"BRA\", \"CHL\", \"COL\", \"ECU\", \"FLK\", \"GUY\", \"PER\", \"PRY\", \"SUR\", \"URY\", \"VEN\"], \"name\": \"\", \"z\": [0.563, 2.044, 4.59, 8.519, 1.21, 2.324, 0.0, 0.0, 5.8660000000000005, 0.04, 0.9740000000000001, 0.040999999999999995, 0.02], \"type\": \"choropleth\"}], \"name\": \"2020-06-18\"}, {\"data\": [{\"coloraxis\": \"coloraxis\", \"geo\": \"geo\", \"hovertemplate\": \"Date=2020-06-19<br>iso_code=%{location}<br>New C-19 deaths per 1M=%{z}<extra></extra>\", \"locations\": [\"ARG\", \"BOL\", \"BRA\", \"CHL\", \"COL\", \"ECU\", \"FLK\", \"GUY\", \"PER\", \"PRY\", \"SUR\", \"URY\", \"VEN\"], \"name\": \"\", \"z\": [0.518, 2.0069999999999997, 4.59, 8.915, 1.452, 2.972, 0.0, 0.0, 5.858, 0.04, 1.218, 0.040999999999999995, 0.025], \"type\": \"choropleth\"}], \"name\": \"2020-06-19\"}, {\"data\": [{\"coloraxis\": \"coloraxis\", \"geo\": \"geo\", \"hovertemplate\": \"Date=2020-06-20<br>iso_code=%{location}<br>New C-19 deaths per 1M=%{z}<extra></extra>\", \"locations\": [\"ARG\", \"BOL\", \"BRA\", \"CHL\", \"COL\", \"ECU\", \"FLK\", \"GUY\", \"PER\", \"PRY\", \"SUR\", \"URY\", \"VEN\"], \"name\": \"\", \"z\": [0.613, 1.909, 4.789, 9.14, 1.4040000000000001, 2.656, 0.0, 0.0, 5.858, 0.04, 1.218, 0.040999999999999995, 0.035], \"type\": \"choropleth\"}], \"name\": \"2020-06-20\"}, {\"data\": [{\"coloraxis\": \"coloraxis\", \"geo\": \"geo\", \"hovertemplate\": \"Date=2020-06-21<br>iso_code=%{location}<br>New C-19 deaths per 1M=%{z}<extra></extra>\", \"locations\": [\"ARG\", \"BOL\", \"BRA\", \"CHL\", \"COL\", \"ECU\", \"FLK\", \"GUY\", \"PER\", \"PRY\", \"SUR\", \"URY\", \"VEN\"], \"name\": \"\", \"z\": [0.5589999999999999, 1.8969999999999998, 4.877, 8.923, 1.499, 2.6319999999999997, 0.0, 0.0, 5.905, 0.04, 1.218, 0.08199999999999999, 0.045], \"type\": \"choropleth\"}], \"name\": \"2020-06-21\"}, {\"data\": [{\"coloraxis\": \"coloraxis\", \"geo\": \"geo\", \"hovertemplate\": \"Date=2020-06-22<br>iso_code=%{location}<br>New C-19 deaths per 1M=%{z}<extra></extra>\", \"locations\": [\"ARG\", \"BOL\", \"BRA\", \"CHL\", \"COL\", \"ECU\", \"FLK\", \"GUY\", \"PER\", \"PRY\", \"SUR\", \"URY\", \"VEN\"], \"name\": \"\", \"z\": [0.563, 1.983, 4.896, 8.639, 1.6, 2.648, 0.0, 0.0, 5.879, 0.04, 1.218, 0.08199999999999999, 0.04], \"type\": \"choropleth\"}], \"name\": \"2020-06-22\"}, {\"data\": [{\"coloraxis\": \"coloraxis\", \"geo\": \"geo\", \"hovertemplate\": \"Date=2020-06-23<br>iso_code=%{location}<br>New C-19 deaths per 1M=%{z}<extra></extra>\", \"locations\": [\"ARG\", \"BOL\", \"BRA\", \"CHL\", \"COL\", \"ECU\", \"FLK\", \"GUY\", \"PER\", \"PRY\", \"SUR\", \"URY\", \"VEN\"], \"name\": \"\", \"z\": [0.597, 2.301, 4.914, 8.519, 1.64, 2.381, 0.0, 0.0, 5.1339999999999995, 0.02, 0.731, 0.08199999999999999, 0.045], \"type\": \"choropleth\"}], \"name\": \"2020-06-23\"}, {\"data\": [{\"coloraxis\": \"coloraxis\", \"geo\": \"geo\", \"hovertemplate\": \"Date=2020-06-24<br>iso_code=%{location}<br>New C-19 deaths per 1M=%{z}<extra></extra>\", \"locations\": [\"ARG\", \"BOL\", \"BRA\", \"CHL\", \"COL\", \"ECU\", \"FLK\", \"GUY\", \"PER\", \"PRY\", \"SUR\", \"URY\", \"VEN\"], \"name\": \"\", \"z\": [0.541, 2.289, 4.976, 8.385, 1.693, 2.4619999999999997, 0.0, 0.0, 5.84, 0.0, 0.731, 0.040999999999999995, 0.04], \"type\": \"choropleth\"}], \"name\": \"2020-06-24\"}, {\"data\": [{\"coloraxis\": \"coloraxis\", \"geo\": \"geo\", \"hovertemplate\": \"Date=2020-06-25<br>iso_code=%{location}<br>New C-19 deaths per 1M=%{z}<extra></extra>\", \"locations\": [\"ARG\", \"BOL\", \"BRA\", \"CHL\", \"COL\", \"ECU\", \"FLK\", \"GUY\", \"PER\", \"PRY\", \"SUR\", \"URY\", \"VEN\"], \"name\": \"\", \"z\": [0.544, 2.411, 4.92, 8.34, 1.76, 2.445, 0.0, 0.0, 5.757999999999999, 0.0, 0.9740000000000001, 0.08199999999999999, 0.055], \"type\": \"choropleth\"}], \"name\": \"2020-06-25\"}, {\"data\": [{\"coloraxis\": \"coloraxis\", \"geo\": \"geo\", \"hovertemplate\": \"Date=2020-06-26<br>iso_code=%{location}<br>New C-19 deaths per 1M=%{z}<extra></extra>\", \"locations\": [\"ARG\", \"BOL\", \"BRA\", \"CHL\", \"COL\", \"ECU\", \"FLK\", \"GUY\", \"PER\", \"PRY\", \"SUR\", \"URY\", \"VEN\"], \"name\": \"\", \"z\": [0.616, 2.6430000000000002, 4.854, 7.936, 1.9769999999999999, 2.073, 0.0, 0.0, 5.632999999999999, 0.0, 0.731, 0.08199999999999999, 0.055], \"type\": \"choropleth\"}], \"name\": \"2020-06-26\"}, {\"data\": [{\"coloraxis\": \"coloraxis\", \"geo\": \"geo\", \"hovertemplate\": \"Date=2020-06-27<br>iso_code=%{location}<br>New C-19 deaths per 1M=%{z}<extra></extra>\", \"locations\": [\"ARG\", \"BOL\", \"BRA\", \"CHL\", \"COL\", \"ECU\", \"FLK\", \"GUY\", \"PER\", \"PRY\", \"SUR\", \"URY\", \"VEN\"], \"name\": \"\", \"z\": [0.594, 2.68, 4.709, 7.2860000000000005, 2.151, 2.024, 0.0, 0.0, 5.542000000000001, 0.0, 0.48700000000000004, 0.08199999999999999, 0.055], \"type\": \"choropleth\"}], \"name\": \"2020-06-27\"}, {\"data\": [{\"coloraxis\": \"coloraxis\", \"geo\": \"geo\", \"hovertemplate\": \"Date=2020-06-28<br>iso_code=%{location}<br>New C-19 deaths per 1M=%{z}<extra></extra>\", \"locations\": [\"ARG\", \"BOL\", \"BRA\", \"CHL\", \"COL\", \"ECU\", \"FLK\", \"GUY\", \"PER\", \"PRY\", \"SUR\", \"URY\", \"VEN\"], \"name\": \"\", \"z\": [0.68, 2.815, 4.768, 7.862, 2.283, 1.8219999999999998, 0.0, 0.0, 5.52, 0.04, 0.48700000000000004, 0.040999999999999995, 0.045], \"type\": \"choropleth\"}], \"name\": \"2020-06-28\"}, {\"data\": [{\"coloraxis\": \"coloraxis\", \"geo\": \"geo\", \"hovertemplate\": \"Date=2020-06-29<br>iso_code=%{location}<br>New C-19 deaths per 1M=%{z}<extra></extra>\", \"locations\": [\"ARG\", \"BOL\", \"BRA\", \"CHL\", \"COL\", \"ECU\", \"FLK\", \"GUY\", \"PER\", \"PRY\", \"SUR\", \"URY\", \"VEN\"], \"name\": \"\", \"z\": [0.6509999999999999, 2.949, 4.708, 7.697, 2.44, 1.6680000000000001, 0.0, 0.0, 5.511, 0.04, 0.731, 0.08199999999999999, 0.055], \"type\": \"choropleth\"}], \"name\": \"2020-06-29\"}, {\"data\": [{\"coloraxis\": \"coloraxis\", \"geo\": \"geo\", \"hovertemplate\": \"Date=2020-06-30<br>iso_code=%{location}<br>New C-19 deaths per 1M=%{z}<extra></extra>\", \"locations\": [\"ARG\", \"BOL\", \"BRA\", \"CHL\", \"COL\", \"ECU\", \"FLK\", \"GUY\", \"PER\", \"PRY\", \"SUR\", \"URY\", \"VEN\"], \"name\": \"\", \"z\": [0.7490000000000001, 3.072, 4.7330000000000005, 8.019, 2.563, 2.259, 0.0, 0.0, 6.321000000000001, 0.06, 1.218, 0.08199999999999999, 0.065], \"type\": \"choropleth\"}], \"name\": \"2020-06-30\"}, {\"data\": [{\"coloraxis\": \"coloraxis\", \"geo\": \"geo\", \"hovertemplate\": \"Date=2020-07-01<br>iso_code=%{location}<br>New C-19 deaths per 1M=%{z}<extra></extra>\", \"locations\": [\"ARG\", \"BOL\", \"BRA\", \"CHL\", \"COL\", \"ECU\", \"FLK\", \"GUY\", \"PER\", \"PRY\", \"SUR\", \"URY\", \"VEN\"], \"name\": \"\", \"z\": [0.815, 3.39, 4.67, 8.841000000000001, 2.611, 2.049, 0.0, 0.0, 5.516, 0.08, 0.9740000000000001, 0.08199999999999999, 0.08], \"type\": \"choropleth\"}], \"name\": \"2020-07-01\"}, {\"data\": [{\"coloraxis\": \"coloraxis\", \"geo\": \"geo\", \"hovertemplate\": \"Date=2020-07-02<br>iso_code=%{location}<br>New C-19 deaths per 1M=%{z}<extra></extra>\", \"locations\": [\"ARG\", \"BOL\", \"BRA\", \"CHL\", \"COL\", \"ECU\", \"FLK\", \"GUY\", \"PER\", \"PRY\", \"SUR\", \"URY\", \"VEN\"], \"name\": \"\", \"z\": [0.841, 3.977, 4.571000000000001, 7.6370000000000005, 2.7489999999999997, 2.162, 0.0, 0.182, 5.52, 0.12, 0.731, 0.08199999999999999, 0.08], \"type\": \"choropleth\"}], \"name\": \"2020-07-02\"}, {\"data\": [{\"coloraxis\": \"coloraxis\", \"geo\": \"geo\", \"hovertemplate\": \"Date=2020-07-03<br>iso_code=%{location}<br>New C-19 deaths per 1M=%{z}<extra></extra>\", \"locations\": [\"ARG\", \"BOL\", \"BRA\", \"CHL\", \"COL\", \"ECU\", \"FLK\", \"GUY\", \"PER\", \"PRY\", \"SUR\", \"URY\", \"VEN\"], \"name\": \"\", \"z\": [0.825, 4.381, 4.646, 7.6, 2.7710000000000004, 2.397, 0.0, 0.363, 5.563, 0.12, 0.731, 0.08199999999999999, 0.09], \"type\": \"choropleth\"}], \"name\": \"2020-07-03\"}, {\"data\": [{\"coloraxis\": \"coloraxis\", \"geo\": \"geo\", \"hovertemplate\": \"Date=2020-07-04<br>iso_code=%{location}<br>New C-19 deaths per 1M=%{z}<extra></extra>\", \"locations\": [\"ARG\", \"BOL\", \"BRA\", \"CHL\", \"COL\", \"ECU\", \"FLK\", \"GUY\", \"PER\", \"PRY\", \"SUR\", \"URY\", \"VEN\"], \"name\": \"\", \"z\": [0.853, 4.724, 4.848, 7.346, 2.7119999999999997, 2.381, 0.0, 0.363, 5.5760000000000005, 0.12, 0.731, 0.08199999999999999, 0.09], \"type\": \"choropleth\"}], \"name\": \"2020-07-04\"}, {\"data\": [{\"coloraxis\": \"coloraxis\", \"geo\": \"geo\", \"hovertemplate\": \"Date=2020-07-05<br>iso_code=%{location}<br>New C-19 deaths per 1M=%{z}<extra></extra>\", \"locations\": [\"ARG\", \"BOL\", \"BRA\", \"CHL\", \"COL\", \"ECU\", \"FLK\", \"GUY\", \"PER\", \"PRY\", \"SUR\", \"URY\", \"VEN\"], \"name\": \"\", \"z\": [0.778, 4.993, 4.836, 6.315, 2.8160000000000003, 2.793, 0.0, 0.363, 5.5329999999999995, 0.1, 0.9740000000000001, 0.08199999999999999, 0.1], \"type\": \"choropleth\"}], \"name\": \"2020-07-05\"}, {\"data\": [{\"coloraxis\": \"coloraxis\", \"geo\": \"geo\", \"hovertemplate\": \"Date=2020-07-06<br>iso_code=%{location}<br>New C-19 deaths per 1M=%{z}<extra></extra>\", \"locations\": [\"ARG\", \"BOL\", \"BRA\", \"CHL\", \"COL\", \"ECU\", \"FLK\", \"GUY\", \"PER\", \"PRY\", \"SUR\", \"URY\", \"VEN\"], \"name\": \"\", \"z\": [0.863, 5.14, 4.869, 5.971, 2.69, 2.85, 0.0, 0.545, 5.511, 0.1, 0.731, 0.040999999999999995, 0.1], \"type\": \"choropleth\"}], \"name\": \"2020-07-06\"}, {\"data\": [{\"coloraxis\": \"coloraxis\", \"geo\": \"geo\", \"hovertemplate\": \"Date=2020-07-07<br>iso_code=%{location}<br>New C-19 deaths per 1M=%{z}<extra></extra>\", \"locations\": [\"ARG\", \"BOL\", \"BRA\", \"CHL\", \"COL\", \"ECU\", \"FLK\", \"GUY\", \"PER\", \"PRY\", \"SUR\", \"URY\", \"VEN\"], \"name\": \"\", \"z\": [0.768, 4.956, 4.821000000000001, 6.046, 2.7710000000000004, 2.583, 0.0, 0.726, 5.494, 0.08, 0.244, 0.08199999999999999, 0.1], \"type\": \"choropleth\"}], \"name\": \"2020-07-07\"}, {\"data\": [{\"coloraxis\": \"coloraxis\", \"geo\": \"geo\", \"hovertemplate\": \"Date=2020-07-08<br>iso_code=%{location}<br>New C-19 deaths per 1M=%{z}<extra></extra>\", \"locations\": [\"ARG\", \"BOL\", \"BRA\", \"CHL\", \"COL\", \"ECU\", \"FLK\", \"GUY\", \"PER\", \"PRY\", \"SUR\", \"URY\", \"VEN\"], \"name\": \"\", \"z\": [0.932, 4.981, 4.803, 5.575, 2.878, 2.802, 0.0, 0.726, 5.524, 0.06, 0.244, 0.08199999999999999, 0.1], \"type\": \"choropleth\"}], \"name\": \"2020-07-08\"}, {\"data\": [{\"coloraxis\": \"coloraxis\", \"geo\": \"geo\", \"hovertemplate\": \"Date=2020-07-09<br>iso_code=%{location}<br>New C-19 deaths per 1M=%{z}<extra></extra>\", \"locations\": [\"ARG\", \"BOL\", \"BRA\", \"CHL\", \"COL\", \"ECU\", \"FLK\", \"GUY\", \"PER\", \"PRY\", \"SUR\", \"URY\", \"VEN\"], \"name\": \"\", \"z\": [0.958, 4.602, 4.928, 6.127999999999999, 2.968, 2.623, 0.0, 0.545, 5.516, 0.02, 0.9740000000000001, 0.040999999999999995, 0.106], \"type\": \"choropleth\"}], \"name\": \"2020-07-09\"}, {\"data\": [{\"coloraxis\": \"coloraxis\", \"geo\": \"geo\", \"hovertemplate\": \"Date=2020-07-10<br>iso_code=%{location}<br>New C-19 deaths per 1M=%{z}<extra></extra>\", \"locations\": [\"ARG\", \"BOL\", \"BRA\", \"CHL\", \"COL\", \"ECU\", \"FLK\", \"GUY\", \"PER\", \"PRY\", \"SUR\", \"URY\", \"VEN\"], \"name\": \"\", \"z\": [1.018, 4.4910000000000005, 4.906000000000001, 5.694, 3.013, 2.4290000000000003, 0.0, 0.363, 5.497999999999999, 0.02, 0.9740000000000001, 0.040999999999999995, 0.11599999999999999], \"type\": \"choropleth\"}], \"name\": \"2020-07-10\"}, {\"data\": [{\"coloraxis\": \"coloraxis\", \"geo\": \"geo\", \"hovertemplate\": \"Date=2020-07-11<br>iso_code=%{location}<br>New C-19 deaths per 1M=%{z}<extra></extra>\", \"locations\": [\"ARG\", \"BOL\", \"BRA\", \"CHL\", \"COL\", \"ECU\", \"FLK\", \"GUY\", \"PER\", \"PRY\", \"SUR\", \"URY\", \"VEN\"], \"name\": \"\", \"z\": [0.986, 4.675, 4.855, 5.455, 3.2230000000000003, 2.291, 0.0, 0.363, 5.52, 0.02, 1.218, 0.040999999999999995, 0.121], \"type\": \"choropleth\"}], \"name\": \"2020-07-11\"}, {\"data\": [{\"coloraxis\": \"coloraxis\", \"geo\": \"geo\", \"hovertemplate\": \"Date=2020-07-12<br>iso_code=%{location}<br>New C-19 deaths per 1M=%{z}<extra></extra>\", \"locations\": [\"ARG\", \"BOL\", \"BRA\", \"CHL\", \"COL\", \"ECU\", \"FLK\", \"GUY\", \"PER\", \"PRY\", \"SUR\", \"URY\", \"VEN\"], \"name\": \"\", \"z\": [1.128, 4.602, 4.842, 5.149, 3.305, 2.121, 0.0, 0.545, 5.502999999999999, 0.02, 0.9740000000000001, 0.08199999999999999, 0.11599999999999999], \"type\": \"choropleth\"}], \"name\": \"2020-07-12\"}, {\"data\": [{\"coloraxis\": \"coloraxis\", \"geo\": \"geo\", \"hovertemplate\": \"Date=2020-07-13<br>iso_code=%{location}<br>New C-19 deaths per 1M=%{z}<extra></extra>\", \"locations\": [\"ARG\", \"BOL\", \"BRA\", \"CHL\", \"COL\", \"ECU\", \"FLK\", \"GUY\", \"PER\", \"PRY\", \"SUR\", \"URY\", \"VEN\"], \"name\": \"\", \"z\": [1.037, 4.565, 4.861000000000001, 5.013999999999999, 3.49, 2.154, 0.0, 0.363, 5.55, 0.04, 0.9740000000000001, 0.12300000000000001, 0.126], \"type\": \"choropleth\"}], \"name\": \"2020-07-13\"}, {\"data\": [{\"coloraxis\": \"coloraxis\", \"geo\": \"geo\", \"hovertemplate\": \"Date=2020-07-14<br>iso_code=%{location}<br>New C-19 deaths per 1M=%{z}<extra></extra>\", \"locations\": [\"ARG\", \"BOL\", \"BRA\", \"CHL\", \"COL\", \"ECU\", \"FLK\", \"GUY\", \"PER\", \"PRY\", \"SUR\", \"URY\", \"VEN\"], \"name\": \"\", \"z\": [1.2009999999999998, 4.773, 4.937, 4.783, 3.495, 1.959, 0.0, 0.182, 5.555, 0.1, 0.9740000000000001, 0.08199999999999999, 0.126], \"type\": \"choropleth\"}], \"name\": \"2020-07-14\"}, {\"data\": [{\"coloraxis\": \"coloraxis\", \"geo\": \"geo\", \"hovertemplate\": \"Date=2020-07-15<br>iso_code=%{location}<br>New C-19 deaths per 1M=%{z}<extra></extra>\", \"locations\": [\"ARG\", \"BOL\", \"BRA\", \"CHL\", \"COL\", \"ECU\", \"FLK\", \"GUY\", \"PER\", \"PRY\", \"SUR\", \"URY\", \"VEN\"], \"name\": \"\", \"z\": [1.024, 4.504, 4.968, 4.745, 3.554, 2.081, 0.0, 0.182, 5.5329999999999995, 0.1, 0.9740000000000001, 0.08199999999999999, 0.126], \"type\": \"choropleth\"}], \"name\": \"2020-07-15\"}, {\"data\": [{\"coloraxis\": \"coloraxis\", \"geo\": \"geo\", \"hovertemplate\": \"Date=2020-07-16<br>iso_code=%{location}<br>New C-19 deaths per 1M=%{z}<extra></extra>\", \"locations\": [\"ARG\", \"BOL\", \"BRA\", \"CHL\", \"COL\", \"ECU\", \"FLK\", \"GUY\", \"PER\", \"PRY\", \"SUR\", \"URY\", \"VEN\"], \"name\": \"\", \"z\": [1.252, 4.467, 4.975, 4.581, 3.613, 2.089, 0.0, 0.363, 5.563, 0.1, 0.244, 0.08199999999999999, 0.126], \"type\": \"choropleth\"}], \"name\": \"2020-07-16\"}, {\"data\": [{\"coloraxis\": \"coloraxis\", \"geo\": \"geo\", \"hovertemplate\": \"Date=2020-07-17<br>iso_code=%{location}<br>New C-19 deaths per 1M=%{z}<extra></extra>\", \"locations\": [\"ARG\", \"BOL\", \"BRA\", \"CHL\", \"COL\", \"ECU\", \"FLK\", \"GUY\", \"PER\", \"PRY\", \"SUR\", \"URY\", \"VEN\"], \"name\": \"\", \"z\": [1.28, 4.234, 5.043, 4.544, 3.6919999999999997, 2.17, 0.0, 0.545, 5.6370000000000005, 0.14, 0.244, 0.08199999999999999, 0.121], \"type\": \"choropleth\"}], \"name\": \"2020-07-17\"}, {\"data\": [{\"coloraxis\": \"coloraxis\", \"geo\": \"geo\", \"hovertemplate\": \"Date=2020-07-18<br>iso_code=%{location}<br>New C-19 deaths per 1M=%{z}<extra></extra>\", \"locations\": [\"ARG\", \"BOL\", \"BRA\", \"CHL\", \"COL\", \"ECU\", \"FLK\", \"GUY\", \"PER\", \"PRY\", \"SUR\", \"URY\", \"VEN\"], \"name\": \"\", \"z\": [1.214, 4.247, 5.0089999999999995, 11.703, 3.827, 2.162, 0.0, 0.545, 5.627999999999999, 0.16, 0.244, 0.12300000000000001, 0.121], \"type\": \"choropleth\"}], \"name\": \"2020-07-18\"}, {\"data\": [{\"coloraxis\": \"coloraxis\", \"geo\": \"geo\", \"hovertemplate\": \"Date=2020-07-19<br>iso_code=%{location}<br>New C-19 deaths per 1M=%{z}<extra></extra>\", \"locations\": [\"ARG\", \"BOL\", \"BRA\", \"CHL\", \"COL\", \"ECU\", \"FLK\", \"GUY\", \"PER\", \"PRY\", \"SUR\", \"URY\", \"VEN\"], \"name\": \"\", \"z\": [1.245, 4.308, 4.908, 11.687999999999999, 3.9219999999999997, 2.032, 0.0, 0.363, 5.702000000000001, 0.16, 0.48700000000000004, 0.12300000000000001, 0.126], \"type\": \"choropleth\"}], \"name\": \"2020-07-19\"}, {\"data\": [{\"coloraxis\": \"coloraxis\", \"geo\": \"geo\", \"hovertemplate\": \"Date=2020-07-20<br>iso_code=%{location}<br>New C-19 deaths per 1M=%{z}<extra></extra>\", \"locations\": [\"ARG\", \"BOL\", \"BRA\", \"CHL\", \"COL\", \"ECU\", \"FLK\", \"GUY\", \"PER\", \"PRY\", \"SUR\", \"URY\", \"VEN\"], \"name\": \"\", \"z\": [1.3530000000000002, 4.21, 4.965, 11.389000000000001, 4.012, 2.154, 0.0, 0.363, 5.706, 0.18, 0.731, 0.08199999999999999, 0.11599999999999999], \"type\": \"choropleth\"}], \"name\": \"2020-07-20\"}, {\"data\": [{\"coloraxis\": \"coloraxis\", \"geo\": \"geo\", \"hovertemplate\": \"Date=2020-07-21<br>iso_code=%{location}<br>New C-19 deaths per 1M=%{z}<extra></extra>\", \"locations\": [\"ARG\", \"BOL\", \"BRA\", \"CHL\", \"COL\", \"ECU\", \"FLK\", \"GUY\", \"PER\", \"PRY\", \"SUR\", \"URY\", \"VEN\"], \"name\": \"\", \"z\": [1.486, 4.308, 4.897, 12.024000000000001, 4.138, 2.065, 0.0, 0.363, 5.7620000000000005, 0.16, 0.731, 0.08199999999999999, 0.11599999999999999], \"type\": \"choropleth\"}], \"name\": \"2020-07-21\"}, {\"data\": [{\"coloraxis\": \"coloraxis\", \"geo\": \"geo\", \"hovertemplate\": \"Date=2020-07-22<br>iso_code=%{location}<br>New C-19 deaths per 1M=%{z}<extra></extra>\", \"locations\": [\"ARG\", \"BOL\", \"BRA\", \"CHL\", \"COL\", \"ECU\", \"FLK\", \"GUY\", \"PER\", \"PRY\", \"SUR\", \"URY\", \"VEN\"], \"name\": \"\", \"z\": [1.413, 4.5889999999999995, 4.942, 12.017000000000001, 4.3260000000000005, 1.911, 0.0, 0.363, 5.849, 0.2, 0.731, 0.08199999999999999, 0.121], \"type\": \"choropleth\"}], \"name\": \"2020-07-22\"}, {\"data\": [{\"coloraxis\": \"coloraxis\", \"geo\": \"geo\", \"hovertemplate\": \"Date=2020-07-23<br>iso_code=%{location}<br>New C-19 deaths per 1M=%{z}<extra></extra>\", \"locations\": [\"ARG\", \"BOL\", \"BRA\", \"CHL\", \"COL\", \"ECU\", \"FLK\", \"GUY\", \"PER\", \"PRY\", \"SUR\", \"URY\", \"VEN\"], \"name\": \"\", \"z\": [1.4409999999999998, 4.724, 4.977, 11.479000000000001, 4.377, 2.105, 0.0, 0.182, 5.849, 0.22, 0.731, 0.12300000000000001, 0.1], \"type\": \"choropleth\"}], \"name\": \"2020-07-23\"}, {\"data\": [{\"coloraxis\": \"coloraxis\", \"geo\": \"geo\", \"hovertemplate\": \"Date=2020-07-24<br>iso_code=%{location}<br>New C-19 deaths per 1M=%{z}<extra></extra>\", \"locations\": [\"ARG\", \"BOL\", \"BRA\", \"CHL\", \"COL\", \"ECU\", \"FLK\", \"GUY\", \"PER\", \"PRY\", \"SUR\", \"URY\", \"VEN\"], \"name\": \"\", \"z\": [1.5959999999999999, 5.1770000000000005, 4.968999999999999, 11.568, 4.658, 1.879, 0.0, 0.0, 21.831999999999997, 0.18, 1.218, 0.12300000000000001, 0.126], \"type\": \"choropleth\"}], \"name\": \"2020-07-24\"}, {\"data\": [{\"coloraxis\": \"coloraxis\", \"geo\": \"geo\", \"hovertemplate\": \"Date=2020-07-25<br>iso_code=%{location}<br>New C-19 deaths per 1M=%{z}<extra></extra>\", \"locations\": [\"ARG\", \"BOL\", \"BRA\", \"CHL\", \"COL\", \"ECU\", \"FLK\", \"GUY\", \"PER\", \"PRY\", \"SUR\", \"URY\", \"VEN\"], \"name\": \"\", \"z\": [1.8619999999999999, 5.189, 4.965, 4.237, 4.736000000000001, 1.765, 0.0, 0.182, 21.854, 0.2, 0.9740000000000001, 0.08199999999999999, 0.136], \"type\": \"choropleth\"}], \"name\": \"2020-07-25\"}, {\"data\": [{\"coloraxis\": \"coloraxis\", \"geo\": \"geo\", \"hovertemplate\": \"Date=2020-07-26<br>iso_code=%{location}<br>New C-19 deaths per 1M=%{z}<extra></extra>\", \"locations\": [\"ARG\", \"BOL\", \"BRA\", \"CHL\", \"COL\", \"ECU\", \"FLK\", \"GUY\", \"PER\", \"PRY\", \"SUR\", \"URY\", \"VEN\"], \"name\": \"\", \"z\": [2.032, 5.25, 5.16, 4.297, 4.922, 1.8219999999999998, 0.0, 0.182, 21.802, 0.22, 0.731, 0.040999999999999995, 0.121], \"type\": \"choropleth\"}], \"name\": \"2020-07-26\"}, {\"data\": [{\"coloraxis\": \"coloraxis\", \"geo\": \"geo\", \"hovertemplate\": \"Date=2020-07-27<br>iso_code=%{location}<br>New C-19 deaths per 1M=%{z}<extra></extra>\", \"locations\": [\"ARG\", \"BOL\", \"BRA\", \"CHL\", \"COL\", \"ECU\", \"FLK\", \"GUY\", \"PER\", \"PRY\", \"SUR\", \"URY\", \"VEN\"], \"name\": \"\", \"z\": [2.19, 5.287000000000001, 5.051, 4.551, 5.023, 1.636, 0.0, 0.182, 21.845, 0.2, 0.48700000000000004, 0.040999999999999995, 0.151], \"type\": \"choropleth\"}], \"name\": \"2020-07-27\"}, {\"data\": [{\"coloraxis\": \"coloraxis\", \"geo\": \"geo\", \"hovertemplate\": \"Date=2020-07-28<br>iso_code=%{location}<br>New C-19 deaths per 1M=%{z}<extra></extra>\", \"locations\": [\"ARG\", \"BOL\", \"BRA\", \"CHL\", \"COL\", \"ECU\", \"FLK\", \"GUY\", \"PER\", \"PRY\", \"SUR\", \"URY\", \"VEN\"], \"name\": \"\", \"z\": [1.8430000000000002, 5.25, 5.039, 4.14, 5.188, 1.733, 0.0, 0.182, 21.811, 0.2, 0.731, 0.08199999999999999, 0.151], \"type\": \"choropleth\"}], \"name\": \"2020-07-28\"}, {\"data\": [{\"coloraxis\": \"coloraxis\", \"geo\": \"geo\", \"hovertemplate\": \"Date=2020-07-29<br>iso_code=%{location}<br>New C-19 deaths per 1M=%{z}<extra></extra>\", \"locations\": [\"ARG\", \"BOL\", \"BRA\", \"CHL\", \"COL\", \"ECU\", \"FLK\", \"GUY\", \"PER\", \"PRY\", \"SUR\", \"URY\", \"VEN\"], \"name\": \"\", \"z\": [2.241, 5.47, 4.74, 4.207, 5.357, 1.765, 0.0, 0.182, 21.805999999999997, 0.2, 0.731, 0.08199999999999999, 0.156], \"type\": \"choropleth\"}], \"name\": \"2020-07-29\"}, {\"data\": [{\"coloraxis\": \"coloraxis\", \"geo\": \"geo\", \"hovertemplate\": \"Date=2020-07-30<br>iso_code=%{location}<br>New C-19 deaths per 1M=%{z}<extra></extra>\", \"locations\": [\"ARG\", \"BOL\", \"BRA\", \"CHL\", \"COL\", \"ECU\", \"FLK\", \"GUY\", \"PER\", \"PRY\", \"SUR\", \"URY\", \"VEN\"], \"name\": \"\", \"z\": [2.194, 5.874, 4.949, 4.155, 5.843, 1.66, 0.0, 0.182, 21.875999999999998, 0.2, 1.218, 0.040999999999999995, 0.156], \"type\": \"choropleth\"}], \"name\": \"2020-07-30\"}, {\"data\": [{\"coloraxis\": \"coloraxis\", \"geo\": \"geo\", \"hovertemplate\": \"Date=2020-07-31<br>iso_code=%{location}<br>New C-19 deaths per 1M=%{z}<extra></extra>\", \"locations\": [\"ARG\", \"BOL\", \"BRA\", \"CHL\", \"COL\", \"ECU\", \"FLK\", \"GUY\", \"PER\", \"PRY\", \"SUR\", \"URY\", \"VEN\"], \"name\": \"\", \"z\": [2.194, 5.96, 4.8260000000000005, 4.0280000000000005, 5.957999999999999, 1.765, 0.0, 0.182, 5.922999999999999, 0.22, 0.731, 0.040999999999999995, 0.146], \"type\": \"choropleth\"}], \"name\": \"2020-07-31\"}, {\"data\": [{\"coloraxis\": \"coloraxis\", \"geo\": \"geo\", \"hovertemplate\": \"Date=2020-08-01<br>iso_code=%{location}<br>New C-19 deaths per 1M=%{z}<extra></extra>\", \"locations\": [\"ARG\", \"BOL\", \"BRA\", \"CHL\", \"COL\", \"ECU\", \"FLK\", \"GUY\", \"PER\", \"PRY\", \"SUR\", \"URY\", \"VEN\"], \"name\": \"\", \"z\": [2.352, 6.167999999999999, 4.864, 4.058, 5.98, 1.895, 0.0, 0.0, 5.952999999999999, 0.22, 0.731, 0.040999999999999995, 0.151], \"type\": \"choropleth\"}], \"name\": \"2020-08-01\"}, {\"data\": [{\"coloraxis\": \"coloraxis\", \"geo\": \"geo\", \"hovertemplate\": \"Date=2020-08-02<br>iso_code=%{location}<br>New C-19 deaths per 1M=%{z}<extra></extra>\", \"locations\": [\"ARG\", \"BOL\", \"BRA\", \"CHL\", \"COL\", \"ECU\", \"FLK\", \"GUY\", \"PER\", \"PRY\", \"SUR\", \"URY\", \"VEN\"], \"name\": \"\", \"z\": [2.247, 6.474, 4.781000000000001, 3.8339999999999996, 5.7860000000000005, 1.854, 0.0, 0.0, 5.97, 0.24, 0.731, 0.040999999999999995, 0.17600000000000002], \"type\": \"choropleth\"}], \"name\": \"2020-08-02\"}, {\"data\": [{\"coloraxis\": \"coloraxis\", \"geo\": \"geo\", \"hovertemplate\": \"Date=2020-08-03<br>iso_code=%{location}<br>New C-19 deaths per 1M=%{z}<extra></extra>\", \"locations\": [\"ARG\", \"BOL\", \"BRA\", \"CHL\", \"COL\", \"ECU\", \"FLK\", \"GUY\", \"PER\", \"PRY\", \"SUR\", \"URY\", \"VEN\"], \"name\": \"\", \"z\": [2.127, 6.976, 4.772, 3.707, 5.966, 1.903, 0.0, 0.182, 6.001, 0.22, 0.9740000000000001, 0.08199999999999999, 0.161], \"type\": \"choropleth\"}], \"name\": \"2020-08-03\"}, {\"data\": [{\"coloraxis\": \"coloraxis\", \"geo\": \"geo\", \"hovertemplate\": \"Date=2020-08-04<br>iso_code=%{location}<br>New C-19 deaths per 1M=%{z}<extra></extra>\", \"locations\": [\"ARG\", \"BOL\", \"BRA\", \"CHL\", \"COL\", \"ECU\", \"FLK\", \"GUY\", \"PER\", \"PRY\", \"SUR\", \"URY\", \"VEN\"], \"name\": \"\", \"z\": [2.247, 7.11, 4.736000000000001, 3.886, 6.289, 1.903, 0.0, 0.182, 6.035, 0.24, 0.731, 0.040999999999999995, 0.141], \"type\": \"choropleth\"}], \"name\": \"2020-08-04\"}, {\"data\": [{\"coloraxis\": \"coloraxis\", \"geo\": \"geo\", \"hovertemplate\": \"Date=2020-08-05<br>iso_code=%{location}<br>New C-19 deaths per 1M=%{z}<extra></extra>\", \"locations\": [\"ARG\", \"BOL\", \"BRA\", \"CHL\", \"COL\", \"ECU\", \"FLK\", \"GUY\", \"PER\", \"PRY\", \"SUR\", \"URY\", \"VEN\"], \"name\": \"\", \"z\": [2.469, 7.343, 4.893, 3.7739999999999996, 6.292000000000001, 1.814, 0.0, 0.363, 6.044, 0.28, 0.731, 0.08199999999999999, 0.18100000000000002], \"type\": \"choropleth\"}], \"name\": \"2020-08-05\"}, {\"data\": [{\"coloraxis\": \"coloraxis\", \"geo\": \"geo\", \"hovertemplate\": \"Date=2020-08-06<br>iso_code=%{location}<br>New C-19 deaths per 1M=%{z}<extra></extra>\", \"locations\": [\"ARG\", \"BOL\", \"BRA\", \"CHL\", \"COL\", \"ECU\", \"FLK\", \"GUY\", \"PER\", \"PRY\", \"SUR\", \"URY\", \"VEN\"], \"name\": \"\", \"z\": [2.557, 7.061, 4.787, 3.841, 6.0920000000000005, 1.814, 0.0, 0.363, 6.117999999999999, 0.3, 0.244, 0.08199999999999999, 0.221], \"type\": \"choropleth\"}], \"name\": \"2020-08-06\"}, {\"data\": [{\"coloraxis\": \"coloraxis\", \"geo\": \"geo\", \"hovertemplate\": \"Date=2020-08-07<br>iso_code=%{location}<br>New C-19 deaths per 1M=%{z}<extra></extra>\", \"locations\": [\"ARG\", \"BOL\", \"BRA\", \"CHL\", \"COL\", \"ECU\", \"FLK\", \"GUY\", \"PER\", \"PRY\", \"SUR\", \"URY\", \"VEN\"], \"name\": \"\", \"z\": [2.605, 6.9879999999999995, 4.859, 3.826, 5.977, 1.8619999999999999, 0.0, 0.363, 6.079, 0.381, 0.731, 0.08199999999999999, 0.221], \"type\": \"choropleth\"}], \"name\": \"2020-08-07\"}, {\"data\": [{\"coloraxis\": \"coloraxis\", \"geo\": \"geo\", \"hovertemplate\": \"Date=2020-08-08<br>iso_code=%{location}<br>New C-19 deaths per 1M=%{z}<extra></extra>\", \"locations\": [\"ARG\", \"BOL\", \"BRA\", \"CHL\", \"COL\", \"ECU\", \"FLK\", \"GUY\", \"PER\", \"PRY\", \"SUR\", \"URY\", \"VEN\"], \"name\": \"\", \"z\": [2.608, 6.694, 4.77, 3.7439999999999998, 6.022, 1.579, 0.0, 0.363, 6.204, 0.401, 0.731, 0.08199999999999999, 0.221], \"type\": \"choropleth\"}], \"name\": \"2020-08-08\"}, {\"data\": [{\"coloraxis\": \"coloraxis\", \"geo\": \"geo\", \"hovertemplate\": \"Date=2020-08-09<br>iso_code=%{location}<br>New C-19 deaths per 1M=%{z}<extra></extra>\", \"locations\": [\"ARG\", \"BOL\", \"BRA\", \"CHL\", \"COL\", \"ECU\", \"FLK\", \"GUY\", \"PER\", \"PRY\", \"SUR\", \"URY\", \"VEN\"], \"name\": \"\", \"z\": [2.819, 6.401, 4.647, 3.572, 6.205, 1.4569999999999999, 0.0, 0.363, 6.222, 0.401, 0.731, 0.08199999999999999, 0.196], \"type\": \"choropleth\"}], \"name\": \"2020-08-09\"}, {\"data\": [{\"coloraxis\": \"coloraxis\", \"geo\": \"geo\", \"hovertemplate\": \"Date=2020-08-10<br>iso_code=%{location}<br>New C-19 deaths per 1M=%{z}<extra></extra>\", \"locations\": [\"ARG\", \"BOL\", \"BRA\", \"CHL\", \"COL\", \"ECU\", \"FLK\", \"GUY\", \"PER\", \"PRY\", \"SUR\", \"URY\", \"VEN\"], \"name\": \"\", \"z\": [2.984, 5.96, 4.668, 3.505, 6.154, 1.393, 0.0, 0.182, 6.317, 0.461, 0.48700000000000004, 0.040999999999999995, 0.24600000000000002], \"type\": \"choropleth\"}], \"name\": \"2020-08-10\"}, {\"data\": [{\"coloraxis\": \"coloraxis\", \"geo\": \"geo\", \"hovertemplate\": \"Date=2020-08-11<br>iso_code=%{location}<br>New C-19 deaths per 1M=%{z}<extra></extra>\", \"locations\": [\"ARG\", \"BOL\", \"BRA\", \"CHL\", \"COL\", \"ECU\", \"FLK\", \"GUY\", \"PER\", \"PRY\", \"SUR\", \"URY\", \"VEN\"], \"name\": \"\", \"z\": [3.057, 5.922999999999999, 4.763, 3.228, 6.0, 1.3359999999999999, 0.0, 0.182, 6.347, 0.541, 0.731, 0.040999999999999995, 0.24600000000000002], \"type\": \"choropleth\"}], \"name\": \"2020-08-11\"}, {\"data\": [{\"coloraxis\": \"coloraxis\", \"geo\": \"geo\", \"hovertemplate\": \"Date=2020-08-12<br>iso_code=%{location}<br>New C-19 deaths per 1M=%{z}<extra></extra>\", \"locations\": [\"ARG\", \"BOL\", \"BRA\", \"CHL\", \"COL\", \"ECU\", \"FLK\", \"GUY\", \"PER\", \"PRY\", \"SUR\", \"URY\", \"VEN\"], \"name\": \"\", \"z\": [2.9139999999999997, 5.397, 4.843999999999999, 3.236, 6.064, 1.158, 0.0, 0.0, 6.473, 0.541, 2.9219999999999997, 0.0, 0.256], \"type\": \"choropleth\"}], \"name\": \"2020-08-12\"}, {\"data\": [{\"coloraxis\": \"coloraxis\", \"geo\": \"geo\", \"hovertemplate\": \"Date=2020-08-13<br>iso_code=%{location}<br>New C-19 deaths per 1M=%{z}<extra></extra>\", \"locations\": [\"ARG\", \"BOL\", \"BRA\", \"CHL\", \"COL\", \"ECU\", \"FLK\", \"GUY\", \"PER\", \"PRY\", \"SUR\", \"URY\", \"VEN\"], \"name\": \"\", \"z\": [3.411, 5.409, 4.668, 3.0860000000000003, 6.212999999999999, 1.109, 0.0, 0.0, 6.434, 0.6409999999999999, 2.9219999999999997, 0.0, 0.261], \"type\": \"choropleth\"}], \"name\": \"2020-08-13\"}, {\"data\": [{\"coloraxis\": \"coloraxis\", \"geo\": \"geo\", \"hovertemplate\": \"Date=2020-08-14<br>iso_code=%{location}<br>New C-19 deaths per 1M=%{z}<extra></extra>\", \"locations\": [\"ARG\", \"BOL\", \"BRA\", \"CHL\", \"COL\", \"ECU\", \"FLK\", \"GUY\", \"PER\", \"PRY\", \"SUR\", \"URY\", \"VEN\"], \"name\": \"\", \"z\": [3.512, 4.43, 4.684, 3.0639999999999996, 6.193, 0.996, 0.0, 0.0, 22.634, 0.621, 2.679, 0.0, 0.28600000000000003], \"type\": \"choropleth\"}], \"name\": \"2020-08-14\"}, {\"data\": [{\"coloraxis\": \"coloraxis\", \"geo\": \"geo\", \"hovertemplate\": \"Date=2020-08-15<br>iso_code=%{location}<br>New C-19 deaths per 1M=%{z}<extra></extra>\", \"locations\": [\"ARG\", \"BOL\", \"BRA\", \"CHL\", \"COL\", \"ECU\", \"FLK\", \"GUY\", \"PER\", \"PRY\", \"SUR\", \"URY\", \"VEN\"], \"name\": \"\", \"z\": [3.594, 4.406000000000001, 4.672, 2.855, 6.295, 1.077, 0.0, 0.0, 22.56, 0.7809999999999999, 2.9219999999999997, 0.040999999999999995, 0.29100000000000004], \"type\": \"choropleth\"}], \"name\": \"2020-08-15\"}, {\"data\": [{\"coloraxis\": \"coloraxis\", \"geo\": \"geo\", \"hovertemplate\": \"Date=2020-08-16<br>iso_code=%{location}<br>New C-19 deaths per 1M=%{z}<extra></extra>\", \"locations\": [\"ARG\", \"BOL\", \"BRA\", \"CHL\", \"COL\", \"ECU\", \"FLK\", \"GUY\", \"PER\", \"PRY\", \"SUR\", \"URY\", \"VEN\"], \"name\": \"\", \"z\": [3.5239999999999996, 5.091, 4.54, 2.87, 6.372999999999999, 1.206, 0.0, 0.0, 22.664, 1.102, 3.1660000000000004, 0.040999999999999995, 0.342], \"type\": \"choropleth\"}], \"name\": \"2020-08-16\"}, {\"data\": [{\"coloraxis\": \"coloraxis\", \"geo\": \"geo\", \"hovertemplate\": \"Date=2020-08-17<br>iso_code=%{location}<br>New C-19 deaths per 1M=%{z}<extra></extra>\", \"locations\": [\"ARG\", \"BOL\", \"BRA\", \"CHL\", \"COL\", \"ECU\", \"FLK\", \"GUY\", \"PER\", \"PRY\", \"SUR\", \"URY\", \"VEN\"], \"name\": \"\", \"z\": [3.48, 4.993, 4.572, 2.802, 6.331, 1.198, 0.0, 0.182, 22.569000000000003, 1.262, 4.383, 0.040999999999999995, 0.29100000000000004], \"type\": \"choropleth\"}], \"name\": \"2020-08-17\"}, {\"data\": [{\"coloraxis\": \"coloraxis\", \"geo\": \"geo\", \"hovertemplate\": \"Date=2020-08-18<br>iso_code=%{location}<br>New C-19 deaths per 1M=%{z}<extra></extra>\", \"locations\": [\"ARG\", \"BOL\", \"BRA\", \"CHL\", \"COL\", \"ECU\", \"FLK\", \"GUY\", \"PER\", \"PRY\", \"SUR\", \"URY\", \"VEN\"], \"name\": \"\", \"z\": [3.528, 5.03, 4.559, 2.795, 6.227, 1.2229999999999999, 0.0, 0.182, 22.552, 1.262, 4.383, 0.12300000000000001, 0.327], \"type\": \"choropleth\"}], \"name\": \"2020-08-18\"}, {\"data\": [{\"coloraxis\": \"coloraxis\", \"geo\": \"geo\", \"hovertemplate\": \"Date=2020-08-19<br>iso_code=%{location}<br>New C-19 deaths per 1M=%{z}<extra></extra>\", \"locations\": [\"ARG\", \"BOL\", \"BRA\", \"CHL\", \"COL\", \"ECU\", \"FLK\", \"GUY\", \"PER\", \"PRY\", \"SUR\", \"URY\", \"VEN\"], \"name\": \"\", \"z\": [3.452, 5.03, 4.612, 2.75, 6.019, 1.247, 0.0, 0.545, 22.344, 1.5019999999999998, 3.653, 0.12300000000000001, 0.29600000000000004], \"type\": \"choropleth\"}], \"name\": \"2020-08-19\"}, {\"data\": [{\"coloraxis\": \"coloraxis\", \"geo\": \"geo\", \"hovertemplate\": \"Date=2020-08-20<br>iso_code=%{location}<br>New C-19 deaths per 1M=%{z}<extra></extra>\", \"locations\": [\"ARG\", \"BOL\", \"BRA\", \"CHL\", \"COL\", \"ECU\", \"FLK\", \"GUY\", \"PER\", \"PRY\", \"SUR\", \"URY\", \"VEN\"], \"name\": \"\", \"z\": [3.2430000000000003, 4.968999999999999, 4.637, 2.787, 6.013999999999999, 1.3119999999999998, 0.0, 0.9079999999999999, 22.188000000000002, 1.442, 3.653, 0.12300000000000001, 0.281], \"type\": \"choropleth\"}], \"name\": \"2020-08-20\"}, {\"data\": [{\"coloraxis\": \"coloraxis\", \"geo\": \"geo\", \"hovertemplate\": \"Date=2020-08-21<br>iso_code=%{location}<br>New C-19 deaths per 1M=%{z}<extra></extra>\", \"locations\": [\"ARG\", \"BOL\", \"BRA\", \"CHL\", \"COL\", \"ECU\", \"FLK\", \"GUY\", \"PER\", \"PRY\", \"SUR\", \"URY\", \"VEN\"], \"name\": \"\", \"z\": [3.667, 5.85, 4.598, 2.78, 5.722, 1.538, 0.0, 1.271, 6.005, 1.462, 3.653, 0.165, 0.261], \"type\": \"choropleth\"}], \"name\": \"2020-08-21\"}, {\"data\": [{\"coloraxis\": \"coloraxis\", \"geo\": \"geo\", \"hovertemplate\": \"Date=2020-08-22<br>iso_code=%{location}<br>New C-19 deaths per 1M=%{z}<extra></extra>\", \"locations\": [\"ARG\", \"BOL\", \"BRA\", \"CHL\", \"COL\", \"ECU\", \"FLK\", \"GUY\", \"PER\", \"PRY\", \"SUR\", \"URY\", \"VEN\"], \"name\": \"\", \"z\": [3.6, 5.899, 4.593999999999999, 2.862, 5.829, 1.765, 0.0, 1.453, 6.018, 1.482, 3.653, 0.165, 0.256], \"type\": \"choropleth\"}], \"name\": \"2020-08-22\"}, {\"data\": [{\"coloraxis\": \"coloraxis\", \"geo\": \"geo\", \"hovertemplate\": \"Date=2020-08-23<br>iso_code=%{location}<br>New C-19 deaths per 1M=%{z}<extra></extra>\", \"locations\": [\"ARG\", \"BOL\", \"BRA\", \"CHL\", \"COL\", \"ECU\", \"FLK\", \"GUY\", \"PER\", \"PRY\", \"SUR\", \"URY\", \"VEN\"], \"name\": \"\", \"z\": [3.888, 5.372999999999999, 4.717, 2.967, 6.059, 1.7169999999999999, 0.0, 1.635, 5.97, 1.3019999999999998, 3.653, 0.165, 0.23600000000000002], \"type\": \"choropleth\"}], \"name\": \"2020-08-23\"}, {\"data\": [{\"coloraxis\": \"coloraxis\", \"geo\": \"geo\", \"hovertemplate\": \"Date=2020-08-24<br>iso_code=%{location}<br>New C-19 deaths per 1M=%{z}<extra></extra>\", \"locations\": [\"ARG\", \"BOL\", \"BRA\", \"CHL\", \"COL\", \"ECU\", \"FLK\", \"GUY\", \"PER\", \"PRY\", \"SUR\", \"URY\", \"VEN\"], \"name\": \"\", \"z\": [3.765, 5.642, 4.632, 2.989, 6.23, 1.943, 0.0, 1.453, 5.9879999999999995, 1.3419999999999999, 2.679, 0.165, 0.24100000000000002], \"type\": \"choropleth\"}], \"name\": \"2020-08-24\"}, {\"data\": [{\"coloraxis\": \"coloraxis\", \"geo\": \"geo\", \"hovertemplate\": \"Date=2020-08-25<br>iso_code=%{location}<br>New C-19 deaths per 1M=%{z}<extra></extra>\", \"locations\": [\"ARG\", \"BOL\", \"BRA\", \"CHL\", \"COL\", \"ECU\", \"FLK\", \"GUY\", \"PER\", \"PRY\", \"SUR\", \"URY\", \"VEN\"], \"name\": \"\", \"z\": [4.2010000000000005, 5.568, 4.552, 3.012, 6.289, 1.935, 0.0, 1.453, 5.771, 1.482, 2.9219999999999997, 0.08199999999999999, 0.24600000000000002], \"type\": \"choropleth\"}], \"name\": \"2020-08-25\"}, {\"data\": [{\"coloraxis\": \"coloraxis\", \"geo\": \"geo\", \"hovertemplate\": \"Date=2020-08-26<br>iso_code=%{location}<br>New C-19 deaths per 1M=%{z}<extra></extra>\", \"locations\": [\"ARG\", \"BOL\", \"BRA\", \"CHL\", \"COL\", \"ECU\", \"FLK\", \"GUY\", \"PER\", \"PRY\", \"SUR\", \"URY\", \"VEN\"], \"name\": \"\", \"z\": [4.82, 6.021, 4.498, 3.0789999999999997, 6.372999999999999, 2.13, 0.0, 1.09, 5.819, 1.402, 1.705, 0.12300000000000001, 0.231], \"type\": \"choropleth\"}], \"name\": \"2020-08-26\"}, {\"data\": [{\"coloraxis\": \"coloraxis\", \"geo\": \"geo\", \"hovertemplate\": \"Date=2020-08-27<br>iso_code=%{location}<br>New C-19 deaths per 1M=%{z}<extra></extra>\", \"locations\": [\"ARG\", \"BOL\", \"BRA\", \"CHL\", \"COL\", \"ECU\", \"FLK\", \"GUY\", \"PER\", \"PRY\", \"SUR\", \"URY\", \"VEN\"], \"name\": \"\", \"z\": [4.89, 6.0329999999999995, 4.412, 3.0789999999999997, 6.191, 2.138, 0.0, 0.726, 5.5889999999999995, 1.642, 1.9480000000000002, 0.12300000000000001, 0.201], \"type\": \"choropleth\"}], \"name\": \"2020-08-27\"}, {\"data\": [{\"coloraxis\": \"coloraxis\", \"geo\": \"geo\", \"hovertemplate\": \"Date=2020-08-28<br>iso_code=%{location}<br>New C-19 deaths per 1M=%{z}<extra></extra>\", \"locations\": [\"ARG\", \"BOL\", \"BRA\", \"CHL\", \"COL\", \"ECU\", \"FLK\", \"GUY\", \"PER\", \"PRY\", \"SUR\", \"URY\", \"VEN\"], \"name\": \"\", \"z\": [4.861000000000001, 5.9479999999999995, 4.263999999999999, 2.997, 6.415, 2.194, 0.0, 0.545, 5.386, 1.903, 2.679, 0.08199999999999999, 0.23600000000000002], \"type\": \"choropleth\"}], \"name\": \"2020-08-28\"}, {\"data\": [{\"coloraxis\": \"coloraxis\", \"geo\": \"geo\", \"hovertemplate\": \"Date=2020-08-29<br>iso_code=%{location}<br>New C-19 deaths per 1M=%{z}<extra></extra>\", \"locations\": [\"ARG\", \"BOL\", \"BRA\", \"CHL\", \"COL\", \"ECU\", \"FLK\", \"GUY\", \"PER\", \"PRY\", \"SUR\", \"URY\", \"VEN\"], \"name\": \"\", \"z\": [4.937, 5.874, 4.131, 3.056, 6.1739999999999995, 2.073, 0.0, 0.9079999999999999, 5.312, 1.963, 2.435, 0.040999999999999995, 0.20600000000000002], \"type\": \"choropleth\"}], \"name\": \"2020-08-29\"}, {\"data\": [{\"coloraxis\": \"coloraxis\", \"geo\": \"geo\", \"hovertemplate\": \"Date=2020-08-30<br>iso_code=%{location}<br>New C-19 deaths per 1M=%{z}<extra></extra>\", \"locations\": [\"ARG\", \"BOL\", \"BRA\", \"CHL\", \"COL\", \"ECU\", \"FLK\", \"GUY\", \"PER\", \"PRY\", \"SUR\", \"URY\", \"VEN\"], \"name\": \"\", \"z\": [4.773, 6.07, 4.175, 2.907, 5.885, 2.105, 0.0, 0.726, 5.0, 2.043, 2.435, 0.08199999999999999, 0.261], \"type\": \"choropleth\"}], \"name\": \"2020-08-30\"}, {\"data\": [{\"coloraxis\": \"coloraxis\", \"geo\": \"geo\", \"hovertemplate\": \"Date=2020-08-31<br>iso_code=%{location}<br>New C-19 deaths per 1M=%{z}<extra></extra>\", \"locations\": [\"ARG\", \"BOL\", \"BRA\", \"CHL\", \"COL\", \"ECU\", \"FLK\", \"GUY\", \"PER\", \"PRY\", \"SUR\", \"URY\", \"VEN\"], \"name\": \"\", \"z\": [4.909, 5.593, 4.0889999999999995, 2.929, 5.75, 1.984, 0.0, 1.09, 4.874, 2.063, 2.1919999999999997, 0.08199999999999999, 0.261], \"type\": \"choropleth\"}], \"name\": \"2020-08-31\"}, {\"data\": [{\"coloraxis\": \"coloraxis\", \"geo\": \"geo\", \"hovertemplate\": \"Date=2020-09-01<br>iso_code=%{location}<br>New C-19 deaths per 1M=%{z}<extra></extra>\", \"locations\": [\"ARG\", \"BOL\", \"BRA\", \"CHL\", \"COL\", \"ECU\", \"FLK\", \"GUY\", \"PER\", \"PRY\", \"SUR\", \"URY\", \"VEN\"], \"name\": \"\", \"z\": [4.485, 5.495, 4.081, 2.787, 5.757999999999999, 1.895, 0.0, 1.453, 4.9, 2.1430000000000002, 2.679, 0.08199999999999999, 0.221], \"type\": \"choropleth\"}], \"name\": \"2020-09-01\"}, {\"data\": [{\"coloraxis\": \"coloraxis\", \"geo\": \"geo\", \"hovertemplate\": \"Date=2020-09-02<br>iso_code=%{location}<br>New C-19 deaths per 1M=%{z}<extra></extra>\", \"locations\": [\"ARG\", \"BOL\", \"BRA\", \"CHL\", \"COL\", \"ECU\", \"FLK\", \"GUY\", \"PER\", \"PRY\", \"SUR\", \"URY\", \"VEN\"], \"name\": \"\", \"z\": [4.198, 5.348, 4.043, 2.713, 6.0729999999999995, 1.6440000000000001, 0.0, 1.8159999999999998, 4.623, 2.343, 2.679, 0.040999999999999995, 0.24100000000000002], \"type\": \"choropleth\"}], \"name\": \"2020-09-02\"}, {\"data\": [{\"coloraxis\": \"coloraxis\", \"geo\": \"geo\", \"hovertemplate\": \"Date=2020-09-03<br>iso_code=%{location}<br>New C-19 deaths per 1M=%{z}<extra></extra>\", \"locations\": [\"ARG\", \"BOL\", \"BRA\", \"CHL\", \"COL\", \"ECU\", \"FLK\", \"GUY\", \"PER\", \"PRY\", \"SUR\", \"URY\", \"VEN\"], \"name\": \"\", \"z\": [4.141, 5.837999999999999, 4.11, 2.645, 6.0760000000000005, 1.692, 0.0, 1.8159999999999998, 4.918, 2.2230000000000003, 2.435, 0.040999999999999995, 0.276], \"type\": \"choropleth\"}], \"name\": \"2020-09-03\"}, {\"data\": [{\"coloraxis\": \"coloraxis\", \"geo\": \"geo\", \"hovertemplate\": \"Date=2020-09-04<br>iso_code=%{location}<br>New C-19 deaths per 1M=%{z}<extra></extra>\", \"locations\": [\"ARG\", \"BOL\", \"BRA\", \"CHL\", \"COL\", \"ECU\", \"FLK\", \"GUY\", \"PER\", \"PRY\", \"SUR\", \"URY\", \"VEN\"], \"name\": \"\", \"z\": [3.8280000000000003, 5.042, 4.0089999999999995, 2.616, 6.0360000000000005, 1.433, 0.0, 2.1790000000000003, 4.887, 2.1630000000000003, 1.705, 0.040999999999999995, 0.221], \"type\": \"choropleth\"}], \"name\": \"2020-09-04\"}, {\"data\": [{\"coloraxis\": \"coloraxis\", \"geo\": \"geo\", \"hovertemplate\": \"Date=2020-09-05<br>iso_code=%{location}<br>New C-19 deaths per 1M=%{z}<extra></extra>\", \"locations\": [\"ARG\", \"BOL\", \"BRA\", \"CHL\", \"COL\", \"ECU\", \"FLK\", \"GUY\", \"PER\", \"PRY\", \"SUR\", \"URY\", \"VEN\"], \"name\": \"\", \"z\": [4.232, 6.082000000000001, 4.044, 2.705, 5.955, 1.3769999999999998, 0.0, 1.635, 4.692, 2.363, 2.1919999999999997, 0.08199999999999999, 0.271], \"type\": \"choropleth\"}], \"name\": \"2020-09-05\"}, {\"data\": [{\"coloraxis\": \"coloraxis\", \"geo\": \"geo\", \"hovertemplate\": \"Date=2020-09-06<br>iso_code=%{location}<br>New C-19 deaths per 1M=%{z}<extra></extra>\", \"locations\": [\"ARG\", \"BOL\", \"BRA\", \"CHL\", \"COL\", \"ECU\", \"FLK\", \"GUY\", \"PER\", \"PRY\", \"SUR\", \"URY\", \"VEN\"], \"name\": \"\", \"z\": [4.362, 5.63, 3.858, 2.765, 5.872999999999999, 1.514, 0.0, 1.9980000000000002, 4.678999999999999, 2.363, 2.435, 0.040999999999999995, 0.226], \"type\": \"choropleth\"}], \"name\": \"2020-09-06\"}, {\"data\": [{\"coloraxis\": \"coloraxis\", \"geo\": \"geo\", \"hovertemplate\": \"Date=2020-09-07<br>iso_code=%{location}<br>New C-19 deaths per 1M=%{z}<extra></extra>\", \"locations\": [\"ARG\", \"BOL\", \"BRA\", \"CHL\", \"COL\", \"ECU\", \"FLK\", \"GUY\", \"PER\", \"PRY\", \"SUR\", \"URY\", \"VEN\"], \"name\": \"\", \"z\": [4.444, 24.99, 3.9130000000000003, 2.6010000000000004, 5.75, 32.137, 0.0, 1.635, 4.5489999999999995, 2.544, 4.383, 0.040999999999999995, 0.23600000000000002], \"type\": \"choropleth\"}], \"name\": \"2020-09-07\"}, {\"data\": [{\"coloraxis\": \"coloraxis\", \"geo\": \"geo\", \"hovertemplate\": \"Date=2020-09-08<br>iso_code=%{location}<br>New C-19 deaths per 1M=%{z}<extra></extra>\", \"locations\": [\"ARG\", \"BOL\", \"BRA\", \"CHL\", \"COL\", \"ECU\", \"FLK\", \"GUY\", \"PER\", \"PRY\", \"SUR\", \"URY\", \"VEN\"], \"name\": \"\", \"z\": [4.468999999999999, 24.807, 3.75, 2.713, 5.48, 32.55, 0.0, 1.453, 4.471, 2.464, 4.87, 0.040999999999999995, 0.276], \"type\": \"choropleth\"}], \"name\": \"2020-09-08\"}, {\"data\": [{\"coloraxis\": \"coloraxis\", \"geo\": \"geo\", \"hovertemplate\": \"Date=2020-09-09<br>iso_code=%{location}<br>New C-19 deaths per 1M=%{z}<extra></extra>\", \"locations\": [\"ARG\", \"BOL\", \"BRA\", \"CHL\", \"COL\", \"ECU\", \"FLK\", \"GUY\", \"PER\", \"PRY\", \"SUR\", \"URY\", \"VEN\"], \"name\": \"\", \"z\": [4.58, 24.427, 3.272, 2.698, 4.955, 32.842, 0.0, 1.271, 4.571000000000001, 2.303, 4.627, 0.040999999999999995, 0.266], \"type\": \"choropleth\"}], \"name\": \"2020-09-09\"}, {\"data\": [{\"coloraxis\": \"coloraxis\", \"geo\": \"geo\", \"hovertemplate\": \"Date=2020-09-10<br>iso_code=%{location}<br>New C-19 deaths per 1M=%{z}<extra></extra>\", \"locations\": [\"ARG\", \"BOL\", \"BRA\", \"CHL\", \"COL\", \"ECU\", \"FLK\", \"GUY\", \"PER\", \"PRY\", \"SUR\", \"URY\", \"VEN\"], \"name\": \"\", \"z\": [4.697, 23.779, 3.198, 2.675, 4.787, 33.052, 0.0, 1.271, 4.2330000000000005, 2.323, 4.87, 0.040999999999999995, 0.271], \"type\": \"choropleth\"}], \"name\": \"2020-09-10\"}, {\"data\": [{\"coloraxis\": \"coloraxis\", \"geo\": \"geo\", \"hovertemplate\": \"Date=2020-09-11<br>iso_code=%{location}<br>New C-19 deaths per 1M=%{z}<extra></extra>\", \"locations\": [\"ARG\", \"BOL\", \"BRA\", \"CHL\", \"COL\", \"ECU\", \"FLK\", \"GUY\", \"PER\", \"PRY\", \"SUR\", \"URY\", \"VEN\"], \"name\": \"\", \"z\": [4.925, 24.354, 3.299, 2.6830000000000003, 4.652, 33.205999999999996, 0.0, 0.9079999999999999, 4.0680000000000005, 2.2430000000000003, 4.87, 0.040999999999999995, 0.29100000000000004], \"type\": \"choropleth\"}], \"name\": \"2020-09-11\"}, {\"data\": [{\"coloraxis\": \"coloraxis\", \"geo\": \"geo\", \"hovertemplate\": \"Date=2020-09-12<br>iso_code=%{location}<br>New C-19 deaths per 1M=%{z}<extra></extra>\", \"locations\": [\"ARG\", \"BOL\", \"BRA\", \"CHL\", \"COL\", \"ECU\", \"FLK\", \"GUY\", \"PER\", \"PRY\", \"SUR\", \"URY\", \"VEN\"], \"name\": \"\", \"z\": [4.823, 23.338, 3.2760000000000002, 2.66, 4.5760000000000005, 33.7, 0.0, 1.453, 3.969, 1.963, 4.383, 0.0, 0.281], \"type\": \"choropleth\"}], \"name\": \"2020-09-12\"}, {\"data\": [{\"coloraxis\": \"coloraxis\", \"geo\": \"geo\", \"hovertemplate\": \"Date=2020-09-13<br>iso_code=%{location}<br>New C-19 deaths per 1M=%{z}<extra></extra>\", \"locations\": [\"ARG\", \"BOL\", \"BRA\", \"CHL\", \"COL\", \"ECU\", \"FLK\", \"GUY\", \"PER\", \"PRY\", \"SUR\", \"URY\", \"VEN\"], \"name\": \"\", \"z\": [4.808, 23.24, 3.365, 2.571, 4.43, 33.522, 0.0, 1.453, 3.925, 2.043, 3.8960000000000004, 0.0, 0.28600000000000003], \"type\": \"choropleth\"}], \"name\": \"2020-09-13\"}, {\"data\": [{\"coloraxis\": \"coloraxis\", \"geo\": \"geo\", \"hovertemplate\": \"Date=2020-09-14<br>iso_code=%{location}<br>New C-19 deaths per 1M=%{z}<extra></extra>\", \"locations\": [\"ARG\", \"BOL\", \"BRA\", \"CHL\", \"COL\", \"ECU\", \"FLK\", \"GUY\", \"PER\", \"PRY\", \"SUR\", \"URY\", \"VEN\"], \"name\": \"\", \"z\": [4.7410000000000005, 4.112, 3.344, 2.668, 4.245, 3.069, 0.0, 1.8159999999999998, 3.778, 1.8030000000000002, 1.9480000000000002, 0.0, 0.28600000000000003], \"type\": \"choropleth\"}], \"name\": \"2020-09-14\"}, {\"data\": [{\"coloraxis\": \"coloraxis\", \"geo\": \"geo\", \"hovertemplate\": \"Date=2020-09-15<br>iso_code=%{location}<br>New C-19 deaths per 1M=%{z}<extra></extra>\", \"locations\": [\"ARG\", \"BOL\", \"BRA\", \"CHL\", \"COL\", \"ECU\", \"FLK\", \"GUY\", \"PER\", \"PRY\", \"SUR\", \"URY\", \"VEN\"], \"name\": \"\", \"z\": [4.7410000000000005, 4.1610000000000005, 3.391, 2.698, 4.234, 2.802, 0.0, 1.635, 3.622, 1.8030000000000002, 0.9740000000000001, 0.0, 0.29100000000000004], \"type\": \"choropleth\"}], \"name\": \"2020-09-15\"}, {\"data\": [{\"coloraxis\": \"coloraxis\", \"geo\": \"geo\", \"hovertemplate\": \"Date=2020-09-16<br>iso_code=%{location}<br>New C-19 deaths per 1M=%{z}<extra></extra>\", \"locations\": [\"ARG\", \"BOL\", \"BRA\", \"CHL\", \"COL\", \"ECU\", \"FLK\", \"GUY\", \"PER\", \"PRY\", \"SUR\", \"URY\", \"VEN\"], \"name\": \"\", \"z\": [4.8389999999999995, 4.283, 3.801, 2.675, 4.13, 2.721, 0.0, 1.8159999999999998, 3.483, 1.7830000000000001, 0.9740000000000001, 0.0, 0.29100000000000004], \"type\": \"choropleth\"}], \"name\": \"2020-09-16\"}, {\"data\": [{\"coloraxis\": \"coloraxis\", \"geo\": \"geo\", \"hovertemplate\": \"Date=2020-09-17<br>iso_code=%{location}<br>New C-19 deaths per 1M=%{z}<extra></extra>\", \"locations\": [\"ARG\", \"BOL\", \"BRA\", \"CHL\", \"COL\", \"ECU\", \"FLK\", \"GUY\", \"PER\", \"PRY\", \"SUR\", \"URY\", \"VEN\"], \"name\": \"\", \"z\": [4.593, 4.063, 3.741, 2.66, 4.001, 2.3890000000000002, 0.0, 1.8159999999999998, 3.531, 1.8430000000000002, 0.731, 0.0, 0.29600000000000004], \"type\": \"choropleth\"}], \"name\": \"2020-09-17\"}, {\"data\": [{\"coloraxis\": \"coloraxis\", \"geo\": \"geo\", \"hovertemplate\": \"Date=2020-09-18<br>iso_code=%{location}<br>New C-19 deaths per 1M=%{z}<extra></extra>\", \"locations\": [\"ARG\", \"BOL\", \"BRA\", \"CHL\", \"COL\", \"ECU\", \"FLK\", \"GUY\", \"PER\", \"PRY\", \"SUR\", \"URY\", \"VEN\"], \"name\": \"\", \"z\": [4.792, 3.892, 3.638, 2.698, 3.903, 2.267, 0.0, 1.9980000000000002, 3.475, 1.983, 0.48700000000000004, 0.040999999999999995, 0.306], \"type\": \"choropleth\"}], \"name\": \"2020-09-18\"}, {\"data\": [{\"coloraxis\": \"coloraxis\", \"geo\": \"geo\", \"hovertemplate\": \"Date=2020-09-19<br>iso_code=%{location}<br>New C-19 deaths per 1M=%{z}<extra></extra>\", \"locations\": [\"ARG\", \"BOL\", \"BRA\", \"CHL\", \"COL\", \"ECU\", \"FLK\", \"GUY\", \"PER\", \"PRY\", \"SUR\", \"URY\", \"VEN\"], \"name\": \"\", \"z\": [4.732, 3.6710000000000003, 3.627, 2.608, 3.74, 1.6840000000000002, 0.0, 1.8159999999999998, 3.522, 2.303, 0.731, 0.040999999999999995, 0.311], \"type\": \"choropleth\"}], \"name\": \"2020-09-19\"}, {\"data\": [{\"coloraxis\": \"coloraxis\", \"geo\": \"geo\", \"hovertemplate\": \"Date=2020-09-20<br>iso_code=%{location}<br>New C-19 deaths per 1M=%{z}<extra></extra>\", \"locations\": [\"ARG\", \"BOL\", \"BRA\", \"CHL\", \"COL\", \"ECU\", \"FLK\", \"GUY\", \"PER\", \"PRY\", \"SUR\", \"URY\", \"VEN\"], \"name\": \"\", \"z\": [4.738, 3.537, 3.577, 2.6830000000000003, 3.6639999999999997, 1.781, 0.0, 1.8159999999999998, 3.362, 2.444, 0.9740000000000001, 0.040999999999999995, 0.311], \"type\": \"choropleth\"}], \"name\": \"2020-09-20\"}, {\"data\": [{\"coloraxis\": \"coloraxis\", \"geo\": \"geo\", \"hovertemplate\": \"Date=2020-09-21<br>iso_code=%{location}<br>New C-19 deaths per 1M=%{z}<extra></extra>\", \"locations\": [\"ARG\", \"BOL\", \"BRA\", \"CHL\", \"COL\", \"ECU\", \"FLK\", \"GUY\", \"PER\", \"PRY\", \"SUR\", \"URY\", \"VEN\"], \"name\": \"\", \"z\": [5.064, 3.341, 3.542, 2.5180000000000002, 3.605, 1.514, 0.0, 1.453, 2.855, 2.6839999999999997, 0.9740000000000001, 0.040999999999999995, 0.311], \"type\": \"choropleth\"}], \"name\": \"2020-09-21\"}, {\"data\": [{\"coloraxis\": \"coloraxis\", \"geo\": \"geo\", \"hovertemplate\": \"Date=2020-09-22<br>iso_code=%{location}<br>New C-19 deaths per 1M=%{z}<extra></extra>\", \"locations\": [\"ARG\", \"BOL\", \"BRA\", \"CHL\", \"COL\", \"ECU\", \"FLK\", \"GUY\", \"PER\", \"PRY\", \"SUR\", \"URY\", \"VEN\"], \"name\": \"\", \"z\": [6.542999999999999, 3.182, 3.5389999999999997, 2.13, 3.577, 1.401, 0.0, 1.635, 2.8680000000000003, 2.7439999999999998, 0.48700000000000004, 0.040999999999999995, 0.306], \"type\": \"choropleth\"}], \"name\": \"2020-09-22\"}, {\"data\": [{\"coloraxis\": \"coloraxis\", \"geo\": \"geo\", \"hovertemplate\": \"Date=2020-09-23<br>iso_code=%{location}<br>New C-19 deaths per 1M=%{z}<extra></extra>\", \"locations\": [\"ARG\", \"BOL\", \"BRA\", \"CHL\", \"COL\", \"ECU\", \"FLK\", \"GUY\", \"PER\", \"PRY\", \"SUR\", \"URY\", \"VEN\"], \"name\": \"\", \"z\": [7.087000000000001, 3.011, 3.353, 2.1, 3.5989999999999998, 1.32, 0.0, 1.635, 2.855, 3.0639999999999996, 1.218, 0.040999999999999995, 0.311], \"type\": \"choropleth\"}], \"name\": \"2020-09-23\"}, {\"data\": [{\"coloraxis\": \"coloraxis\", \"geo\": \"geo\", \"hovertemplate\": \"Date=2020-09-24<br>iso_code=%{location}<br>New C-19 deaths per 1M=%{z}<extra></extra>\", \"locations\": [\"ARG\", \"BOL\", \"BRA\", \"CHL\", \"COL\", \"ECU\", \"FLK\", \"GUY\", \"PER\", \"PRY\", \"SUR\", \"URY\", \"VEN\"], \"name\": \"\", \"z\": [7.795, 3.096, 3.2739999999999996, 2.145, 3.56, 1.4169999999999998, 0.0, 1.9980000000000002, 3.548, 3.225, 1.4609999999999999, 0.08199999999999999, 0.317], \"type\": \"choropleth\"}], \"name\": \"2020-09-24\"}, {\"data\": [{\"coloraxis\": \"coloraxis\", \"geo\": \"geo\", \"hovertemplate\": \"Date=2020-09-25<br>iso_code=%{location}<br>New C-19 deaths per 1M=%{z}<extra></extra>\", \"locations\": [\"ARG\", \"BOL\", \"BRA\", \"CHL\", \"COL\", \"ECU\", \"FLK\", \"GUY\", \"PER\", \"PRY\", \"SUR\", \"URY\", \"VEN\"], \"name\": \"\", \"z\": [8.019, 3.109, 3.275, 2.444, 3.535, 1.49, 0.0, 1.9980000000000002, 3.431, 3.185, 1.705, 0.040999999999999995, 0.301], \"type\": \"choropleth\"}], \"name\": \"2020-09-25\"}, {\"data\": [{\"coloraxis\": \"coloraxis\", \"geo\": \"geo\", \"hovertemplate\": \"Date=2020-09-26<br>iso_code=%{location}<br>New C-19 deaths per 1M=%{z}<extra></extra>\", \"locations\": [\"ARG\", \"BOL\", \"BRA\", \"CHL\", \"COL\", \"ECU\", \"FLK\", \"GUY\", \"PER\", \"PRY\", \"SUR\", \"URY\", \"VEN\"], \"name\": \"\", \"z\": [8.588, 3.06, 3.188, 2.451, 3.5180000000000002, 1.555, 0.0, 1.9980000000000002, 3.267, 3.0039999999999996, 1.4609999999999999, 0.040999999999999995, 0.306], \"type\": \"choropleth\"}], \"name\": \"2020-09-26\"}, {\"data\": [{\"coloraxis\": \"coloraxis\", \"geo\": \"geo\", \"hovertemplate\": \"Date=2020-09-27<br>iso_code=%{location}<br>New C-19 deaths per 1M=%{z}<extra></extra>\", \"locations\": [\"ARG\", \"BOL\", \"BRA\", \"CHL\", \"COL\", \"ECU\", \"FLK\", \"GUY\", \"PER\", \"PRY\", \"SUR\", \"URY\", \"VEN\"], \"name\": \"\", \"z\": [8.97, 2.9619999999999997, 3.2760000000000002, 2.5180000000000002, 3.529, 1.53, 0.0, 1.8159999999999998, 3.3489999999999998, 2.924, 1.218, 0.040999999999999995, 0.306], \"type\": \"choropleth\"}], \"name\": \"2020-09-27\"}, {\"data\": [{\"coloraxis\": \"coloraxis\", \"geo\": \"geo\", \"hovertemplate\": \"Date=2020-09-28<br>iso_code=%{location}<br>New C-19 deaths per 1M=%{z}<extra></extra>\", \"locations\": [\"ARG\", \"BOL\", \"BRA\", \"CHL\", \"COL\", \"ECU\", \"FLK\", \"GUY\", \"PER\", \"PRY\", \"SUR\", \"URY\", \"VEN\"], \"name\": \"\", \"z\": [8.977, 2.949, 3.2569999999999997, 2.653, 3.594, 1.53, 0.0, 2.1790000000000003, 3.8689999999999998, 2.884, 1.218, 0.040999999999999995, 0.29600000000000004], \"type\": \"choropleth\"}], \"name\": \"2020-09-28\"}, {\"data\": [{\"coloraxis\": \"coloraxis\", \"geo\": \"geo\", \"hovertemplate\": \"Date=2020-09-29<br>iso_code=%{location}<br>New C-19 deaths per 1M=%{z}<extra></extra>\", \"locations\": [\"ARG\", \"BOL\", \"BRA\", \"CHL\", \"COL\", \"ECU\", \"FLK\", \"GUY\", \"PER\", \"PRY\", \"SUR\", \"URY\", \"VEN\"], \"name\": \"\", \"z\": [8.316, 3.011, 3.217, 2.989, 3.4930000000000003, 1.4980000000000002, 0.0, 2.3609999999999998, 3.6830000000000003, 2.844, 1.218, 0.040999999999999995, 0.29600000000000004], \"type\": \"choropleth\"}], \"name\": \"2020-09-29\"}, {\"data\": [{\"coloraxis\": \"coloraxis\", \"geo\": \"geo\", \"hovertemplate\": \"Date=2020-09-30<br>iso_code=%{location}<br>New C-19 deaths per 1M=%{z}<extra></extra>\", \"locations\": [\"ARG\", \"BOL\", \"BRA\", \"CHL\", \"COL\", \"ECU\", \"FLK\", \"GUY\", \"PER\", \"PRY\", \"SUR\", \"URY\", \"VEN\"], \"name\": \"\", \"z\": [8.113999999999999, 2.9130000000000003, 3.235, 3.0189999999999997, 3.532, 1.506, 0.0, 1.9980000000000002, 3.509, 2.7239999999999998, 0.9740000000000001, 0.08199999999999999, 0.28600000000000003], \"type\": \"choropleth\"}], \"name\": \"2020-09-30\"}, {\"data\": [{\"coloraxis\": \"coloraxis\", \"geo\": \"geo\", \"hovertemplate\": \"Date=2020-10-01<br>iso_code=%{location}<br>New C-19 deaths per 1M=%{z}<extra></extra>\", \"locations\": [\"ARG\", \"BOL\", \"BRA\", \"CHL\", \"COL\", \"ECU\", \"FLK\", \"GUY\", \"PER\", \"PRY\", \"SUR\", \"URY\", \"VEN\"], \"name\": \"\", \"z\": [8.095, 2.864, 3.344, 2.9589999999999996, 3.515, 1.49, 0.0, 1.9980000000000002, 2.569, 2.6039999999999996, 0.731, 0.040999999999999995, 0.271], \"type\": \"choropleth\"}], \"name\": \"2020-10-01\"}, {\"data\": [{\"coloraxis\": \"coloraxis\", \"geo\": \"geo\", \"hovertemplate\": \"Date=2020-10-02<br>iso_code=%{location}<br>New C-19 deaths per 1M=%{z}<extra></extra>\", \"locations\": [\"ARG\", \"BOL\", \"BRA\", \"CHL\", \"COL\", \"ECU\", \"FLK\", \"GUY\", \"PER\", \"PRY\", \"SUR\", \"URY\", \"VEN\"], \"name\": \"\", \"z\": [17.454, 2.888, 3.2739999999999996, 2.638, 3.571, 1.781, 0.0, 1.9980000000000002, 2.5869999999999997, 2.524, 0.731, 0.040999999999999995, 0.271], \"type\": \"choropleth\"}], \"name\": \"2020-10-02\"}, {\"data\": [{\"coloraxis\": \"coloraxis\", \"geo\": \"geo\", \"hovertemplate\": \"Date=2020-10-03<br>iso_code=%{location}<br>New C-19 deaths per 1M=%{z}<extra></extra>\", \"locations\": [\"ARG\", \"BOL\", \"BRA\", \"CHL\", \"COL\", \"ECU\", \"FLK\", \"GUY\", \"PER\", \"PRY\", \"SUR\", \"URY\", \"VEN\"], \"name\": \"\", \"z\": [17.04, 2.998, 3.26, 2.541, 3.633, 2.097, 0.0, 2.1790000000000003, 2.478, 2.5839999999999996, 0.731, 0.040999999999999995, 0.261], \"type\": \"choropleth\"}], \"name\": \"2020-10-03\"}, {\"data\": [{\"coloraxis\": \"coloraxis\", \"geo\": \"geo\", \"hovertemplate\": \"Date=2020-10-04<br>iso_code=%{location}<br>New C-19 deaths per 1M=%{z}<extra></extra>\", \"locations\": [\"ARG\", \"BOL\", \"BRA\", \"CHL\", \"COL\", \"ECU\", \"FLK\", \"GUY\", \"PER\", \"PRY\", \"SUR\", \"URY\", \"VEN\"], \"name\": \"\", \"z\": [16.601, 2.998, 3.0789999999999997, 2.451, 3.5380000000000003, 2.623, 0.0, 1.9980000000000002, 2.266, 2.6239999999999997, 0.9740000000000001, 0.040999999999999995, 0.21600000000000003], \"type\": \"choropleth\"}], \"name\": \"2020-10-04\"}, {\"data\": [{\"coloraxis\": \"coloraxis\", \"geo\": \"geo\", \"hovertemplate\": \"Date=2020-10-05<br>iso_code=%{location}<br>New C-19 deaths per 1M=%{z}<extra></extra>\", \"locations\": [\"ARG\", \"BOL\", \"BRA\", \"CHL\", \"COL\", \"ECU\", \"FLK\", \"GUY\", \"PER\", \"PRY\", \"SUR\", \"URY\", \"VEN\"], \"name\": \"\", \"z\": [16.655, 2.9739999999999998, 3.0989999999999998, 2.526, 3.4360000000000004, 2.98, 0.0, 1.9980000000000002, 2.08, 2.524, 0.9740000000000001, 0.040999999999999995, 0.23600000000000002], \"type\": \"choropleth\"}], \"name\": \"2020-10-05\"}, {\"data\": [{\"coloraxis\": \"coloraxis\", \"geo\": \"geo\", \"hovertemplate\": \"Date=2020-10-06<br>iso_code=%{location}<br>New C-19 deaths per 1M=%{z}<extra></extra>\", \"locations\": [\"ARG\", \"BOL\", \"BRA\", \"CHL\", \"COL\", \"ECU\", \"FLK\", \"GUY\", \"PER\", \"PRY\", \"SUR\", \"URY\", \"VEN\"], \"name\": \"\", \"z\": [16.926, 2.803, 3.103, 2.533, 3.378, 3.247, 0.0, 2.1790000000000003, 2.21, 2.5839999999999996, 0.9740000000000001, 0.040999999999999995, 0.221], \"type\": \"choropleth\"}], \"name\": \"2020-10-06\"}, {\"data\": [{\"coloraxis\": \"coloraxis\", \"geo\": \"geo\", \"hovertemplate\": \"Date=2020-10-07<br>iso_code=%{location}<br>New C-19 deaths per 1M=%{z}<extra></extra>\", \"locations\": [\"ARG\", \"BOL\", \"BRA\", \"CHL\", \"COL\", \"ECU\", \"FLK\", \"GUY\", \"PER\", \"PRY\", \"SUR\", \"URY\", \"VEN\"], \"name\": \"\", \"z\": [16.778, 2.7539999999999996, 3.073, 2.5780000000000003, 3.338, 3.158, 0.0, 2.543, 2.244, 2.504, 0.48700000000000004, 0.040999999999999995, 0.221], \"type\": \"choropleth\"}], \"name\": \"2020-10-07\"}, {\"data\": [{\"coloraxis\": \"coloraxis\", \"geo\": \"geo\", \"hovertemplate\": \"Date=2020-10-08<br>iso_code=%{location}<br>New C-19 deaths per 1M=%{z}<extra></extra>\", \"locations\": [\"ARG\", \"BOL\", \"BRA\", \"CHL\", \"COL\", \"ECU\", \"FLK\", \"GUY\", \"PER\", \"PRY\", \"SUR\", \"URY\", \"VEN\"], \"name\": \"\", \"z\": [16.718, 2.778, 2.8739999999999997, 2.608, 3.319, 3.142, 0.0, 2.7239999999999998, 2.366, 2.6439999999999997, 0.48700000000000004, 0.040999999999999995, 0.21600000000000003], \"type\": \"choropleth\"}], \"name\": \"2020-10-08\"}, {\"data\": [{\"coloraxis\": \"coloraxis\", \"geo\": \"geo\", \"hovertemplate\": \"Date=2020-10-09<br>iso_code=%{location}<br>New C-19 deaths per 1M=%{z}<extra></extra>\", \"locations\": [\"ARG\", \"BOL\", \"BRA\", \"CHL\", \"COL\", \"ECU\", \"FLK\", \"GUY\", \"PER\", \"PRY\", \"SUR\", \"URY\", \"VEN\"], \"name\": \"\", \"z\": [7.656000000000001, 2.778, 2.8739999999999997, 2.5780000000000003, 3.187, 5.733, 0.0, 2.906, 2.439, 2.864, 0.244, 0.040999999999999995, 0.21600000000000003], \"type\": \"choropleth\"}], \"name\": \"2020-10-09\"}, {\"data\": [{\"coloraxis\": \"coloraxis\", \"geo\": \"geo\", \"hovertemplate\": \"Date=2020-10-10<br>iso_code=%{location}<br>New C-19 deaths per 1M=%{z}<extra></extra>\", \"locations\": [\"ARG\", \"BOL\", \"BRA\", \"CHL\", \"COL\", \"ECU\", \"FLK\", \"GUY\", \"PER\", \"PRY\", \"SUR\", \"URY\", \"VEN\"], \"name\": \"\", \"z\": [8.3, 2.656, 2.8569999999999998, 2.638, 3.083, 5.506, 0.0, 2.7239999999999998, 2.379, 3.1039999999999996, 0.244, 0.040999999999999995, 0.20600000000000002], \"type\": \"choropleth\"}], \"name\": \"2020-10-10\"}, {\"data\": [{\"coloraxis\": \"coloraxis\", \"geo\": \"geo\", \"hovertemplate\": \"Date=2020-10-11<br>iso_code=%{location}<br>New C-19 deaths per 1M=%{z}<extra></extra>\", \"locations\": [\"ARG\", \"BOL\", \"BRA\", \"CHL\", \"COL\", \"ECU\", \"FLK\", \"GUY\", \"PER\", \"PRY\", \"SUR\", \"URY\", \"VEN\"], \"name\": \"\", \"z\": [8.806000000000001, 2.68, 2.83, 2.638, 3.1, 4.785, 0.0, 3.088, 2.418, 3.0439999999999996, 0.244, 0.08199999999999999, 0.24100000000000002], \"type\": \"choropleth\"}], \"name\": \"2020-10-11\"}, {\"data\": [{\"coloraxis\": \"coloraxis\", \"geo\": \"geo\", \"hovertemplate\": \"Date=2020-10-12<br>iso_code=%{location}<br>New C-19 deaths per 1M=%{z}<extra></extra>\", \"locations\": [\"ARG\", \"BOL\", \"BRA\", \"CHL\", \"COL\", \"ECU\", \"FLK\", \"GUY\", \"PER\", \"PRY\", \"SUR\", \"URY\", \"VEN\"], \"name\": \"\", \"z\": [9.008, 2.533, 2.78, 2.533, 3.15, 4.405, 0.0, 2.906, 2.439, 2.964, 0.244, 0.08199999999999999, 0.221], \"type\": \"choropleth\"}], \"name\": \"2020-10-12\"}, {\"data\": [{\"coloraxis\": \"coloraxis\", \"geo\": \"geo\", \"hovertemplate\": \"Date=2020-10-13<br>iso_code=%{location}<br>New C-19 deaths per 1M=%{z}<extra></extra>\", \"locations\": [\"ARG\", \"BOL\", \"BRA\", \"CHL\", \"COL\", \"ECU\", \"FLK\", \"GUY\", \"PER\", \"PRY\", \"SUR\", \"URY\", \"VEN\"], \"name\": \"\", \"z\": [8.591000000000001, 2.411, 2.698, 2.556, 3.2030000000000003, 4.348, 0.0, 2.543, 2.266, 2.984, 0.244, 0.12300000000000001, 0.231], \"type\": \"choropleth\"}], \"name\": \"2020-10-13\"}, {\"data\": [{\"coloraxis\": \"coloraxis\", \"geo\": \"geo\", \"hovertemplate\": \"Date=2020-10-14<br>iso_code=%{location}<br>New C-19 deaths per 1M=%{z}<extra></extra>\", \"locations\": [\"ARG\", \"BOL\", \"BRA\", \"CHL\", \"COL\", \"ECU\", \"FLK\", \"GUY\", \"PER\", \"PRY\", \"SUR\", \"URY\", \"VEN\"], \"name\": \"\", \"z\": [8.677, 2.386, 2.355, 2.436, 3.156, 4.316, 0.0, 2.543, 2.188, 2.844, 0.244, 0.08199999999999999, 0.226], \"type\": \"choropleth\"}], \"name\": \"2020-10-14\"}, {\"data\": [{\"coloraxis\": \"coloraxis\", \"geo\": \"geo\", \"hovertemplate\": \"Date=2020-10-15<br>iso_code=%{location}<br>New C-19 deaths per 1M=%{z}<extra></extra>\", \"locations\": [\"ARG\", \"BOL\", \"BRA\", \"CHL\", \"COL\", \"ECU\", \"FLK\", \"GUY\", \"PER\", \"PRY\", \"SUR\", \"URY\", \"VEN\"], \"name\": \"\", \"z\": [8.517999999999999, 2.2640000000000002, 2.365, 2.4290000000000003, 3.161, 4.218999999999999, 0.0, 1.9980000000000002, 2.1790000000000003, 2.844, 0.48700000000000004, 0.08199999999999999, 0.21600000000000003], \"type\": \"choropleth\"}], \"name\": \"2020-10-15\"}, {\"data\": [{\"coloraxis\": \"coloraxis\", \"geo\": \"geo\", \"hovertemplate\": \"Date=2020-10-16<br>iso_code=%{location}<br>New C-19 deaths per 1M=%{z}<extra></extra>\", \"locations\": [\"ARG\", \"BOL\", \"BRA\", \"CHL\", \"COL\", \"ECU\", \"FLK\", \"GUY\", \"PER\", \"PRY\", \"SUR\", \"URY\", \"VEN\"], \"name\": \"\", \"z\": [8.318999999999999, 2.191, 2.354, 1.995, 3.161, 1.3359999999999999, 0.0, 1.635, 2.075, 2.764, 0.731, 0.08199999999999999, 0.21100000000000002], \"type\": \"choropleth\"}], \"name\": \"2020-10-16\"}, {\"data\": [{\"coloraxis\": \"coloraxis\", \"geo\": \"geo\", \"hovertemplate\": \"Date=2020-10-17<br>iso_code=%{location}<br>New C-19 deaths per 1M=%{z}<extra></extra>\", \"locations\": [\"ARG\", \"BOL\", \"BRA\", \"CHL\", \"COL\", \"ECU\", \"FLK\", \"GUY\", \"PER\", \"PRY\", \"SUR\", \"URY\", \"VEN\"], \"name\": \"\", \"z\": [7.896, 2.166, 2.403, 2.309, 3.147, 1.474, 0.0, 1.271, 2.123, 2.424, 0.731, 0.08199999999999999, 0.18100000000000002], \"type\": \"choropleth\"}], \"name\": \"2020-10-17\"}, {\"data\": [{\"coloraxis\": \"coloraxis\", \"geo\": \"geo\", \"hovertemplate\": \"Date=2020-10-18<br>iso_code=%{location}<br>New C-19 deaths per 1M=%{z}<extra></extra>\", \"locations\": [\"ARG\", \"BOL\", \"BRA\", \"CHL\", \"COL\", \"ECU\", \"FLK\", \"GUY\", \"PER\", \"PRY\", \"SUR\", \"URY\", \"VEN\"], \"name\": \"\", \"z\": [7.984, 2.093, 2.3369999999999997, 2.3609999999999998, 3.2089999999999996, 1.514, 0.0, 1.271, 2.075, 2.283, 0.48700000000000004, 0.040999999999999995, 0.171], \"type\": \"choropleth\"}], \"name\": \"2020-10-18\"}, {\"data\": [{\"coloraxis\": \"coloraxis\", \"geo\": \"geo\", \"hovertemplate\": \"Date=2020-10-19<br>iso_code=%{location}<br>New C-19 deaths per 1M=%{z}<extra></extra>\", \"locations\": [\"ARG\", \"BOL\", \"BRA\", \"CHL\", \"COL\", \"ECU\", \"FLK\", \"GUY\", \"PER\", \"PRY\", \"SUR\", \"URY\", \"VEN\"], \"name\": \"\", \"z\": [7.582999999999999, 2.117, 2.2969999999999997, 2.369, 3.1889999999999996, 1.587, 0.0, 1.09, 1.9669999999999999, 2.2230000000000003, 0.48700000000000004, 0.040999999999999995, 0.196], \"type\": \"choropleth\"}], \"name\": \"2020-10-19\"}, {\"data\": [{\"coloraxis\": \"coloraxis\", \"geo\": \"geo\", \"hovertemplate\": \"Date=2020-10-20<br>iso_code=%{location}<br>New C-19 deaths per 1M=%{z}<extra></extra>\", \"locations\": [\"ARG\", \"BOL\", \"BRA\", \"CHL\", \"COL\", \"ECU\", \"FLK\", \"GUY\", \"PER\", \"PRY\", \"SUR\", \"URY\", \"VEN\"], \"name\": \"\", \"z\": [7.997000000000001, 2.154, 2.344, 2.22, 3.136, 1.433, 0.0, 1.271, 2.006, 2.2230000000000003, 0.48700000000000004, 0.0, 0.161], \"type\": \"choropleth\"}], \"name\": \"2020-10-20\"}, {\"data\": [{\"coloraxis\": \"coloraxis\", \"geo\": \"geo\", \"hovertemplate\": \"Date=2020-10-21<br>iso_code=%{location}<br>New C-19 deaths per 1M=%{z}<extra></extra>\", \"locations\": [\"ARG\", \"BOL\", \"BRA\", \"CHL\", \"COL\", \"ECU\", \"FLK\", \"GUY\", \"PER\", \"PRY\", \"SUR\", \"URY\", \"VEN\"], \"name\": \"\", \"z\": [7.9910000000000005, 2.142, 2.58, 2.287, 3.175, 1.368, 0.0, 1.453, 1.976, 2.464, 0.48700000000000004, 0.040999999999999995, 0.18600000000000003], \"type\": \"choropleth\"}], \"name\": \"2020-10-21\"}, {\"data\": [{\"coloraxis\": \"coloraxis\", \"geo\": \"geo\", \"hovertemplate\": \"Date=2020-10-22<br>iso_code=%{location}<br>New C-19 deaths per 1M=%{z}<extra></extra>\", \"locations\": [\"ARG\", \"BOL\", \"BRA\", \"CHL\", \"COL\", \"ECU\", \"FLK\", \"GUY\", \"PER\", \"PRY\", \"SUR\", \"URY\", \"VEN\"], \"name\": \"\", \"z\": [8.212, 2.215, 2.457, 2.272, 3.2510000000000003, 1.53, 0.0, 1.8159999999999998, 1.841, 2.383, 0.244, 0.08199999999999999, 0.196], \"type\": \"choropleth\"}], \"name\": \"2020-10-22\"}, {\"data\": [{\"coloraxis\": \"coloraxis\", \"geo\": \"geo\", \"hovertemplate\": \"Date=2020-10-23<br>iso_code=%{location}<br>New C-19 deaths per 1M=%{z}<extra></extra>\", \"locations\": [\"ARG\", \"BOL\", \"BRA\", \"CHL\", \"COL\", \"ECU\", \"FLK\", \"GUY\", \"PER\", \"PRY\", \"SUR\", \"URY\", \"VEN\"], \"name\": \"\", \"z\": [8.266, 2.166, 2.312, 2.675, 3.31, 1.571, 0.0, 1.8159999999999998, 1.7630000000000001, 2.343, 0.0, 0.08199999999999999, 0.196], \"type\": \"choropleth\"}], \"name\": \"2020-10-23\"}, {\"data\": [{\"coloraxis\": \"coloraxis\", \"geo\": \"geo\", \"hovertemplate\": \"Date=2020-10-24<br>iso_code=%{location}<br>New C-19 deaths per 1M=%{z}<extra></extra>\", \"locations\": [\"ARG\", \"BOL\", \"BRA\", \"CHL\", \"COL\", \"ECU\", \"FLK\", \"GUY\", \"PER\", \"PRY\", \"SUR\", \"URY\", \"VEN\"], \"name\": \"\", \"z\": [8.266, 2.068, 2.189, 2.354, 3.33, 1.385, 0.0, 1.8159999999999998, 1.6680000000000001, 2.2430000000000003, 0.0, 0.08199999999999999, 0.221], \"type\": \"choropleth\"}], \"name\": \"2020-10-24\"}, {\"data\": [{\"coloraxis\": \"coloraxis\", \"geo\": \"geo\", \"hovertemplate\": \"Date=2020-10-25<br>iso_code=%{location}<br>New C-19 deaths per 1M=%{z}<extra></extra>\", \"locations\": [\"ARG\", \"BOL\", \"BRA\", \"CHL\", \"COL\", \"ECU\", \"FLK\", \"GUY\", \"PER\", \"PRY\", \"SUR\", \"URY\", \"VEN\"], \"name\": \"\", \"z\": [7.921, 2.0069999999999997, 2.169, 2.272, 3.361, 1.3519999999999999, 0.0, 1.453, 1.703, 2.283, 0.0, 0.08199999999999999, 0.226], \"type\": \"choropleth\"}], \"name\": \"2020-10-25\"}, {\"data\": [{\"coloraxis\": \"coloraxis\", \"geo\": \"geo\", \"hovertemplate\": \"Date=2020-10-26<br>iso_code=%{location}<br>New C-19 deaths per 1M=%{z}<extra></extra>\", \"locations\": [\"ARG\", \"BOL\", \"BRA\", \"CHL\", \"COL\", \"ECU\", \"FLK\", \"GUY\", \"PER\", \"PRY\", \"SUR\", \"URY\", \"VEN\"], \"name\": \"\", \"z\": [8.31, 2.0069999999999997, 2.17, 2.309, 3.324, 1.344, 0.0, 1.8159999999999998, 1.69, 2.424, 0.0, 0.08199999999999999, 0.18600000000000003], \"type\": \"choropleth\"}], \"name\": \"2020-10-26\"}, {\"data\": [{\"coloraxis\": \"coloraxis\", \"geo\": \"geo\", \"hovertemplate\": \"Date=2020-10-27<br>iso_code=%{location}<br>New C-19 deaths per 1M=%{z}<extra></extra>\", \"locations\": [\"ARG\", \"BOL\", \"BRA\", \"CHL\", \"COL\", \"ECU\", \"FLK\", \"GUY\", \"PER\", \"PRY\", \"SUR\", \"URY\", \"VEN\"], \"name\": \"\", \"z\": [8.171, 1.909, 2.165, 2.444, 3.498, 1.4409999999999998, 0.0, 1.453, 1.633, 2.043, 0.244, 0.12300000000000001, 0.20600000000000002], \"type\": \"choropleth\"}], \"name\": \"2020-10-27\"}, {\"data\": [{\"coloraxis\": \"coloraxis\", \"geo\": \"geo\", \"hovertemplate\": \"Date=2020-10-28<br>iso_code=%{location}<br>New C-19 deaths per 1M=%{z}<extra></extra>\", \"locations\": [\"ARG\", \"BOL\", \"BRA\", \"CHL\", \"COL\", \"ECU\", \"FLK\", \"GUY\", \"PER\", \"PRY\", \"SUR\", \"URY\", \"VEN\"], \"name\": \"\", \"z\": [8.312999999999999, 1.787, 2.089, 2.421, 3.63, 1.49, 0.0, 0.9079999999999999, 1.655, 1.923, 0.48700000000000004, 0.08199999999999999, 0.166], \"type\": \"choropleth\"}], \"name\": \"2020-10-28\"}, {\"data\": [{\"coloraxis\": \"coloraxis\", \"geo\": \"geo\", \"hovertemplate\": \"Date=2020-10-29<br>iso_code=%{location}<br>New C-19 deaths per 1M=%{z}<extra></extra>\", \"locations\": [\"ARG\", \"BOL\", \"BRA\", \"CHL\", \"COL\", \"ECU\", \"FLK\", \"GUY\", \"PER\", \"PRY\", \"SUR\", \"URY\", \"VEN\"], \"name\": \"\", \"z\": [8.066, 1.6640000000000001, 2.052, 2.339, 3.6189999999999998, 1.255, 0.0, 1.271, 1.6380000000000001, 2.1830000000000003, 0.48700000000000004, 0.08199999999999999, 0.156], \"type\": \"choropleth\"}], \"name\": \"2020-10-29\"}, {\"data\": [{\"coloraxis\": \"coloraxis\", \"geo\": \"geo\", \"hovertemplate\": \"Date=2020-10-30<br>iso_code=%{location}<br>New C-19 deaths per 1M=%{z}<extra></extra>\", \"locations\": [\"ARG\", \"BOL\", \"BRA\", \"CHL\", \"COL\", \"ECU\", \"FLK\", \"GUY\", \"PER\", \"PRY\", \"SUR\", \"URY\", \"VEN\"], \"name\": \"\", \"z\": [7.855, 1.4809999999999999, 2.063, 2.436, 3.622, 0.988, 0.0, 1.09, 1.6380000000000001, 1.8430000000000002, 0.48700000000000004, 0.165, 0.151], \"type\": \"choropleth\"}], \"name\": \"2020-10-30\"}, {\"data\": [{\"coloraxis\": \"coloraxis\", \"geo\": \"geo\", \"hovertemplate\": \"Date=2020-10-31<br>iso_code=%{location}<br>New C-19 deaths per 1M=%{z}<extra></extra>\", \"locations\": [\"ARG\", \"BOL\", \"BRA\", \"CHL\", \"COL\", \"ECU\", \"FLK\", \"GUY\", \"PER\", \"PRY\", \"SUR\", \"URY\", \"VEN\"], \"name\": \"\", \"z\": [7.757000000000001, 1.3090000000000002, 2.02, 2.347, 3.742, 0.8420000000000001, 0.0, 1.271, 1.6380000000000001, 2.1830000000000003, 0.48700000000000004, 0.20600000000000002, 0.146], \"type\": \"choropleth\"}], \"name\": \"2020-10-31\"}, {\"data\": [{\"coloraxis\": \"coloraxis\", \"geo\": \"geo\", \"hovertemplate\": \"Date=2020-11-01<br>iso_code=%{location}<br>New C-19 deaths per 1M=%{z}<extra></extra>\", \"locations\": [\"ARG\", \"BOL\", \"BRA\", \"CHL\", \"COL\", \"ECU\", \"FLK\", \"GUY\", \"PER\", \"PRY\", \"SUR\", \"URY\", \"VEN\"], \"name\": \"\", \"z\": [7.551, 1.199, 2.003, 2.354, 3.6889999999999996, 1.036, 0.0, 1.271, 1.651, 2.2230000000000003, 0.48700000000000004, 0.20600000000000002, 0.141], \"type\": \"choropleth\"}], \"name\": \"2020-11-01\"}, {\"data\": [{\"coloraxis\": \"coloraxis\", \"geo\": \"geo\", \"hovertemplate\": \"Date=2020-11-02<br>iso_code=%{location}<br>New C-19 deaths per 1M=%{z}<extra></extra>\", \"locations\": [\"ARG\", \"BOL\", \"BRA\", \"CHL\", \"COL\", \"ECU\", \"FLK\", \"GUY\", \"PER\", \"PRY\", \"SUR\", \"URY\", \"VEN\"], \"name\": \"\", \"z\": [7.093, 1.052, 1.976, 2.2640000000000002, 3.821, 1.061, 0.0, 1.271, 1.646, 2.1830000000000003, 0.48700000000000004, 0.247, 0.141], \"type\": \"choropleth\"}], \"name\": \"2020-11-02\"}, {\"data\": [{\"coloraxis\": \"coloraxis\", \"geo\": \"geo\", \"hovertemplate\": \"Date=2020-11-03<br>iso_code=%{location}<br>New C-19 deaths per 1M=%{z}<extra></extra>\", \"locations\": [\"ARG\", \"BOL\", \"BRA\", \"CHL\", \"COL\", \"ECU\", \"FLK\", \"GUY\", \"PER\", \"PRY\", \"SUR\", \"URY\", \"VEN\"], \"name\": \"\", \"z\": [7.3389999999999995, 1.016, 1.919, 2.234, 3.7119999999999997, 0.9640000000000001, 0.0, 1.635, 1.681, 2.403, 0.244, 0.247, 0.141], \"type\": \"choropleth\"}], \"name\": \"2020-11-03\"}]);\n",
       "                        }).then(function(){\n",
       "                            \n",
       "var gd = document.getElementById('2900f9df-0cd1-49bd-805e-0017edee8def');\n",
       "var x = new MutationObserver(function (mutations, observer) {{\n",
       "        var display = window.getComputedStyle(gd).display;\n",
       "        if (!display || display === 'none') {{\n",
       "            console.log([gd, 'removed!']);\n",
       "            Plotly.purge(gd);\n",
       "            observer.disconnect();\n",
       "        }}\n",
       "}});\n",
       "\n",
       "// Listen for the removal of the full notebook cells\n",
       "var notebookContainer = gd.closest('#notebook-container');\n",
       "if (notebookContainer) {{\n",
       "    x.observe(notebookContainer, {childList: true});\n",
       "}}\n",
       "\n",
       "// Listen for the clearing of the current output cell\n",
       "var outputEl = gd.closest('.output');\n",
       "if (outputEl) {{\n",
       "    x.observe(outputEl, {childList: true});\n",
       "}}\n",
       "\n",
       "                        })                };                });            </script>        </div>"
      ]
     },
     "metadata": {},
     "output_type": "display_data"
    }
   ],
   "source": [
    "import plotly.express as px\n",
    "\n",
    "fig = px.choropleth(df_sa, locations='iso_code', color='New C-19 deaths per 1M', animation_frame='Date',\n",
    "                           color_continuous_scale='reds',\n",
    "                           range_color=(0, 10),\n",
    "                           scope='south america',\n",
    "                    width=600, height=600\n",
    "                          )\n",
    "fig.update_layout(margin={\"r\":0,\"t\":0,\"l\":0,\"b\":0})\n",
    "fig.layout.updatemenus[0].buttons[0].args[1][\"frame\"][\"duration\"] = 100\n",
    "fig.show()"
   ]
  },
  {
   "cell_type": "code",
   "execution_count": 52,
   "metadata": {},
   "outputs": [],
   "source": [
    "px.choropleth?"
   ]
  }
 ],
 "metadata": {
  "kernelspec": {
   "display_name": "Python 3.8.3 64-bit ('venv': venv)",
   "language": "python",
   "name": "python38364bitvenvvenv36878b05cd5f4c90a0ff71064d1ed30c"
  },
  "language_info": {
   "codemirror_mode": {
    "name": "ipython",
    "version": 3
   },
   "file_extension": ".py",
   "mimetype": "text/x-python",
   "name": "python",
   "nbconvert_exporter": "python",
   "pygments_lexer": "ipython3",
   "version": "3.8.3"
  }
 },
 "nbformat": 4,
 "nbformat_minor": 4
}

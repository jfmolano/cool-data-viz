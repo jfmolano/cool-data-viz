{
 "cells": [
  {
   "cell_type": "code",
   "execution_count": 1,
   "metadata": {},
   "outputs": [],
   "source": [
    "import pandas as pd"
   ]
  },
  {
   "cell_type": "code",
   "execution_count": 2,
   "metadata": {},
   "outputs": [],
   "source": [
    "df_divipola = pd.read_csv('./divipola.csv')"
   ]
  },
  {
   "cell_type": "code",
   "execution_count": 3,
   "metadata": {},
   "outputs": [
    {
     "data": {
      "text/html": [
       "<div>\n",
       "<style scoped>\n",
       "    .dataframe tbody tr th:only-of-type {\n",
       "        vertical-align: middle;\n",
       "    }\n",
       "\n",
       "    .dataframe tbody tr th {\n",
       "        vertical-align: top;\n",
       "    }\n",
       "\n",
       "    .dataframe thead th {\n",
       "        text-align: right;\n",
       "    }\n",
       "</style>\n",
       "<table border=\"1\" class=\"dataframe\">\n",
       "  <thead>\n",
       "    <tr style=\"text-align: right;\">\n",
       "      <th></th>\n",
       "      <th>Código Departamento</th>\n",
       "      <th>Código Municipio</th>\n",
       "      <th>Código Centro Poblado</th>\n",
       "      <th>Nombre Departamento</th>\n",
       "      <th>Nombre Municipio</th>\n",
       "      <th>Nombre Centro Poblado</th>\n",
       "      <th>Tipo Centro Poblado</th>\n",
       "      <th>Longitud</th>\n",
       "      <th>Latitud</th>\n",
       "      <th>Nombre Distrito</th>\n",
       "      <th>Municipio/Áreas No Municipalizadas (ANM)</th>\n",
       "      <th>Nombre Área Metropolitana</th>\n",
       "    </tr>\n",
       "  </thead>\n",
       "  <tbody>\n",
       "    <tr>\n",
       "      <th>0</th>\n",
       "      <td>5</td>\n",
       "      <td>5001</td>\n",
       "      <td>5001000</td>\n",
       "      <td>ANTIOQUIA</td>\n",
       "      <td>MEDELLÍN</td>\n",
       "      <td>MEDELLÍN</td>\n",
       "      <td>CABECERA MUNICIPAL</td>\n",
       "      <td>-75.581713</td>\n",
       "      <td>6.246716</td>\n",
       "      <td>NaN</td>\n",
       "      <td>MUNICIPIO</td>\n",
       "      <td>AREA METROPOLITANA DEL VALLE DE ABURRÁ</td>\n",
       "    </tr>\n",
       "    <tr>\n",
       "      <th>1</th>\n",
       "      <td>5</td>\n",
       "      <td>5001</td>\n",
       "      <td>5001001</td>\n",
       "      <td>ANTIOQUIA</td>\n",
       "      <td>MEDELLÍN</td>\n",
       "      <td>PALMITAS</td>\n",
       "      <td>CENTRO POBLADO</td>\n",
       "      <td>-75.690039</td>\n",
       "      <td>6.343341</td>\n",
       "      <td>NaN</td>\n",
       "      <td>MUNICIPIO</td>\n",
       "      <td>AREA METROPOLITANA DEL VALLE DE ABURRÁ</td>\n",
       "    </tr>\n",
       "  </tbody>\n",
       "</table>\n",
       "</div>"
      ],
      "text/plain": [
       "   Código Departamento  Código Municipio  Código Centro Poblado  \\\n",
       "0                    5              5001                5001000   \n",
       "1                    5              5001                5001001   \n",
       "\n",
       "  Nombre Departamento Nombre Municipio Nombre Centro Poblado  \\\n",
       "0           ANTIOQUIA         MEDELLÍN              MEDELLÍN   \n",
       "1           ANTIOQUIA         MEDELLÍN              PALMITAS   \n",
       "\n",
       "  Tipo Centro Poblado   Longitud   Latitud Nombre Distrito  \\\n",
       "0  CABECERA MUNICIPAL -75.581713  6.246716             NaN   \n",
       "1      CENTRO POBLADO -75.690039  6.343341             NaN   \n",
       "\n",
       "  Municipio/Áreas No Municipalizadas (ANM)  \\\n",
       "0                                MUNICIPIO   \n",
       "1                                MUNICIPIO   \n",
       "\n",
       "                Nombre Área Metropolitana  \n",
       "0  AREA METROPOLITANA DEL VALLE DE ABURRÁ  \n",
       "1  AREA METROPOLITANA DEL VALLE DE ABURRÁ  "
      ]
     },
     "execution_count": 3,
     "metadata": {},
     "output_type": "execute_result"
    }
   ],
   "source": [
    "df_divipola.head(2)"
   ]
  },
  {
   "cell_type": "code",
   "execution_count": 4,
   "metadata": {},
   "outputs": [
    {
     "name": "stderr",
     "output_type": "stream",
     "text": [
      "/Users/jfm/3511-escucha_cliente-phyton/venv/lib/python3.8/site-packages/IPython/core/interactiveshell.py:3062: DtypeWarning: Columns (14,22) have mixed types.Specify dtype option on import or set low_memory=False.\n",
      "  has_raised = await self.run_ast_nodes(code_ast.body, cell_name,\n"
     ]
    }
   ],
   "source": [
    "df_covid = pd.read_csv('https://www.datos.gov.co/api/views/gt2j-8ykr/rows.csv?accessType=DOWNLOAD')"
   ]
  },
  {
   "cell_type": "code",
   "execution_count": 5,
   "metadata": {},
   "outputs": [
    {
     "data": {
      "text/html": [
       "<div>\n",
       "<style scoped>\n",
       "    .dataframe tbody tr th:only-of-type {\n",
       "        vertical-align: middle;\n",
       "    }\n",
       "\n",
       "    .dataframe tbody tr th {\n",
       "        vertical-align: top;\n",
       "    }\n",
       "\n",
       "    .dataframe thead th {\n",
       "        text-align: right;\n",
       "    }\n",
       "</style>\n",
       "<table border=\"1\" class=\"dataframe\">\n",
       "  <thead>\n",
       "    <tr style=\"text-align: right;\">\n",
       "      <th></th>\n",
       "      <th>fecha reporte web</th>\n",
       "      <th>ID de caso</th>\n",
       "      <th>Fecha de notificación</th>\n",
       "      <th>Código DIVIPOLA departamento</th>\n",
       "      <th>Nombre departamento</th>\n",
       "      <th>Código DIVIPOLA municipio</th>\n",
       "      <th>Nombre municipio</th>\n",
       "      <th>Edad</th>\n",
       "      <th>Unidad de medida de edad</th>\n",
       "      <th>Sexo</th>\n",
       "      <th>...</th>\n",
       "      <th>Código ISO del país</th>\n",
       "      <th>Nombre del país</th>\n",
       "      <th>Recuperado</th>\n",
       "      <th>Fecha de inicio de síntomas</th>\n",
       "      <th>Fecha de muerte</th>\n",
       "      <th>Fecha de diagnóstico</th>\n",
       "      <th>Fecha de recuperación</th>\n",
       "      <th>Tipo de recuperación</th>\n",
       "      <th>Pertenencia étnica</th>\n",
       "      <th>Nombre del grupo étnico</th>\n",
       "    </tr>\n",
       "  </thead>\n",
       "  <tbody>\n",
       "    <tr>\n",
       "      <th>0</th>\n",
       "      <td>6/3/2020 0:00:00</td>\n",
       "      <td>1</td>\n",
       "      <td>2/3/2020 0:00:00</td>\n",
       "      <td>11</td>\n",
       "      <td>BOGOTA</td>\n",
       "      <td>11001</td>\n",
       "      <td>BOGOTA</td>\n",
       "      <td>19</td>\n",
       "      <td>1</td>\n",
       "      <td>F</td>\n",
       "      <td>...</td>\n",
       "      <td>380.0</td>\n",
       "      <td>ITALIA</td>\n",
       "      <td>Recuperado</td>\n",
       "      <td>27/2/2020 0:00:00</td>\n",
       "      <td>NaN</td>\n",
       "      <td>6/3/2020 0:00:00</td>\n",
       "      <td>13/3/2020 0:00:00</td>\n",
       "      <td>PCR</td>\n",
       "      <td>6.0</td>\n",
       "      <td>NaN</td>\n",
       "    </tr>\n",
       "    <tr>\n",
       "      <th>1</th>\n",
       "      <td>9/3/2020 0:00:00</td>\n",
       "      <td>2</td>\n",
       "      <td>6/3/2020 0:00:00</td>\n",
       "      <td>76</td>\n",
       "      <td>VALLE</td>\n",
       "      <td>76111</td>\n",
       "      <td>BUGA</td>\n",
       "      <td>34</td>\n",
       "      <td>1</td>\n",
       "      <td>M</td>\n",
       "      <td>...</td>\n",
       "      <td>724.0</td>\n",
       "      <td>ESPAÑA</td>\n",
       "      <td>Recuperado</td>\n",
       "      <td>4/3/2020 0:00:00</td>\n",
       "      <td>NaN</td>\n",
       "      <td>9/3/2020 0:00:00</td>\n",
       "      <td>19/3/2020 0:00:00</td>\n",
       "      <td>PCR</td>\n",
       "      <td>5.0</td>\n",
       "      <td>NaN</td>\n",
       "    </tr>\n",
       "  </tbody>\n",
       "</table>\n",
       "<p>2 rows × 23 columns</p>\n",
       "</div>"
      ],
      "text/plain": [
       "  fecha reporte web  ID de caso Fecha de notificación  \\\n",
       "0  6/3/2020 0:00:00           1      2/3/2020 0:00:00   \n",
       "1  9/3/2020 0:00:00           2      6/3/2020 0:00:00   \n",
       "\n",
       "   Código DIVIPOLA departamento Nombre departamento  \\\n",
       "0                            11              BOGOTA   \n",
       "1                            76               VALLE   \n",
       "\n",
       "   Código DIVIPOLA municipio Nombre municipio  Edad  Unidad de medida de edad  \\\n",
       "0                      11001           BOGOTA    19                         1   \n",
       "1                      76111             BUGA    34                         1   \n",
       "\n",
       "  Sexo  ... Código ISO del país Nombre del país  Recuperado  \\\n",
       "0    F  ...               380.0          ITALIA  Recuperado   \n",
       "1    M  ...               724.0          ESPAÑA  Recuperado   \n",
       "\n",
       "   Fecha de inicio de síntomas Fecha de muerte Fecha de diagnóstico  \\\n",
       "0            27/2/2020 0:00:00             NaN     6/3/2020 0:00:00   \n",
       "1             4/3/2020 0:00:00             NaN     9/3/2020 0:00:00   \n",
       "\n",
       "  Fecha de recuperación Tipo de recuperación Pertenencia étnica  \\\n",
       "0     13/3/2020 0:00:00                  PCR                6.0   \n",
       "1     19/3/2020 0:00:00                  PCR                5.0   \n",
       "\n",
       "  Nombre del grupo étnico  \n",
       "0                     NaN  \n",
       "1                     NaN  \n",
       "\n",
       "[2 rows x 23 columns]"
      ]
     },
     "execution_count": 5,
     "metadata": {},
     "output_type": "execute_result"
    }
   ],
   "source": [
    "df_covid.head(2)"
   ]
  },
  {
   "cell_type": "code",
   "execution_count": 9,
   "metadata": {},
   "outputs": [
    {
     "data": {
      "text/plain": [
       "Index(['fecha reporte web', 'ID de caso', 'Fecha de notificación',\n",
       "       'Código DIVIPOLA departamento', 'Nombre departamento',\n",
       "       'Código DIVIPOLA municipio', 'Nombre municipio', 'Edad',\n",
       "       'Unidad de medida de edad', 'Sexo', 'Tipo de contagio',\n",
       "       'Ubicación del caso', 'Estado', 'Código ISO del país',\n",
       "       'Nombre del país', 'Recuperado', 'Fecha de inicio de síntomas',\n",
       "       'Fecha de muerte', 'Fecha de diagnóstico', 'Fecha de recuperación',\n",
       "       'Tipo de recuperación', 'Pertenencia étnica',\n",
       "       'Nombre del grupo étnico'],\n",
       "      dtype='object')"
      ]
     },
     "execution_count": 9,
     "metadata": {},
     "output_type": "execute_result"
    }
   ],
   "source": [
    "df_covid.columns"
   ]
  },
  {
   "cell_type": "code",
   "execution_count": 6,
   "metadata": {},
   "outputs": [],
   "source": [
    "df_pop = pd.read_excel('./CNPV-2018-VIHOPE-v2.xls')"
   ]
  },
  {
   "cell_type": "code",
   "execution_count": 7,
   "metadata": {},
   "outputs": [
    {
     "data": {
      "text/html": [
       "<div>\n",
       "<style scoped>\n",
       "    .dataframe tbody tr th:only-of-type {\n",
       "        vertical-align: middle;\n",
       "    }\n",
       "\n",
       "    .dataframe tbody tr th {\n",
       "        vertical-align: top;\n",
       "    }\n",
       "\n",
       "    .dataframe thead th {\n",
       "        text-align: right;\n",
       "    }\n",
       "</style>\n",
       "<table border=\"1\" class=\"dataframe\">\n",
       "  <thead>\n",
       "    <tr style=\"text-align: right;\">\n",
       "      <th></th>\n",
       "      <th>Código DIVIPOLA</th>\n",
       "      <th>NOMBRE DEPARTAMENTO</th>\n",
       "      <th>NOMBRE MUNICIPIO</th>\n",
       "      <th>Población total</th>\n",
       "    </tr>\n",
       "  </thead>\n",
       "  <tbody>\n",
       "    <tr>\n",
       "      <th>0</th>\n",
       "      <td>5001</td>\n",
       "      <td>Antioquia</td>\n",
       "      <td>Medellín</td>\n",
       "      <td>2372330</td>\n",
       "    </tr>\n",
       "    <tr>\n",
       "      <th>1</th>\n",
       "      <td>5002</td>\n",
       "      <td>Antioquia</td>\n",
       "      <td>Abejorral</td>\n",
       "      <td>17599</td>\n",
       "    </tr>\n",
       "  </tbody>\n",
       "</table>\n",
       "</div>"
      ],
      "text/plain": [
       "   Código DIVIPOLA NOMBRE DEPARTAMENTO NOMBRE MUNICIPIO  Población total\n",
       "0             5001           Antioquia         Medellín          2372330\n",
       "1             5002           Antioquia        Abejorral            17599"
      ]
     },
     "execution_count": 7,
     "metadata": {},
     "output_type": "execute_result"
    }
   ],
   "source": [
    "df_pop.head(2)"
   ]
  },
  {
   "cell_type": "code",
   "execution_count": 10,
   "metadata": {},
   "outputs": [],
   "source": [
    "df_covid_free = df_divipola.loc[~df_divipola['Código Municipio'].isin(df_covid['Código DIVIPOLA municipio'])]"
   ]
  },
  {
   "cell_type": "code",
   "execution_count": 11,
   "metadata": {},
   "outputs": [],
   "source": [
    "df_covid_free = df_covid_free.loc[~df_covid_free['Código Municipio'].duplicated()]"
   ]
  },
  {
   "cell_type": "code",
   "execution_count": 12,
   "metadata": {},
   "outputs": [],
   "source": [
    "df_covid_free = pd.merge(df_covid_free, df_pop, left_on='Código Municipio', right_on='Código DIVIPOLA').sort_values('Población total')"
   ]
  },
  {
   "cell_type": "code",
   "execution_count": null,
   "metadata": {},
   "outputs": [],
   "source": [
    "import folium, random\n",
    "\n",
    "m = folium.Map(location=[4.57,-74.29],zoom_start=5,tiles='cartodbpositron')\n",
    "\n",
    "# Generate some random values.\n",
    "for x in df_covid_free.tail(10).to_dict(orient='records'):\n",
    "    # Random temperature within range.\n",
    "    # temp = random.uniform(35,120)\n",
    "    # Place marker at random location in the US.\n",
    "    folium.Marker(location=[x['Latitud'],x['Longitud']],\n",
    "                  #icon=folium.DivIcon(html='<div style=\"color:black;width:200px;weigth:bold;\">%s, %s</div><div><img src=\"https://icons-for-free.com/iconfiles/png/512/map+marker+icon-1320166582858325800.png\" style=\"height:50px;\"></div>' % (x['Nombre Municipio'], x['Nombre Departamento'][:3]))\n",
    "                  icon=folium.DivIcon(html='<div>🟢</div><div style=\"color:black;width:200px;weigth:bold;\">%s, %s</div>' % (x['Nombre Municipio'], x['Nombre Departamento'][:3]))\n",
    "                 ).add_to(m)\n",
    "    \n",
    "m"
   ]
  }
 ],
 "metadata": {
  "kernelspec": {
   "display_name": "Python 3.8.3 64-bit ('venv': venv)",
   "language": "python",
   "name": "python38364bitvenvvenv36878b05cd5f4c90a0ff71064d1ed30c"
  },
  "language_info": {
   "codemirror_mode": {
    "name": "ipython",
    "version": 3
   },
   "file_extension": ".py",
   "mimetype": "text/x-python",
   "name": "python",
   "nbconvert_exporter": "python",
   "pygments_lexer": "ipython3",
   "version": "3.8.3"
  }
 },
 "nbformat": 4,
 "nbformat_minor": 4
}

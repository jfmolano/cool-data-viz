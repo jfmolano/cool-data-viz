{
 "cells": [
  {
   "cell_type": "code",
   "execution_count": 1,
   "metadata": {},
   "outputs": [],
   "source": [
    "import pandas as pd"
   ]
  },
  {
   "cell_type": "code",
   "execution_count": 2,
   "metadata": {},
   "outputs": [],
   "source": [
    "df_divipola = pd.read_csv('./divipola.csv')"
   ]
  },
  {
   "cell_type": "code",
   "execution_count": 4,
   "metadata": {},
   "outputs": [
    {
     "data": {
      "text/html": [
       "<div>\n",
       "<style scoped>\n",
       "    .dataframe tbody tr th:only-of-type {\n",
       "        vertical-align: middle;\n",
       "    }\n",
       "\n",
       "    .dataframe tbody tr th {\n",
       "        vertical-align: top;\n",
       "    }\n",
       "\n",
       "    .dataframe thead th {\n",
       "        text-align: right;\n",
       "    }\n",
       "</style>\n",
       "<table border=\"1\" class=\"dataframe\">\n",
       "  <thead>\n",
       "    <tr style=\"text-align: right;\">\n",
       "      <th></th>\n",
       "      <th>Código Departamento</th>\n",
       "      <th>Código Municipio</th>\n",
       "      <th>Código Centro Poblado</th>\n",
       "      <th>Nombre Departamento</th>\n",
       "      <th>Nombre Municipio</th>\n",
       "      <th>Nombre Centro Poblado</th>\n",
       "      <th>Tipo Centro Poblado</th>\n",
       "      <th>Longitud</th>\n",
       "      <th>Latitud</th>\n",
       "      <th>Nombre Distrito</th>\n",
       "      <th>Municipio/Áreas No Municipalizadas (ANM)</th>\n",
       "      <th>Nombre Área Metropolitana</th>\n",
       "    </tr>\n",
       "  </thead>\n",
       "  <tbody>\n",
       "    <tr>\n",
       "      <th>0</th>\n",
       "      <td>5</td>\n",
       "      <td>5001</td>\n",
       "      <td>5001000</td>\n",
       "      <td>ANTIOQUIA</td>\n",
       "      <td>MEDELLÍN</td>\n",
       "      <td>MEDELLÍN</td>\n",
       "      <td>CABECERA MUNICIPAL</td>\n",
       "      <td>-75.581713</td>\n",
       "      <td>6.246716</td>\n",
       "      <td>NaN</td>\n",
       "      <td>MUNICIPIO</td>\n",
       "      <td>AREA METROPOLITANA DEL VALLE DE ABURRÁ</td>\n",
       "    </tr>\n",
       "    <tr>\n",
       "      <th>1</th>\n",
       "      <td>5</td>\n",
       "      <td>5001</td>\n",
       "      <td>5001001</td>\n",
       "      <td>ANTIOQUIA</td>\n",
       "      <td>MEDELLÍN</td>\n",
       "      <td>PALMITAS</td>\n",
       "      <td>CENTRO POBLADO</td>\n",
       "      <td>-75.690039</td>\n",
       "      <td>6.343341</td>\n",
       "      <td>NaN</td>\n",
       "      <td>MUNICIPIO</td>\n",
       "      <td>AREA METROPOLITANA DEL VALLE DE ABURRÁ</td>\n",
       "    </tr>\n",
       "  </tbody>\n",
       "</table>\n",
       "</div>"
      ],
      "text/plain": [
       "   Código Departamento  Código Municipio  Código Centro Poblado  \\\n",
       "0                    5              5001                5001000   \n",
       "1                    5              5001                5001001   \n",
       "\n",
       "  Nombre Departamento Nombre Municipio Nombre Centro Poblado  \\\n",
       "0           ANTIOQUIA         MEDELLÍN              MEDELLÍN   \n",
       "1           ANTIOQUIA         MEDELLÍN              PALMITAS   \n",
       "\n",
       "  Tipo Centro Poblado   Longitud   Latitud Nombre Distrito  \\\n",
       "0  CABECERA MUNICIPAL -75.581713  6.246716             NaN   \n",
       "1      CENTRO POBLADO -75.690039  6.343341             NaN   \n",
       "\n",
       "  Municipio/Áreas No Municipalizadas (ANM)  \\\n",
       "0                                MUNICIPIO   \n",
       "1                                MUNICIPIO   \n",
       "\n",
       "                Nombre Área Metropolitana  \n",
       "0  AREA METROPOLITANA DEL VALLE DE ABURRÁ  \n",
       "1  AREA METROPOLITANA DEL VALLE DE ABURRÁ  "
      ]
     },
     "execution_count": 4,
     "metadata": {},
     "output_type": "execute_result"
    }
   ],
   "source": [
    "df_divipola.head(2)"
   ]
  },
  {
   "cell_type": "code",
   "execution_count": 5,
   "metadata": {},
   "outputs": [
    {
     "name": "stderr",
     "output_type": "stream",
     "text": [
      "/Users/jfm/3511-escucha_cliente-phyton/venv/lib/python3.8/site-packages/IPython/core/interactiveshell.py:3062: DtypeWarning: Columns (10,20) have mixed types.Specify dtype option on import or set low_memory=False.\n",
      "  has_raised = await self.run_ast_nodes(code_ast.body, cell_name,\n"
     ]
    }
   ],
   "source": [
    "df_covid = pd.read_csv('https://www.datos.gov.co/api/views/gt2j-8ykr/rows.csv?accessType=DOWNLOAD')"
   ]
  },
  {
   "cell_type": "code",
   "execution_count": 7,
   "metadata": {},
   "outputs": [
    {
     "data": {
      "text/html": [
       "<div>\n",
       "<style scoped>\n",
       "    .dataframe tbody tr th:only-of-type {\n",
       "        vertical-align: middle;\n",
       "    }\n",
       "\n",
       "    .dataframe tbody tr th {\n",
       "        vertical-align: top;\n",
       "    }\n",
       "\n",
       "    .dataframe thead th {\n",
       "        text-align: right;\n",
       "    }\n",
       "</style>\n",
       "<table border=\"1\" class=\"dataframe\">\n",
       "  <thead>\n",
       "    <tr style=\"text-align: right;\">\n",
       "      <th></th>\n",
       "      <th>ID de caso</th>\n",
       "      <th>Fecha de notificación</th>\n",
       "      <th>Código DIVIPOLA</th>\n",
       "      <th>Ciudad de ubicación</th>\n",
       "      <th>Departamento o Distrito</th>\n",
       "      <th>atención</th>\n",
       "      <th>Edad</th>\n",
       "      <th>Sexo</th>\n",
       "      <th>Tipo</th>\n",
       "      <th>Estado</th>\n",
       "      <th>...</th>\n",
       "      <th>Fecha de muerte</th>\n",
       "      <th>Fecha diagnostico</th>\n",
       "      <th>Fecha recuperado</th>\n",
       "      <th>fecha reporte web</th>\n",
       "      <th>Tipo recuperación</th>\n",
       "      <th>Codigo departamento</th>\n",
       "      <th>Codigo pais</th>\n",
       "      <th>Pertenencia etnica</th>\n",
       "      <th>Nombre grupo etnico</th>\n",
       "      <th>ubicación recuperado</th>\n",
       "    </tr>\n",
       "  </thead>\n",
       "  <tbody>\n",
       "    <tr>\n",
       "      <th>0</th>\n",
       "      <td>1</td>\n",
       "      <td>2020-03-02T00:00:00.000</td>\n",
       "      <td>11001</td>\n",
       "      <td>Bogotá D.C.</td>\n",
       "      <td>Bogotá D.C.</td>\n",
       "      <td>Recuperado</td>\n",
       "      <td>19</td>\n",
       "      <td>F</td>\n",
       "      <td>Importado</td>\n",
       "      <td>Leve</td>\n",
       "      <td>...</td>\n",
       "      <td>NaN</td>\n",
       "      <td>2020-03-06T00:00:00.000</td>\n",
       "      <td>2020-03-13T00:00:00.000</td>\n",
       "      <td>2020-03-06T00:00:00.000</td>\n",
       "      <td>PCR</td>\n",
       "      <td>11</td>\n",
       "      <td>380.0</td>\n",
       "      <td>Otro</td>\n",
       "      <td>NaN</td>\n",
       "      <td>Casa</td>\n",
       "    </tr>\n",
       "    <tr>\n",
       "      <th>1</th>\n",
       "      <td>2</td>\n",
       "      <td>2020-03-06T00:00:00.000</td>\n",
       "      <td>76111</td>\n",
       "      <td>Guadalajara de Buga</td>\n",
       "      <td>Valle del Cauca</td>\n",
       "      <td>Recuperado</td>\n",
       "      <td>34</td>\n",
       "      <td>M</td>\n",
       "      <td>Importado</td>\n",
       "      <td>Leve</td>\n",
       "      <td>...</td>\n",
       "      <td>NaN</td>\n",
       "      <td>2020-03-09T00:00:00.000</td>\n",
       "      <td>2020-03-19T00:00:00.000</td>\n",
       "      <td>2020-03-09T00:00:00.000</td>\n",
       "      <td>PCR</td>\n",
       "      <td>76</td>\n",
       "      <td>724.0</td>\n",
       "      <td>Negro</td>\n",
       "      <td>NaN</td>\n",
       "      <td>Casa</td>\n",
       "    </tr>\n",
       "  </tbody>\n",
       "</table>\n",
       "<p>2 rows × 22 columns</p>\n",
       "</div>"
      ],
      "text/plain": [
       "   ID de caso    Fecha de notificación  Código DIVIPOLA  Ciudad de ubicación  \\\n",
       "0           1  2020-03-02T00:00:00.000            11001          Bogotá D.C.   \n",
       "1           2  2020-03-06T00:00:00.000            76111  Guadalajara de Buga   \n",
       "\n",
       "  Departamento o Distrito     atención  Edad Sexo       Tipo Estado  ...  \\\n",
       "0              Bogotá D.C.  Recuperado    19    F  Importado   Leve  ...   \n",
       "1          Valle del Cauca  Recuperado    34    M  Importado   Leve  ...   \n",
       "\n",
       "  Fecha de muerte        Fecha diagnostico         Fecha recuperado  \\\n",
       "0             NaN  2020-03-06T00:00:00.000  2020-03-13T00:00:00.000   \n",
       "1             NaN  2020-03-09T00:00:00.000  2020-03-19T00:00:00.000   \n",
       "\n",
       "         fecha reporte web Tipo recuperación Codigo departamento Codigo pais  \\\n",
       "0  2020-03-06T00:00:00.000               PCR                  11       380.0   \n",
       "1  2020-03-09T00:00:00.000               PCR                  76       724.0   \n",
       "\n",
       "   Pertenencia etnica  Nombre grupo etnico ubicación recuperado  \n",
       "0                Otro                  NaN                 Casa  \n",
       "1               Negro                  NaN                 Casa  \n",
       "\n",
       "[2 rows x 22 columns]"
      ]
     },
     "execution_count": 7,
     "metadata": {},
     "output_type": "execute_result"
    }
   ],
   "source": [
    "df_covid.head(2)"
   ]
  },
  {
   "cell_type": "code",
   "execution_count": 10,
   "metadata": {},
   "outputs": [],
   "source": [
    "df_pop = pd.read_excel('./CNPV-2018-VIHOPE-v2.xls')"
   ]
  },
  {
   "cell_type": "code",
   "execution_count": 11,
   "metadata": {},
   "outputs": [
    {
     "data": {
      "text/html": [
       "<div>\n",
       "<style scoped>\n",
       "    .dataframe tbody tr th:only-of-type {\n",
       "        vertical-align: middle;\n",
       "    }\n",
       "\n",
       "    .dataframe tbody tr th {\n",
       "        vertical-align: top;\n",
       "    }\n",
       "\n",
       "    .dataframe thead th {\n",
       "        text-align: right;\n",
       "    }\n",
       "</style>\n",
       "<table border=\"1\" class=\"dataframe\">\n",
       "  <thead>\n",
       "    <tr style=\"text-align: right;\">\n",
       "      <th></th>\n",
       "      <th>Código DIVIPOLA</th>\n",
       "      <th>NOMBRE DEPARTAMENTO</th>\n",
       "      <th>NOMBRE MUNICIPIO</th>\n",
       "      <th>Población total</th>\n",
       "    </tr>\n",
       "  </thead>\n",
       "  <tbody>\n",
       "    <tr>\n",
       "      <th>0</th>\n",
       "      <td>5001</td>\n",
       "      <td>Antioquia</td>\n",
       "      <td>Medellín</td>\n",
       "      <td>2372330</td>\n",
       "    </tr>\n",
       "    <tr>\n",
       "      <th>1</th>\n",
       "      <td>5002</td>\n",
       "      <td>Antioquia</td>\n",
       "      <td>Abejorral</td>\n",
       "      <td>17599</td>\n",
       "    </tr>\n",
       "  </tbody>\n",
       "</table>\n",
       "</div>"
      ],
      "text/plain": [
       "   Código DIVIPOLA NOMBRE DEPARTAMENTO NOMBRE MUNICIPIO  Población total\n",
       "0             5001           Antioquia         Medellín          2372330\n",
       "1             5002           Antioquia        Abejorral            17599"
      ]
     },
     "execution_count": 11,
     "metadata": {},
     "output_type": "execute_result"
    }
   ],
   "source": [
    "df_pop.head(2)"
   ]
  },
  {
   "cell_type": "code",
   "execution_count": 33,
   "metadata": {},
   "outputs": [],
   "source": [
    "df_covid_free = df_divipola.loc[~df_divipola['Código Municipio'].isin(df_covid['Código DIVIPOLA'])]"
   ]
  },
  {
   "cell_type": "code",
   "execution_count": 34,
   "metadata": {},
   "outputs": [],
   "source": [
    "df_covid_free = df_covid_free.loc[~df_covid_free['Código Municipio'].duplicated()]"
   ]
  },
  {
   "cell_type": "code",
   "execution_count": 35,
   "metadata": {},
   "outputs": [],
   "source": [
    "df_covid_free = pd.merge(df_covid_free, df_pop, left_on='Código Municipio', right_on='Código DIVIPOLA').sort_values('Población total')"
   ]
  },
  {
   "cell_type": "code",
   "execution_count": 65,
   "metadata": {},
   "outputs": [
    {
     "data": {
      "text/html": [
       "<div style=\"width:100%;\"><div style=\"position:relative;width:100%;height:0;padding-bottom:60%;\"><span style=\"color:#565656\">Make this Notebook Trusted to load map: File -> Trust Notebook</span><iframe src=\"about:blank\" style=\"position:absolute;width:100%;height:100%;left:0;top:0;border:none !important;\" data-html=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 onload=\"this.contentDocument.open();this.contentDocument.write(atob(this.getAttribute('data-html')));this.contentDocument.close();\" allowfullscreen webkitallowfullscreen mozallowfullscreen></iframe></div></div>"
      ],
      "text/plain": [
       "<folium.folium.Map at 0x7f97715abd60>"
      ]
     },
     "execution_count": 65,
     "metadata": {},
     "output_type": "execute_result"
    }
   ],
   "source": [
    "import folium, random\n",
    "\n",
    "m = folium.Map(location=[4.57,-74.29],zoom_start=5,tiles='cartodbpositron')\n",
    "\n",
    "# Generate some random values.\n",
    "for x in df_covid_free.tail(10).to_dict(orient='records'):\n",
    "    # Random temperature within range.\n",
    "    # temp = random.uniform(35,120)\n",
    "    # Place marker at random location in the US.\n",
    "    folium.Marker(location=[x['Latitud'],x['Longitud']],\n",
    "                  #icon=folium.DivIcon(html='<div style=\"color:black;width:200px;weigth:bold;\">%s, %s</div><div><img src=\"https://icons-for-free.com/iconfiles/png/512/map+marker+icon-1320166582858325800.png\" style=\"height:50px;\"></div>' % (x['Nombre Municipio'], x['Nombre Departamento'][:3]))\n",
    "                  icon=folium.DivIcon(html='<div>🟩</div><div style=\"color:black;width:200px;weigth:bold;\">%s, %s</div>' % (x['Nombre Municipio'], x['Nombre Departamento'][:3]))\n",
    "                 ).add_to(m)\n",
    "    \n",
    "m"
   ]
  }
 ],
 "metadata": {
  "kernelspec": {
   "display_name": "Python 3.8.3 64-bit ('venv': venv)",
   "language": "python",
   "name": "python38364bitvenvvenv36878b05cd5f4c90a0ff71064d1ed30c"
  },
  "language_info": {
   "codemirror_mode": {
    "name": "ipython",
    "version": 3
   },
   "file_extension": ".py",
   "mimetype": "text/x-python",
   "name": "python",
   "nbconvert_exporter": "python",
   "pygments_lexer": "ipython3",
   "version": "3.8.3"
  }
 },
 "nbformat": 4,
 "nbformat_minor": 4
}
